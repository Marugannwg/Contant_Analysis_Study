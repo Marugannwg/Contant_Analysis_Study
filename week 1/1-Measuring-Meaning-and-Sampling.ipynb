{
 "cells": [
  {
   "cell_type": "markdown",
   "metadata": {},
   "source": [
    "# Week 1 - Measuring Meaning & Sampling\n",
    "This week, we begin by \"begging, borrowing and stealing\" text from several\n",
    "contexts of human communication (e.g., PDFs, HTML, Word) and preparing it for\n",
    "machines to \"read\" and analyze so that we can begin to build our sample. This notebook outlines scraping text from the web, PDF and Word documents. Then we detail \"spidering\" or walking\n",
    "through hyperlinks to build samples of online content, and using APIs,\n",
    "Application Programming Interfaces, provided by webservices to access their\n",
    "content. Along the way, we will use regular expressions, outlined in the\n",
    "reading, to remove unwanted formatting and ornamentation. Next, we discuss\n",
    "various text encodings, filtering and data structures in which text can be\n",
    "placed for analysis. Finally, we ask you to begin building a corpus for preliminary analysis and articulate what your sample represents in context of your final project. "
   ]
  },
  {
   "cell_type": "markdown",
   "metadata": {},
   "source": [
    "We made a python package just for this course: lucem_illud. If you haven't installed this package, you should run the following code first. You don't need to install the package later; all you need to do is just to import the package with: import lucem_illud. For your final projects, you may find it useful to [read the lucem_illud source code](https://github.com/UChicago-Computational-Content-Analysis/lucem_illud/tree/main/lucem_illud) and modify your code for your own interests."
   ]
  },
  {
   "cell_type": "code",
   "execution_count": null,
   "metadata": {},
   "outputs": [],
   "source": [
    "!pip install git+https://github.com/UChicago-Computational-Content-Analysis/lucem_illud.git\n",
    "#installing lucem_illud package\n",
    "#lucem_illud is a Latin phrase meaning \"that light\", the insight we can discover in text data!\n",
    "#If you get an error like \"Access is denied\", try running the `pip` command on the command line as an administrator."
   ]
  },
  {
   "cell_type": "markdown",
   "metadata": {},
   "source": [
    "If you're not familiar with jupyter notebook, you may wonder what the exclamation mark(!) at the beginning of the command does (or even what pip means). The exclamation mark enables us to execute Terminal commands in the notebook cells (e.g., run `!ls` to display files in the current folder).\n",
    "\n",
    "There is also a special download required by the `lucem_illud` module in the module `spacy`. You will see this 'en' module later, but you should probably run the following 2 lines of code so you can import `lucem_illud`."
   ]
  },
  {
   "cell_type": "code",
   "execution_count": 6,
   "metadata": {},
   "outputs": [
    {
     "name": "stdout",
     "output_type": "stream",
     "text": [
      "⚠ As of spaCy v3.0, shortcuts like 'en' are deprecated. Please use the full\n",
      "pipeline package name 'en_core_web_sm' instead.\n",
      "Collecting en-core-web-sm==3.7.1\n",
      "  Downloading https://github.com/explosion/spacy-models/releases/download/en_core_web_sm-3.7.1/en_core_web_sm-3.7.1-py3-none-any.whl (12.8 MB)\n",
      "     ---------------------------------------- 0.0/12.8 MB ? eta -:--:--\n",
      "     ---------------------------------------- 0.1/12.8 MB 2.8 MB/s eta 0:00:05\n",
      "     -- ------------------------------------- 0.7/12.8 MB 7.4 MB/s eta 0:00:02\n",
      "     --- ------------------------------------ 1.2/12.8 MB 8.5 MB/s eta 0:00:02\n",
      "     ----- ---------------------------------- 1.8/12.8 MB 9.4 MB/s eta 0:00:02\n",
      "     ------- -------------------------------- 2.3/12.8 MB 9.7 MB/s eta 0:00:02\n",
      "     -------- ------------------------------- 2.8/12.8 MB 9.9 MB/s eta 0:00:02\n",
      "     ---------- ----------------------------- 3.4/12.8 MB 10.3 MB/s eta 0:00:01\n",
      "     ------------ --------------------------- 3.9/12.8 MB 10.4 MB/s eta 0:00:01\n",
      "     ------------- -------------------------- 4.4/12.8 MB 10.5 MB/s eta 0:00:01\n",
      "     --------------- ------------------------ 5.0/12.8 MB 10.9 MB/s eta 0:00:01\n",
      "     ----------------- ---------------------- 5.6/12.8 MB 11.1 MB/s eta 0:00:01\n",
      "     ------------------ --------------------- 6.1/12.8 MB 11.0 MB/s eta 0:00:01\n",
      "     -------------------- ------------------- 6.6/12.8 MB 11.0 MB/s eta 0:00:01\n",
      "     ---------------------- ----------------- 7.1/12.8 MB 11.0 MB/s eta 0:00:01\n",
      "     ----------------------- ---------------- 7.6/12.8 MB 11.0 MB/s eta 0:00:01\n",
      "     ------------------------- -------------- 8.1/12.8 MB 11.0 MB/s eta 0:00:01\n",
      "     -------------------------- ------------- 8.6/12.8 MB 11.0 MB/s eta 0:00:01\n",
      "     ---------------------------- ----------- 9.2/12.8 MB 11.1 MB/s eta 0:00:01\n",
      "     ------------------------------ --------- 9.7/12.8 MB 11.1 MB/s eta 0:00:01\n",
      "     ------------------------------- ------- 10.3/12.8 MB 11.3 MB/s eta 0:00:01\n",
      "     --------------------------------- ----- 10.9/12.8 MB 11.5 MB/s eta 0:00:01\n",
      "     ---------------------------------- ---- 11.4/12.8 MB 11.5 MB/s eta 0:00:01\n",
      "     ------------------------------------ -- 11.9/12.8 MB 11.5 MB/s eta 0:00:01\n",
      "     --------------------------------------  12.5/12.8 MB 11.5 MB/s eta 0:00:01\n",
      "     --------------------------------------- 12.8/12.8 MB 11.3 MB/s eta 0:00:00\n",
      "Requirement already satisfied: spacy<3.8.0,>=3.7.2 in c:\\users\\admin\\anaconda3\\envs\\lib\\site-packages (from en-core-web-sm==3.7.1) (3.7.2)\n",
      "Requirement already satisfied: spacy-legacy<3.1.0,>=3.0.11 in c:\\users\\admin\\anaconda3\\envs\\lib\\site-packages (from spacy<3.8.0,>=3.7.2->en-core-web-sm==3.7.1) (3.0.12)\n",
      "Requirement already satisfied: spacy-loggers<2.0.0,>=1.0.0 in c:\\users\\admin\\anaconda3\\envs\\lib\\site-packages (from spacy<3.8.0,>=3.7.2->en-core-web-sm==3.7.1) (1.0.4)\n",
      "Requirement already satisfied: murmurhash<1.1.0,>=0.28.0 in c:\\users\\admin\\anaconda3\\envs\\lib\\site-packages (from spacy<3.8.0,>=3.7.2->en-core-web-sm==3.7.1) (1.0.7)\n",
      "Requirement already satisfied: cymem<2.1.0,>=2.0.2 in c:\\users\\admin\\anaconda3\\envs\\lib\\site-packages (from spacy<3.8.0,>=3.7.2->en-core-web-sm==3.7.1) (2.0.6)\n",
      "Requirement already satisfied: preshed<3.1.0,>=3.0.2 in c:\\users\\admin\\anaconda3\\envs\\lib\\site-packages (from spacy<3.8.0,>=3.7.2->en-core-web-sm==3.7.1) (3.0.6)\n",
      "Requirement already satisfied: thinc<8.3.0,>=8.1.8 in c:\\users\\admin\\anaconda3\\envs\\lib\\site-packages (from spacy<3.8.0,>=3.7.2->en-core-web-sm==3.7.1) (8.2.2)\n",
      "Requirement already satisfied: wasabi<1.2.0,>=0.9.1 in c:\\users\\admin\\anaconda3\\envs\\lib\\site-packages (from spacy<3.8.0,>=3.7.2->en-core-web-sm==3.7.1) (0.9.1)\n",
      "Requirement already satisfied: srsly<3.0.0,>=2.4.3 in c:\\users\\admin\\anaconda3\\envs\\lib\\site-packages (from spacy<3.8.0,>=3.7.2->en-core-web-sm==3.7.1) (2.4.8)\n",
      "Requirement already satisfied: catalogue<2.1.0,>=2.0.6 in c:\\users\\admin\\anaconda3\\envs\\lib\\site-packages (from spacy<3.8.0,>=3.7.2->en-core-web-sm==3.7.1) (2.0.10)\n",
      "Requirement already satisfied: weasel<0.4.0,>=0.1.0 in c:\\users\\admin\\anaconda3\\envs\\lib\\site-packages (from spacy<3.8.0,>=3.7.2->en-core-web-sm==3.7.1) (0.3.4)\n",
      "Requirement already satisfied: typer<0.10.0,>=0.3.0 in c:\\users\\admin\\anaconda3\\envs\\lib\\site-packages (from spacy<3.8.0,>=3.7.2->en-core-web-sm==3.7.1) (0.9.0)\n",
      "Requirement already satisfied: smart-open<7.0.0,>=5.2.1 in c:\\users\\admin\\anaconda3\\envs\\lib\\site-packages (from spacy<3.8.0,>=3.7.2->en-core-web-sm==3.7.1) (5.2.1)\n",
      "Requirement already satisfied: tqdm<5.0.0,>=4.38.0 in c:\\users\\admin\\anaconda3\\envs\\lib\\site-packages (from spacy<3.8.0,>=3.7.2->en-core-web-sm==3.7.1) (4.65.0)\n",
      "Requirement already satisfied: requests<3.0.0,>=2.13.0 in c:\\users\\admin\\anaconda3\\envs\\lib\\site-packages (from spacy<3.8.0,>=3.7.2->en-core-web-sm==3.7.1) (2.31.0)\n",
      "Requirement already satisfied: pydantic!=1.8,!=1.8.1,<3.0.0,>=1.7.4 in c:\\users\\admin\\anaconda3\\envs\\lib\\site-packages (from spacy<3.8.0,>=3.7.2->en-core-web-sm==3.7.1) (1.10.12)\n",
      "Requirement already satisfied: jinja2 in c:\\users\\admin\\anaconda3\\envs\\lib\\site-packages (from spacy<3.8.0,>=3.7.2->en-core-web-sm==3.7.1) (3.1.2)\n",
      "Requirement already satisfied: setuptools in c:\\users\\admin\\anaconda3\\envs\\lib\\site-packages (from spacy<3.8.0,>=3.7.2->en-core-web-sm==3.7.1) (68.0.0)\n",
      "Requirement already satisfied: packaging>=20.0 in c:\\users\\admin\\appdata\\roaming\\python\\python312\\site-packages (from spacy<3.8.0,>=3.7.2->en-core-web-sm==3.7.1) (23.2)\n",
      "Requirement already satisfied: langcodes<4.0.0,>=3.2.0 in c:\\users\\admin\\anaconda3\\envs\\lib\\site-packages (from spacy<3.8.0,>=3.7.2->en-core-web-sm==3.7.1) (3.3.0)\n",
      "Requirement already satisfied: numpy>=1.19.0 in c:\\users\\admin\\anaconda3\\envs\\lib\\site-packages (from spacy<3.8.0,>=3.7.2->en-core-web-sm==3.7.1) (1.26.3)\n",
      "Requirement already satisfied: typing-extensions>=4.2.0 in c:\\users\\admin\\anaconda3\\envs\\lib\\site-packages (from pydantic!=1.8,!=1.8.1,<3.0.0,>=1.7.4->spacy<3.8.0,>=3.7.2->en-core-web-sm==3.7.1) (4.7.1)\n",
      "Requirement already satisfied: charset-normalizer<4,>=2 in c:\\users\\admin\\anaconda3\\envs\\lib\\site-packages (from requests<3.0.0,>=2.13.0->spacy<3.8.0,>=3.7.2->en-core-web-sm==3.7.1) (2.0.4)\n",
      "Requirement already satisfied: idna<4,>=2.5 in c:\\users\\admin\\anaconda3\\envs\\lib\\site-packages (from requests<3.0.0,>=2.13.0->spacy<3.8.0,>=3.7.2->en-core-web-sm==3.7.1) (3.4)\n",
      "Requirement already satisfied: urllib3<3,>=1.21.1 in c:\\users\\admin\\anaconda3\\envs\\lib\\site-packages (from requests<3.0.0,>=2.13.0->spacy<3.8.0,>=3.7.2->en-core-web-sm==3.7.1) (1.26.18)\n",
      "Requirement already satisfied: certifi>=2017.4.17 in c:\\users\\admin\\anaconda3\\envs\\lib\\site-packages (from requests<3.0.0,>=2.13.0->spacy<3.8.0,>=3.7.2->en-core-web-sm==3.7.1) (2023.11.17)\n",
      "Requirement already satisfied: blis<0.8.0,>=0.7.8 in c:\\users\\admin\\anaconda3\\envs\\lib\\site-packages (from thinc<8.3.0,>=8.1.8->spacy<3.8.0,>=3.7.2->en-core-web-sm==3.7.1) (0.7.11)\n",
      "Requirement already satisfied: confection<1.0.0,>=0.0.1 in c:\\users\\admin\\anaconda3\\envs\\lib\\site-packages (from thinc<8.3.0,>=8.1.8->spacy<3.8.0,>=3.7.2->en-core-web-sm==3.7.1) (0.1.4)\n",
      "Requirement already satisfied: colorama in c:\\users\\admin\\appdata\\roaming\\python\\python312\\site-packages (from tqdm<5.0.0,>=4.38.0->spacy<3.8.0,>=3.7.2->en-core-web-sm==3.7.1) (0.4.6)\n",
      "Requirement already satisfied: click<9.0.0,>=7.1.1 in c:\\users\\admin\\anaconda3\\envs\\lib\\site-packages (from typer<0.10.0,>=0.3.0->spacy<3.8.0,>=3.7.2->en-core-web-sm==3.7.1) (8.1.7)\n",
      "Requirement already satisfied: cloudpathlib<0.17.0,>=0.7.0 in c:\\users\\admin\\anaconda3\\envs\\lib\\site-packages (from weasel<0.4.0,>=0.1.0->spacy<3.8.0,>=3.7.2->en-core-web-sm==3.7.1) (0.16.0)\n",
      "Requirement already satisfied: MarkupSafe>=2.0 in c:\\users\\admin\\anaconda3\\envs\\lib\\site-packages (from jinja2->spacy<3.8.0,>=3.7.2->en-core-web-sm==3.7.1) (2.1.1)\n",
      "✔ Download and installation successful\n",
      "You can now load the package via spacy.load('en_core_web_sm')\n"
     ]
    }
   ],
   "source": [
    "import spacy\n",
    "!python -m spacy download en"
   ]
  },
  {
   "cell_type": "markdown",
   "metadata": {},
   "source": [
    "For this notebook we will be using the following packages:"
   ]
  },
  {
   "cell_type": "code",
   "execution_count": 5,
   "metadata": {},
   "outputs": [],
   "source": [
    "#Special module written for this class\n",
    "#This provides access to data and to helper functions from previous weeks\n",
    "import lucem_illud #pip install git+https://github.com/UChicago-Computational-Content-Analysis/lucem_illud.git\n",
    "\n",
    "#All these packages need to be installed from pip\n",
    "import requests #for http requests\n",
    "import bs4 #called `beautifulsoup4`, an html parser\n",
    "import pandas #gives us DataFrames\n",
    "import docx #reading MS doc files, install as `python-docx`\n",
    "\n",
    "#Stuff for pdfs\n",
    "#Install as `pdfminer2`\n",
    "import pdfminer.pdfinterp\n",
    "import pdfminer.converter\n",
    "import pdfminer.layout\n",
    "import pdfminer.pdfpage\n",
    "\n",
    "#These come with Python\n",
    "import re #for regexs\n",
    "import urllib.parse #For joining urls\n",
    "import io #for making http requests look like files\n",
    "import json #For Tumblr API responses\n",
    "import os.path #For checking if files exist\n",
    "import os #For making directories"
   ]
  },
  {
   "cell_type": "markdown",
   "metadata": {},
   "source": [
    "We will also be working on the following files/urls"
   ]
  },
  {
   "cell_type": "code",
   "execution_count": 33,
   "metadata": {},
   "outputs": [],
   "source": [
    "wikipedia_base_url = 'https://en.wikipedia.org'\n",
    "wikipedia_content_analysis = 'https://en.wikipedia.org/wiki/Content_analysis'\n",
    "content_analysis_save = 'wikipedia_content_analysis.html'\n",
    "example_text_file = 'sometextfile.txt'\n",
    "information_extraction_pdf = 'https://github.com/Computational-Content-Analysis-2018/Data-Files/raw/master/1-intro/Content%20Analysis%2018.pdf'\n",
    "example_docx = 'https://github.com/Computational-Content-Analysis-2018/Data-Files/raw/master/1-intro/macs6000_connecting_to_midway.docx'\n",
    "example_docx_save = 'example.docx'"
   ]
  },
  {
   "cell_type": "markdown",
   "metadata": {},
   "source": [
    "# Scraping\n",
    "\n",
    "Before we can start analyzing content we need to obtain it. Sometimes it will be\n",
    "provided to us from a pre-curated text archive, but sometimes we will need to\n",
    "download it. As a starting example we will attempt to download the wikipedia\n",
    "page on content analysis. The page is located at [https://en.wikipedia.org/wiki/\n",
    "Content_analysis](https://en.wikipedia.org/wiki/Content_analysis) so lets start\n",
    "with that.\n",
    "\n",
    "We can do this by making an HTTP GET request to that url, a GET request is\n",
    "simply a request to the server to provide the contents given by some url. The\n",
    "other request we will be using in this class is called a POST request and\n",
    "requests the server to take some content we provide. While the Python standard\n",
    "library does have the ability do make GET requests we will be using the\n",
    "[_requests_](http://docs.python-requests.org/en/master/) package as it is _'the\n",
    "only Non-GMO HTTP library for Python'_...also it provides a nicer interface."
   ]
  },
  {
   "cell_type": "code",
   "execution_count": 35,
   "metadata": {},
   "outputs": [
    {
     "data": {
      "text/plain": [
       "<Response [200]>"
      ]
     },
     "execution_count": 35,
     "metadata": {},
     "output_type": "execute_result"
    }
   ],
   "source": [
    "#wikipedia_content_analysis = 'https://en.wikipedia.org/wiki/Content_analysis'\n",
    "requests.get(wikipedia_content_analysis)"
   ]
  },
  {
   "cell_type": "markdown",
   "metadata": {},
   "source": [
    "`'Response [200]'` means the server responded with what we asked for. If you get\n",
    "another number (e.g. 404) it likely means there was some kind of error, these\n",
    "codes are called HTTP response codes and a list of them can be found\n",
    "[here](https://en.wikipedia.org/wiki/List_of_HTTP_status_codes). The response\n",
    "object contains all the data the server sent including the website's contents\n",
    "and the HTTP header. We are interested in the contents which we can access with\n",
    "the `.text` attribute."
   ]
  },
  {
   "cell_type": "code",
   "execution_count": 36,
   "metadata": {},
   "outputs": [
    {
     "name": "stdout",
     "output_type": "stream",
     "text": [
      "<!DOCTYPE html>\n",
      "<html class=\"client-nojs vector-feature-language-in-header-enabled vector-feature-language-in-main-page-header-disabled vector-feature-sticky-header-disabled vector-feature-page-tools-pinned-disabled vector-feature-toc-pinned-clientpref-1 vector-feature-main-menu-pinned-disabled vector-feature-limited-width-clientpref-1 vector-feature-limited-width-content-enabled vector-feature-zebra-design-enabled vector-feature-custom-font-size-clientpref-0 vector-feature-client-preferences-disabled vector-feature-client-prefs-pinned-disabled vector-toc-available\" lang=\"en\" dir=\"ltr\">\n",
      "<head>\n",
      "<meta charset=\"UTF-8\">\n",
      "<title>Content analysis - Wikipedia</title>\n",
      "<script>(function(){var className=\"client-js vector-feature-language-in-header-enabled vector-feature-language-in-main-page-header-disabled vector-feature-sticky-header-disabled vector-feature-page-tools-pinned-disabled vector-feature-toc-pinned-clientpref-1 vector-feature-main-menu-pinned-disabled vector-feature-limited-width-cli\n"
     ]
    }
   ],
   "source": [
    "wikiContentRequest = requests.get(wikipedia_content_analysis)\n",
    "print(wikiContentRequest.text[:1000])"
   ]
  },
  {
   "cell_type": "markdown",
   "metadata": {},
   "source": [
    "This is not what we were looking for, because it is the start of the HTML that\n",
    "makes up the website. This is HTML and is meant to be read by computers. Luckily\n",
    "we have a computer to parse it for us. To do the parsing we will use [_Beautiful\n",
    "Soup_](https://www.crummy.com/software/BeautifulSoup/) which is a better parser\n",
    "than the one in the standard library."
   ]
  },
  {
   "cell_type": "markdown",
   "metadata": {},
   "source": [
    "But before we proceed to Beautiful Soup, a digression about Python syntax, especially about objects and functions.\n",
    "For those who are not familiar with the syntax of python (or, if you're familiar with R programming), you might wonder what requests.get or wikiContentRequest.text mean. To understand this, you need to first understand what objects are. You may have heard that Python is an object oriented programming language (unlike the procedure oriented programming language, an example of which is R). Object is a set of variables (or, data) and functions into which you pass your data. So, in object oriented programming languages, like python, variables and functions are bunleded into objects.\n",
    "\n",
    "For example, let's look at wikiContentRequest. We use dir() function, which returns the list of attributes and functions of objects."
   ]
  },
  {
   "cell_type": "code",
   "execution_count": null,
   "metadata": {},
   "outputs": [],
   "source": [
    " dir(wikiContentRequest)"
   ]
  },
  {
   "cell_type": "markdown",
   "metadata": {},
   "source": [
    "There's 'text' here. We used 'wikiContentRequest.text' to access 'text.' In other words, we use .(dot notation) to access functions from objects. wikiContentRequest has a set of functions, as shown above, and we used 'wikiContentRequest.text' to access one of them. By the way, dot notations do not necessarily refer to functions--it refers to anything that the entity contains. \n",
    "\n"
   ]
  },
  {
   "cell_type": "markdown",
   "metadata": {},
   "source": [
    "Moving on to the next step: BeautifulSoup, a Python library which extracts data from HTML and XML, and transforms HTML files into Python objects."
   ]
  },
  {
   "cell_type": "code",
   "execution_count": null,
   "metadata": {},
   "outputs": [],
   "source": [
    "wikiContentSoup = bs4.BeautifulSoup(wikiContentRequest.text, 'html.parser')\n",
    "print(wikiContentSoup.text[:200])"
   ]
  },
  {
   "cell_type": "markdown",
   "metadata": {},
   "source": [
    "This is better but there's still random whitespace and we have more than just\n",
    "the text of the article. This is because what we requested is the whole webpage,\n",
    "not just the text for the article.\n",
    "\n",
    "We want to extract only the text we care about, and in order to do this we will\n",
    "need to inspect the html. One way to do this is simply to go to the website with\n",
    "a browser and use its inspection or view source tool. If javascript or other\n",
    "dynamic loading occurs on the page, however, it is likely that what Python\n",
    "receives is not what you will see, so we will need to inspect what Python\n",
    "receives. To do this we can save the html `requests` obtained."
   ]
  },
  {
   "cell_type": "code",
   "execution_count": 13,
   "metadata": {},
   "outputs": [],
   "source": [
    "#content_analysis_save = 'wikipedia_content_analysis.html'\n",
    "\n",
    "with open(content_analysis_save, mode='w', encoding='utf-8') as f:\n",
    "    f.write(wikiContentRequest.text)"
   ]
  },
  {
   "cell_type": "markdown",
   "metadata": {},
   "source": [
    "open() is a function which literally opens and returns the file. This function has multiple modes, and, here, we used mode as 'w', which means: open a file for writing. And then, we use 'write' function to write on the empty file (content_analysis_save) that we created using open(content_analysis_save, mode='w', encoding='utf-8').} What did we write on this file? The text we got from wikiContentRequest.text"
   ]
  },
  {
   "cell_type": "markdown",
   "metadata": {},
   "source": [
    "Now let's open the file (`wikipedia_content_analysis.html`) we just created with\n",
    "a web browser. It should look sort of like the original but without the images\n",
    "and formatting.\n",
    "\n",
    "As there is very little standardization on structuring webpages, figuring out\n",
    "how best to extract what you want is an art. Looking at this page it looks like\n",
    "all the main textual content is inside `<p>`(paragraph) tags within the `<body>`\n",
    "tag. "
   ]
  },
  {
   "cell_type": "code",
   "execution_count": null,
   "metadata": {
    "scrolled": true
   },
   "outputs": [],
   "source": [
    "contentPTags = wikiContentSoup.body.findAll('p')\n",
    "for pTag in contentPTags[:3]:\n",
    "    print(pTag.text)"
   ]
  },
  {
   "cell_type": "markdown",
   "metadata": {},
   "source": [
    "Another excursion for those who are not familiar with programming: for loop. For loop is used to iterate over a sequence. \"ContentPTags\" contains multiple paragraphs, each of which starts and ends with `<p>`. What the \"for pTag in contentPtags[:3]\" does here is: find each paragraph in contentPTags, which, here, we limited to the first three using contentPtags[:3], and then print each paragraph. So, we have three paragraphs. By the way, you can insert `<p>` in juputer notebook!"
   ]
  },
  {
   "cell_type": "markdown",
   "metadata": {},
   "source": [
    "We now have all the text from the page, split up by paragraph. If we wanted to\n",
    "get the section headers or references as well it would require a bit more work,\n",
    "but is doable.\n",
    "\n",
    "There is one more thing we might want to do before sending this text to be\n",
    "processed, remove the references indicators (`[2]`, `[3]` , etc). To do this we\n",
    "can use a short regular expression (regex)."
   ]
  },
  {
   "cell_type": "code",
   "execution_count": null,
   "metadata": {},
   "outputs": [],
   "source": [
    "contentParagraphs = []\n",
    "for pTag in contentPTags:\n",
    "    #strings starting with r are raw so their \\'s are not modifier characters\n",
    "    #If we didn't start with r the string would be: '\\\\[\\\\d+\\\\]'\n",
    "    contentParagraphs.append(re.sub(r'\\[\\d+\\]', '', pTag.text))\n",
    "\n",
    "#convert to a DataFrame\n",
    "contentParagraphsDF = pandas.DataFrame({'paragraph-text' : contentParagraphs})\n",
    "print(contentParagraphsDF)"
   ]
  },
  {
   "cell_type": "markdown",
   "metadata": {},
   "source": [
    "Since we learned how to do for loop, you might get what we did here: using contentParagraphs = [], we made an empty list; and then, for each paragraph in contentPTags, we substituted every [\\d+\\] with '', i.e., removed every [\\d+\\], and then appended each paragraph (now without [\\d+\\]) to the empty list. As we can see, we have a dataframe, each row of which is each paragraph of contentPTags, without reference indicators. \n",
    "\n",
    "By the way, what does [\\d+\\] mean? If you are not familiar with regex, it is a way of specifying searches in text.\n",
    "A regex engine takes in the search pattern, in the above case `'\\[\\d+\\]'` and\n",
    "some string, the paragraph texts. Then it reads the input string one character\n",
    "at a time checking if it matches the search. Here the regex `'\\d'` matches\n",
    "number characters (while `'\\['` and `'\\]'` capture the braces on either side)."
   ]
  },
  {
   "cell_type": "markdown",
   "metadata": {},
   "source": [
    "Now we have a `DataFrame` containing all relevant text from the page ready to be processed"
   ]
  },
  {
   "cell_type": "code",
   "execution_count": 16,
   "metadata": {},
   "outputs": [
    {
     "data": {
      "text/plain": [
       "<re.Match object; span=(36, 37), match='2'>"
      ]
     },
     "execution_count": 16,
     "metadata": {},
     "output_type": "execute_result"
    }
   ],
   "source": [
    "findNumber = r'\\d'\n",
    "regexResults = re.search(findNumber, 'not a number, not a number, numbers 2134567890, not a number')\n",
    "regexResults"
   ]
  },
  {
   "cell_type": "markdown",
   "metadata": {},
   "source": [
    "In Python the regex package (`re`) usually returns `Match` objects (you can have\n",
    "multiple pattern hits in a a single `Match`), to get the string that matched our\n",
    "pattern we can use the `.group()` method, and as we want the first one we will\n",
    "ask for the 0'th group."
   ]
  },
  {
   "cell_type": "code",
   "execution_count": 17,
   "metadata": {},
   "outputs": [
    {
     "name": "stdout",
     "output_type": "stream",
     "text": [
      "2\n"
     ]
    }
   ],
   "source": [
    "print(regexResults.group(0))"
   ]
  },
  {
   "cell_type": "markdown",
   "metadata": {},
   "source": [
    "That gives us the first number, if we wanted the whole block of numbers we can\n",
    "add a wildcard `'+'` which requests 1 or more instances of the preceding\n",
    "character."
   ]
  },
  {
   "cell_type": "code",
   "execution_count": 18,
   "metadata": {},
   "outputs": [
    {
     "name": "stdout",
     "output_type": "stream",
     "text": [
      "2134567890\n"
     ]
    }
   ],
   "source": [
    "findNumbers = r'\\d+'\n",
    "regexResults = re.search(findNumbers, 'not a number, not a number, numbers 2134567890, not a number')\n",
    "print(regexResults.group(0))"
   ]
  },
  {
   "cell_type": "markdown",
   "metadata": {},
   "source": [
    "Now we have the whole block of numbers, there are a huge number of special\n",
    "characters in regex, for the full description of Python's implementation look at\n",
    "the [re docs](https://docs.python.org/3/library/re.html) there is also a short\n",
    "[tutorial](https://docs.python.org/3/howto/regex.html#regex-howto)."
   ]
  },
  {
   "cell_type": "markdown",
   "metadata": {},
   "source": [
    "# <font color=\"red\">Exercise 1</font>\n",
    "<font color=\"red\">Construct cells immediately below this that describe and download webcontent relating to your anticipated final project. Use beautiful soup and at least five regular expressions to extract relevant, nontrivial *chunks* of that content (e.g., cleaned sentences, paragraphs, etc.) to a pandas `Dataframe`.</font>"
   ]
  },
  {
   "cell_type": "markdown",
   "metadata": {},
   "source": [
    "##### A Sociological Dive into Classical Music Culture\n",
    "\n",
    " My curiosity was piqued by two fascinating books: \n",
    " - *Mozart in the Jungle: Sex, Drugs, and Classical Music* by Blair Tindall and \n",
    " - *Who Killed Classical Music?: Maestros, Managers, and Corporate Politics* by Norman Lebrecht. \n",
    " \n",
    " In short, both are **non-fiction** which peel back the layers of glamour of music industry to reveal the raw, unpolished (dark) truth of the classical music realm.\n",
    "\n",
    "In Exercise 1, I'll try to curate lists of books information (on *Goodreads*) that are related to these two books. I'll approach in two ways:\n",
    "1. Scrape books that appear in the recommanded list of the original book\n",
    "2. Directly scrape for all books on *Goodreads* that has tagged as *music* and *non-fiction*\n",
    "\n"
   ]
  },
  {
   "cell_type": "markdown",
   "metadata": {},
   "source": [
    "https://www.goodreads.com/book/similar/25759-mozart-in-the-jungle-sex-drugs-and-classical-music?ref=rae_seeall"
   ]
  },
  {
   "cell_type": "code",
   "execution_count": 18,
   "metadata": {},
   "outputs": [],
   "source": [
    "mozart_book_url = 'https://www.goodreads.com/book/show/24998.Mozart_in_the_Jungle' # Mozart in the Jungle book\n",
    "killed_book_url = 'https://www.goodreads.com/book/show/792584.Who_Killed_Classical_Music' # Who Killed Classical Music? book\n",
    "Bernstein_book_url = 'https://www.goodreads.com/book/show/36300698-famous-father-girl' # a Memoir of Leonard Bernstein's --- This is an audio book with no page numbers"
   ]
  },
  {
   "cell_type": "code",
   "execution_count": 23,
   "metadata": {},
   "outputs": [],
   "source": [
    "def scrape_goodreads_book_page(url):\n",
    "    '''\n",
    "    This function works on the Main page of a Goodreads book.\n",
    "    Now, it extracts the title, description, genres, rating, number of pages, format, and publication date.\n",
    "\n",
    "    Input: url of the book page (string)\n",
    "    Return: a dictionary of the book information\n",
    "    \n",
    "    '''\n",
    "    # Send a request to the Goodreads book page\n",
    "    response = requests.get(url)\n",
    "    soup = bs4.BeautifulSoup(response.content, 'html.parser')\n",
    "\n",
    "    # Extract the book title\n",
    "    title = soup.find('h1', {'data-testid': 'bookTitle'}).get_text(strip=True)\n",
    "\n",
    "    # Extract the book description\n",
    "    description_div = soup.find('div', {'data-testid': 'description'})\n",
    "    description = description_div.find('span', class_='Formatted').get_text(strip=True)\n",
    "\n",
    "    # Extract the genres\n",
    "    genres_div = soup.find('div', {'data-testid': 'genresList'})\n",
    "    genres = [genre.get_text(strip=True) for genre in genres_div.find_all('span', class_='Button__labelItem')]\n",
    "\n",
    "    # Extract the rating, ratings count, and reviews count\n",
    "    rating = soup.find('div', class_='RatingStatistics__rating').get_text(strip=True)\n",
    "\n",
    "    ratings_div = soup.find('div', class_='RatingStatistics__meta', role='figure')\n",
    "    ratings_text = ratings_div['aria-label'] if ratings_div else ''\n",
    "\n",
    "    ratings_count_match = re.search(r'([\\d,]+) ratings', ratings_text)\n",
    "    # when the number exceed 999, it displays as 1,000, so we need to replace the comma\n",
    "    ratings_count = ratings_count_match.group(1).replace(',', '') if ratings_count_match else 'N/A'\n",
    "\n",
    "    reviews_count_match = re.search(r'([\\d,]+) reviews', ratings_text)\n",
    "    reviews_count = reviews_count_match.group(1).replace(',', '') if reviews_count_match else 'N/A'\n",
    "\n",
    "    # Extract the number of pages and format\n",
    "    ## note: the page number and format are in the same <p> tag, and can be missing, use regex to extract them\n",
    "    ## Things under that can be:\n",
    "    ## -336 pages, Paperback\n",
    "    ## -Audiobook\n",
    "    details_div = soup.find('div', class_='FeaturedDetails')\n",
    "    pages_format_text = details_div.find('p', {'data-testid': 'pagesFormat'}).get_text(strip=True)\n",
    "    \n",
    "    pages_match = re.search(r'(\\d+) pages', pages_format_text) # look for numbers\n",
    "    pages = pages_match.group(1) if pages_match else 'N/A'\n",
    "    format_match = re.search(r'([A-Z][a-zA-Z]+)$', pages_format_text) # look for capital letter\n",
    "    format_ = format_match.group(1) if format_match else 'N/A'\n",
    "\n",
    "    # Extract the publication date using regex\n",
    "    publication_info_text = details_div.find('p', {'data-testid': 'publicationInfo'}).get_text(strip=True)\n",
    "    publication_date_match = re.search(r'published (.+)', publication_info_text) # need fix later (sometimes no \"published\" or capital letter)\n",
    "    publication_date = publication_date_match.group(1) if publication_date_match else 'N/A'\n",
    "\n",
    "    return {\n",
    "        'title': title,\n",
    "        'description': description,\n",
    "        'genres': genres,\n",
    "        'rating': rating,\n",
    "        'ratings_count': ratings_count,\n",
    "        'reviews_count': reviews_count,\n",
    "        'pages': pages,\n",
    "        'format': format_,\n",
    "        'publication_date': publication_date\n",
    "    }"
   ]
  },
  {
   "cell_type": "code",
   "execution_count": 24,
   "metadata": {},
   "outputs": [
    {
     "data": {
      "text/plain": [
       "{'title': 'Mozart in the Jungle: Sex, Drugs, and Classical Music',\n",
       " 'description': 'In the tradition of Anthony Bourdain’s Kitchen Confidential and Gelsey Kirkland’s Dancing on My Grave , Mozart in the Jungle delves into the lives of the musicians and conductors who inhabit the insular world of classical music. In a book that inspired the Amazon Original series starring Gael García Bernal and Malcolm McDowell, oboist Blair Tindall recounts her decades-long professional career as a classical musician—from the recitals and Broadway orchestra performances to the secret life of musicians who survive hand to mouth in the backbiting New York classical music scene, where musicians trade sexual favors for plum jobs and assignments in orchestras across the city. Tindall and her fellow journeymen musicians often play drunk, high, or hopelessly hungover, live in decrepit apartments, and perform in hazardous conditions— working-class musicians who schlep across the city between low-paying gigs, without health-care benefits or retirement plans, a stark contrast to the rarefied experiences of overpaid classical musician superstars. An incisive, no-holds-barred account, Mozart in the Jungle is the first true, behind-the-scenes look at what goes on backstage and in the Broadway pit.',\n",
       " 'genres': ['Music',\n",
       "  'Nonfiction',\n",
       "  'Memoir',\n",
       "  'Biography',\n",
       "  'Biography Memoir',\n",
       "  'Autobiography',\n",
       "  'Classical Music',\n",
       "  '...more'],\n",
       " 'rating': '3.38',\n",
       " 'ratings_count': '2963',\n",
       " 'reviews_count': '404',\n",
       " 'pages': '336',\n",
       " 'format': 'Paperback',\n",
       " 'publication_date': 'January 1, 2005'}"
      ]
     },
     "execution_count": 24,
     "metadata": {},
     "output_type": "execute_result"
    }
   ],
   "source": [
    "# try the function on the Mozart book\n",
    "mozart_info = scrape_goodreads_book_page(mozart_book_url)\n",
    "mozart_info"
   ]
  },
  {
   "cell_type": "code",
   "execution_count": 25,
   "metadata": {},
   "outputs": [
    {
     "data": {
      "text/plain": [
       "{'title': 'Famous Father Girl: A Memoir of Growing Up Bernstein',\n",
       " 'description': 'The oldest daughter of revered composer/conductor Leonard Bernstein offers a rare look at her father on the centennial of his birth in a deeply intimate and broadly evocative memoir.The composer ofOn the TownandWest Side Story, chief conductor of the New York Philharmonic, television star, humanitarian, friend of the powerful and influential, and the life of every party, Leonard Bernstein was an enormous celebrity during one of the headiest periods of American cultural life, as well as the most protean musician in twentieth century America.But to his eldest daughter, Jamie, he was above all the man in the scratchy brown bathrobe who smelled of cigarettes; the jokester and compulsive teacher who enthused about Beethoven and the Beatles; the insomniac whose 4 a.m. composing breaks involved spooning baby food out of the jar. He taught his daughter to love the world in all its beauty and complexity. In public and private, Lenny was larger than life.InFamous Father Girl, Bernstein mines the emotional depths of her childhood and invites us into her family’s private world. A fantastic set of characters populates the Bernsteins’ lives, including: the Kennedys, Mike Nichols, John Lennon, Richard Avedon, Stephen Sondheim, Jerome Robbins, and Betty (Lauren) Bacall.An intoxicating tale,Famous Father Girlis an intimate meditation on a complex and sometimes troubled man, the family he raised, and the music he composed that became the soundtrack to their entwined lives. Deeply moving and often hilarious, Bernstein’s beautifully written memoir is a great American story about one of the greatest Americans of the modern age.Best Book of 2018 -- NPR,Library Journal',\n",
       " 'genres': ['Memoir',\n",
       "  'Nonfiction',\n",
       "  'Biography',\n",
       "  'Music',\n",
       "  'Biography Memoir',\n",
       "  'Classical Music',\n",
       "  'Audiobook',\n",
       "  '...more'],\n",
       " 'rating': '3.88',\n",
       " 'ratings_count': '1271',\n",
       " 'reviews_count': '197',\n",
       " 'pages': 'N/A',\n",
       " 'format': 'Audiobook',\n",
       " 'publication_date': 'January 1, 2018'}"
      ]
     },
     "execution_count": 25,
     "metadata": {},
     "output_type": "execute_result"
    }
   ],
   "source": [
    "# try the function on the Bernstein book\n",
    "Bernstain_info = scrape_goodreads_book_page(Bernstein_book_url)\n",
    "Bernstain_info"
   ]
  },
  {
   "cell_type": "code",
   "execution_count": 26,
   "metadata": {},
   "outputs": [],
   "source": [
    "def scrape_related_books(url):\n",
    "    '''\n",
    "    This scrapes a Goodreads page for a book's related books (readers also enjoyed).\n",
    "    It can handle most pages that have a list of books with ratings and *descriptions*.\n",
    "\n",
    "    NOTE: it cannot collect the full description; probably need selenium for expanding that.\n",
    "\n",
    "    input: url (string) - the url of the Goodreads page\n",
    "    returns: DataFrame - a DataFrame with the book's title, author, rating, number of ratings, and description\n",
    "\n",
    "    '''\n",
    "    response = requests.get(url)\n",
    "    soup = bs4.BeautifulSoup(response.text, 'html.parser')\n",
    "    \n",
    "    books_data = []\n",
    "    \n",
    "    for book_div in soup.find_all('div', class_='responsiveBook'):\n",
    "        # Extract title and link\n",
    "        title_tag = book_div.find('a', class_='gr-h3 gr-h3--serif gr-h3--noMargin')\n",
    "        title = title_tag.find('span', itemprop='name').get_text()\n",
    "        link = 'https://www.goodreads.com' + title_tag['href']\n",
    "        \n",
    "        # Extract rating -- need regex to extract the number\n",
    "        ## sample: <div class=\"communityRating\" aria-label=\"Rated 3.96 of 5\" .... > \n",
    "        ## need the number at position of 3.96\n",
    "        rating_div = book_div.find('div', class_='communityRating')\n",
    "        rating = re.search(r'Rated (\\d+\\.\\d+) of 5', rating_div['aria-label']).group(1) \n",
    "        \n",
    "        # Extract description\n",
    "        description_span = book_div.find('div', class_='expandableHtml').find('span')\n",
    "        description = description_span.get_text(strip=True)\n",
    "        \n",
    "        books_data.append({\n",
    "            'Title': title,\n",
    "            'Link': link,\n",
    "            'Rating': rating,\n",
    "            'Description': description\n",
    "        })\n",
    "    \n",
    "    return pandas.DataFrame(books_data)"
   ]
  },
  {
   "cell_type": "code",
   "execution_count": 27,
   "metadata": {},
   "outputs": [],
   "source": [
    "# Try the function on the Mozart book page\n",
    "mozart_related_url = 'https://www.goodreads.com/book/similar/25759-mozart-in-the-jungle-sex-drugs-and-classical-music?ref=rae_seeall'"
   ]
  },
  {
   "cell_type": "code",
   "execution_count": 28,
   "metadata": {},
   "outputs": [
    {
     "data": {
      "text/html": [
       "<div>\n",
       "<style scoped>\n",
       "    .dataframe tbody tr th:only-of-type {\n",
       "        vertical-align: middle;\n",
       "    }\n",
       "\n",
       "    .dataframe tbody tr th {\n",
       "        vertical-align: top;\n",
       "    }\n",
       "\n",
       "    .dataframe thead th {\n",
       "        text-align: right;\n",
       "    }\n",
       "</style>\n",
       "<table border=\"1\" class=\"dataframe\">\n",
       "  <thead>\n",
       "    <tr style=\"text-align: right;\">\n",
       "      <th></th>\n",
       "      <th>Title</th>\n",
       "      <th>Link</th>\n",
       "      <th>Rating</th>\n",
       "      <th>Description</th>\n",
       "    </tr>\n",
       "  </thead>\n",
       "  <tbody>\n",
       "    <tr>\n",
       "      <th>0</th>\n",
       "      <td>Mozart in the Jungle: Sex, Drugs, and Classica...</td>\n",
       "      <td>https://www.goodreads.com/book/show/24998.Moza...</td>\n",
       "      <td>3.28</td>\n",
       "      <td>In the tradition of Anthony Bourdain’s Kitchen...</td>\n",
       "    </tr>\n",
       "    <tr>\n",
       "      <th>1</th>\n",
       "      <td>Famous Father Girl: A Memoir of Growing Up Ber...</td>\n",
       "      <td>https://www.goodreads.com/book/show/36300698-f...</td>\n",
       "      <td>3.80</td>\n",
       "      <td>The oldest daughter of revered composer/conduc...</td>\n",
       "    </tr>\n",
       "    <tr>\n",
       "      <th>2</th>\n",
       "      <td>The Ski Jumpers</td>\n",
       "      <td>https://www.goodreads.com/book/show/60240730-t...</td>\n",
       "      <td>3.96</td>\n",
       "      <td>A writer and former ski jumper facing a termin...</td>\n",
       "    </tr>\n",
       "    <tr>\n",
       "      <th>3</th>\n",
       "      <td>Swan Dive: The Making of a Rogue Ballerina</td>\n",
       "      <td>https://www.goodreads.com/book/show/53137979-s...</td>\n",
       "      <td>3.74</td>\n",
       "      <td>Award-winning New York City Ballet soloist Geo...</td>\n",
       "    </tr>\n",
       "    <tr>\n",
       "      <th>4</th>\n",
       "      <td>Two Women Walk into a Bar</td>\n",
       "      <td>https://www.goodreads.com/book/show/198712875-...</td>\n",
       "      <td>4.19</td>\n",
       "      <td>Cheryl Strayed, the bestselling author of Wild...</td>\n",
       "    </tr>\n",
       "  </tbody>\n",
       "</table>\n",
       "</div>"
      ],
      "text/plain": [
       "                                               Title  \\\n",
       "0  Mozart in the Jungle: Sex, Drugs, and Classica...   \n",
       "1  Famous Father Girl: A Memoir of Growing Up Ber...   \n",
       "2                                    The Ski Jumpers   \n",
       "3         Swan Dive: The Making of a Rogue Ballerina   \n",
       "4                          Two Women Walk into a Bar   \n",
       "\n",
       "                                                Link Rating  \\\n",
       "0  https://www.goodreads.com/book/show/24998.Moza...   3.28   \n",
       "1  https://www.goodreads.com/book/show/36300698-f...   3.80   \n",
       "2  https://www.goodreads.com/book/show/60240730-t...   3.96   \n",
       "3  https://www.goodreads.com/book/show/53137979-s...   3.74   \n",
       "4  https://www.goodreads.com/book/show/198712875-...   4.19   \n",
       "\n",
       "                                         Description  \n",
       "0  In the tradition of Anthony Bourdain’s Kitchen...  \n",
       "1  The oldest daughter of revered composer/conduc...  \n",
       "2  A writer and former ski jumper facing a termin...  \n",
       "3  Award-winning New York City Ballet soloist Geo...  \n",
       "4  Cheryl Strayed, the bestselling author of Wild...  "
      ]
     },
     "execution_count": 28,
     "metadata": {},
     "output_type": "execute_result"
    }
   ],
   "source": [
    "mozart_df = scrape_related_books(mozart_related_url)\n",
    "mozart_df.head()"
   ]
  },
  {
   "cell_type": "code",
   "execution_count": 31,
   "metadata": {},
   "outputs": [
    {
     "data": {
      "text/html": [
       "<div>\n",
       "<style scoped>\n",
       "    .dataframe tbody tr th:only-of-type {\n",
       "        vertical-align: middle;\n",
       "    }\n",
       "\n",
       "    .dataframe tbody tr th {\n",
       "        vertical-align: top;\n",
       "    }\n",
       "\n",
       "    .dataframe thead th {\n",
       "        text-align: right;\n",
       "    }\n",
       "</style>\n",
       "<table border=\"1\" class=\"dataframe\">\n",
       "  <thead>\n",
       "    <tr style=\"text-align: right;\">\n",
       "      <th></th>\n",
       "      <th>title</th>\n",
       "      <th>description</th>\n",
       "      <th>genres</th>\n",
       "      <th>rating</th>\n",
       "      <th>ratings_count</th>\n",
       "      <th>reviews_count</th>\n",
       "      <th>pages</th>\n",
       "      <th>format</th>\n",
       "      <th>publication_date</th>\n",
       "    </tr>\n",
       "  </thead>\n",
       "  <tbody>\n",
       "    <tr>\n",
       "      <th>0</th>\n",
       "      <td>Mozart in the Jungle: Sex, Drugs, and Classica...</td>\n",
       "      <td>In the tradition of Anthony Bourdain’s Kitchen...</td>\n",
       "      <td>[Music, Nonfiction, Memoir, Biography, Biograp...</td>\n",
       "      <td>3.38</td>\n",
       "      <td>2963</td>\n",
       "      <td>404</td>\n",
       "      <td>336</td>\n",
       "      <td>Paperback</td>\n",
       "      <td>January 1, 2005</td>\n",
       "    </tr>\n",
       "    <tr>\n",
       "      <th>1</th>\n",
       "      <td>Famous Father Girl: A Memoir of Growing Up Ber...</td>\n",
       "      <td>The oldest daughter of revered composer/conduc...</td>\n",
       "      <td>[Memoir, Nonfiction, Biography, Music, Biograp...</td>\n",
       "      <td>3.88</td>\n",
       "      <td>1271</td>\n",
       "      <td>197</td>\n",
       "      <td>N/A</td>\n",
       "      <td>Audiobook</td>\n",
       "      <td>January 1, 2018</td>\n",
       "    </tr>\n",
       "    <tr>\n",
       "      <th>2</th>\n",
       "      <td>The Ski Jumpers</td>\n",
       "      <td>A writer and former ski jumper facing a termin...</td>\n",
       "      <td>[Fiction, Contemporary]</td>\n",
       "      <td>3.99</td>\n",
       "      <td>280</td>\n",
       "      <td>46</td>\n",
       "      <td>408</td>\n",
       "      <td>Hardcover</td>\n",
       "      <td>September 13, 2022</td>\n",
       "    </tr>\n",
       "    <tr>\n",
       "      <th>3</th>\n",
       "      <td>Swan Dive: The Making of a Rogue Ballerina</td>\n",
       "      <td>Award-winning New York City Ballet soloist Geo...</td>\n",
       "      <td>[Nonfiction, Memoir, Biography, Audiobook, Spo...</td>\n",
       "      <td>3.82</td>\n",
       "      <td>1744</td>\n",
       "      <td>261</td>\n",
       "      <td>272</td>\n",
       "      <td>Hardcover</td>\n",
       "      <td>July 27, 2021</td>\n",
       "    </tr>\n",
       "    <tr>\n",
       "      <th>4</th>\n",
       "      <td>Two Women Walk into a Bar</td>\n",
       "      <td>Cheryl Strayed, the bestselling author of Wild...</td>\n",
       "      <td>[Nonfiction, Memoir, Short Stories, Biography,...</td>\n",
       "      <td>4.19</td>\n",
       "      <td>4763</td>\n",
       "      <td>376</td>\n",
       "      <td>31</td>\n",
       "      <td>Edition</td>\n",
       "      <td>N/A</td>\n",
       "    </tr>\n",
       "    <tr>\n",
       "      <th>5</th>\n",
       "      <td>The Piano Shop on the Left Bank: Discovering a...</td>\n",
       "      <td>Walking his two young children to school every...</td>\n",
       "      <td>[Nonfiction, Music, Memoir, France, Travel, Bi...</td>\n",
       "      <td>3.97</td>\n",
       "      <td>6196</td>\n",
       "      <td>821</td>\n",
       "      <td>304</td>\n",
       "      <td>Edition</td>\n",
       "      <td>January 1, 2000</td>\n",
       "    </tr>\n",
       "    <tr>\n",
       "      <th>6</th>\n",
       "      <td>Rising: Dispatches from the New American Shore</td>\n",
       "      <td>WINNER OF THE NATIONAL OUTDOOR BOOK AWARDACHIC...</td>\n",
       "      <td>[Nonfiction, Science, Environment, Nature, Cli...</td>\n",
       "      <td>4.18</td>\n",
       "      <td>2218</td>\n",
       "      <td>390</td>\n",
       "      <td>299</td>\n",
       "      <td>Hardcover</td>\n",
       "      <td>June 12, 2018</td>\n",
       "    </tr>\n",
       "    <tr>\n",
       "      <th>7</th>\n",
       "      <td>The Tumbler</td>\n",
       "      <td>Gabriel Du Pré, the old Métis fiddler at the c...</td>\n",
       "      <td>[Mystery, Westerns, Fiction, Mystery Thriller,...</td>\n",
       "      <td>4.25</td>\n",
       "      <td>251</td>\n",
       "      <td>13</td>\n",
       "      <td>256</td>\n",
       "      <td>Edition</td>\n",
       "      <td>April 12, 2004</td>\n",
       "    </tr>\n",
       "    <tr>\n",
       "      <th>8</th>\n",
       "      <td>The Well-Educated Mind: A Guide to the Classic...</td>\n",
       "      <td>Have you lost the art of reading for pleasure?...</td>\n",
       "      <td>[Education, Nonfiction, Books About Books, Ref...</td>\n",
       "      <td>3.99</td>\n",
       "      <td>3593</td>\n",
       "      <td>413</td>\n",
       "      <td>432</td>\n",
       "      <td>Hardcover</td>\n",
       "      <td>January 1, 2003</td>\n",
       "    </tr>\n",
       "    <tr>\n",
       "      <th>9</th>\n",
       "      <td>Year of Wonder: Classical Music for Every Day</td>\n",
       "      <td>Have you ever heard a piece of music so beauti...</td>\n",
       "      <td>[Music, Nonfiction, History, Reference, Art, E...</td>\n",
       "      <td>4.41</td>\n",
       "      <td>1093</td>\n",
       "      <td>214</td>\n",
       "      <td>416</td>\n",
       "      <td>Hardcover</td>\n",
       "      <td>October 5, 2017</td>\n",
       "    </tr>\n",
       "    <tr>\n",
       "      <th>10</th>\n",
       "      <td>Levon: From Down in the Delta to the Birth of ...</td>\n",
       "      <td>The life of the legendary drummer and singer i...</td>\n",
       "      <td>[Music, Biography, Nonfiction, History, Biogra...</td>\n",
       "      <td>3.95</td>\n",
       "      <td>240</td>\n",
       "      <td>36</td>\n",
       "      <td>400</td>\n",
       "      <td>Hardcover</td>\n",
       "      <td>N/A</td>\n",
       "    </tr>\n",
       "    <tr>\n",
       "      <th>11</th>\n",
       "      <td>Fatal Legacy</td>\n",
       "      <td>In first century Rome, Flavia Albia takes on a...</td>\n",
       "      <td>[Mystery, Historical Fiction, Historical, Fict...</td>\n",
       "      <td>4.13</td>\n",
       "      <td>646</td>\n",
       "      <td>80</td>\n",
       "      <td>336</td>\n",
       "      <td>Hardcover</td>\n",
       "      <td>July 18, 2023</td>\n",
       "    </tr>\n",
       "    <tr>\n",
       "      <th>12</th>\n",
       "      <td>The Laughter</td>\n",
       "      <td>An aging white male college professor develops...</td>\n",
       "      <td>[Fiction, Literary Fiction, Contemporary, Acad...</td>\n",
       "      <td>3.90</td>\n",
       "      <td>1291</td>\n",
       "      <td>281</td>\n",
       "      <td>320</td>\n",
       "      <td>Hardcover</td>\n",
       "      <td>February 14, 2023</td>\n",
       "    </tr>\n",
       "    <tr>\n",
       "      <th>13</th>\n",
       "      <td>The Oracle of Stamboul</td>\n",
       "      <td>An elegantly crafted, utterly enchanting debut...</td>\n",
       "      <td>[Historical Fiction, Fiction, Fantasy, Histori...</td>\n",
       "      <td>3.52</td>\n",
       "      <td>3683</td>\n",
       "      <td>829</td>\n",
       "      <td>294</td>\n",
       "      <td>Hardcover</td>\n",
       "      <td>January 1, 2011</td>\n",
       "    </tr>\n",
       "    <tr>\n",
       "      <th>14</th>\n",
       "      <td>The Tribe of Tiger: Cats and Their Culture</td>\n",
       "      <td>From the plains of Africa to her very own back...</td>\n",
       "      <td>[Nonfiction, Animals, Cats, Science, Nature, R...</td>\n",
       "      <td>3.79</td>\n",
       "      <td>931</td>\n",
       "      <td>100</td>\n",
       "      <td>288</td>\n",
       "      <td>Paperback</td>\n",
       "      <td>January 1, 1994</td>\n",
       "    </tr>\n",
       "    <tr>\n",
       "      <th>15</th>\n",
       "      <td>Good Girls: A Story and Study of Anorexia</td>\n",
       "      <td>From Hadley Freeman, bestselling author of Hou...</td>\n",
       "      <td>[Nonfiction, Memoir, Mental Health, Biography,...</td>\n",
       "      <td>3.95</td>\n",
       "      <td>1219</td>\n",
       "      <td>194</td>\n",
       "      <td>288</td>\n",
       "      <td>Hardcover</td>\n",
       "      <td>March 7, 2023</td>\n",
       "    </tr>\n",
       "    <tr>\n",
       "      <th>16</th>\n",
       "      <td>Birnam Wood</td>\n",
       "      <td>Birnam Wood is on the move . . .Five years ago...</td>\n",
       "      <td>[Fiction, Thriller, Mystery, Contemporary, Lit...</td>\n",
       "      <td>3.84</td>\n",
       "      <td>23074</td>\n",
       "      <td>3529</td>\n",
       "      <td>432</td>\n",
       "      <td>Hardcover</td>\n",
       "      <td>March 7, 2023</td>\n",
       "    </tr>\n",
       "    <tr>\n",
       "      <th>17</th>\n",
       "      <td>The Sullivanians: Sex, Psychotherapy, and the ...</td>\n",
       "      <td>The devolution of the Sullivan Institute, from...</td>\n",
       "      <td>[Nonfiction, History, Cults, Psychology, Audio...</td>\n",
       "      <td>3.52</td>\n",
       "      <td>1138</td>\n",
       "      <td>204</td>\n",
       "      <td>432</td>\n",
       "      <td>Hardcover</td>\n",
       "      <td>June 20, 2023</td>\n",
       "    </tr>\n",
       "    <tr>\n",
       "      <th>18</th>\n",
       "      <td>This Isn't Going to End Well: The True Story o...</td>\n",
       "      <td>“A memoir wrapped in an elegy… [that] maps a s...</td>\n",
       "      <td>[Memoir, Nonfiction, Biography, Biography Memo...</td>\n",
       "      <td>3.84</td>\n",
       "      <td>990</td>\n",
       "      <td>163</td>\n",
       "      <td>272</td>\n",
       "      <td>Hardcover</td>\n",
       "      <td>April 11, 2023</td>\n",
       "    </tr>\n",
       "    <tr>\n",
       "      <th>19</th>\n",
       "      <td>Lives of the Wives: Five Literary Marriages</td>\n",
       "      <td>A witty, provocative look inside the tumultuou...</td>\n",
       "      <td>[Nonfiction, Biography, History, Marriage, Bio...</td>\n",
       "      <td>3.59</td>\n",
       "      <td>685</td>\n",
       "      <td>99</td>\n",
       "      <td>336</td>\n",
       "      <td>Hardcover</td>\n",
       "      <td>February 7, 2023</td>\n",
       "    </tr>\n",
       "    <tr>\n",
       "      <th>20</th>\n",
       "      <td>More Than I Imagined: What a Black Man Discove...</td>\n",
       "      <td>An award-winning journalist tells the story of...</td>\n",
       "      <td>[Memoir, Nonfiction, Biography, Social Justice...</td>\n",
       "      <td>4.38</td>\n",
       "      <td>326</td>\n",
       "      <td>43</td>\n",
       "      <td>240</td>\n",
       "      <td>Hardcover</td>\n",
       "      <td>N/A</td>\n",
       "    </tr>\n",
       "  </tbody>\n",
       "</table>\n",
       "</div>"
      ],
      "text/plain": [
       "                                                title  \\\n",
       "0   Mozart in the Jungle: Sex, Drugs, and Classica...   \n",
       "1   Famous Father Girl: A Memoir of Growing Up Ber...   \n",
       "2                                     The Ski Jumpers   \n",
       "3          Swan Dive: The Making of a Rogue Ballerina   \n",
       "4                           Two Women Walk into a Bar   \n",
       "5   The Piano Shop on the Left Bank: Discovering a...   \n",
       "6      Rising: Dispatches from the New American Shore   \n",
       "7                                         The Tumbler   \n",
       "8   The Well-Educated Mind: A Guide to the Classic...   \n",
       "9       Year of Wonder: Classical Music for Every Day   \n",
       "10  Levon: From Down in the Delta to the Birth of ...   \n",
       "11                                       Fatal Legacy   \n",
       "12                                       The Laughter   \n",
       "13                             The Oracle of Stamboul   \n",
       "14         The Tribe of Tiger: Cats and Their Culture   \n",
       "15          Good Girls: A Story and Study of Anorexia   \n",
       "16                                        Birnam Wood   \n",
       "17  The Sullivanians: Sex, Psychotherapy, and the ...   \n",
       "18  This Isn't Going to End Well: The True Story o...   \n",
       "19        Lives of the Wives: Five Literary Marriages   \n",
       "20  More Than I Imagined: What a Black Man Discove...   \n",
       "\n",
       "                                          description  \\\n",
       "0   In the tradition of Anthony Bourdain’s Kitchen...   \n",
       "1   The oldest daughter of revered composer/conduc...   \n",
       "2   A writer and former ski jumper facing a termin...   \n",
       "3   Award-winning New York City Ballet soloist Geo...   \n",
       "4   Cheryl Strayed, the bestselling author of Wild...   \n",
       "5   Walking his two young children to school every...   \n",
       "6   WINNER OF THE NATIONAL OUTDOOR BOOK AWARDACHIC...   \n",
       "7   Gabriel Du Pré, the old Métis fiddler at the c...   \n",
       "8   Have you lost the art of reading for pleasure?...   \n",
       "9   Have you ever heard a piece of music so beauti...   \n",
       "10  The life of the legendary drummer and singer i...   \n",
       "11  In first century Rome, Flavia Albia takes on a...   \n",
       "12  An aging white male college professor develops...   \n",
       "13  An elegantly crafted, utterly enchanting debut...   \n",
       "14  From the plains of Africa to her very own back...   \n",
       "15  From Hadley Freeman, bestselling author of Hou...   \n",
       "16  Birnam Wood is on the move . . .Five years ago...   \n",
       "17  The devolution of the Sullivan Institute, from...   \n",
       "18  “A memoir wrapped in an elegy… [that] maps a s...   \n",
       "19  A witty, provocative look inside the tumultuou...   \n",
       "20  An award-winning journalist tells the story of...   \n",
       "\n",
       "                                               genres rating ratings_count  \\\n",
       "0   [Music, Nonfiction, Memoir, Biography, Biograp...   3.38          2963   \n",
       "1   [Memoir, Nonfiction, Biography, Music, Biograp...   3.88          1271   \n",
       "2                             [Fiction, Contemporary]   3.99           280   \n",
       "3   [Nonfiction, Memoir, Biography, Audiobook, Spo...   3.82          1744   \n",
       "4   [Nonfiction, Memoir, Short Stories, Biography,...   4.19          4763   \n",
       "5   [Nonfiction, Music, Memoir, France, Travel, Bi...   3.97          6196   \n",
       "6   [Nonfiction, Science, Environment, Nature, Cli...   4.18          2218   \n",
       "7   [Mystery, Westerns, Fiction, Mystery Thriller,...   4.25           251   \n",
       "8   [Education, Nonfiction, Books About Books, Ref...   3.99          3593   \n",
       "9   [Music, Nonfiction, History, Reference, Art, E...   4.41          1093   \n",
       "10  [Music, Biography, Nonfiction, History, Biogra...   3.95           240   \n",
       "11  [Mystery, Historical Fiction, Historical, Fict...   4.13           646   \n",
       "12  [Fiction, Literary Fiction, Contemporary, Acad...   3.90          1291   \n",
       "13  [Historical Fiction, Fiction, Fantasy, Histori...   3.52          3683   \n",
       "14  [Nonfiction, Animals, Cats, Science, Nature, R...   3.79           931   \n",
       "15  [Nonfiction, Memoir, Mental Health, Biography,...   3.95          1219   \n",
       "16  [Fiction, Thriller, Mystery, Contemporary, Lit...   3.84         23074   \n",
       "17  [Nonfiction, History, Cults, Psychology, Audio...   3.52          1138   \n",
       "18  [Memoir, Nonfiction, Biography, Biography Memo...   3.84           990   \n",
       "19  [Nonfiction, Biography, History, Marriage, Bio...   3.59           685   \n",
       "20  [Memoir, Nonfiction, Biography, Social Justice...   4.38           326   \n",
       "\n",
       "   reviews_count pages     format    publication_date  \n",
       "0            404   336  Paperback     January 1, 2005  \n",
       "1            197   N/A  Audiobook     January 1, 2018  \n",
       "2             46   408  Hardcover  September 13, 2022  \n",
       "3            261   272  Hardcover       July 27, 2021  \n",
       "4            376    31    Edition                 N/A  \n",
       "5            821   304    Edition     January 1, 2000  \n",
       "6            390   299  Hardcover       June 12, 2018  \n",
       "7             13   256    Edition      April 12, 2004  \n",
       "8            413   432  Hardcover     January 1, 2003  \n",
       "9            214   416  Hardcover     October 5, 2017  \n",
       "10            36   400  Hardcover                 N/A  \n",
       "11            80   336  Hardcover       July 18, 2023  \n",
       "12           281   320  Hardcover   February 14, 2023  \n",
       "13           829   294  Hardcover     January 1, 2011  \n",
       "14           100   288  Paperback     January 1, 1994  \n",
       "15           194   288  Hardcover       March 7, 2023  \n",
       "16          3529   432  Hardcover       March 7, 2023  \n",
       "17           204   432  Hardcover       June 20, 2023  \n",
       "18           163   272  Hardcover      April 11, 2023  \n",
       "19            99   336  Hardcover    February 7, 2023  \n",
       "20            43   240  Hardcover                 N/A  "
      ]
     },
     "execution_count": 31,
     "metadata": {},
     "output_type": "execute_result"
    }
   ],
   "source": [
    "# Let try scraping all the Links of related books of the Mozart book and created a pandas DataFrame\n",
    "\n",
    "links = mozart_df['Link'].tolist()\n",
    "\n",
    "book_data_list = []\n",
    "\n",
    "for url in links:\n",
    "    try:\n",
    "        book_data = scrape_goodreads_book_page(url)\n",
    "        book_data_list.append(book_data)\n",
    "    except Exception as e:\n",
    "        print(f\"Error scraping {url}: {e}\")\n",
    "\n",
    "# Convert the list of dictionaries to a DataFrame\n",
    "books_df = pandas.DataFrame(book_data_list)\n",
    "\n",
    "\n",
    "books_df\n",
    "    \n"
   ]
  },
  {
   "cell_type": "markdown",
   "metadata": {},
   "source": [
    "##### Looks like it's not a good idea to start from the recommanded lists of a book\n",
    "- This list changed when I scrape it the next day\n",
    "- not all the books there are related to *music*"
   ]
  },
  {
   "cell_type": "code",
   "execution_count": null,
   "metadata": {},
   "outputs": [],
   "source": [
    "# https://www.goodreads.com/list/show/544.Best_Non_Fiction_About_Music?page=1"
   ]
  },
  {
   "cell_type": "markdown",
   "metadata": {},
   "source": [
    "\n",
    "# Spidering\n",
    "\n",
    "What if we want to to get a bunch of different pages from wikipedia. We would\n",
    "need to get the url for each of the pages we want. Typically, we want pages that\n",
    "are linked to by other pages and so we will need to parse pages and identify the\n",
    "links. Right now we will be retrieving all links in the body of the content\n",
    "analysis page.\n",
    "\n",
    "To do this we will need to find all the `<a>` (anchor) tags with `href`s\n",
    "(hyperlink references) inside of `<p>` tags. `href` can have many\n",
    "[different](http://stackoverflow.com/questions/4855168/what-is-href-and-why-is-\n",
    "it-used) [forms](https://en.wikipedia.org/wiki/Hyperlink#Hyperlinks_in_HTML) so\n",
    "dealing with them can be tricky, but generally, you will want to extract\n",
    "absolute or relative links. An absolute link is one you can follow without\n",
    "modification, while a relative link requires a base url that you will then\n",
    "append. Wikipedia uses relative urls for its internal links: below is an example\n",
    "for dealing with them."
   ]
  },
  {
   "cell_type": "code",
   "execution_count": 41,
   "metadata": {},
   "outputs": [
    {
     "name": "stdout",
     "output_type": "stream",
     "text": [
      "[('https://en.wikipedia.org/wiki/Document', 0, 'documents'), ('https://en.wikipedia.org/wiki/Text_(literary_theory)', 1, 'texts'), ('https://en.wikipedia.org/wiki/Coding_(social_sciences)', 1, 'assigned labels (sometimes called codes)'), ('https://en.wikipedia.org/wiki/Semantics', 1, 'meaningful'), ('https://en.wikipedia.org/wiki/Text_(literary_theory)', 1, 'texts'), ('https://en.wikipedia.org/wiki/Quantitative_research', 1, 'quantitatively'), ('https://en.wikipedia.org/wiki/Statistics', 1, 'statistical methods'), ('https://en.wikipedia.org/wiki/Qualitative_research', 1, 'qualitative'), ('https://en.wikipedia.org/wiki/Text_(literary_theory)', 1, 'texts'), ('https://en.wikipedia.org/wiki/Machine_learning', 2, 'Machine learning')]\n"
     ]
    }
   ],
   "source": [
    "#wikipedia_base_url = 'https://en.wikipedia.org'\n",
    "\n",
    "otherPAgeURLS = []\n",
    "#We also want to know where the links come from so we also will get:\n",
    "#the paragraph number\n",
    "#the word the link is in\n",
    "for paragraphNum, pTag in enumerate(contentPTags):\n",
    "    #we only want hrefs that link to wiki pages\n",
    "    tagLinks = pTag.findAll('a', href=re.compile('/wiki/'), class_=False)\n",
    "    for aTag in tagLinks:\n",
    "        #We need to extract the url from the <a> tag\n",
    "        relurl = aTag.get('href')\n",
    "        linkText = aTag.text\n",
    "        #wikipedia_base_url is the base we can use the urllib joining function to merge them\n",
    "        #Giving a nice structured tupe like this means we can use tuple expansion later\n",
    "        otherPAgeURLS.append((\n",
    "            urllib.parse.urljoin(wikipedia_base_url, relurl),\n",
    "            paragraphNum,\n",
    "            linkText,\n",
    "        ))\n",
    "print(otherPAgeURLS[:10])"
   ]
  },
  {
   "cell_type": "code",
   "execution_count": null,
   "metadata": {},
   "outputs": [],
   "source": [
    "print(contentPTags)"
   ]
  },
  {
   "cell_type": "markdown",
   "metadata": {},
   "source": [
    "Another excursion: Why do we use enumerate() here? enumerate() takes a collection, enumerates, and returns an enumate object with both the numbers and the collection. For example, contentPTags (the collection we used here) is comprised of paragraphs. We want the paragraph number of each paragraph. And this is what enumerate() does: it returns the paragraph number and the paragraph. "
   ]
  },
  {
   "cell_type": "markdown",
   "metadata": {},
   "source": [
    "We will be adding these new texts to our DataFrame `contentParagraphsDF` so we\n",
    "will need to add 2 more columns to keep track of paragraph numbers and sources."
   ]
  },
  {
   "cell_type": "code",
   "execution_count": 43,
   "metadata": {},
   "outputs": [
    {
     "data": {
      "text/html": [
       "<div>\n",
       "<style scoped>\n",
       "    .dataframe tbody tr th:only-of-type {\n",
       "        vertical-align: middle;\n",
       "    }\n",
       "\n",
       "    .dataframe tbody tr th {\n",
       "        vertical-align: top;\n",
       "    }\n",
       "\n",
       "    .dataframe thead th {\n",
       "        text-align: right;\n",
       "    }\n",
       "</style>\n",
       "<table border=\"1\" class=\"dataframe\">\n",
       "  <thead>\n",
       "    <tr style=\"text-align: right;\">\n",
       "      <th></th>\n",
       "      <th>paragraph-text</th>\n",
       "      <th>source</th>\n",
       "      <th>paragraph-number</th>\n",
       "    </tr>\n",
       "  </thead>\n",
       "  <tbody>\n",
       "    <tr>\n",
       "      <th>0</th>\n",
       "      <td>Content analysis is the study of documents and...</td>\n",
       "      <td>https://en.wikipedia.org/wiki/Content_analysis</td>\n",
       "      <td>0</td>\n",
       "    </tr>\n",
       "    <tr>\n",
       "      <th>1</th>\n",
       "      <td>Practices and philosophies of content analysis...</td>\n",
       "      <td>https://en.wikipedia.org/wiki/Content_analysis</td>\n",
       "      <td>1</td>\n",
       "    </tr>\n",
       "    <tr>\n",
       "      <th>2</th>\n",
       "      <td>Computers are increasingly used in content ana...</td>\n",
       "      <td>https://en.wikipedia.org/wiki/Content_analysis</td>\n",
       "      <td>2</td>\n",
       "    </tr>\n",
       "    <tr>\n",
       "      <th>3</th>\n",
       "      <td>Content analysis is best understood as a broad...</td>\n",
       "      <td>https://en.wikipedia.org/wiki/Content_analysis</td>\n",
       "      <td>3</td>\n",
       "    </tr>\n",
       "    <tr>\n",
       "      <th>4</th>\n",
       "      <td>The simplest and most objective form of conten...</td>\n",
       "      <td>https://en.wikipedia.org/wiki/Content_analysis</td>\n",
       "      <td>4</td>\n",
       "    </tr>\n",
       "    <tr>\n",
       "      <th>5</th>\n",
       "      <td>A further step in analysis is the distinction ...</td>\n",
       "      <td>https://en.wikipedia.org/wiki/Content_analysis</td>\n",
       "      <td>5</td>\n",
       "    </tr>\n",
       "    <tr>\n",
       "      <th>6</th>\n",
       "      <td>Quantitative content analysis highlights frequ...</td>\n",
       "      <td>https://en.wikipedia.org/wiki/Content_analysis</td>\n",
       "      <td>6</td>\n",
       "    </tr>\n",
       "    <tr>\n",
       "      <th>7</th>\n",
       "      <td>Siegfried Kracauer provides a critique of quan...</td>\n",
       "      <td>https://en.wikipedia.org/wiki/Content_analysis</td>\n",
       "      <td>7</td>\n",
       "    </tr>\n",
       "    <tr>\n",
       "      <th>8</th>\n",
       "      <td>The data collection instrument used in content...</td>\n",
       "      <td>https://en.wikipedia.org/wiki/Content_analysis</td>\n",
       "      <td>8</td>\n",
       "    </tr>\n",
       "    <tr>\n",
       "      <th>9</th>\n",
       "      <td>According to current standards of good scienti...</td>\n",
       "      <td>https://en.wikipedia.org/wiki/Content_analysis</td>\n",
       "      <td>9</td>\n",
       "    </tr>\n",
       "    <tr>\n",
       "      <th>10</th>\n",
       "      <td>Furthermore, the Database of Variables for Con...</td>\n",
       "      <td>https://en.wikipedia.org/wiki/Content_analysis</td>\n",
       "      <td>10</td>\n",
       "    </tr>\n",
       "    <tr>\n",
       "      <th>11</th>\n",
       "      <td>With the rise of common computing facilities l...</td>\n",
       "      <td>https://en.wikipedia.org/wiki/Content_analysis</td>\n",
       "      <td>11</td>\n",
       "    </tr>\n",
       "    <tr>\n",
       "      <th>12</th>\n",
       "      <td>By having contents of communication available ...</td>\n",
       "      <td>https://en.wikipedia.org/wiki/Content_analysis</td>\n",
       "      <td>12</td>\n",
       "    </tr>\n",
       "    <tr>\n",
       "      <th>13</th>\n",
       "      <td>Computer-assisted analysis can help with large...</td>\n",
       "      <td>https://en.wikipedia.org/wiki/Content_analysis</td>\n",
       "      <td>13</td>\n",
       "    </tr>\n",
       "    <tr>\n",
       "      <th>14</th>\n",
       "      <td>Robert Weber notes: \"To make valid inferences ...</td>\n",
       "      <td>https://en.wikipedia.org/wiki/Content_analysis</td>\n",
       "      <td>14</td>\n",
       "    </tr>\n",
       "    <tr>\n",
       "      <th>15</th>\n",
       "      <td>According to today's reporting standards, quan...</td>\n",
       "      <td>https://en.wikipedia.org/wiki/Content_analysis</td>\n",
       "      <td>15</td>\n",
       "    </tr>\n",
       "    <tr>\n",
       "      <th>16</th>\n",
       "      <td>There are five types of texts in content analy...</td>\n",
       "      <td>https://en.wikipedia.org/wiki/Content_analysis</td>\n",
       "      <td>16</td>\n",
       "    </tr>\n",
       "    <tr>\n",
       "      <th>17</th>\n",
       "      <td>Content analysis is research using the categor...</td>\n",
       "      <td>https://en.wikipedia.org/wiki/Content_analysis</td>\n",
       "      <td>17</td>\n",
       "    </tr>\n",
       "    <tr>\n",
       "      <th>18</th>\n",
       "      <td>Over the years, content analysis has been appl...</td>\n",
       "      <td>https://en.wikipedia.org/wiki/Content_analysis</td>\n",
       "      <td>18</td>\n",
       "    </tr>\n",
       "    <tr>\n",
       "      <th>19</th>\n",
       "      <td>In recent times, particularly with the advent ...</td>\n",
       "      <td>https://en.wikipedia.org/wiki/Content_analysis</td>\n",
       "      <td>19</td>\n",
       "    </tr>\n",
       "    <tr>\n",
       "      <th>20</th>\n",
       "      <td>Quantitative content analysis has enjoyed a re...</td>\n",
       "      <td>https://en.wikipedia.org/wiki/Content_analysis</td>\n",
       "      <td>20</td>\n",
       "    </tr>\n",
       "    <tr>\n",
       "      <th>21</th>\n",
       "      <td>Content analysis can also be described as stud...</td>\n",
       "      <td>https://en.wikipedia.org/wiki/Content_analysis</td>\n",
       "      <td>21</td>\n",
       "    </tr>\n",
       "    <tr>\n",
       "      <th>22</th>\n",
       "      <td>Manifest content is readily understandable at ...</td>\n",
       "      <td>https://en.wikipedia.org/wiki/Content_analysis</td>\n",
       "      <td>22</td>\n",
       "    </tr>\n",
       "    <tr>\n",
       "      <th>23</th>\n",
       "      <td>Holsti groups fifteen uses of content analysis...</td>\n",
       "      <td>https://en.wikipedia.org/wiki/Content_analysis</td>\n",
       "      <td>23</td>\n",
       "    </tr>\n",
       "    <tr>\n",
       "      <th>24</th>\n",
       "      <td>He also places these uses into the context of ...</td>\n",
       "      <td>https://en.wikipedia.org/wiki/Content_analysis</td>\n",
       "      <td>24</td>\n",
       "    </tr>\n",
       "    <tr>\n",
       "      <th>25</th>\n",
       "      <td>The following table shows fifteen uses of cont...</td>\n",
       "      <td>https://en.wikipedia.org/wiki/Content_analysis</td>\n",
       "      <td>25</td>\n",
       "    </tr>\n",
       "    <tr>\n",
       "      <th>26</th>\n",
       "      <td>As a counterpoint, there are limits to the sco...</td>\n",
       "      <td>https://en.wikipedia.org/wiki/Content_analysis</td>\n",
       "      <td>26</td>\n",
       "    </tr>\n",
       "    <tr>\n",
       "      <th>27</th>\n",
       "      <td>The process of the initial coding scheme or ap...</td>\n",
       "      <td>https://en.wikipedia.org/wiki/Content_analysis</td>\n",
       "      <td>27</td>\n",
       "    </tr>\n",
       "    <tr>\n",
       "      <th>28</th>\n",
       "      <td>With either approach above, immersing oneself ...</td>\n",
       "      <td>https://en.wikipedia.org/wiki/Content_analysis</td>\n",
       "      <td>28</td>\n",
       "    </tr>\n",
       "  </tbody>\n",
       "</table>\n",
       "</div>"
      ],
      "text/plain": [
       "                                       paragraph-text  \\\n",
       "0   Content analysis is the study of documents and...   \n",
       "1   Practices and philosophies of content analysis...   \n",
       "2   Computers are increasingly used in content ana...   \n",
       "3   Content analysis is best understood as a broad...   \n",
       "4   The simplest and most objective form of conten...   \n",
       "5   A further step in analysis is the distinction ...   \n",
       "6   Quantitative content analysis highlights frequ...   \n",
       "7   Siegfried Kracauer provides a critique of quan...   \n",
       "8   The data collection instrument used in content...   \n",
       "9   According to current standards of good scienti...   \n",
       "10  Furthermore, the Database of Variables for Con...   \n",
       "11  With the rise of common computing facilities l...   \n",
       "12  By having contents of communication available ...   \n",
       "13  Computer-assisted analysis can help with large...   \n",
       "14  Robert Weber notes: \"To make valid inferences ...   \n",
       "15  According to today's reporting standards, quan...   \n",
       "16  There are five types of texts in content analy...   \n",
       "17  Content analysis is research using the categor...   \n",
       "18  Over the years, content analysis has been appl...   \n",
       "19  In recent times, particularly with the advent ...   \n",
       "20  Quantitative content analysis has enjoyed a re...   \n",
       "21  Content analysis can also be described as stud...   \n",
       "22  Manifest content is readily understandable at ...   \n",
       "23  Holsti groups fifteen uses of content analysis...   \n",
       "24  He also places these uses into the context of ...   \n",
       "25  The following table shows fifteen uses of cont...   \n",
       "26  As a counterpoint, there are limits to the sco...   \n",
       "27  The process of the initial coding scheme or ap...   \n",
       "28  With either approach above, immersing oneself ...   \n",
       "\n",
       "                                            source  paragraph-number  \n",
       "0   https://en.wikipedia.org/wiki/Content_analysis                 0  \n",
       "1   https://en.wikipedia.org/wiki/Content_analysis                 1  \n",
       "2   https://en.wikipedia.org/wiki/Content_analysis                 2  \n",
       "3   https://en.wikipedia.org/wiki/Content_analysis                 3  \n",
       "4   https://en.wikipedia.org/wiki/Content_analysis                 4  \n",
       "5   https://en.wikipedia.org/wiki/Content_analysis                 5  \n",
       "6   https://en.wikipedia.org/wiki/Content_analysis                 6  \n",
       "7   https://en.wikipedia.org/wiki/Content_analysis                 7  \n",
       "8   https://en.wikipedia.org/wiki/Content_analysis                 8  \n",
       "9   https://en.wikipedia.org/wiki/Content_analysis                 9  \n",
       "10  https://en.wikipedia.org/wiki/Content_analysis                10  \n",
       "11  https://en.wikipedia.org/wiki/Content_analysis                11  \n",
       "12  https://en.wikipedia.org/wiki/Content_analysis                12  \n",
       "13  https://en.wikipedia.org/wiki/Content_analysis                13  \n",
       "14  https://en.wikipedia.org/wiki/Content_analysis                14  \n",
       "15  https://en.wikipedia.org/wiki/Content_analysis                15  \n",
       "16  https://en.wikipedia.org/wiki/Content_analysis                16  \n",
       "17  https://en.wikipedia.org/wiki/Content_analysis                17  \n",
       "18  https://en.wikipedia.org/wiki/Content_analysis                18  \n",
       "19  https://en.wikipedia.org/wiki/Content_analysis                19  \n",
       "20  https://en.wikipedia.org/wiki/Content_analysis                20  \n",
       "21  https://en.wikipedia.org/wiki/Content_analysis                21  \n",
       "22  https://en.wikipedia.org/wiki/Content_analysis                22  \n",
       "23  https://en.wikipedia.org/wiki/Content_analysis                23  \n",
       "24  https://en.wikipedia.org/wiki/Content_analysis                24  \n",
       "25  https://en.wikipedia.org/wiki/Content_analysis                25  \n",
       "26  https://en.wikipedia.org/wiki/Content_analysis                26  \n",
       "27  https://en.wikipedia.org/wiki/Content_analysis                27  \n",
       "28  https://en.wikipedia.org/wiki/Content_analysis                28  "
      ]
     },
     "execution_count": 43,
     "metadata": {},
     "output_type": "execute_result"
    }
   ],
   "source": [
    "contentParagraphsDF['source'] = [wikipedia_content_analysis] * len(contentParagraphsDF['paragraph-text'])\n",
    "contentParagraphsDF['paragraph-number'] = range(len(contentParagraphsDF['paragraph-text']))\n",
    "\n",
    "contentParagraphsDF"
   ]
  },
  {
   "cell_type": "markdown",
   "metadata": {},
   "source": [
    "Then we can add two more columns to our `Dataframe` and define a function to\n",
    "parse\n",
    "each linked page and add its text to our DataFrame."
   ]
  },
  {
   "cell_type": "code",
   "execution_count": 44,
   "metadata": {},
   "outputs": [],
   "source": [
    "contentParagraphsDF['source-paragraph-number'] = [None] * len(contentParagraphsDF['paragraph-text'])\n",
    "contentParagraphsDF['source-paragraph-text'] = [None] * len(contentParagraphsDF['paragraph-text'])\n",
    "\n",
    "def getTextFromWikiPage(targetURL, sourceParNum, sourceText):\n",
    "    #Make a dict to store data before adding it to the DataFrame\n",
    "    parsDict = {'source' : [], 'paragraph-number' : [], 'paragraph-text' : [], 'source-paragraph-number' : [],  'source-paragraph-text' : []}\n",
    "    #Now we get the page\n",
    "    r = requests.get(targetURL)\n",
    "    soup = bs4.BeautifulSoup(r.text, 'html.parser')\n",
    "    #enumerating gives use the paragraph number\n",
    "    for parNum, pTag in enumerate(soup.body.findAll('p')):\n",
    "        #same regex as before\n",
    "        parsDict['paragraph-text'].append(re.sub(r'\\[\\d+\\]', '', pTag.text))\n",
    "        parsDict['paragraph-number'].append(parNum)\n",
    "        parsDict['source'].append(targetURL)\n",
    "        parsDict['source-paragraph-number'].append(sourceParNum)\n",
    "        parsDict['source-paragraph-text'].append(sourceText)\n",
    "    return pandas.DataFrame(parsDict)"
   ]
  },
  {
   "cell_type": "markdown",
   "metadata": {},
   "source": [
    "And run it on our list of link tags"
   ]
  },
  {
   "cell_type": "code",
   "execution_count": null,
   "metadata": {},
   "outputs": [],
   "source": [
    "for urlTuple in otherPAgeURLS[:3]:\n",
    "    #ignore_index means the indices will not be reset after each append\n",
    "    contentParagraphsDF = contentParagraphsDF.append(getTextFromWikiPage(*urlTuple),ignore_index=True)\n",
    "contentParagraphsDF"
   ]
  },
  {
   "cell_type": "markdown",
   "metadata": {},
   "source": [
    "\n",
    "# <font color=\"red\">Exercise 2</font>\n",
    "<font color=\"red\">Construct cells immediately below this that spider webcontent from another site with content relating to your anticipated final project. Specifically, identify urls on a core page, then follow and extract content from them into a pandas `Dataframe`. In addition, demonstrate a *recursive* spider, which follows more than one level of links (i.e., follows links from a site, then follows links on followed sites to new sites, etc.), making sure to define a reasonable endpoint so that you do not wander the web forever :-).</font>\n",
    "\n"
   ]
  },
  {
   "cell_type": "code",
   "execution_count": 66,
   "metadata": {},
   "outputs": [],
   "source": [
    "def is_goodreads_book_link(url):\n",
    "    \"\"\"\n",
    "    Checks if the URL is a valid Goodreads book link.\n",
    "    \"\"\"\n",
    "    parsed_url = urllib.parse.urlparse(url)\n",
    "    return parsed_url.netloc == 'www.goodreads.com' and '/book/show/' in parsed_url.path\n",
    "\n",
    "def scrape_book_info(url):\n",
    "    \"\"\"\n",
    "    Scrapes the book information from a Goodreads book page.\n",
    "    \"\"\"\n",
    "    response = requests.get(url)\n",
    "    soup = bs4.BeautifulSoup(response.content, 'html.parser')\n",
    "    \n",
    "    # use same code in exercise 1 to extract book genre\n",
    "    # we only return when it is a music book\n",
    "    try:\n",
    "        genres_div = soup.find('div', {'data-testid': 'genresList'})\n",
    "        genres = [genre.get_text(strip=True) for genre in genres_div.find_all('span', class_='Button__labelItem')]\n",
    "        for genre in genres:\n",
    "            if 'music' in genre.lower(): # any tag containing 'music' counts (e.g. 'classical music', \"music-history\")\n",
    "                return {\n",
    "                    'url': url,\n",
    "                    'title': soup.find('h1', {'data-testid': 'bookTitle'}).get_text(strip=True),\n",
    "                    # Add other book details as needed\n",
    "                }\n",
    "    except:\n",
    "        return None\n",
    "\n",
    "\n",
    "    return None\n"
   ]
  },
  {
   "cell_type": "code",
   "execution_count": 59,
   "metadata": {},
   "outputs": [
    {
     "data": {
      "text/plain": [
       "{'url': 'https://www.goodreads.com/book/show/24998.Mozart_in_the_Jungle',\n",
       " 'title': 'Mozart in the Jungle: Sex, Drugs, and Classical Music'}"
      ]
     },
     "execution_count": 59,
     "metadata": {},
     "output_type": "execute_result"
    }
   ],
   "source": [
    "a = scrape_book_info(mozart_book_url)\n",
    "a"
   ]
  },
  {
   "cell_type": "code",
   "execution_count": 53,
   "metadata": {},
   "outputs": [
    {
     "data": {
      "text/plain": [
       "NoneType"
      ]
     },
     "execution_count": 53,
     "metadata": {},
     "output_type": "execute_result"
    }
   ],
   "source": [
    "type(a)"
   ]
  },
  {
   "cell_type": "code",
   "execution_count": 70,
   "metadata": {},
   "outputs": [],
   "source": [
    "def crawl_goodreads(start_url, max_depth=5):\n",
    "    \"\"\"\n",
    "    Crawls Goodreads starting from a given book page URL.\n",
    "    \"\"\"\n",
    "    visited = set()\n",
    "    books_to_visit = [(start_url, 0)]\n",
    "    collected_books = []\n",
    "\n",
    "    while books_to_visit:\n",
    "        current_url, current_depth = books_to_visit.pop(0)\n",
    "        if current_url not in visited and current_depth <= max_depth:\n",
    "            visited.add(current_url)\n",
    "            response = requests.get(current_url)\n",
    "            soup = bs4.BeautifulSoup(response.content, 'html.parser')\n",
    "\n",
    "            book_info = scrape_book_info(current_url)\n",
    "            if book_info:\n",
    "                collected_books.append(book_info)\n",
    "\n",
    "            if current_depth < max_depth:\n",
    "                # <div class=\"BookCard\">\n",
    "                recommended_books = soup.find_all('div', class_='BookCard')\n",
    "                for link in recommended_books:\n",
    "                    href = link['href']\n",
    "                    full_url = urllib.parse.urljoin(current_url, href)\n",
    "                    if is_goodreads_book_link(full_url):\n",
    "                        books_to_visit.append((full_url, current_depth + 1))\n",
    "\n",
    "    return collected_books\n"
   ]
  },
  {
   "cell_type": "code",
   "execution_count": 75,
   "metadata": {},
   "outputs": [
    {
     "data": {
      "text/plain": [
       "['https://www.goodreads.com/challenges/11634?ref=rc_jan_24_ss',\n",
       " '/?ref=nav_hom',\n",
       " '/?ref=nav_hom',\n",
       " '/review/list?ref=nav_mybooks',\n",
       " '#?ref=nav_brws',\n",
       " '/recommendations?ref=nav_brws_recs',\n",
       " '/choiceawards?ref=nav_brws_gca',\n",
       " '/giveaway?ref=nav_brws_giveaways',\n",
       " '/new_releases?ref=nav_brws_newrels',\n",
       " '/list?ref=nav_brws_lists',\n",
       " '/book?ref=nav_brws_explore',\n",
       " '/news?ref=nav_brws_news',\n",
       " '#?ref=nav_comm',\n",
       " '/group?ref=nav_comm_groups',\n",
       " '/quotes?ref=nav_comm_quotes',\n",
       " '/ask_the_author?ref=nav_comm_askauthor',\n",
       " '/user/best_reviewers?ref=nav_comm_people',\n",
       " '/user/sign_in',\n",
       " '/user/sign_up',\n",
       " '#ReviewsSection',\n",
       " 'https://www.goodreads.com/author/show/14044.Blair_Tindall',\n",
       " '#CommunityReviews',\n",
       " 'https://www.goodreads.com/genres/music',\n",
       " 'https://www.goodreads.com/genres/non-fiction',\n",
       " 'https://www.goodreads.com/genres/memoir',\n",
       " 'https://www.goodreads.com/genres/biography',\n",
       " 'https://www.goodreads.com/genres/biography-memoir',\n",
       " 'https://www.goodreads.com/genres/autobiography',\n",
       " 'https://www.goodreads.com/genres/classical-music',\n",
       " 'https://www.goodreads.com/author/show/14044.Blair_Tindall',\n",
       " 'https://www.goodreads.com/author/show/14044.Blair_Tindall',\n",
       " 'https://www.goodreads.com/user/sign_in?return_url=',\n",
       " 'https://www.goodreads.com/user/show/5856299-amanda',\n",
       " 'https://www.goodreads.com/user/show/5856299-amanda',\n",
       " 'https://www.goodreads.com/review/show/187471664',\n",
       " 'https://www.goodreads.com/user/show/129974-jessica',\n",
       " 'https://www.goodreads.com/user/show/129974-jessica',\n",
       " 'https://www.goodreads.com/review/show/191585556',\n",
       " 'https://www.goodreads.com/user/show/528241-emily-wortman-wunder',\n",
       " 'https://www.goodreads.com/user/show/528241-emily-wortman-wunder',\n",
       " 'https://www.goodreads.com/review/show/14079517',\n",
       " 'https://www.goodreads.com/user/show/693801-juha',\n",
       " 'https://www.goodreads.com/user/show/693801-juha',\n",
       " 'https://www.goodreads.com/review/show/224754024',\n",
       " 'https://www.goodreads.com/review/list/693801?shelf=biography',\n",
       " 'https://www.goodreads.com/review/list/693801?shelf=music',\n",
       " 'https://www.goodreads.com/user/show/416888-heidi',\n",
       " 'https://www.goodreads.com/user/show/416888-heidi',\n",
       " 'https://www.goodreads.com/review/show/1979838065',\n",
       " 'https://www.goodreads.com/review/list/416888?shelf=2017-goal',\n",
       " 'https://www.goodreads.com/review/list/416888?shelf=memoir-biography',\n",
       " 'https://www.goodreads.com/user/show/1434186-kim',\n",
       " 'https://www.goodreads.com/user/show/1434186-kim',\n",
       " 'https://www.goodreads.com/review/show/111763008',\n",
       " 'https://www.goodreads.com/user/show/1711431-eric-w',\n",
       " 'https://www.goodreads.com/user/show/1711431-eric-w',\n",
       " 'https://www.goodreads.com/review/show/1490286085',\n",
       " 'https://www.goodreads.com/user/show/220136-tina',\n",
       " 'https://www.goodreads.com/user/show/220136-tina',\n",
       " 'https://www.goodreads.com/review/show/34806088',\n",
       " 'https://www.goodreads.com/user/show/5881435-niall519',\n",
       " 'https://www.goodreads.com/user/show/5881435-niall519',\n",
       " 'https://www.goodreads.com/review/show/189707995',\n",
       " 'https://www.goodreads.com/review/list/5881435?shelf=general-non-fiction',\n",
       " 'https://www.goodreads.com/user/show/4309132-carissa',\n",
       " 'https://www.goodreads.com/user/show/4309132-carissa',\n",
       " 'https://www.goodreads.com/review/show/122370278',\n",
       " 'https://www.goodreads.com/user/show/23888196-rama-rao',\n",
       " 'https://www.goodreads.com/user/show/23888196-rama-rao',\n",
       " 'https://www.goodreads.com/review/show/1551112017',\n",
       " 'https://www.goodreads.com/review/list/23888196?shelf=biography',\n",
       " 'https://www.goodreads.com/user/show/57582873-katie',\n",
       " 'https://www.goodreads.com/user/show/57582873-katie',\n",
       " 'https://www.goodreads.com/review/show/2013164045',\n",
       " 'https://www.goodreads.com/user/show/3688343-marcy-heller',\n",
       " 'https://www.goodreads.com/user/show/3688343-marcy-heller',\n",
       " 'https://www.goodreads.com/review/show/1239761853',\n",
       " 'https://www.goodreads.com/user/show/16183927-vladimir',\n",
       " 'https://www.goodreads.com/user/show/16183927-vladimir',\n",
       " 'https://www.goodreads.com/review/show/1520455873',\n",
       " 'https://www.goodreads.com/review/list/16183927?shelf=trash-can',\n",
       " 'https://www.goodreads.com/user/show/33866195-david-vanbiesbrouck',\n",
       " 'https://www.goodreads.com/user/show/33866195-david-vanbiesbrouck',\n",
       " 'https://www.goodreads.com/review/show/1023587949',\n",
       " 'https://www.goodreads.com/user/show/2608856-shoshana',\n",
       " 'https://www.goodreads.com/user/show/2608856-shoshana',\n",
       " 'https://www.goodreads.com/review/show/733318731',\n",
       " 'https://www.goodreads.com/review/list/2608856?shelf=music',\n",
       " 'https://www.goodreads.com/user/show/787565-margot',\n",
       " 'https://www.goodreads.com/user/show/787565-margot',\n",
       " 'https://www.goodreads.com/review/show/13172391',\n",
       " 'https://www.goodreads.com/review/list/787565?shelf=classical',\n",
       " 'https://www.goodreads.com/review/list/787565?shelf=non-fiction',\n",
       " 'https://www.goodreads.com/user/show/391320-brianna-wing',\n",
       " 'https://www.goodreads.com/user/show/391320-brianna-wing',\n",
       " 'https://www.goodreads.com/review/show/26920469',\n",
       " 'https://www.goodreads.com/user/show/28826373-janet',\n",
       " 'https://www.goodreads.com/user/show/28826373-janet',\n",
       " 'https://www.goodreads.com/review/show/3440922074',\n",
       " 'https://www.goodreads.com/review/list/28826373?shelf=memoir',\n",
       " 'https://www.goodreads.com/user/show/68030-jenny-reading-envy',\n",
       " 'https://www.goodreads.com/user/show/68030-jenny-reading-envy',\n",
       " 'https://www.goodreads.com/review/show/856986',\n",
       " 'https://goodreads.com/book/show/33313.Kitchen_Confidential_Adventures_in_the_Culinary_Underbelly__updated_edition_',\n",
       " 'https://www.goodreads.com/review/list/68030?shelf=music',\n",
       " 'https://www.goodreads.com/review/list/68030?shelf=read2006',\n",
       " 'https://www.goodreads.com/user/show/66420697-melanie',\n",
       " 'https://www.goodreads.com/user/show/66420697-melanie',\n",
       " 'https://www.goodreads.com/review/show/2024764667',\n",
       " 'https://www.goodreads.com/user/show/18475871-jane',\n",
       " 'https://www.goodreads.com/user/show/18475871-jane',\n",
       " 'https://www.goodreads.com/review/show/564461916',\n",
       " 'https://www.goodreads.com/user/show/51059582-lisset',\n",
       " 'https://www.goodreads.com/user/show/51059582-lisset',\n",
       " 'https://www.goodreads.com/review/show/1957402684',\n",
       " 'https://www.goodreads.com/user/show/3031302-kingshearte',\n",
       " 'https://www.goodreads.com/user/show/3031302-kingshearte',\n",
       " 'https://www.goodreads.com/review/show/207923615',\n",
       " 'https://www.goodreads.com/review/list/3031302?shelf=2011',\n",
       " 'https://www.goodreads.com/review/list/3031302?shelf=non-fiction',\n",
       " 'https://www.goodreads.com/user/show/58623989-martin-grunseit',\n",
       " 'https://www.goodreads.com/user/show/58623989-martin-grunseit',\n",
       " 'https://www.goodreads.com/review/show/2304327765',\n",
       " 'https://www.goodreads.com/user/show/199895-vicky',\n",
       " 'https://www.goodreads.com/user/show/199895-vicky',\n",
       " 'https://www.goodreads.com/review/show/5820786257',\n",
       " 'https://www.goodreads.com/review/list/199895?shelf=audiobooks',\n",
       " 'https://www.goodreads.com/review/list/199895?shelf=favorites',\n",
       " 'https://www.goodreads.com/review/list/199895?shelf=memoir',\n",
       " 'https://www.goodreads.com/user/show/12746135-j-j',\n",
       " 'https://www.goodreads.com/user/show/12746135-j-j',\n",
       " 'https://www.goodreads.com/review/show/2184290391',\n",
       " 'https://www.goodreads.com/user/show/1040456-chuck',\n",
       " 'https://www.goodreads.com/user/show/1040456-chuck',\n",
       " 'https://www.goodreads.com/review/show/19127159',\n",
       " 'https://www.goodreads.com/user/show/1485891-kate-schindler',\n",
       " 'https://www.goodreads.com/user/show/1485891-kate-schindler',\n",
       " 'https://www.goodreads.com/review/show/44078106',\n",
       " 'https://www.goodreads.com/review/list/1485891?shelf=nonfiction',\n",
       " 'https://www.goodreads.com/user/show/20473691-nancy',\n",
       " 'https://www.goodreads.com/user/show/20473691-nancy',\n",
       " 'https://www.goodreads.com/review/show/1310832406',\n",
       " '/book/show/24998/reviews?reviewFilters={\"workId\":\"kca://work/amzn1.gr.work.v1.LNfT_W0qpTRPoWbxvx1yWA\",\"after\":\"MjAyLDE0MzQ1OTAyNjcwMDA\"}',\n",
       " 'https://www.goodreads.com/work/quotes/25759',\n",
       " 'https://www.goodreads.com/topic/list_book/24998',\n",
       " 'https://www.goodreads.com/book/24998/questions',\n",
       " 'https://help.goodreads.com/s/article/How-do-I-use-the-new-book-page-on-the-Goodreads-website',\n",
       " '/about/us',\n",
       " '/jobs',\n",
       " '/about/terms',\n",
       " '/about/privacy',\n",
       " 'https://help.goodreads.com/s/article/Goodreads-Interest-Based-Ads-Notice',\n",
       " '/adprefs',\n",
       " '/help?action_type=help_web_footer',\n",
       " '/author/program',\n",
       " '/advertisers',\n",
       " '/news?content_type=author_blogs',\n",
       " '/api',\n",
       " 'https://www.facebook.com/Goodreads/',\n",
       " 'https://twitter.com/goodreads',\n",
       " 'https://www.instagram.com/goodreads/',\n",
       " 'https://www.linkedin.com/company/goodreads-com/',\n",
       " 'https://itunes.apple.com/app/apple-store/id355833469?pt=325668&ct=mw_footer&mt=8',\n",
       " 'https://play.google.com/store/apps/details?id=com.goodreads&utm_source=mw_footer&pcampaignid=MKT-Other-global-all-co-prtnr-py-PartBadge-Mar2515-1']"
      ]
     },
     "execution_count": 75,
     "metadata": {},
     "output_type": "execute_result"
    }
   ],
   "source": [
    "response = requests.get(mozart_book_url)\n",
    "soup = bs4.BeautifulSoup(response.content, 'html.parser')\n",
    "#<div class=\"OverflowButton__desktop\"\n",
    "\n",
    "urls = []\n",
    "for link in soup.find_all('a', href=True):\n",
    "    href = link['href']\n",
    "    urls.append(href)\n",
    "\n",
    "urls\n",
    "\n",
    "# recommended_books = soup.find_all('div', class_=\"OverfllowButton__desktop\")\n",
    "# recommended_books"
   ]
  },
  {
   "cell_type": "code",
   "execution_count": 71,
   "metadata": {},
   "outputs": [
    {
     "ename": "KeyError",
     "evalue": "'href'",
     "output_type": "error",
     "traceback": [
      "\u001b[1;31m---------------------------------------------------------------------------\u001b[0m",
      "\u001b[1;31mKeyError\u001b[0m                                  Traceback (most recent call last)",
      "Cell \u001b[1;32mIn[71], line 1\u001b[0m\n\u001b[1;32m----> 1\u001b[0m books \u001b[38;5;241m=\u001b[39m \u001b[43mcrawl_goodreads\u001b[49m\u001b[43m(\u001b[49m\u001b[43mmozart_book_url\u001b[49m\u001b[43m,\u001b[49m\u001b[43m \u001b[49m\u001b[43mmax_depth\u001b[49m\u001b[38;5;241;43m=\u001b[39;49m\u001b[38;5;241;43m2\u001b[39;49m\u001b[43m)\u001b[49m\n",
      "Cell \u001b[1;32mIn[70], line 24\u001b[0m, in \u001b[0;36mcrawl_goodreads\u001b[1;34m(start_url, max_depth)\u001b[0m\n\u001b[0;32m     22\u001b[0m recommended_books \u001b[38;5;241m=\u001b[39m soup\u001b[38;5;241m.\u001b[39mfind_all(\u001b[38;5;124m'\u001b[39m\u001b[38;5;124mdiv\u001b[39m\u001b[38;5;124m'\u001b[39m, class_\u001b[38;5;241m=\u001b[39m\u001b[38;5;124m'\u001b[39m\u001b[38;5;124mBookCard\u001b[39m\u001b[38;5;124m'\u001b[39m)\n\u001b[0;32m     23\u001b[0m \u001b[38;5;28;01mfor\u001b[39;00m link \u001b[38;5;129;01min\u001b[39;00m recommended_books:\n\u001b[1;32m---> 24\u001b[0m     href \u001b[38;5;241m=\u001b[39m \u001b[43mlink\u001b[49m\u001b[43m[\u001b[49m\u001b[38;5;124;43m'\u001b[39;49m\u001b[38;5;124;43mhref\u001b[39;49m\u001b[38;5;124;43m'\u001b[39;49m\u001b[43m]\u001b[49m\n\u001b[0;32m     25\u001b[0m     full_url \u001b[38;5;241m=\u001b[39m urllib\u001b[38;5;241m.\u001b[39mparse\u001b[38;5;241m.\u001b[39murljoin(current_url, href)\n\u001b[0;32m     26\u001b[0m     \u001b[38;5;28;01mif\u001b[39;00m is_goodreads_book_link(full_url):\n",
      "File \u001b[1;32mc:\\Users\\Admin\\anaconda3\\envs\\Lib\\site-packages\\bs4\\element.py:1573\u001b[0m, in \u001b[0;36mTag.__getitem__\u001b[1;34m(self, key)\u001b[0m\n\u001b[0;32m   1570\u001b[0m \u001b[38;5;28;01mdef\u001b[39;00m \u001b[38;5;21m__getitem__\u001b[39m(\u001b[38;5;28mself\u001b[39m, key):\n\u001b[0;32m   1571\u001b[0m \u001b[38;5;250m    \u001b[39m\u001b[38;5;124;03m\"\"\"tag[key] returns the value of the 'key' attribute for the Tag,\u001b[39;00m\n\u001b[0;32m   1572\u001b[0m \u001b[38;5;124;03m    and throws an exception if it's not there.\"\"\"\u001b[39;00m\n\u001b[1;32m-> 1573\u001b[0m     \u001b[38;5;28;01mreturn\u001b[39;00m \u001b[38;5;28;43mself\u001b[39;49m\u001b[38;5;241;43m.\u001b[39;49m\u001b[43mattrs\u001b[49m\u001b[43m[\u001b[49m\u001b[43mkey\u001b[49m\u001b[43m]\u001b[49m\n",
      "\u001b[1;31mKeyError\u001b[0m: 'href'"
     ]
    }
   ],
   "source": [
    "books = crawl_goodreads(mozart_book_url, max_depth=2)"
   ]
  },
  {
   "cell_type": "code",
   "execution_count": 78,
   "metadata": {},
   "outputs": [],
   "source": [
    "# Every book in Goodreads has a unique ID, but multiple URLs can point to the same book.\n",
    "# record id so recursive spidering doesn't visit the same book\n",
    "def extract_book_id(url):\n",
    "    match = re.search(r'/book/show/(\\d+)', url)\n",
    "    return match.group(1) if match else None"
   ]
  },
  {
   "cell_type": "code",
   "execution_count": 79,
   "metadata": {},
   "outputs": [],
   "source": [
    "def is_goodreads_book_link(url):\n",
    "    return 'https://www.goodreads.com/book/show/' in url\n",
    "\n",
    "def is_goodreads_author_link(url):\n",
    "    return 'https://www.goodreads.com/author/show/' in url"
   ]
  },
  {
   "cell_type": "code",
   "execution_count": 106,
   "metadata": {},
   "outputs": [],
   "source": [
    "def get_genres(soup):\n",
    "    '''\n",
    "    Same but shortened from exercise 1\n",
    "    return a list of genres, so we can check if it is a music book\n",
    "    '''\n",
    "    genres_div = soup.find('div', {'data-testid': 'genresList'})\n",
    "    if genres_div:\n",
    "        return [genre.get_text(strip=True).lower() for genre in genres_div.find_all('span', class_='Button__labelItem')]\n",
    "    return []\n",
    "\n",
    "def scrape_book_info(url):\n",
    "    response = requests.get(url)\n",
    "    soup = bs4.BeautifulSoup(response.content, 'html.parser')\n",
    "    genres = get_genres(soup)\n",
    "\n",
    "    if 'music' in genres:\n",
    "        title = soup.find('h1', {'data-testid': 'bookTitle'}).get_text(strip=True)\n",
    "        author_link = soup.find('a', href=lambda href: href and is_goodreads_author_link(href))\n",
    "        return {'title': title, 'url': url, 'author_link': author_link['href'] if author_link else None}\n",
    "    return None\n",
    "\n",
    "def crawl_author_books(author_url, visited_books):\n",
    "    response = requests.get(author_url)\n",
    "    soup = bs4.BeautifulSoup(response.content, 'html.parser')\n",
    "    book_links = soup.find_all('a', href=lambda href: href and is_goodreads_book_link(href))\n",
    "\n",
    "    print(f'Found {len(book_links)} books for {author_url}')\n",
    "\n",
    "    author_books = []\n",
    "    for link in book_links:\n",
    "        book_url = urllib.parse.urljoin(author_url, link['href'])\n",
    "        book_id = extract_book_id(book_url)\n",
    "\n",
    "        if book_id and (book_id not in visited_books):\n",
    "            visited_books.add(book_id)\n",
    "            book_info = scrape_book_info(book_url)\n",
    "            if book_info:\n",
    "                author_books.append(book_info)\n",
    "    return author_books\n"
   ]
  },
  {
   "cell_type": "code",
   "execution_count": 103,
   "metadata": {},
   "outputs": [],
   "source": [
    "def crawl_goodreads(start_url):\n",
    "    visited_books = set()\n",
    "    # read from local html file, start_url is the file path\n",
    "    content = open(start_url, 'r').read()\n",
    "    soup = bs4.BeautifulSoup(content, 'html.parser')  \n",
    "\n",
    "    aTags = soup.find_all('a', href=lambda href: href and is_goodreads_book_link(href))\n",
    "    queue = []\n",
    "    for tag in aTags:\n",
    "        link = urllib.parse.urljoin(url, tag['href'])\n",
    "        queue.append(link)\n",
    "        # let's only crawl 10 books\n",
    "        if len(queue) > 10:\n",
    "            break\n",
    "\n",
    "    collected_books = []\n",
    "\n",
    "    while queue:\n",
    "        current_url = queue.pop(0)\n",
    "        book_id = extract_book_id(current_url)\n",
    "        if book_id and (book_id not in visited_books):\n",
    "            visited_books.add(book_id)\n",
    "            book_info = scrape_book_info(current_url)\n",
    "            if book_info:\n",
    "                collected_books.append(book_info)\n",
    "                if book_info['author_link']:\n",
    "                    author_books = crawl_author_books(book_info['author_link'], visited_books)\n",
    "                    collected_books.extend(author_books)\n",
    "                    queue.extend(book['url'] for book in author_books if book['url'] not in visited_books)\n",
    "\n",
    "    return collected_books"
   ]
  },
  {
   "cell_type": "code",
   "execution_count": 83,
   "metadata": {},
   "outputs": [],
   "source": [
    "non_fiction_music_url = 'https://www.goodreads.com/list/show/544.Best_Non_Fiction_About_Music?page=1'\n",
    "url ='https://www.goodreads.com/search?q=music&qid='"
   ]
  },
  {
   "cell_type": "code",
   "execution_count": null,
   "metadata": {},
   "outputs": [],
   "source": [
    "downloaded_html = 'www.goodreads.com_list_show_544.Best_Non_Fiction_About_Music_page=1.html'\n",
    "content = open(downloaded_html, 'r').read()\n",
    "soup = bs4.BeautifulSoup(content, 'html.parser')  \n",
    "aTags = soup.find_all('a', href=lambda href: href and is_goodreads_book_link(href))\n",
    "\n",
    "urls = []\n",
    "for tag in aTags:\n",
    "    urls.append(urllib.parse.urljoin(url, tag['href']))\n",
    "\n",
    "urls"
   ]
  },
  {
   "cell_type": "code",
   "execution_count": 92,
   "metadata": {},
   "outputs": [
    {
     "data": {
      "text/plain": [
       "['https://www.goodreads.com/book/show/6587454.Big_Man_Real_Life___Tall_Tales',\n",
       " 'https://www.goodreads.com/book/show/1388694.High_Fidelity',\n",
       " 'https://www.goodreads.com/book/show/25378.The_Dirt_Confessions_of_the_World_s_Most_Notorious_Rock_Band',\n",
       " 'https://www.goodreads.com/book/show/13623901.Kicking_and_Dreaming_A_Story_of_Heart__Soul__and_Rock_and_Roll',\n",
       " 'https://www.goodreads.com/book/show/86702.C_mon__Get_Happy_Fear_and_Loathing_on_the_Partridge_Family_Bus',\n",
       " 'https://www.goodreads.com/book/show/29072594.Born_to_Run',\n",
       " 'https://www.goodreads.com/book/show/44303730.Me',\n",
       " 'https://www.goodreads.com/book/show/279845.Conversations_with_Tom_Petty',\n",
       " 'https://www.goodreads.com/book/show/12953257.A_Natural_Woman_A_Memoir',\n",
       " 'https://www.goodreads.com/book/show/28686968.Not_Dead_Yet_The_Memoir',\n",
       " 'https://www.goodreads.com/book/show/44418422.Wham__George___Me',\n",
       " 'https://www.goodreads.com/book/show/25361912.Over_the_Top_and_Back_The_Autobiography',\n",
       " 'https://www.goodreads.com/book/show/20578777.Joni_Mitchell_In_Her_Own_Words',\n",
       " 'https://www.goodreads.com/book/show/1207904.Clapton_The_Autobiography',\n",
       " 'https://www.goodreads.com/book/show/2881612.Wonderful_Tonight_George_Harrison__Eric_Clapton__and_Me',\n",
       " 'https://www.goodreads.com/book/show/1062902.Moonwalk',\n",
       " 'https://www.goodreads.com/book/show/6045961.Freddie_Mercury_His_Life_in_His_Own_Words',\n",
       " 'https://www.goodreads.com/book/show/13552159.To_Selena__With_Love',\n",
       " 'https://www.goodreads.com/book/show/18081400.Play_On_Now__Then__And_Fleetwood_Mac']"
      ]
     },
     "execution_count": 92,
     "metadata": {},
     "output_type": "execute_result"
    }
   ],
   "source": [
    "#extract all hrefs from links\n",
    "urls = []\n",
    "for link in links:\n",
    "    href = link['href']\n",
    "    urls.append(href)\n",
    "urls"
   ]
  },
  {
   "cell_type": "code",
   "execution_count": 108,
   "metadata": {},
   "outputs": [
    {
     "name": "stdout",
     "output_type": "stream",
     "text": [
      "Found 0 books for https://www.goodreads.com/author/show/9097.Legs_McNeil\n",
      "Found 6 books for https://www.goodreads.com/author/show/196092.Patti_Smith\n",
      "Found 0 books for https://www.goodreads.com/author/show/8898.Bob_Dylan\n",
      "Found 10 books for https://www.goodreads.com/author/show/45539.Keith_Richards\n",
      "Found 0 books for https://www.goodreads.com/author/show/16495.Michael_Azerrad\n",
      "Found 0 books for https://www.goodreads.com/author/show/25839.Rob_Sheffield\n"
     ]
    },
    {
     "data": {
      "text/plain": [
       "[{'title': 'Please Kill Me: The Uncensored Oral History of Punk',\n",
       "  'url': 'https://www.goodreads.com/book/show/14595.Please_Kill_Me',\n",
       "  'author_link': 'https://www.goodreads.com/author/show/9097.Legs_McNeil'},\n",
       " {'title': 'Just Kids',\n",
       "  'url': 'https://www.goodreads.com/book/show/341879.Just_Kids',\n",
       "  'author_link': 'https://www.goodreads.com/author/show/196092.Patti_Smith'},\n",
       " {'title': 'Chronicles, Volume One',\n",
       "  'url': 'https://www.goodreads.com/book/show/14318.Chronicles_Volume_One',\n",
       "  'author_link': 'https://www.goodreads.com/author/show/8898.Bob_Dylan'},\n",
       " {'title': 'Life',\n",
       "  'url': 'https://www.goodreads.com/book/show/9439303-life',\n",
       "  'author_link': 'https://www.goodreads.com/author/show/45539.Keith_Richards'},\n",
       " {'title': 'Our Band Could Be Your Life: Scenes from the American Indie Underground 1981-1991',\n",
       "  'url': 'https://www.goodreads.com/book/show/29393.Our_Band_Could_Be_Your_Life',\n",
       "  'author_link': 'https://www.goodreads.com/author/show/16495.Michael_Azerrad'},\n",
       " {'title': 'Love Is a Mix Tape: Life and Loss, One Song at a Time',\n",
       "  'url': 'https://www.goodreads.com/book/show/46190.Love_Is_a_Mix_Tape',\n",
       "  'author_link': 'https://www.goodreads.com/author/show/25839.Rob_Sheffield'}]"
      ]
     },
     "execution_count": 108,
     "metadata": {},
     "output_type": "execute_result"
    }
   ],
   "source": [
    "books = crawl_goodreads(downloaded_html)\n",
    "books"
   ]
  },
  {
   "cell_type": "markdown",
   "metadata": {},
   "source": [
    "Look like I need to use selelium "
   ]
  },
  {
   "cell_type": "markdown",
   "metadata": {},
   "source": [
    "## API (Tumblr)\n",
    "\n",
    "Generally website owners do not like you scraping their sites. If done badly,\n",
    "scarping can act like a DOS attack so you should be careful how often you make\n",
    "calls to a site. Some sites want automated tools to access their data, so they\n",
    "create [application programming interface\n",
    "(APIs)](https://en.wikipedia.org/wiki/Application_programming_interface). An API\n",
    "specifies a procedure for an application (or script) to access their data. Often\n",
    "this is though a [representational state transfer\n",
    "(REST)](https://en.wikipedia.org/wiki/Representational_state_transfer) web\n",
    "service, which just means if you make correctly formatted HTTP requests they\n",
    "will return nicely formatted data.\n",
    "\n",
    "A nice example for us to study is [Tumblr](https://www.tumblr.com), they have a\n",
    "[simple RESTful API](https://www.tumblr.com/docs/en/api/v1) that allows you to\n",
    "read posts without any complicated html parsing.\n",
    "\n",
    "We can get the first 20 posts from a blog by making an http GET request to\n",
    "`'http://{blog}.tumblr.com/api/read/json'`, were `{blog}` is the name of the\n",
    "target blog. Lets try and get the posts from [http://lolcats-lol-\n",
    "cat.tumblr.com/](http://lolcats-lol-cat.tumblr.com/) (Note the blog says at the\n",
    "top 'One hour one pic lolcats', but the canonical name that Tumblr uses is in\n",
    "the URL 'lolcats-lol-cat')."
   ]
  },
  {
   "cell_type": "code",
   "execution_count": null,
   "metadata": {},
   "outputs": [],
   "source": [
    "tumblrAPItarget = 'http://{}.tumblr.com/api/read/json'\n",
    "\n",
    "r = requests.get(tumblrAPItarget.format('lolcats-lol-cat'))\n",
    "\n",
    "print(r.text[:1000])"
   ]
  },
  {
   "cell_type": "markdown",
   "metadata": {},
   "source": [
    "This might not look very good on first inspection, but it has far fewer angle\n",
    "braces than html, which makes it easier to parse. What we have is\n",
    "[JSON](https://en.wikipedia.org/wiki/JSON) a 'human readable' text based data\n",
    "transmission format based on javascript. Luckily, we can readily convert it to a\n",
    "python `dict`."
   ]
  },
  {
   "cell_type": "code",
   "execution_count": null,
   "metadata": {},
   "outputs": [],
   "source": [
    "#We need to load only the stuff between the curly braces\n",
    "d = json.loads(r.text[len('var tumblr_api_read = '):-2])\n",
    "print(d.keys())\n",
    "print(len(d['posts']))"
   ]
  },
  {
   "cell_type": "markdown",
   "metadata": {},
   "source": [
    "If we read the [API specification](https://www.tumblr.com/docs/en/api/v1), we\n",
    "will see there are a lot of things we can get if we add things to our GET\n",
    "request. First we can retrieve posts by their id number. Let's first get post\n",
    "`146020177084`."
   ]
  },
  {
   "cell_type": "code",
   "execution_count": null,
   "metadata": {},
   "outputs": [],
   "source": [
    "r = requests.get(tumblrAPItarget.format('lolcats-lol-cat'), params = {'id' : 146020177084})\n",
    "d = json.loads(r.text[len('var tumblr_api_read = '):-2])\n",
    "d['posts'][0].keys()\n",
    "d['posts'][0]['photo-url-1280']\n",
    "\n",
    "with open('lolcat.gif', 'wb') as f:\n",
    "    gifRequest = requests.get(d['posts'][0]['photo-url-1280'], stream = True)\n",
    "    f.write(gifRequest.content)"
   ]
  },
  {
   "cell_type": "markdown",
   "metadata": {},
   "source": [
    "<img src='lolcat.gif'>\n",
    "\n",
    "Such beauty; such vigor (If you can't see it you have to refresh the page). Now\n",
    "we could retrieve the text from all posts as well\n",
    "as related metadata, like the post date, caption or tags. We could also get\n",
    "links to all the images."
   ]
  },
  {
   "cell_type": "code",
   "execution_count": null,
   "metadata": {},
   "outputs": [],
   "source": [
    "#Putting a max in case the blog has millions of images\n",
    "#The given max will be rounded up to the nearest multiple of 50\n",
    "def tumblrImageScrape(blogName, maxImages = 200):\n",
    "    #Restating this here so the function isn't dependent on any external variables\n",
    "    tumblrAPItarget = 'http://{}.tumblr.com/api/read/json'\n",
    "\n",
    "    #There are a bunch of possible locations for the photo url\n",
    "    possiblePhotoSuffixes = [1280, 500, 400, 250, 100]\n",
    "\n",
    "    #These are the pieces of information we will be gathering,\n",
    "    #at the end we will convert this to a DataFrame.\n",
    "    #There are a few other datums we could gather like the captions\n",
    "    #you can read the Tumblr documentation to learn how to get them\n",
    "    #https://www.tumblr.com/docs/en/api/v1\n",
    "    postsData = {\n",
    "        'id' : [],\n",
    "        'photo-url' : [],\n",
    "        'date' : [],\n",
    "        'tags' : [],\n",
    "        'photo-type' : []\n",
    "    }\n",
    "\n",
    "    #Tumblr limits us to a max of 50 posts per request\n",
    "    for requestNum in range(maxImages // 50):\n",
    "        requestParams = {\n",
    "            'start' : requestNum * 50,\n",
    "            'num' : 50,\n",
    "            'type' : 'photo'\n",
    "        }\n",
    "        r = requests.get(tumblrAPItarget.format(blogName), params = requestParams)\n",
    "        requestDict = json.loads(r.text[len('var tumblr_api_read = '):-2])\n",
    "        for postDict in requestDict['posts']:\n",
    "            #We are dealing with uncleaned data, we can't trust it.\n",
    "            #Specifically, not all posts are guaranteed to have the fields we want\n",
    "            try:\n",
    "                postsData['id'].append(postDict['id'])\n",
    "                postsData['date'].append(postDict['date'])\n",
    "                postsData['tags'].append(postDict['tags'])\n",
    "            except KeyError as e:\n",
    "                raise KeyError(\"Post {} from {} is missing: {}\".format(postDict['id'], blogName, e))\n",
    "\n",
    "            foundSuffix = False\n",
    "            for suffix in possiblePhotoSuffixes:\n",
    "                try:\n",
    "                    photoURL = postDict['photo-url-{}'.format(suffix)]\n",
    "                    postsData['photo-url'].append(photoURL)\n",
    "                    postsData['photo-type'].append(photoURL.split('.')[-1])\n",
    "                    foundSuffix = True\n",
    "                    break\n",
    "                except KeyError:\n",
    "                    pass\n",
    "            if not foundSuffix:\n",
    "                #Make sure your error messages are useful\n",
    "                #You will be one of the users\n",
    "                raise KeyError(\"Post {} from {} is missing a photo url\".format(postDict['id'], blogName))\n",
    "\n",
    "    return pandas.DataFrame(postsData)\n",
    "tumblrImageScrape('lolcats-lol-cat', 50)"
   ]
  },
  {
   "cell_type": "markdown",
   "metadata": {},
   "source": [
    "Now we have the urls of a bunch of images and can run OCR on them to gather\n",
    "compelling meme narratives, accompanied by cats.\n",
    "\n",
    "# Files\n",
    "\n",
    "What if the text we want isn't on a webpage? There are a many other sources of\n",
    "text available, typically organized into *files*.\n",
    "\n",
    "## Raw text (and encoding)\n",
    "\n",
    "The most basic form of storing text is as a _raw text_ document. Source code\n",
    "(`.py`, `.r`, etc) is usually raw text as are text files (`.txt`) and those with\n",
    "many other extension (e.g., .csv, .dat, etc.). Opening an unknown file with a\n",
    "text editor is often a great way of learning what the file is.\n",
    "\n",
    "We can create a text file in python with the `open()` function"
   ]
  },
  {
   "cell_type": "code",
   "execution_count": null,
   "metadata": {},
   "outputs": [],
   "source": [
    "#example_text_file = 'sometextfile.txt'\n",
    "#stringToWrite = 'A line\\nAnother line\\nA line with a few unusual symbols \\u2421 \\u241B \\u20A0 \\u20A1 \\u20A2 \\u20A3 \\u0D60\\n'\n",
    "stringToWrite = 'A line\\nAnother line\\nA line with a few unusual symbols ␡ ␛ ₠ ₡ ₢ ₣ ൠ\\n'\n",
    "\n",
    "with open(example_text_file, mode = 'w', encoding='utf-8') as f:\n",
    "    f.write(stringToWrite)"
   ]
  },
  {
   "cell_type": "markdown",
   "metadata": {},
   "source": [
    "Notice the `encoding='utf-8'` argument, which specifies how we map the bits from\n",
    "the file to the glyphs (and whitespace characters like tab (`'\\t'`) or newline\n",
    "(`'\\n'`)) on the screen. When dealing only with latin letters, arabic numerals\n",
    "and the other symbols on America keyboards you usually do not have to worry\n",
    "about encodings as the ones used today are backwards compatible with\n",
    "[ASCII](https://en.wikipedia.org/wiki/ASCII), which gives the binary\n",
    "representation of 128 characters.\n",
    "\n",
    "Some of you, however, will want to use other characters (e.g., Chinese\n",
    "characters). To solve this there is\n",
    "[Unicode](https://en.wikipedia.org/wiki/Unicode) which assigns numbers to\n",
    "symbols, e.g., 041 is `'A'` and 03A3 is `'Σ'` (numbers starting with 0 are\n",
    "hexadecimal). Often non/beyond-ASCII characters are called Unicode characters.\n",
    "Unicode contains 1,114,112 characters, about 10\\% of which have been assigned.\n",
    "Unfortunately there are many ways used to map combinations of bits to Unicode\n",
    "symbols. The ones you are likely to encounter are called by Python _utf-8_,\n",
    "_utf-16_ and _latin-1_. _utf-8_ is the standard for Linux and Mac OS while both\n",
    "_utf-16_ and _latin-1_ are used by windows. If you use the wrong encoding,\n",
    "characters can appear wrong, sometimes change in number or Python could raise an\n",
    "exception. Lets see what happens when we open the file we just created with\n",
    "different encodings."
   ]
  },
  {
   "cell_type": "code",
   "execution_count": null,
   "metadata": {},
   "outputs": [],
   "source": [
    "with open(example_text_file, encoding='utf-8') as f:\n",
    "    print(\"This is with the correct encoding:\")\n",
    "    print(f.read())\n",
    "\n",
    "with open(example_text_file, encoding='latin-1') as f:\n",
    "    print(\"This is with the wrong encoding:\")\n",
    "    print(f.read())"
   ]
  },
  {
   "cell_type": "markdown",
   "metadata": {},
   "source": [
    "Notice that with _latin-1_ the unicode characters are mixed up and there are too\n",
    "many of them. You need to keep in mind encoding when obtaining text files.\n",
    "Determining the encoding can sometime involve substantial work."
   ]
  },
  {
   "cell_type": "markdown",
   "metadata": {},
   "source": [
    "We can also load many text files at once. Lets start by looking at the Shakespeare files in the `data` directory "
   ]
  },
  {
   "cell_type": "code",
   "execution_count": null,
   "metadata": {},
   "outputs": [],
   "source": [
    "with open('./data/Shakespeare/midsummer_nights_dream.txt') as f:\n",
    "    midsummer = f.read()\n",
    "print(midsummer[-700:])"
   ]
  },
  {
   "cell_type": "markdown",
   "metadata": {},
   "source": [
    "By the way, depending on your working directory, you might get errors such as: [Errno 2] No such file or directory: '../data/Shakespeare/midsummer_nights_dream.txt.' Don't panic, it's nothing, just check your working directory. \n",
    "\n",
    "Then to load all the files in `./data/Shakespeare` we can use a for loop with `scandir`:"
   ]
  },
  {
   "cell_type": "code",
   "execution_count": null,
   "metadata": {},
   "outputs": [],
   "source": [
    "targetDir = './data/Shakespeare' #Change this to your own directory of texts\n",
    "shakespearText = []\n",
    "shakespearFileName = []\n",
    "\n",
    "for file in (file for file in os.scandir(targetDir) if file.is_file() and not file.name.startswith('.')):\n",
    "    with open(file.path, encoding=\"utf-8\") as f:\n",
    "        shakespearText.append(f.read())\n",
    "    shakespearFileName.append(file.name)"
   ]
  },
  {
   "cell_type": "markdown",
   "metadata": {},
   "source": [
    "Then we can put them all in pandas DataFrame"
   ]
  },
  {
   "cell_type": "code",
   "execution_count": null,
   "metadata": {},
   "outputs": [],
   "source": [
    "shakespear_df = pandas.DataFrame({'text' : shakespearText}, index = shakespearFileName)\n",
    "shakespear_df"
   ]
  },
  {
   "cell_type": "markdown",
   "metadata": {},
   "source": [
    "Getting your text in a format like this is the first step of most analysis"
   ]
  },
  {
   "cell_type": "markdown",
   "metadata": {},
   "source": [
    "## PDF\n",
    "\n",
    "Another common way text will be stored is in a PDF file. First we will download\n",
    "a pdf in Python. To do that lets grab a chapter from\n",
    "_Speech and Language Processing_, chapter 21 is on Information Extraction which\n",
    "seems apt. It is stored as a pdf at [https://web.stanford.edu/~jurafsky/slp3/21.\n",
    "pdf](https://web.stanford.edu/~jurafsky/slp3/21.pdf) although we are downloading\n",
    "from a copy just in case Jurafsky changes their website."
   ]
  },
  {
   "cell_type": "code",
   "execution_count": null,
   "metadata": {},
   "outputs": [],
   "source": [
    "#information_extraction_pdf = 'https://github.com/KnowledgeLab/content_analysis/raw/data/21.pdf'\n",
    "\n",
    "infoExtractionRequest = requests.get(information_extraction_pdf, stream=True)\n",
    "print(infoExtractionRequest.text[:1000])"
   ]
  },
  {
   "cell_type": "markdown",
   "metadata": {},
   "source": [
    "It says `'pdf'`, so thats a good sign. The rest though looks like we are having\n",
    "issues with an encoding. The random characters are not caused by our encoding\n",
    "being wrong, however. They are cause by there not being an encoding for those\n",
    "parts at all. PDFs are nominally binary files, meaning there are sections of\n",
    "binary that are specific to pdf and nothing else so you need something that\n",
    "knows about pdf to read them. To do that we will be using\n",
    "[`PyPDF2`](https://github.com/mstamy2/PyPDF2), a PDF processing library for\n",
    "Python 3.\n",
    "\n",
    "\n",
    "Because PDFs are a very complicated file format pdfminer requires a large amount\n",
    "of boilerplate code to extract text, we have written a function that takes in an\n",
    "open PDF file and returns the text so you don't have to."
   ]
  },
  {
   "cell_type": "code",
   "execution_count": null,
   "metadata": {},
   "outputs": [],
   "source": [
    "def readPDF(pdfFile):\n",
    "    #Based on code from http://stackoverflow.com/a/20905381/4955164\n",
    "    #Using utf-8, if there are a bunch of random symbols try changing this\n",
    "    codec = 'utf-8'\n",
    "    rsrcmgr = pdfminer.pdfinterp.PDFResourceManager()\n",
    "    retstr = io.StringIO()\n",
    "    layoutParams = pdfminer.layout.LAParams()\n",
    "    device = pdfminer.converter.TextConverter(rsrcmgr, retstr, laparams = layoutParams, codec = codec)\n",
    "    #We need a device and an interpreter\n",
    "    interpreter = pdfminer.pdfinterp.PDFPageInterpreter(rsrcmgr, device)\n",
    "    password = ''\n",
    "    maxpages = 0\n",
    "    caching = True\n",
    "    pagenos=set()\n",
    "    for page in pdfminer.pdfpage.PDFPage.get_pages(pdfFile, pagenos, maxpages=maxpages, password=password,caching=caching, check_extractable=True):\n",
    "        interpreter.process_page(page)\n",
    "    device.close()\n",
    "    returnedString = retstr.getvalue()\n",
    "    retstr.close()\n",
    "    return returnedString"
   ]
  },
  {
   "cell_type": "markdown",
   "metadata": {},
   "source": [
    "First we need to take the response object and convert it into a 'file like'\n",
    "object so that pdfminer can read it. To do this we will use `io`'s `BytesIO`."
   ]
  },
  {
   "cell_type": "code",
   "execution_count": null,
   "metadata": {},
   "outputs": [],
   "source": [
    "infoExtractionBytes = io.BytesIO(infoExtractionRequest.content)"
   ]
  },
  {
   "cell_type": "markdown",
   "metadata": {},
   "source": [
    "Now we can give it to pdfminer."
   ]
  },
  {
   "cell_type": "code",
   "execution_count": null,
   "metadata": {},
   "outputs": [],
   "source": [
    "print(readPDF(infoExtractionBytes)[:550])"
   ]
  },
  {
   "cell_type": "markdown",
   "metadata": {},
   "source": [
    "From here we can either look at the full text or fiddle with our PDF reader and\n",
    "get more information about individual blocks of text.\n",
    "\n",
    "## Word Docs\n",
    "\n",
    "The other type of document you are likely to encounter is the `.docx`, these are\n",
    "actually a version of [XML](https://en.wikipedia.org/wiki/Office_Open_XML), just\n",
    "like HTML, and like HTML we will use a specialized parser.\n",
    "\n",
    "For this class we will use [`python-docx`](https://python-\n",
    "docx.readthedocs.io/en/latest/) which provides a nice simple interface for\n",
    "reading `.docx` files"
   ]
  },
  {
   "cell_type": "code",
   "execution_count": null,
   "metadata": {},
   "outputs": [],
   "source": [
    "#example_docx = 'https://github.com/KnowledgeLab/content_analysis/raw/data/example_doc.docx'\n",
    "\n",
    "r = requests.get(example_docx, stream=True)\n",
    "d = docx.Document(io.BytesIO(r.content))\n",
    "for paragraph in d.paragraphs[:7]:\n",
    "    print(paragraph.text)"
   ]
  },
  {
   "cell_type": "markdown",
   "metadata": {},
   "source": [
    "This procedure uses the `io.BytesIO` class again, since `docx.Document` expects\n",
    "a file. Another way to do it is to save the document to a file and then read it\n",
    "like any other file. If we do this we can either delete the file afterwords, or\n",
    "save it and avoid downloading the following time.\n",
    "\n",
    "This function is useful as a part of many different tasks so it and others like it will be added to the helper package `lucem_illud` so we can use it later without having to retype it."
   ]
  },
  {
   "cell_type": "code",
   "execution_count": null,
   "metadata": {},
   "outputs": [],
   "source": [
    "def downloadIfNeeded(targetURL, outputFile, **openkwargs):\n",
    "    if not os.path.isfile(outputFile):\n",
    "        outputDir = os.path.dirname(outputFile)\n",
    "        #This function is a more general os.mkdir()\n",
    "        if len(outputDir) > 0:\n",
    "            os.makedirs(outputDir, exist_ok = True)\n",
    "        r = requests.get(targetURL, stream=True)\n",
    "        #Using a closure like this is generally better than having to\n",
    "        #remember to close the file. There are ways to make this function\n",
    "        #work as a closure too\n",
    "        with open(outputFile, 'wb') as f:\n",
    "            f.write(r.content)\n",
    "    return open(outputFile, **openkwargs)"
   ]
  },
  {
   "cell_type": "markdown",
   "metadata": {},
   "source": [
    "This function will download, save and open `outputFile` as `outputFile` or just\n",
    "open it if `outputFile` exists. By default `open()` will open the file as read\n",
    "only text with the local encoding, which may cause issues if its not a text\n",
    "file."
   ]
  },
  {
   "cell_type": "code",
   "execution_count": null,
   "metadata": {},
   "outputs": [],
   "source": [
    "try:\n",
    "    d = docx.Document(downloadIfNeeded(example_docx, example_docx_save))\n",
    "except Exception as e:\n",
    "    print(e)"
   ]
  },
  {
   "cell_type": "markdown",
   "metadata": {},
   "source": [
    "We need to tell `open()` to read in binary mode (`'rb'`), this is why we added\n",
    "`**openkwargs`, this allows us to pass any keyword arguments (kwargs) from\n",
    "`downloadIfNeeded` to `open()`."
   ]
  },
  {
   "cell_type": "code",
   "execution_count": null,
   "metadata": {},
   "outputs": [],
   "source": [
    "d = docx.Document(downloadIfNeeded(example_docx, example_docx_save, mode = 'rb'))\n",
    "for paragraph in d.paragraphs[:7]:\n",
    "    print(paragraph.text)"
   ]
  },
  {
   "cell_type": "markdown",
   "metadata": {},
   "source": [
    "Now we can read the file with `docx.Document` and not have to wait for it to be\n",
    "downloaded every time."
   ]
  },
  {
   "cell_type": "markdown",
   "metadata": {},
   "source": [
    "# <font color=\"red\">Exercise 3</font>\n",
    "<font color=\"red\">Construct cells immediately below this that extract and organize textual content from text, PDF or Word into a pandas dataframe.</font>\n"
   ]
  },
  {
   "cell_type": "markdown",
   "metadata": {},
   "source": [
    "# <font color=\"red\">Exercise 4</font>\n",
    "\n",
    "<font color=\"red\">In the two cells immediately following, describe a possible project (e.g., it might end up being your final project, but need not be if you are still searching): **WHAT** you will analyze--the texts you will select and the social game, world and actors you intend to learn about through your analysis (<100 words); **WHY** you will analyze these texts to learn about that context--justify the rationale behind your proposed sample design for this project, based on the readings. What is the social game, social work, or social actors about whom you are seeking to make inferences? What are the virtues of your proposed sample with respect to your research questions? What are its limitations? What are alternatives? What would be a reasonable path to \"scale up\" your sample for further analysis (i.e., high-profile publication)? (<150 words)? [**Note**: your individual or collective project will change over the course of the quarter as new data and/or analysis opportunities arise or if old ones fade away.] "
   ]
  },
  {
   "cell_type": "markdown",
   "metadata": {},
   "source": [
    "\n",
    "**Research Interest & Questions**\n",
    "My research is rooted in exploring the sociological aspects of music, particularly classical. I'm captivated by how non-fiction literature critiques and demystifies the elite aura surrounding classical music. The question at the heart of my investigation is: *Is this theme of unveiling the darker side of classical music a common thread in related literature?*"
   ]
  },
  {
   "cell_type": "code",
   "execution_count": 76,
   "metadata": {},
   "outputs": [
    {
     "ename": "SyntaxError",
     "evalue": "unterminated string literal (detected at line 2) (4043517621.py, line 2)",
     "output_type": "error",
     "traceback": [
      "\u001b[1;36m  Cell \u001b[1;32mIn[76], line 2\u001b[1;36m\u001b[0m\n\u001b[1;33m    My research is rooted in exploring the sociological aspects of music, particularly classical. I'm captivated by how non-fiction literature critiques and demystifies the elite aura surrounding classical music. The question at the heart of my investigation is: *Is this theme of unveiling the darker side of classical music a common thread in related literature?*\u001b[0m\n\u001b[1;37m                                                                                                   ^\u001b[0m\n\u001b[1;31mSyntaxError\u001b[0m\u001b[1;31m:\u001b[0m unterminated string literal (detected at line 2)\n"
     ]
    }
   ],
   "source": [
    "\n",
    "\n",
    "**Research Interest & Questions**\n",
    "My research is rooted in exploring the sociological aspects of music, particularly classical. I'm captivated by how non-fiction literature critiques and demystifies the elite aura surrounding classical music. The question at the heart of my investigation is: *Is this theme of unveiling the darker side of classical music a common thread in related literature?*"
   ]
  },
  {
   "cell_type": "markdown",
   "metadata": {},
   "source": [
    "## ***What?*** \n",
    "<100 words"
   ]
  },
  {
   "cell_type": "markdown",
   "metadata": {},
   "source": [
    "## ***Why?***\n",
    "<150 words"
   ]
  },
  {
   "cell_type": "markdown",
   "metadata": {},
   "source": [
    "### Sources:\n",
    "\n",
    "Other popular sources for internet data:\n",
    "\n",
    "[reddit](https://www.reddit.com/) - https://praw.readthedocs.io/en/v2.1.21/\n",
    "\n",
    "[twitter](https://twitter.com/) - https://pypi.org/project/python-twitter/\n",
    "\n",
    "[project gutenburg](https://www.gutenberg.org/) - https://github.com/ageitgey/Gutenberg \n",
    "\n"
   ]
  }
 ],
 "metadata": {
  "kernelspec": {
   "display_name": "Python 3 (ipykernel)",
   "language": "python",
   "name": "python3"
  },
  "language_info": {
   "codemirror_mode": {
    "name": "ipython",
    "version": 3
   },
   "file_extension": ".py",
   "mimetype": "text/x-python",
   "name": "python",
   "nbconvert_exporter": "python",
   "pygments_lexer": "ipython3",
   "version": "3.12.0"
  }
 },
 "nbformat": 4,
 "nbformat_minor": 2
}
