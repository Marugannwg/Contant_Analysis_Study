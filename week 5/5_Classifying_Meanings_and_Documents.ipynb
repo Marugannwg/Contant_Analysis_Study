{
  "cells": [
    {
      "cell_type": "markdown",
      "metadata": {
        "id": "_37ujWWRZut-"
      },
      "source": [
        "# Week 5 - Classifying Meanings & Documents (With Machine Learning)\n",
        "\n",
        "Recall that Week 1 of this course focused on how to find and extract text data, while weeks 2 through 4 each covered a different type of content representations:\n",
        "\n",
        "2. computational linguistics (e.g., keyword count)\n",
        "3. clustering and topic modeling (e.g., LDA)\n",
        "4. embeddings (e.g., _word2vec_)\n",
        "\n",
        "Now we show how classification, arguably the most common social science task, can be done with different representations. Note that the second representation, *clustering*, allows us to stably partition text data (e.g., documents, turns of conversation) according to all patterns of covariation among available text features. Classification, by contrast, partitions text data according to only those features and their variation that enable us to mimic and extrapolate human annotations.\n",
        "\n",
        "We will show how to use a variety of classification methods, including Logistic regression, K-nearest neighbor, decision trees and random forests, support vector machines and even a simple neural network, the perceptron. We will also demonstrate ensemble techniques that can link several such methods into a single, more accurate, classification pipeline. We will finally learn to use conventions and metrics to evaluate classifier performance on out-of-sample data."
      ]
    },
    {
      "cell_type": "code",
      "execution_count": 23,
      "metadata": {
        "colab": {
          "base_uri": "https://localhost:8080/"
        },
        "id": "jZfJyzpmabtw",
        "outputId": "0ec267de-4b41-446d-9134-e4b4d6fb5cee"
      },
      "outputs": [
        {
          "name": "stdout",
          "output_type": "stream",
          "text": [
            "Drive already mounted at /content/drive; to attempt to forcibly remount, call drive.mount(\"/content/drive\", force_remount=True).\n"
          ]
        }
      ],
      "source": [
        "# run if on Colab\n",
        "from google.colab import drive\n",
        "drive.mount('/content/drive')"
      ]
    },
    {
      "cell_type": "code",
      "execution_count": 7,
      "metadata": {},
      "outputs": [
        {
          "ename": "ModuleNotFoundError",
          "evalue": "No module named 'models'",
          "output_type": "error",
          "traceback": [
            "\u001b[1;31m---------------------------------------------------------------------------\u001b[0m",
            "\u001b[1;31mModuleNotFoundError\u001b[0m                       Traceback (most recent call last)",
            "Cell \u001b[1;32mIn[7], line 1\u001b[0m\n\u001b[1;32m----> 1\u001b[0m \u001b[38;5;28;01mimport\u001b[39;00m \u001b[38;5;21;01mpyanno\u001b[39;00m\n",
            "File \u001b[1;32md:\\MACSS PROGRAM\\30122\\MACS-60000-2024-Winter\\week 5\\uchicago-pyanno\\pyanno\\__init__.py:3\u001b[0m\n\u001b[0;32m      1\u001b[0m \u001b[38;5;66;03m# called on package initialization\u001b[39;00m\n\u001b[1;32m----> 3\u001b[0m \u001b[38;5;28;01mimport\u001b[39;00m \u001b[38;5;21;01mmodels\u001b[39;00m\n\u001b[0;32m      4\u001b[0m \u001b[38;5;28;01mimport\u001b[39;00m \u001b[38;5;21;01mmeasures\u001b[39;00m\n\u001b[0;32m      5\u001b[0m \u001b[38;5;28;01mimport\u001b[39;00m \u001b[38;5;21;01mannotations\u001b[39;00m\n",
            "\u001b[1;31mModuleNotFoundError\u001b[0m: No module named 'models'"
          ]
        }
      ],
      "source": [
        "import pyanno"
      ]
    },
    {
      "cell_type": "code",
      "execution_count": 6,
      "metadata": {
        "colab": {
          "base_uri": "https://localhost:8080/"
        },
        "id": "CHnHFavUZut_",
        "outputId": "fcf7976b-08bd-4751-a671-cbbe7149eba5"
      },
      "outputs": [
        {
          "name": "stdout",
          "output_type": "stream",
          "text": [
            "Collecting git+https://github.com/UChicago-Computational-Content-Analysis/lucem_illud.git\n",
            "  Cloning https://github.com/UChicago-Computational-Content-Analysis/lucem_illud.git to c:\\users\\admin\\appdata\\local\\temp\\pip-req-build-utduxqsd\n",
            "  Resolved https://github.com/UChicago-Computational-Content-Analysis/lucem_illud.git to commit b17a265d3b8253424e5b38872457f7437909a65d\n",
            "  Preparing metadata (setup.py): started\n",
            "  Preparing metadata (setup.py): finished with status 'done'\n",
            "Requirement already satisfied: numpy in c:\\users\\admin\\anaconda3\\envs\\lib\\site-packages (from lucem-illud==8.0.1) (1.26.3)\n",
            "Requirement already satisfied: requests in c:\\users\\admin\\anaconda3\\envs\\lib\\site-packages (from lucem-illud==8.0.1) (2.31.0)\n",
            "Requirement already satisfied: pandas in c:\\users\\admin\\anaconda3\\envs\\lib\\site-packages (from lucem-illud==8.0.1) (2.1.1)\n",
            "Requirement already satisfied: python-docx in c:\\users\\admin\\anaconda3\\envs\\lib\\site-packages (from lucem-illud==8.0.1) (1.1.0)\n",
            "Requirement already satisfied: pillow in c:\\users\\admin\\anaconda3\\envs\\lib\\site-packages (from lucem-illud==8.0.1) (10.0.1)\n",
            "Requirement already satisfied: pdfminer2 in c:\\users\\admin\\anaconda3\\envs\\lib\\site-packages (from lucem-illud==8.0.1) (20151206)\n",
            "Requirement already satisfied: GitPython in c:\\users\\admin\\anaconda3\\envs\\lib\\site-packages (from lucem-illud==8.0.1) (3.1.40)\n",
            "Requirement already satisfied: wordcloud in c:\\users\\admin\\anaconda3\\envs\\lib\\site-packages (from lucem-illud==8.0.1) (1.9.3)\n",
            "Requirement already satisfied: scipy in c:\\users\\admin\\anaconda3\\envs\\lib\\site-packages (from lucem-illud==8.0.1) (1.11.3)\n",
            "Requirement already satisfied: seaborn in c:\\users\\admin\\anaconda3\\envs\\lib\\site-packages (from lucem-illud==8.0.1) (0.12.2)\n",
            "Requirement already satisfied: scikit-learn in c:\\users\\admin\\anaconda3\\envs\\lib\\site-packages (from lucem-illud==8.0.1) (1.3.0)\n",
            "Requirement already satisfied: nltk in c:\\users\\admin\\anaconda3\\envs\\lib\\site-packages (from lucem-illud==8.0.1) (3.8.1)\n",
            "Requirement already satisfied: gensim in c:\\users\\admin\\anaconda3\\envs\\lib\\site-packages (from lucem-illud==8.0.1) (4.3.2)\n",
            "Requirement already satisfied: matplotlib in c:\\users\\admin\\anaconda3\\envs\\lib\\site-packages (from lucem-illud==8.0.1) (3.8.0)\n",
            "Requirement already satisfied: pyanno3 in c:\\users\\admin\\anaconda3\\envs\\lib\\site-packages (from lucem-illud==8.0.1) (2.0.2)\n",
            "Requirement already satisfied: beautifulsoup4 in c:\\users\\admin\\anaconda3\\envs\\lib\\site-packages (from lucem-illud==8.0.1) (4.12.2)\n",
            "Requirement already satisfied: graphviz in c:\\users\\admin\\anaconda3\\envs\\lib\\site-packages (from lucem-illud==8.0.1) (0.20.1)\n",
            "Requirement already satisfied: boto3 in c:\\users\\admin\\anaconda3\\envs\\lib\\site-packages (from lucem-illud==8.0.1) (1.34.15)\n",
            "Requirement already satisfied: networkx in c:\\users\\admin\\anaconda3\\envs\\lib\\site-packages (from lucem-illud==8.0.1) (3.2.1)\n",
            "Requirement already satisfied: pydub in c:\\users\\admin\\anaconda3\\envs\\lib\\site-packages (from lucem-illud==8.0.1) (0.25.1)\n",
            "Requirement already satisfied: speechrecognition in c:\\users\\admin\\anaconda3\\envs\\lib\\site-packages (from lucem-illud==8.0.1) (3.10.1)\n",
            "Requirement already satisfied: pysoundfile in c:\\users\\admin\\anaconda3\\envs\\lib\\site-packages (from lucem-illud==8.0.1) (0.9.0.post1)\n",
            "Requirement already satisfied: scikit-image in c:\\users\\admin\\anaconda3\\envs\\lib\\site-packages (from lucem-illud==8.0.1) (0.22.0)\n",
            "Requirement already satisfied: IPython in c:\\users\\admin\\appdata\\roaming\\python\\python312\\site-packages (from lucem-illud==8.0.1) (8.16.1)\n",
            "Requirement already satisfied: spacy in c:\\users\\admin\\anaconda3\\envs\\lib\\site-packages (from lucem-illud==8.0.1) (3.7.2)\n",
            "Requirement already satisfied: soupsieve>1.2 in c:\\users\\admin\\anaconda3\\envs\\lib\\site-packages (from beautifulsoup4->lucem-illud==8.0.1) (2.5)\n",
            "Requirement already satisfied: botocore<1.35.0,>=1.34.15 in c:\\users\\admin\\anaconda3\\envs\\lib\\site-packages (from boto3->lucem-illud==8.0.1) (1.34.15)\n",
            "Requirement already satisfied: jmespath<2.0.0,>=0.7.1 in c:\\users\\admin\\anaconda3\\envs\\lib\\site-packages (from boto3->lucem-illud==8.0.1) (1.0.1)\n",
            "Requirement already satisfied: s3transfer<0.11.0,>=0.10.0 in c:\\users\\admin\\anaconda3\\envs\\lib\\site-packages (from boto3->lucem-illud==8.0.1) (0.10.0)\n",
            "Requirement already satisfied: smart-open>=1.8.1 in c:\\users\\admin\\anaconda3\\envs\\lib\\site-packages (from gensim->lucem-illud==8.0.1) (5.2.1)\n",
            "Requirement already satisfied: gitdb<5,>=4.0.1 in c:\\users\\admin\\anaconda3\\envs\\lib\\site-packages (from GitPython->lucem-illud==8.0.1) (4.0.11)\n",
            "Requirement already satisfied: backcall in c:\\users\\admin\\appdata\\roaming\\python\\python312\\site-packages (from IPython->lucem-illud==8.0.1) (0.2.0)\n",
            "Requirement already satisfied: decorator in c:\\users\\admin\\appdata\\roaming\\python\\python312\\site-packages (from IPython->lucem-illud==8.0.1) (5.1.1)\n",
            "Requirement already satisfied: jedi>=0.16 in c:\\users\\admin\\appdata\\roaming\\python\\python312\\site-packages (from IPython->lucem-illud==8.0.1) (0.19.1)\n",
            "Requirement already satisfied: matplotlib-inline in c:\\users\\admin\\appdata\\roaming\\python\\python312\\site-packages (from IPython->lucem-illud==8.0.1) (0.1.6)\n",
            "Requirement already satisfied: pickleshare in c:\\users\\admin\\appdata\\roaming\\python\\python312\\site-packages (from IPython->lucem-illud==8.0.1) (0.7.5)\n",
            "Requirement already satisfied: prompt-toolkit!=3.0.37,<3.1.0,>=3.0.30 in c:\\users\\admin\\appdata\\roaming\\python\\python312\\site-packages (from IPython->lucem-illud==8.0.1) (3.0.39)\n",
            "Requirement already satisfied: pygments>=2.4.0 in c:\\users\\admin\\appdata\\roaming\\python\\python312\\site-packages (from IPython->lucem-illud==8.0.1) (2.16.1)\n",
            "Requirement already satisfied: stack-data in c:\\users\\admin\\appdata\\roaming\\python\\python312\\site-packages (from IPython->lucem-illud==8.0.1) (0.6.3)\n",
            "Requirement already satisfied: traitlets>=5 in c:\\users\\admin\\appdata\\roaming\\python\\python312\\site-packages (from IPython->lucem-illud==8.0.1) (5.11.2)\n",
            "Requirement already satisfied: colorama in c:\\users\\admin\\appdata\\roaming\\python\\python312\\site-packages (from IPython->lucem-illud==8.0.1) (0.4.6)\n",
            "Requirement already satisfied: contourpy>=1.0.1 in c:\\users\\admin\\anaconda3\\envs\\lib\\site-packages (from matplotlib->lucem-illud==8.0.1) (1.0.5)\n",
            "Requirement already satisfied: cycler>=0.10 in c:\\users\\admin\\anaconda3\\envs\\lib\\site-packages (from matplotlib->lucem-illud==8.0.1) (0.11.0)\n",
            "Requirement already satisfied: fonttools>=4.22.0 in c:\\users\\admin\\anaconda3\\envs\\lib\\site-packages (from matplotlib->lucem-illud==8.0.1) (4.25.0)\n",
            "Requirement already satisfied: kiwisolver>=1.0.1 in c:\\users\\admin\\anaconda3\\envs\\lib\\site-packages (from matplotlib->lucem-illud==8.0.1) (1.4.4)\n",
            "Requirement already satisfied: packaging>=20.0 in c:\\users\\admin\\appdata\\roaming\\python\\python312\\site-packages (from matplotlib->lucem-illud==8.0.1) (23.2)\n",
            "Requirement already satisfied: pyparsing>=2.3.1 in c:\\users\\admin\\anaconda3\\envs\\lib\\site-packages (from matplotlib->lucem-illud==8.0.1) (3.0.9)\n",
            "Requirement already satisfied: python-dateutil>=2.7 in c:\\users\\admin\\appdata\\roaming\\python\\python312\\site-packages (from matplotlib->lucem-illud==8.0.1) (2.8.2)\n",
            "Requirement already satisfied: click in c:\\users\\admin\\anaconda3\\envs\\lib\\site-packages (from nltk->lucem-illud==8.0.1) (8.1.7)\n",
            "Requirement already satisfied: joblib in c:\\users\\admin\\anaconda3\\envs\\lib\\site-packages (from nltk->lucem-illud==8.0.1) (1.2.0)\n",
            "Requirement already satisfied: regex>=2021.8.3 in c:\\users\\admin\\anaconda3\\envs\\lib\\site-packages (from nltk->lucem-illud==8.0.1) (2023.10.3)\n",
            "Requirement already satisfied: tqdm in c:\\users\\admin\\anaconda3\\envs\\lib\\site-packages (from nltk->lucem-illud==8.0.1) (4.65.0)\n",
            "Requirement already satisfied: pytz>=2020.1 in c:\\users\\admin\\anaconda3\\envs\\lib\\site-packages (from pandas->lucem-illud==8.0.1) (2023.3.post1)\n",
            "Requirement already satisfied: tzdata>=2022.1 in c:\\users\\admin\\anaconda3\\envs\\lib\\site-packages (from pandas->lucem-illud==8.0.1) (2023.3)\n",
            "Requirement already satisfied: six in c:\\users\\admin\\appdata\\roaming\\python\\python312\\site-packages (from pdfminer2->lucem-illud==8.0.1) (1.16.0)\n",
            "Requirement already satisfied: traits in c:\\users\\admin\\anaconda3\\envs\\lib\\site-packages (from pyanno3->lucem-illud==8.0.1) (6.4.3)\n",
            "Requirement already satisfied: cffi>=0.6 in c:\\users\\admin\\anaconda3\\envs\\lib\\site-packages (from pysoundfile->lucem-illud==8.0.1) (1.16.0)\n",
            "Requirement already satisfied: lxml>=3.1.0 in c:\\users\\admin\\anaconda3\\envs\\lib\\site-packages (from python-docx->lucem-illud==8.0.1) (5.1.0)\n",
            "Requirement already satisfied: typing-extensions in c:\\users\\admin\\anaconda3\\envs\\lib\\site-packages (from python-docx->lucem-illud==8.0.1) (4.7.1)\n",
            "Requirement already satisfied: charset-normalizer<4,>=2 in c:\\users\\admin\\anaconda3\\envs\\lib\\site-packages (from requests->lucem-illud==8.0.1) (2.0.4)\n",
            "Requirement already satisfied: idna<4,>=2.5 in c:\\users\\admin\\anaconda3\\envs\\lib\\site-packages (from requests->lucem-illud==8.0.1) (3.4)\n",
            "Requirement already satisfied: urllib3<3,>=1.21.1 in c:\\users\\admin\\anaconda3\\envs\\lib\\site-packages (from requests->lucem-illud==8.0.1) (1.26.18)\n",
            "Requirement already satisfied: certifi>=2017.4.17 in c:\\users\\admin\\anaconda3\\envs\\lib\\site-packages (from requests->lucem-illud==8.0.1) (2023.11.17)\n",
            "Requirement already satisfied: imageio>=2.27 in c:\\users\\admin\\anaconda3\\envs\\lib\\site-packages (from scikit-image->lucem-illud==8.0.1) (2.33.1)\n",
            "Requirement already satisfied: tifffile>=2022.8.12 in c:\\users\\admin\\anaconda3\\envs\\lib\\site-packages (from scikit-image->lucem-illud==8.0.1) (2023.12.9)\n",
            "Requirement already satisfied: lazy_loader>=0.3 in c:\\users\\admin\\anaconda3\\envs\\lib\\site-packages (from scikit-image->lucem-illud==8.0.1) (0.3)\n",
            "Requirement already satisfied: threadpoolctl>=2.0.0 in c:\\users\\admin\\anaconda3\\envs\\lib\\site-packages (from scikit-learn->lucem-illud==8.0.1) (2.2.0)\n",
            "Requirement already satisfied: spacy-legacy<3.1.0,>=3.0.11 in c:\\users\\admin\\anaconda3\\envs\\lib\\site-packages (from spacy->lucem-illud==8.0.1) (3.0.12)\n",
            "Requirement already satisfied: spacy-loggers<2.0.0,>=1.0.0 in c:\\users\\admin\\anaconda3\\envs\\lib\\site-packages (from spacy->lucem-illud==8.0.1) (1.0.4)\n",
            "Requirement already satisfied: murmurhash<1.1.0,>=0.28.0 in c:\\users\\admin\\anaconda3\\envs\\lib\\site-packages (from spacy->lucem-illud==8.0.1) (1.0.7)\n",
            "Requirement already satisfied: cymem<2.1.0,>=2.0.2 in c:\\users\\admin\\anaconda3\\envs\\lib\\site-packages (from spacy->lucem-illud==8.0.1) (2.0.6)\n",
            "Requirement already satisfied: preshed<3.1.0,>=3.0.2 in c:\\users\\admin\\anaconda3\\envs\\lib\\site-packages (from spacy->lucem-illud==8.0.1) (3.0.6)\n",
            "Requirement already satisfied: thinc<8.3.0,>=8.1.8 in c:\\users\\admin\\anaconda3\\envs\\lib\\site-packages (from spacy->lucem-illud==8.0.1) (8.2.2)\n",
            "Requirement already satisfied: wasabi<1.2.0,>=0.9.1 in c:\\users\\admin\\anaconda3\\envs\\lib\\site-packages (from spacy->lucem-illud==8.0.1) (0.9.1)\n",
            "Requirement already satisfied: srsly<3.0.0,>=2.4.3 in c:\\users\\admin\\anaconda3\\envs\\lib\\site-packages (from spacy->lucem-illud==8.0.1) (2.4.8)\n",
            "Requirement already satisfied: catalogue<2.1.0,>=2.0.6 in c:\\users\\admin\\anaconda3\\envs\\lib\\site-packages (from spacy->lucem-illud==8.0.1) (2.0.10)\n",
            "Requirement already satisfied: weasel<0.4.0,>=0.1.0 in c:\\users\\admin\\anaconda3\\envs\\lib\\site-packages (from spacy->lucem-illud==8.0.1) (0.3.4)\n",
            "Requirement already satisfied: typer<0.10.0,>=0.3.0 in c:\\users\\admin\\anaconda3\\envs\\lib\\site-packages (from spacy->lucem-illud==8.0.1) (0.9.0)\n",
            "Requirement already satisfied: pydantic!=1.8,!=1.8.1,<3.0.0,>=1.7.4 in c:\\users\\admin\\anaconda3\\envs\\lib\\site-packages (from spacy->lucem-illud==8.0.1) (1.10.12)\n",
            "Requirement already satisfied: jinja2 in c:\\users\\admin\\anaconda3\\envs\\lib\\site-packages (from spacy->lucem-illud==8.0.1) (3.1.2)\n",
            "Requirement already satisfied: setuptools in c:\\users\\admin\\anaconda3\\envs\\lib\\site-packages (from spacy->lucem-illud==8.0.1) (68.0.0)\n",
            "Requirement already satisfied: langcodes<4.0.0,>=3.2.0 in c:\\users\\admin\\anaconda3\\envs\\lib\\site-packages (from spacy->lucem-illud==8.0.1) (3.3.0)\n",
            "Requirement already satisfied: pycparser in c:\\users\\admin\\anaconda3\\envs\\lib\\site-packages (from cffi>=0.6->pysoundfile->lucem-illud==8.0.1) (2.21)\n",
            "Requirement already satisfied: smmap<6,>=3.0.1 in c:\\users\\admin\\anaconda3\\envs\\lib\\site-packages (from gitdb<5,>=4.0.1->GitPython->lucem-illud==8.0.1) (5.0.1)\n",
            "Requirement already satisfied: parso<0.9.0,>=0.8.3 in c:\\users\\admin\\appdata\\roaming\\python\\python312\\site-packages (from jedi>=0.16->IPython->lucem-illud==8.0.1) (0.8.3)\n",
            "Requirement already satisfied: wcwidth in c:\\users\\admin\\appdata\\roaming\\python\\python312\\site-packages (from prompt-toolkit!=3.0.37,<3.1.0,>=3.0.30->IPython->lucem-illud==8.0.1) (0.2.8)\n",
            "Requirement already satisfied: blis<0.8.0,>=0.7.8 in c:\\users\\admin\\anaconda3\\envs\\lib\\site-packages (from thinc<8.3.0,>=8.1.8->spacy->lucem-illud==8.0.1) (0.7.11)\n",
            "Requirement already satisfied: confection<1.0.0,>=0.0.1 in c:\\users\\admin\\anaconda3\\envs\\lib\\site-packages (from thinc<8.3.0,>=8.1.8->spacy->lucem-illud==8.0.1) (0.1.4)\n",
            "Requirement already satisfied: cloudpathlib<0.17.0,>=0.7.0 in c:\\users\\admin\\anaconda3\\envs\\lib\\site-packages (from weasel<0.4.0,>=0.1.0->spacy->lucem-illud==8.0.1) (0.16.0)\n",
            "Requirement already satisfied: MarkupSafe>=2.0 in c:\\users\\admin\\anaconda3\\envs\\lib\\site-packages (from jinja2->spacy->lucem-illud==8.0.1) (2.1.1)\n",
            "Requirement already satisfied: executing>=1.2.0 in c:\\users\\admin\\appdata\\roaming\\python\\python312\\site-packages (from stack-data->IPython->lucem-illud==8.0.1) (2.0.0)\n",
            "Requirement already satisfied: asttokens>=2.1.0 in c:\\users\\admin\\appdata\\roaming\\python\\python312\\site-packages (from stack-data->IPython->lucem-illud==8.0.1) (2.4.0)\n",
            "Requirement already satisfied: pure-eval in c:\\users\\admin\\appdata\\roaming\\python\\python312\\site-packages (from stack-data->IPython->lucem-illud==8.0.1) (0.2.2)\n"
          ]
        },
        {
          "name": "stderr",
          "output_type": "stream",
          "text": [
            "  Running command git clone --filter=blob:none --quiet https://github.com/UChicago-Computational-Content-Analysis/lucem_illud.git 'C:\\Users\\Admin\\AppData\\Local\\Temp\\pip-req-build-utduxqsd'\n"
          ]
        },
        {
          "ename": "ModuleNotFoundError",
          "evalue": "No module named 'models'",
          "output_type": "error",
          "traceback": [
            "\u001b[1;31m---------------------------------------------------------------------------\u001b[0m",
            "\u001b[1;31mModuleNotFoundError\u001b[0m                       Traceback (most recent call last)",
            "Cell \u001b[1;32mIn[6], line 25\u001b[0m\n\u001b[0;32m     20\u001b[0m \u001b[38;5;28;01mimport\u001b[39;00m \u001b[38;5;21;01mscipy\u001b[39;00m \u001b[38;5;28;01mas\u001b[39;00m \u001b[38;5;21;01msp\u001b[39;00m \u001b[38;5;66;03m#for interp\u001b[39;00m\n\u001b[0;32m     22\u001b[0m \u001b[38;5;66;03m# import pyanno #On python3 make sure to pip install pyanno3\u001b[39;00m\n\u001b[0;32m     23\u001b[0m \n\u001b[0;32m     24\u001b[0m \u001b[38;5;66;03m#We need to import these this way due to how pyanno is setup\u001b[39;00m\n\u001b[1;32m---> 25\u001b[0m \u001b[38;5;28;01mfrom\u001b[39;00m \u001b[38;5;21;01mpyanno\u001b[39;00m\u001b[38;5;21;01m.\u001b[39;00m\u001b[38;5;21;01mmeasures\u001b[39;00m \u001b[38;5;28;01mimport\u001b[39;00m pairwise_matrix, agreement, cohens_kappa, cohens_weighted_kappa, fleiss_kappa, krippendorffs_alpha, pearsons_rho, scotts_pi, spearmans_rho\n\u001b[0;32m     26\u001b[0m \u001b[38;5;28;01mfrom\u001b[39;00m \u001b[38;5;21;01mpyanno\u001b[39;00m\u001b[38;5;21;01m.\u001b[39;00m\u001b[38;5;21;01mannotations\u001b[39;00m \u001b[38;5;28;01mimport\u001b[39;00m AnnotationsContainer\n\u001b[0;32m     27\u001b[0m \u001b[38;5;28;01mfrom\u001b[39;00m \u001b[38;5;21;01mpyanno\u001b[39;00m\u001b[38;5;21;01m.\u001b[39;00m\u001b[38;5;21;01mmodels\u001b[39;00m \u001b[38;5;28;01mimport\u001b[39;00m ModelA, ModelBt, ModelB\n",
            "File \u001b[1;32md:\\MACSS PROGRAM\\30122\\MACS-60000-2024-Winter\\week 5\\uchicago-pyanno\\pyanno\\__init__.py:3\u001b[0m\n\u001b[0;32m      1\u001b[0m \u001b[38;5;66;03m# called on package initialization\u001b[39;00m\n\u001b[1;32m----> 3\u001b[0m \u001b[38;5;28;01mimport\u001b[39;00m \u001b[38;5;21;01mmodels\u001b[39;00m\n\u001b[0;32m      4\u001b[0m \u001b[38;5;28;01mimport\u001b[39;00m \u001b[38;5;21;01mmeasures\u001b[39;00m\n\u001b[0;32m      5\u001b[0m \u001b[38;5;28;01mimport\u001b[39;00m \u001b[38;5;21;01mannotations\u001b[39;00m\n",
            "\u001b[1;31mModuleNotFoundError\u001b[0m: No module named 'models'"
          ]
        }
      ],
      "source": [
        "#Special module written for this class\n",
        "#This provides access to data and to helper functions from previous weeks\n",
        "#Make sure you update it before starting this notebook\n",
        "!pip install -U git+https://github.com/UChicago-Computational-Content-Analysis/lucem_illud.git\n",
        "import lucem_illud\n",
        "\n",
        "#All these packages need to be installed from pip\n",
        "#For ML\n",
        "import sklearn\n",
        "# import sklearn.naive_bayes\n",
        "import sklearn.tree\n",
        "import sklearn.ensemble\n",
        "import sklearn.neural_network\n",
        "import sklearn.decomposition\n",
        "\n",
        "import numpy as np #arrays\n",
        "import matplotlib.pyplot as plt #Plots\n",
        "import matplotlib.colors # For nice colours\n",
        "import seaborn #Makes plots look nice, also heatmaps\n",
        "import scipy as sp #for interp\n",
        "\n",
        "# import pyanno #On python3 make sure to pip install pyanno3\n",
        "\n",
        "#We need to import these this way due to how pyanno is setup\n",
        "from pyanno.measures import pairwise_matrix, agreement, cohens_kappa, cohens_weighted_kappa, fleiss_kappa, krippendorffs_alpha, pearsons_rho, scotts_pi, spearmans_rho\n",
        "from pyanno.annotations import AnnotationsContainer\n",
        "from pyanno.models import ModelA, ModelBt, ModelB\n",
        "\n",
        "from functools import reduce\n",
        "from itertools import permutations\n",
        "import math\n",
        "\n",
        "#These are from the standard library\n",
        "import collections\n",
        "import os\n",
        "import os.path\n",
        "import random\n",
        "import re\n",
        "import glob\n",
        "import pandas\n",
        "import requests\n",
        "import json\n",
        "import math\n",
        "\n",
        "#This 'magic' command makes the plots work better\n",
        "#in the notebook, don't use it outside of a notebook.\n",
        "#Also you can ignore the warning\n",
        "%matplotlib inline"
      ]
    },
    {
      "cell_type": "markdown",
      "metadata": {
        "id": "ygXcTc6RZuuA"
      },
      "source": [
        "# Annotations"
      ]
    },
    {
      "cell_type": "markdown",
      "metadata": {
        "id": "sXxeT2E0ZuuA"
      },
      "source": [
        "This is a course on \"computational\" content analysis, but the best computer today is arguably still the human brain (We'll see how far Large Language Models can go). Our aim is to augment human intelligence and scholarship. One of the most important strategies is to have real, live _Homo sapiens_ annotate text, assigning numbers or categories to individual texts. We can computationally compare annotations across humans, and we can use annotations to train computational models.\n",
        "\n",
        "Let's take a quick look at Rzhetsky et al (2009)'s sample dataset, which can be found [here](https://github.com/enthought/uchicago-pyanno/tree/master/data). This data is the result of a content analytic / content extraction study in which Andrey Rzhetsky and colleagues from the National Library of Medicine, published [here](http://journals.plos.org/ploscompbiol/article?id=10.1371/journal.pcbi.1000391) in [PLOS Computational Biology](http://journals.plos.org/ploscompbiol/), gave eight annotators 10,000 sentence chunks from biomedical text in biomedical abstracts and articles, then asked them, in a loop design schematically illustrated below that provided 3 independent codings for each document. The sampling strategy pursued diversity by drawing from PubMed abstracts (1000) and full-text articles (9000: 20% from abstracts, 10% from introductions, 20% from methods, 25% from results, and 25% from discussions.) The dataset extract here involves respondents codes for sentences in terms of their *Evidence*: {0, 1, 2, 3, -1} where 0 is the complete lack of evidence, 3 is direct evidence present within the sentence, and -1 is didn't respond. (They also crowdsourced and analyzed *polarity*, *certainty*, and *number*). For example, consider the following two abutting sentence chunks: *\"Because null mutations in toxR and toxT abolish CT and TcpA expression in the El Tor biotype and also attenuate virulence...\"* [i.e., average certainty = 0], *\"...it is likely that the ToxR regulon has functional similarities between the two biotypes despite the clear differences in the inducing parameters observed in vitro\"* [i.e., average certainty = 1].\""
      ]
    },
    {
      "cell_type": "markdown",
      "metadata": {
        "id": "KMO0_lpWZuuA"
      },
      "source": [
        "<img src=\"https://github.com/UChicago-Computational-Content-Analysis/Homework-Notebooks/blob/main/data/loopdesign.png?raw=true\" alt=\"https://github.com/UChicago-Computational-Content-Analysis/Homework-Notebooks/blob/main/data/loopdesign.png?raw=true\" style=\"width:500px\">"
      ]
    },
    {
      "cell_type": "code",
      "execution_count": 25,
      "metadata": {
        "colab": {
          "base_uri": "https://localhost:8080/"
        },
        "id": "6IiRKnmQJoZw",
        "outputId": "50a08b78-5860-4387-a50e-378bd876e40a"
      },
      "outputs": [
        {
          "name": "stdout",
          "output_type": "stream",
          "text": [
            "Drive already mounted at /content/drive; to attempt to forcibly remount, call drive.mount(\"/content/drive\", force_remount=True).\n"
          ]
        }
      ],
      "source": [
        "from google.colab import drive\n",
        "drive.mount('/content/drive')"
      ]
    },
    {
      "cell_type": "code",
      "execution_count": 2,
      "metadata": {
        "colab": {
          "base_uri": "https://localhost:8080/"
        },
        "id": "6TtsLZzxJx6C",
        "outputId": "da6ee655-d0c6-49ad-e9e6-93dcf273275c"
      },
      "outputs": [
        {
          "name": "stderr",
          "output_type": "stream",
          "text": [
            "Cloning into 'uchicago-pyanno'...\n"
          ]
        }
      ],
      "source": [
        "!git clone https://github.com/enthought/uchicago-pyanno"
      ]
    },
    {
      "cell_type": "code",
      "execution_count": 3,
      "metadata": {
        "colab": {
          "base_uri": "https://localhost:8080/"
        },
        "id": "nMHUYsGrKsWm",
        "outputId": "25ab2f22-5fe9-41f5-d3fd-f251a8c15d32"
      },
      "outputs": [
        {
          "name": "stdout",
          "output_type": "stream",
          "text": [
            "d:\\MACSS PROGRAM\\30122\\MACS-60000-2024-Winter\\week 5\\uchicago-pyanno\n"
          ]
        }
      ],
      "source": [
        "%cd uchicago-pyanno"
      ]
    },
    {
      "cell_type": "code",
      "execution_count": null,
      "metadata": {
        "id": "vi12GI42ZuuA"
      },
      "outputs": [],
      "source": [
        "# Remember if you are on Google Colab, you need to upload or `git clone` the datafile\n",
        "# and your path will probably be something like \"#drive/MyDrive/{where you store on Google Drive}/data/pyAnno/testdata_numerical.txt\"\n",
        "x = np.loadtxt(\"/content/uchicago-pyanno/data/testdata_numerical.txt\")\n",
        "anno = AnnotationsContainer.from_array(x, missing_values=[-1])"
      ]
    },
    {
      "cell_type": "markdown",
      "metadata": {
        "id": "O4LdIWbcZuuB"
      },
      "source": [
        "Interrogate the AnnotationsContainer object."
      ]
    },
    {
      "cell_type": "code",
      "execution_count": 29,
      "metadata": {
        "colab": {
          "base_uri": "https://localhost:8080/"
        },
        "id": "Jb3UKYwdZuuB",
        "outputId": "aa7ef3d3-277e-4117-bd1e-c55e409fa097"
      },
      "outputs": [
        {
          "data": {
            "text/plain": [
              "array([[ 1,  2,  3, ..., -1, -1, -1],\n",
              "       [ 0,  0,  0, ..., -1, -1, -1],\n",
              "       [ 2,  2,  1, ..., -1, -1, -1],\n",
              "       ...,\n",
              "       [ 2,  2, -1, ..., -1, -1,  1],\n",
              "       [ 2,  2, -1, ..., -1, -1,  3],\n",
              "       [ 1,  1, -1, ..., -1, -1,  0]])"
            ]
          },
          "execution_count": 29,
          "metadata": {},
          "output_type": "execute_result"
        }
      ],
      "source": [
        "anno.annotations"
      ]
    },
    {
      "cell_type": "code",
      "execution_count": 30,
      "metadata": {
        "colab": {
          "base_uri": "https://localhost:8080/"
        },
        "id": "2YuQ8G13ZuuB",
        "outputId": "45d19570-b61d-4f32-c4a8-db7774d933f9"
      },
      "outputs": [
        {
          "data": {
            "text/plain": [
              "[1.0, 2.0, 3.0, 4.0]"
            ]
          },
          "execution_count": 30,
          "metadata": {},
          "output_type": "execute_result"
        }
      ],
      "source": [
        "anno.labels"
      ]
    },
    {
      "cell_type": "code",
      "execution_count": 31,
      "metadata": {
        "colab": {
          "base_uri": "https://localhost:8080/"
        },
        "id": "TFG3U3iUZuuB",
        "outputId": "4b6db23d-0391-47dc-d96f-a51d78b01a2e"
      },
      "outputs": [
        {
          "data": {
            "text/plain": [
              "[-1]"
            ]
          },
          "execution_count": 31,
          "metadata": {},
          "output_type": "execute_result"
        }
      ],
      "source": [
        "anno.missing_values"
      ]
    },
    {
      "cell_type": "markdown",
      "metadata": {
        "id": "4BPwBZA6ZuuB"
      },
      "source": [
        "# Annotation Statistics"
      ]
    },
    {
      "cell_type": "markdown",
      "metadata": {
        "id": "xIwAwILDZuuB"
      },
      "source": [
        "First, we assume categorical codes...that each code is qualitatively distinct from each other. Two measures are primarily used for this: Scott's $\\pi$, Cohen's $\\kappa$, and Krippendorff's $\\alpha$ which each measure the extent of agreement between two annotators, but take into account the possibility of the agreement occurring by chance in slightly different ways. Any agreement measure begins with the frequency of codes:"
      ]
    },
    {
      "cell_type": "code",
      "execution_count": null,
      "metadata": {
        "colab": {
          "base_uri": "https://localhost:8080/"
        },
        "id": "XAmZ8HgWZuuB",
        "outputId": "97503147-dd3e-409d-ee5b-016b9803fec5"
      },
      "outputs": [
        {
          "data": {
            "text/plain": [
              "array([0.11666667, 0.245     , 0.34083333, 0.2975    ])"
            ]
          },
          "execution_count": 14,
          "metadata": {},
          "output_type": "execute_result"
        }
      ],
      "source": [
        "pyanno.measures.agreement.labels_frequency(anno.annotations,4)"
      ]
    },
    {
      "cell_type": "markdown",
      "metadata": {
        "id": "VCNeRVnxZuuC"
      },
      "source": [
        "Now consider the \"confusion matrix\" or matrix of coded agreements between any two coders:"
      ]
    },
    {
      "cell_type": "code",
      "execution_count": null,
      "metadata": {
        "colab": {
          "base_uri": "https://localhost:8080/",
          "height": 499
        },
        "id": "O83kmmBGZuuC",
        "outputId": "707ff87c-e3e7-4bf4-a5b5-838fb49cde94"
      },
      "outputs": [
        {
          "name": "stdout",
          "output_type": "stream",
          "text": [
            "[[ 8.  7.  3.  2.]\n",
            " [ 9. 30. 13.  3.]\n",
            " [ 2.  9. 42. 11.]\n",
            " [ 1.  7. 14. 39.]]\n"
          ]
        },
        {
          "data": {
            "image/png": "[encoded data removed]",
            "text/plain": [
              "<Figure size 640x480 with 2 Axes>"
            ]
          },
          "metadata": {},
          "output_type": "display_data"
        }
      ],
      "source": [
        "c = pyanno.measures.agreement.confusion_matrix(anno.annotations[:,0], anno.annotations[:,1],4)\n",
        "print(c)\n",
        "ac = seaborn.heatmap(c)\n",
        "plt.show()"
      ]
    },
    {
      "cell_type": "markdown",
      "metadata": {
        "id": "F1e5LLLjZuuC"
      },
      "source": [
        "Scott's $\\pi$ is computed as:\n",
        "\n",
        "$\\pi = \\frac{\\text{Pr}(a)-\\text{Pr}(e)}{1-\\text{Pr}(e)}$\n",
        "\n",
        "Where Pr($a$) is relative observed agreement, and Pr($e$) is expected agreement using joint proportions calculated from the confusion matrix or matrix of coded agreements between any two coders:"
      ]
    },
    {
      "cell_type": "code",
      "execution_count": null,
      "metadata": {
        "id": "7aualCN8ZuuC"
      },
      "outputs": [],
      "source": [
        "scotts_pi(anno.annotations[:,0], anno.annotations[:,1])"
      ]
    },
    {
      "cell_type": "markdown",
      "metadata": {
        "id": "5YVW7DTXZuuC"
      },
      "source": [
        "The generalization of Scott's $\\pi$ to $n$ coders is Fleiss' $\\kappa$ (Fleiss called it $\\kappa$ because he thought he was generalizing Cohen's $\\kappa$)"
      ]
    },
    {
      "cell_type": "code",
      "execution_count": null,
      "metadata": {
        "id": "uPK53GaoZuuC"
      },
      "outputs": [],
      "source": [
        "fleiss_kappa(anno.annotations[::])"
      ]
    },
    {
      "cell_type": "markdown",
      "metadata": {
        "id": "6xp4jIK5ZuuC"
      },
      "source": [
        "Krippendorff's $\\alpha$ generalizes of Fleiss' $\\kappa$ to $n$ coders and takes into account the fact that annotations here are not categorically different, but ordinal, by adding a weight matrix in which off-diagonal cells contain weights indicating the seriousness of the disagreement between each score. When produced with no arguments, it simply produces an arithmetic distance (e.g., 3-1=2), such that cells one off the diagonal are weighted 1, two off 2, etc."
      ]
    },
    {
      "cell_type": "code",
      "execution_count": null,
      "metadata": {
        "id": "ngQoJTNoZuuC"
      },
      "outputs": [],
      "source": [
        "krippendorffs_alpha(anno.annotations[::])"
      ]
    },
    {
      "cell_type": "markdown",
      "metadata": {
        "id": "bDRPRX9UZuuC"
      },
      "source": [
        "Like Scott's $\\pi$, Cohen's $\\kappa$ also takes into account the possibility of the agreement occurring by chance, but in the following way:\n",
        "\n",
        "$\\kappa = \\frac{p_o-p_e}{1-p_e}=1-\\frac{1-p_o}{p_e}$\n",
        "\n",
        "where $p_o$ is the relative observed agreement among raters, and $p_e$ is the hypothetical probability of chance agreement, using the observed data to calculate the probabilities of each observer randomly saying each category. If the raters are in complete agreement then $\\kappa = 1$. If there is no agreement among the raters other than what would be expected by chance (as given by $p_e$), $\\kappa ≤ 0 $. Here, Cohen's $\\kappa$ statistic for the first two annotators is computed. This is probably the most common metric of agreement."
      ]
    },
    {
      "cell_type": "code",
      "execution_count": null,
      "metadata": {
        "id": "hCXgIN-AZuuC"
      },
      "outputs": [],
      "source": [
        "cohens_kappa(anno.annotations[:,0], anno.annotations[:,1])"
      ]
    },
    {
      "cell_type": "code",
      "execution_count": null,
      "metadata": {
        "id": "d1WFwK0DZuuC"
      },
      "outputs": [],
      "source": [
        "m = pairwise_matrix(cohens_kappa, anno.annotations)\n",
        "print(m)"
      ]
    },
    {
      "cell_type": "code",
      "execution_count": null,
      "metadata": {
        "id": "t_Ie3QDGZuuC"
      },
      "outputs": [],
      "source": [
        "ax = seaborn.heatmap(m)\n",
        "plt.show()"
      ]
    },
    {
      "cell_type": "markdown",
      "metadata": {
        "id": "jgs9t7DsZuuC"
      },
      "source": [
        "You can see that this 8 by 3 loop design will be less stable than an 8 choose 3 combinatorial design, because each codes with more others."
      ]
    },
    {
      "cell_type": "markdown",
      "metadata": {
        "id": "UXDY8U_UZuuC"
      },
      "source": [
        "One can also assess the average Cohen's $\\kappa$ for all pairs of coders that have coded against one another:"
      ]
    },
    {
      "cell_type": "code",
      "execution_count": null,
      "metadata": {
        "id": "586NziZKZuuC"
      },
      "outputs": [],
      "source": [
        "def pairwise_metric_average(metric, array):\n",
        "    \"\"\"Calculate the pairwise metric average for the real elements of metric function run on an array of annotations\"\"\"\n",
        "    p = permutations(range(array[0,:].size),2)\n",
        "    m = [metric(array[:,x[0]], array[:,x[1]]) for x in p]\n",
        "    clean_m = [c for c in m if not math.isnan(c)]\n",
        "    return reduce(lambda a, b: a + b, clean_m)/len(clean_m)\n",
        "\n",
        "pairwise_metric_average(cohens_kappa, anno.annotations)"
      ]
    },
    {
      "cell_type": "markdown",
      "metadata": {
        "id": "T4jFzPhMZuuC"
      },
      "source": [
        "As recognized with Krippendorff's flexible $\\alpha$, our scores are *not* categorical, but rather ordered and her considered metric. Weighted $\\kappa$ allows you to count disagreements differently and is useful when codes are ordered as they are here. Here a weight matrix is added to the calculation, in which off-diagonal cells contain weights indicating the seriousness of the disagreement between each score. When automatically produced, it simply produces an arithmetic distance (e.g., 3-1=2), such that cells one off the diagonal are weighted 1, two off 2, etc. Here\n",
        "\n",
        "$\\kappa = 1-\\frac{\\sum^k_{i=1}\\sum^k_{j=1}w_{ij}x_{ij}}{\\sum^k_{i=1}\\sum^k_{j=1}w_{ij}m_{ij}}$\n",
        "\n",
        "where $\\kappa$ = $n$ codes and $w_{ij}$,$x_{ij}$, and $m_{ij}$ represent elements in the weight, observed, and expected matrices, respectively. (Obviously, when diagonal cells contain weights of 0 and off-diagonal cells weights of 1, this equals $\\kappa$)."
      ]
    },
    {
      "cell_type": "code",
      "execution_count": null,
      "metadata": {
        "id": "muitsi9CZuuC"
      },
      "outputs": [],
      "source": [
        "cohens_weighted_kappa(anno.annotations[:,0], anno.annotations[:,1])"
      ]
    },
    {
      "cell_type": "markdown",
      "metadata": {
        "id": "AHdq46TSZuuC"
      },
      "source": [
        "Or averaged over the total:"
      ]
    },
    {
      "cell_type": "code",
      "execution_count": null,
      "metadata": {
        "id": "FAS18kpSZuuC"
      },
      "outputs": [],
      "source": [
        "pairwise_metric_average(cohens_weighted_kappa,anno.annotations)"
      ]
    },
    {
      "cell_type": "markdown",
      "metadata": {
        "id": "jfI2zkzbZuuD"
      },
      "source": [
        "Alternatively, if the annontation data can be understood as indicating real values, we can assess not agreement, but rather the correlation of values (Pearson's $\\rho$) or correlation of ranks (Spearman's $\\rho$) for pairs of coders:"
      ]
    },
    {
      "cell_type": "code",
      "execution_count": null,
      "metadata": {
        "id": "ALuCa5CIZuuD"
      },
      "outputs": [],
      "source": [
        "n = pairwise_matrix(pearsons_rho, anno.annotations)\n",
        "m = pairwise_matrix(spearmans_rho, anno.annotations)\n",
        "an = seaborn.heatmap(n)\n",
        "plt.show()\n",
        "am = seaborn.heatmap(m)\n",
        "plt.show()"
      ]
    },
    {
      "cell_type": "markdown",
      "metadata": {
        "id": "luQMKiufZuuD"
      },
      "source": [
        "Or averaged over all comparable pairs:"
      ]
    },
    {
      "cell_type": "code",
      "execution_count": null,
      "metadata": {
        "id": "eAsGkelMZuuD"
      },
      "outputs": [],
      "source": [
        "print(pairwise_metric_average(pearsons_rho,anno.annotations), pairwise_metric_average(spearmans_rho,anno.annotations))"
      ]
    },
    {
      "cell_type": "markdown",
      "metadata": {
        "id": "KaZ3pktvZuuD"
      },
      "source": [
        "## <font color=\"red\">*Exercise 1*</font>\n",
        "\n",
        "<font color=\"red\">Perform a content annotation survey of some kind in which at least 3 people evaluate and code each piece of content, using Amazon Mechanical Turk as described in the [MTurk slides on Canvas](https://canvas.uchicago.edu/courses/54694/files/folder/unfiled?preview=10675152), or by hand with friends.  With the resulting data, calculate, visualize and discuss inter-coder agreement or covariation with appropriate metrics. What does this means for the reliability of human assessments regarding content in your domain?"
      ]
    },
    {
      "cell_type": "markdown",
      "metadata": {
        "id": "6PY1EGE5F_68"
      },
      "source": [
        "- Here I'm loading a coding for an open-ended question on a psychology survey I did previously. We have 4 coders in the end, each address whether paricipants desciption of rest opinion (what is rest?) encapsulated certain behaviors (e.g. using social media, go out and walk, etc. we have a detailed coding scheme)\n",
        "\n"
      ]
    },
    {
      "cell_type": "code",
      "execution_count": 38,
      "metadata": {
        "id": "aZ76Y087Qoxy"
      },
      "outputs": [],
      "source": [
        "import pandas as pd\n",
        "import numpy as np\n",
        "# load df from \"expanded_df.csv\"\n",
        "coding_df = pd.read_csv(\"expanded_df.csv\")"
      ]
    },
    {
      "cell_type": "code",
      "execution_count": 39,
      "metadata": {
        "colab": {
          "base_uri": "https://localhost:8080/",
          "height": 401
        },
        "id": "V-n_7FquE3x9",
        "outputId": "9692c098-25dd-4194-c137-b0efb2037caa"
      },
      "outputs": [
        {
          "data": {
            "text/html": [
              "\n",
              "  <div id=\"df-332b6d5a-598f-4488-b18f-53857109c035\" class=\"colab-df-container\">\n",
              "    <div>\n",
              "<style scoped>\n",
              "    .dataframe tbody tr th:only-of-type {\n",
              "        vertical-align: middle;\n",
              "    }\n",
              "\n",
              "    .dataframe tbody tr th {\n",
              "        vertical-align: top;\n",
              "    }\n",
              "\n",
              "    .dataframe thead th {\n",
              "        text-align: right;\n",
              "    }\n",
              "</style>\n",
              "<table border=\"1\" class=\"dataframe\">\n",
              "  <thead>\n",
              "    <tr style=\"text-align: right;\">\n",
              "      <th></th>\n",
              "      <th>Unnamed: 0</th>\n",
              "      <th>Coder 1 - P1</th>\n",
              "      <th>Coder 1 - P2</th>\n",
              "      <th>Coder 1 - P3</th>\n",
              "      <th>Coder 1 - P4</th>\n",
              "      <th>Coder 1 - P5</th>\n",
              "      <th>Coder 1 - P6</th>\n",
              "      <th>Coder 1 - P7</th>\n",
              "      <th>Coder 1 - P8</th>\n",
              "      <th>Coder 1 - P9</th>\n",
              "      <th>...</th>\n",
              "      <th>Coder 4 - P11</th>\n",
              "      <th>Coder 4 - P12</th>\n",
              "      <th>Coder 4 - P13</th>\n",
              "      <th>Coder 4 - P14</th>\n",
              "      <th>Coder 4 - P15</th>\n",
              "      <th>Coder 4 - P16</th>\n",
              "      <th>Coder 4 - P17</th>\n",
              "      <th>Coder 4 - P18</th>\n",
              "      <th>Coder 4 - P19</th>\n",
              "      <th>Coder 4 - P20</th>\n",
              "    </tr>\n",
              "  </thead>\n",
              "  <tbody>\n",
              "    <tr>\n",
              "      <th>0</th>\n",
              "      <td>TV</td>\n",
              "      <td>1</td>\n",
              "      <td>0</td>\n",
              "      <td>1</td>\n",
              "      <td>1</td>\n",
              "      <td>1</td>\n",
              "      <td>1</td>\n",
              "      <td>1</td>\n",
              "      <td>1</td>\n",
              "      <td>1</td>\n",
              "      <td>...</td>\n",
              "      <td>1</td>\n",
              "      <td>1</td>\n",
              "      <td>1</td>\n",
              "      <td>1</td>\n",
              "      <td>1</td>\n",
              "      <td>1</td>\n",
              "      <td>1</td>\n",
              "      <td>1</td>\n",
              "      <td>1</td>\n",
              "      <td>1</td>\n",
              "    </tr>\n",
              "    <tr>\n",
              "      <th>1</th>\n",
              "      <td>Youtube/other</td>\n",
              "      <td>1</td>\n",
              "      <td>1</td>\n",
              "      <td>1</td>\n",
              "      <td>1</td>\n",
              "      <td>1</td>\n",
              "      <td>1</td>\n",
              "      <td>1</td>\n",
              "      <td>1</td>\n",
              "      <td>1</td>\n",
              "      <td>...</td>\n",
              "      <td>1</td>\n",
              "      <td>1</td>\n",
              "      <td>1</td>\n",
              "      <td>1</td>\n",
              "      <td>1</td>\n",
              "      <td>1</td>\n",
              "      <td>0</td>\n",
              "      <td>1</td>\n",
              "      <td>0</td>\n",
              "      <td>1</td>\n",
              "    </tr>\n",
              "    <tr>\n",
              "      <th>2</th>\n",
              "      <td>Music</td>\n",
              "      <td>1</td>\n",
              "      <td>1</td>\n",
              "      <td>1</td>\n",
              "      <td>1</td>\n",
              "      <td>1</td>\n",
              "      <td>1</td>\n",
              "      <td>1</td>\n",
              "      <td>1</td>\n",
              "      <td>1</td>\n",
              "      <td>...</td>\n",
              "      <td>1</td>\n",
              "      <td>1</td>\n",
              "      <td>0</td>\n",
              "      <td>1</td>\n",
              "      <td>1</td>\n",
              "      <td>1</td>\n",
              "      <td>1</td>\n",
              "      <td>1</td>\n",
              "      <td>1</td>\n",
              "      <td>1</td>\n",
              "    </tr>\n",
              "    <tr>\n",
              "      <th>3</th>\n",
              "      <td>Social Media</td>\n",
              "      <td>1</td>\n",
              "      <td>0</td>\n",
              "      <td>0</td>\n",
              "      <td>0</td>\n",
              "      <td>0</td>\n",
              "      <td>0</td>\n",
              "      <td>0</td>\n",
              "      <td>0</td>\n",
              "      <td>0</td>\n",
              "      <td>...</td>\n",
              "      <td>0</td>\n",
              "      <td>0</td>\n",
              "      <td>0</td>\n",
              "      <td>1</td>\n",
              "      <td>0</td>\n",
              "      <td>0</td>\n",
              "      <td>1</td>\n",
              "      <td>0</td>\n",
              "      <td>0</td>\n",
              "      <td>0</td>\n",
              "    </tr>\n",
              "    <tr>\n",
              "      <th>4</th>\n",
              "      <td>Walk</td>\n",
              "      <td>1</td>\n",
              "      <td>1</td>\n",
              "      <td>1</td>\n",
              "      <td>1</td>\n",
              "      <td>1</td>\n",
              "      <td>1</td>\n",
              "      <td>1</td>\n",
              "      <td>1</td>\n",
              "      <td>1</td>\n",
              "      <td>...</td>\n",
              "      <td>1</td>\n",
              "      <td>1</td>\n",
              "      <td>1</td>\n",
              "      <td>0</td>\n",
              "      <td>1</td>\n",
              "      <td>1</td>\n",
              "      <td>1</td>\n",
              "      <td>1</td>\n",
              "      <td>1</td>\n",
              "      <td>1</td>\n",
              "    </tr>\n",
              "    <tr>\n",
              "      <th>5</th>\n",
              "      <td>Exercise</td>\n",
              "      <td>1</td>\n",
              "      <td>0</td>\n",
              "      <td>0</td>\n",
              "      <td>0</td>\n",
              "      <td>0</td>\n",
              "      <td>0</td>\n",
              "      <td>0</td>\n",
              "      <td>1</td>\n",
              "      <td>0</td>\n",
              "      <td>...</td>\n",
              "      <td>1</td>\n",
              "      <td>1</td>\n",
              "      <td>1</td>\n",
              "      <td>1</td>\n",
              "      <td>1</td>\n",
              "      <td>1</td>\n",
              "      <td>1</td>\n",
              "      <td>1</td>\n",
              "      <td>1</td>\n",
              "      <td>1</td>\n",
              "    </tr>\n",
              "    <tr>\n",
              "      <th>6</th>\n",
              "      <td>Social</td>\n",
              "      <td>0</td>\n",
              "      <td>1</td>\n",
              "      <td>0</td>\n",
              "      <td>0</td>\n",
              "      <td>0</td>\n",
              "      <td>0</td>\n",
              "      <td>0</td>\n",
              "      <td>1</td>\n",
              "      <td>0</td>\n",
              "      <td>...</td>\n",
              "      <td>0</td>\n",
              "      <td>0</td>\n",
              "      <td>0</td>\n",
              "      <td>0</td>\n",
              "      <td>0</td>\n",
              "      <td>0</td>\n",
              "      <td>0</td>\n",
              "      <td>0</td>\n",
              "      <td>0</td>\n",
              "      <td>0</td>\n",
              "    </tr>\n",
              "    <tr>\n",
              "      <th>7</th>\n",
              "      <td>Mindful practice</td>\n",
              "      <td>1</td>\n",
              "      <td>0</td>\n",
              "      <td>1</td>\n",
              "      <td>0</td>\n",
              "      <td>0</td>\n",
              "      <td>0</td>\n",
              "      <td>1</td>\n",
              "      <td>0</td>\n",
              "      <td>0</td>\n",
              "      <td>...</td>\n",
              "      <td>1</td>\n",
              "      <td>1</td>\n",
              "      <td>0</td>\n",
              "      <td>0</td>\n",
              "      <td>0</td>\n",
              "      <td>1</td>\n",
              "      <td>1</td>\n",
              "      <td>1</td>\n",
              "      <td>1</td>\n",
              "      <td>1</td>\n",
              "    </tr>\n",
              "  </tbody>\n",
              "</table>\n",
              "<p>8 rows × 81 columns</p>\n",
              "</div>\n",
              "    <div class=\"colab-df-buttons\">\n",
              "\n",
              "  <div class=\"colab-df-container\">\n",
              "    <button class=\"colab-df-convert\" onclick=\"convertToInteractive('df-332b6d5a-598f-4488-b18f-53857109c035')\"\n",
              "            title=\"Convert this dataframe to an interactive table.\"\n",
              "            style=\"display:none;\">\n",
              "\n",
              "  <svg xmlns=\"http://www.w3.org/2000/svg\" height=\"24px\" viewBox=\"0 -960 960 960\">\n",
              "    <path d=\"M120-120v-720h720v720H120Zm60-500h600v-160H180v160Zm220 220h160v-160H400v160Zm0 220h160v-160H400v160ZM180-400h160v-160H180v160Zm440 0h160v-160H620v160ZM180-180h160v-160H180v160Zm440 0h160v-160H620v160Z\"/>\n",
              "  </svg>\n",
              "    </button>\n",
              "\n",
              "  <style>\n",
              "    .colab-df-container {\n",
              "      display:flex;\n",
              "      gap: 12px;\n",
              "    }\n",
              "\n",
              "    .colab-df-convert {\n",
              "      background-color: #E8F0FE;\n",
              "      border: none;\n",
              "      border-radius: 50%;\n",
              "      cursor: pointer;\n",
              "      display: none;\n",
              "      fill: #1967D2;\n",
              "      height: 32px;\n",
              "      padding: 0 0 0 0;\n",
              "      width: 32px;\n",
              "    }\n",
              "\n",
              "    .colab-df-convert:hover {\n",
              "      background-color: #E2EBFA;\n",
              "      box-shadow: 0px 1px 2px rgba(60, 64, 67, 0.3), 0px 1px 3px 1px rgba(60, 64, 67, 0.15);\n",
              "      fill: #174EA6;\n",
              "    }\n",
              "\n",
              "    .colab-df-buttons div {\n",
              "      margin-bottom: 4px;\n",
              "    }\n",
              "\n",
              "    [theme=dark] .colab-df-convert {\n",
              "      background-color: #3B4455;\n",
              "      fill: #D2E3FC;\n",
              "    }\n",
              "\n",
              "    [theme=dark] .colab-df-convert:hover {\n",
              "      background-color: #434B5C;\n",
              "      box-shadow: 0px 1px 3px 1px rgba(0, 0, 0, 0.15);\n",
              "      filter: drop-shadow(0px 1px 2px rgba(0, 0, 0, 0.3));\n",
              "      fill: #FFFFFF;\n",
              "    }\n",
              "  </style>\n",
              "\n",
              "    <script>\n",
              "      const buttonEl =\n",
              "        document.querySelector('#df-332b6d5a-598f-4488-b18f-53857109c035 button.colab-df-convert');\n",
              "      buttonEl.style.display =\n",
              "        google.colab.kernel.accessAllowed ? 'block' : 'none';\n",
              "\n",
              "      async function convertToInteractive(key) {\n",
              "        const element = document.querySelector('#df-332b6d5a-598f-4488-b18f-53857109c035');\n",
              "        const dataTable =\n",
              "          await google.colab.kernel.invokeFunction('convertToInteractive',\n",
              "                                                    [key], {});\n",
              "        if (!dataTable) return;\n",
              "\n",
              "        const docLinkHtml = 'Like what you see? Visit the ' +\n",
              "          '<a target=\"_blank\" href=https://colab.research.google.com/notebooks/data_table.ipynb>data table notebook</a>'\n",
              "          + ' to learn more about interactive tables.';\n",
              "        element.innerHTML = '';\n",
              "        dataTable['output_type'] = 'display_data';\n",
              "        await google.colab.output.renderOutput(dataTable, element);\n",
              "        const docLink = document.createElement('div');\n",
              "        docLink.innerHTML = docLinkHtml;\n",
              "        element.appendChild(docLink);\n",
              "      }\n",
              "    </script>\n",
              "  </div>\n",
              "\n",
              "\n",
              "<div id=\"df-1ab77f0e-5e63-4797-87d8-0f30ad4b92e8\">\n",
              "  <button class=\"colab-df-quickchart\" onclick=\"quickchart('df-1ab77f0e-5e63-4797-87d8-0f30ad4b92e8')\"\n",
              "            title=\"Suggest charts\"\n",
              "            style=\"display:none;\">\n",
              "\n",
              "<svg xmlns=\"http://www.w3.org/2000/svg\" height=\"24px\"viewBox=\"0 0 24 24\"\n",
              "     width=\"24px\">\n",
              "    <g>\n",
              "        <path d=\"M19 3H5c-1.1 0-2 .9-2 2v14c0 1.1.9 2 2 2h14c1.1 0 2-.9 2-2V5c0-1.1-.9-2-2-2zM9 17H7v-7h2v7zm4 0h-2V7h2v10zm4 0h-2v-4h2v4z\"/>\n",
              "    </g>\n",
              "</svg>\n",
              "  </button>\n",
              "\n",
              "<style>\n",
              "  .colab-df-quickchart {\n",
              "      --bg-color: #E8F0FE;\n",
              "      --fill-color: #1967D2;\n",
              "      --hover-bg-color: #E2EBFA;\n",
              "      --hover-fill-color: #174EA6;\n",
              "      --disabled-fill-color: #AAA;\n",
              "      --disabled-bg-color: #DDD;\n",
              "  }\n",
              "\n",
              "  [theme=dark] .colab-df-quickchart {\n",
              "      --bg-color: #3B4455;\n",
              "      --fill-color: #D2E3FC;\n",
              "      --hover-bg-color: #434B5C;\n",
              "      --hover-fill-color: #FFFFFF;\n",
              "      --disabled-bg-color: #3B4455;\n",
              "      --disabled-fill-color: #666;\n",
              "  }\n",
              "\n",
              "  .colab-df-quickchart {\n",
              "    background-color: var(--bg-color);\n",
              "    border: none;\n",
              "    border-radius: 50%;\n",
              "    cursor: pointer;\n",
              "    display: none;\n",
              "    fill: var(--fill-color);\n",
              "    height: 32px;\n",
              "    padding: 0;\n",
              "    width: 32px;\n",
              "  }\n",
              "\n",
              "  .colab-df-quickchart:hover {\n",
              "    background-color: var(--hover-bg-color);\n",
              "    box-shadow: 0 1px 2px rgba(60, 64, 67, 0.3), 0 1px 3px 1px rgba(60, 64, 67, 0.15);\n",
              "    fill: var(--button-hover-fill-color);\n",
              "  }\n",
              "\n",
              "  .colab-df-quickchart-complete:disabled,\n",
              "  .colab-df-quickchart-complete:disabled:hover {\n",
              "    background-color: var(--disabled-bg-color);\n",
              "    fill: var(--disabled-fill-color);\n",
              "    box-shadow: none;\n",
              "  }\n",
              "\n",
              "  .colab-df-spinner {\n",
              "    border: 2px solid var(--fill-color);\n",
              "    border-color: transparent;\n",
              "    border-bottom-color: var(--fill-color);\n",
              "    animation:\n",
              "      spin 1s steps(1) infinite;\n",
              "  }\n",
              "\n",
              "  @keyframes spin {\n",
              "    0% {\n",
              "      border-color: transparent;\n",
              "      border-bottom-color: var(--fill-color);\n",
              "      border-left-color: var(--fill-color);\n",
              "    }\n",
              "    20% {\n",
              "      border-color: transparent;\n",
              "      border-left-color: var(--fill-color);\n",
              "      border-top-color: var(--fill-color);\n",
              "    }\n",
              "    30% {\n",
              "      border-color: transparent;\n",
              "      border-left-color: var(--fill-color);\n",
              "      border-top-color: var(--fill-color);\n",
              "      border-right-color: var(--fill-color);\n",
              "    }\n",
              "    40% {\n",
              "      border-color: transparent;\n",
              "      border-right-color: var(--fill-color);\n",
              "      border-top-color: var(--fill-color);\n",
              "    }\n",
              "    60% {\n",
              "      border-color: transparent;\n",
              "      border-right-color: var(--fill-color);\n",
              "    }\n",
              "    80% {\n",
              "      border-color: transparent;\n",
              "      border-right-color: var(--fill-color);\n",
              "      border-bottom-color: var(--fill-color);\n",
              "    }\n",
              "    90% {\n",
              "      border-color: transparent;\n",
              "      border-bottom-color: var(--fill-color);\n",
              "    }\n",
              "  }\n",
              "</style>\n",
              "\n",
              "  <script>\n",
              "    async function quickchart(key) {\n",
              "      const quickchartButtonEl =\n",
              "        document.querySelector('#' + key + ' button');\n",
              "      quickchartButtonEl.disabled = true;  // To prevent multiple clicks.\n",
              "      quickchartButtonEl.classList.add('colab-df-spinner');\n",
              "      try {\n",
              "        const charts = await google.colab.kernel.invokeFunction(\n",
              "            'suggestCharts', [key], {});\n",
              "      } catch (error) {\n",
              "        console.error('Error during call to suggestCharts:', error);\n",
              "      }\n",
              "      quickchartButtonEl.classList.remove('colab-df-spinner');\n",
              "      quickchartButtonEl.classList.add('colab-df-quickchart-complete');\n",
              "    }\n",
              "    (() => {\n",
              "      let quickchartButtonEl =\n",
              "        document.querySelector('#df-1ab77f0e-5e63-4797-87d8-0f30ad4b92e8 button');\n",
              "      quickchartButtonEl.style.display =\n",
              "        google.colab.kernel.accessAllowed ? 'block' : 'none';\n",
              "    })();\n",
              "  </script>\n",
              "</div>\n",
              "\n",
              "  <div id=\"id_dfbbc8ce-9619-49c5-8f49-f3e7f8ebca3f\">\n",
              "    <style>\n",
              "      .colab-df-generate {\n",
              "        background-color: #E8F0FE;\n",
              "        border: none;\n",
              "        border-radius: 50%;\n",
              "        cursor: pointer;\n",
              "        display: none;\n",
              "        fill: #1967D2;\n",
              "        height: 32px;\n",
              "        padding: 0 0 0 0;\n",
              "        width: 32px;\n",
              "      }\n",
              "\n",
              "      .colab-df-generate:hover {\n",
              "        background-color: #E2EBFA;\n",
              "        box-shadow: 0px 1px 2px rgba(60, 64, 67, 0.3), 0px 1px 3px 1px rgba(60, 64, 67, 0.15);\n",
              "        fill: #174EA6;\n",
              "      }\n",
              "\n",
              "      [theme=dark] .colab-df-generate {\n",
              "        background-color: #3B4455;\n",
              "        fill: #D2E3FC;\n",
              "      }\n",
              "\n",
              "      [theme=dark] .colab-df-generate:hover {\n",
              "        background-color: #434B5C;\n",
              "        box-shadow: 0px 1px 3px 1px rgba(0, 0, 0, 0.15);\n",
              "        filter: drop-shadow(0px 1px 2px rgba(0, 0, 0, 0.3));\n",
              "        fill: #FFFFFF;\n",
              "      }\n",
              "    </style>\n",
              "    <button class=\"colab-df-generate\" onclick=\"generateWithVariable('coding_df')\"\n",
              "            title=\"Generate code using this dataframe.\"\n",
              "            style=\"display:none;\">\n",
              "\n",
              "  <svg xmlns=\"http://www.w3.org/2000/svg\" height=\"24px\"viewBox=\"0 0 24 24\"\n",
              "       width=\"24px\">\n",
              "    <path d=\"M7,19H8.4L18.45,9,17,7.55,7,17.6ZM5,21V16.75L18.45,3.32a2,2,0,0,1,2.83,0l1.4,1.43a1.91,1.91,0,0,1,.58,1.4,1.91,1.91,0,0,1-.58,1.4L9.25,21ZM18.45,9,17,7.55Zm-12,3A5.31,5.31,0,0,0,4.9,8.1,5.31,5.31,0,0,0,1,6.5,5.31,5.31,0,0,0,4.9,4.9,5.31,5.31,0,0,0,6.5,1,5.31,5.31,0,0,0,8.1,4.9,5.31,5.31,0,0,0,12,6.5,5.46,5.46,0,0,0,6.5,12Z\"/>\n",
              "  </svg>\n",
              "    </button>\n",
              "    <script>\n",
              "      (() => {\n",
              "      const buttonEl =\n",
              "        document.querySelector('#id_dfbbc8ce-9619-49c5-8f49-f3e7f8ebca3f button.colab-df-generate');\n",
              "      buttonEl.style.display =\n",
              "        google.colab.kernel.accessAllowed ? 'block' : 'none';\n",
              "\n",
              "      buttonEl.onclick = () => {\n",
              "        google.colab.notebook.generateWithVariable('coding_df');\n",
              "      }\n",
              "      })();\n",
              "    </script>\n",
              "  </div>\n",
              "\n",
              "    </div>\n",
              "  </div>\n"
            ],
            "text/plain": [
              "         Unnamed: 0  Coder 1 - P1  Coder 1 - P2  Coder 1 - P3  Coder 1 - P4  \\\n",
              "0                TV             1             0             1             1   \n",
              "1     Youtube/other             1             1             1             1   \n",
              "2             Music             1             1             1             1   \n",
              "3      Social Media             1             0             0             0   \n",
              "4              Walk             1             1             1             1   \n",
              "5          Exercise             1             0             0             0   \n",
              "6            Social             0             1             0             0   \n",
              "7  Mindful practice             1             0             1             0   \n",
              "\n",
              "   Coder 1 - P5  Coder 1 - P6  Coder 1 - P7  Coder 1 - P8  Coder 1 - P9  ...  \\\n",
              "0             1             1             1             1             1  ...   \n",
              "1             1             1             1             1             1  ...   \n",
              "2             1             1             1             1             1  ...   \n",
              "3             0             0             0             0             0  ...   \n",
              "4             1             1             1             1             1  ...   \n",
              "5             0             0             0             1             0  ...   \n",
              "6             0             0             0             1             0  ...   \n",
              "7             0             0             1             0             0  ...   \n",
              "\n",
              "   Coder 4 - P11  Coder 4 - P12  Coder 4 - P13  Coder 4 - P14  Coder 4 - P15  \\\n",
              "0              1              1              1              1              1   \n",
              "1              1              1              1              1              1   \n",
              "2              1              1              0              1              1   \n",
              "3              0              0              0              1              0   \n",
              "4              1              1              1              0              1   \n",
              "5              1              1              1              1              1   \n",
              "6              0              0              0              0              0   \n",
              "7              1              1              0              0              0   \n",
              "\n",
              "   Coder 4 - P16  Coder 4 - P17  Coder 4 - P18  Coder 4 - P19  Coder 4 - P20  \n",
              "0              1              1              1              1              1  \n",
              "1              1              0              1              0              1  \n",
              "2              1              1              1              1              1  \n",
              "3              0              1              0              0              0  \n",
              "4              1              1              1              1              1  \n",
              "5              1              1              1              1              1  \n",
              "6              0              0              0              0              0  \n",
              "7              1              1              1              1              1  \n",
              "\n",
              "[8 rows x 81 columns]"
            ]
          },
          "execution_count": 39,
          "metadata": {},
          "output_type": "execute_result"
        }
      ],
      "source": [
        "coding_df"
      ]
    },
    {
      "cell_type": "code",
      "execution_count": 42,
      "metadata": {
        "id": "fnxPKn73HEn1"
      },
      "outputs": [],
      "source": [
        "# change first column to be the index\n",
        "coding_df = coding_df.set_index(coding_df.columns[0])"
      ]
    },
    {
      "cell_type": "code",
      "execution_count": 43,
      "metadata": {
        "colab": {
          "base_uri": "https://localhost:8080/",
          "height": 321
        },
        "id": "1zRDq36DHI8P",
        "outputId": "7a67bb3a-4f9a-4d02-f363-bc536f11d806"
      },
      "outputs": [
        {
          "data": {
            "text/html": [
              "\n",
              "  <div id=\"df-11978dc5-3022-49b0-9a3a-59861c142dfd\" class=\"colab-df-container\">\n",
              "    <div>\n",
              "<style scoped>\n",
              "    .dataframe tbody tr th:only-of-type {\n",
              "        vertical-align: middle;\n",
              "    }\n",
              "\n",
              "    .dataframe tbody tr th {\n",
              "        vertical-align: top;\n",
              "    }\n",
              "\n",
              "    .dataframe thead th {\n",
              "        text-align: right;\n",
              "    }\n",
              "</style>\n",
              "<table border=\"1\" class=\"dataframe\">\n",
              "  <thead>\n",
              "    <tr style=\"text-align: right;\">\n",
              "      <th></th>\n",
              "      <th>Coder 1 - P1</th>\n",
              "      <th>Coder 1 - P2</th>\n",
              "      <th>Coder 1 - P3</th>\n",
              "      <th>Coder 1 - P4</th>\n",
              "      <th>Coder 1 - P5</th>\n",
              "      <th>Coder 1 - P6</th>\n",
              "      <th>Coder 1 - P7</th>\n",
              "      <th>Coder 1 - P8</th>\n",
              "      <th>Coder 1 - P9</th>\n",
              "      <th>Coder 1 - P10</th>\n",
              "      <th>...</th>\n",
              "      <th>Coder 4 - P11</th>\n",
              "      <th>Coder 4 - P12</th>\n",
              "      <th>Coder 4 - P13</th>\n",
              "      <th>Coder 4 - P14</th>\n",
              "      <th>Coder 4 - P15</th>\n",
              "      <th>Coder 4 - P16</th>\n",
              "      <th>Coder 4 - P17</th>\n",
              "      <th>Coder 4 - P18</th>\n",
              "      <th>Coder 4 - P19</th>\n",
              "      <th>Coder 4 - P20</th>\n",
              "    </tr>\n",
              "    <tr>\n",
              "      <th>Unnamed: 0</th>\n",
              "      <th></th>\n",
              "      <th></th>\n",
              "      <th></th>\n",
              "      <th></th>\n",
              "      <th></th>\n",
              "      <th></th>\n",
              "      <th></th>\n",
              "      <th></th>\n",
              "      <th></th>\n",
              "      <th></th>\n",
              "      <th></th>\n",
              "      <th></th>\n",
              "      <th></th>\n",
              "      <th></th>\n",
              "      <th></th>\n",
              "      <th></th>\n",
              "      <th></th>\n",
              "      <th></th>\n",
              "      <th></th>\n",
              "      <th></th>\n",
              "      <th></th>\n",
              "    </tr>\n",
              "  </thead>\n",
              "  <tbody>\n",
              "    <tr>\n",
              "      <th>TV</th>\n",
              "      <td>1</td>\n",
              "      <td>0</td>\n",
              "      <td>1</td>\n",
              "      <td>1</td>\n",
              "      <td>1</td>\n",
              "      <td>1</td>\n",
              "      <td>1</td>\n",
              "      <td>1</td>\n",
              "      <td>1</td>\n",
              "      <td>1</td>\n",
              "      <td>...</td>\n",
              "      <td>1</td>\n",
              "      <td>1</td>\n",
              "      <td>1</td>\n",
              "      <td>1</td>\n",
              "      <td>1</td>\n",
              "      <td>1</td>\n",
              "      <td>1</td>\n",
              "      <td>1</td>\n",
              "      <td>1</td>\n",
              "      <td>1</td>\n",
              "    </tr>\n",
              "    <tr>\n",
              "      <th>Youtube/other</th>\n",
              "      <td>1</td>\n",
              "      <td>1</td>\n",
              "      <td>1</td>\n",
              "      <td>1</td>\n",
              "      <td>1</td>\n",
              "      <td>1</td>\n",
              "      <td>1</td>\n",
              "      <td>1</td>\n",
              "      <td>1</td>\n",
              "      <td>1</td>\n",
              "      <td>...</td>\n",
              "      <td>1</td>\n",
              "      <td>1</td>\n",
              "      <td>1</td>\n",
              "      <td>1</td>\n",
              "      <td>1</td>\n",
              "      <td>1</td>\n",
              "      <td>0</td>\n",
              "      <td>1</td>\n",
              "      <td>0</td>\n",
              "      <td>1</td>\n",
              "    </tr>\n",
              "    <tr>\n",
              "      <th>Music</th>\n",
              "      <td>1</td>\n",
              "      <td>1</td>\n",
              "      <td>1</td>\n",
              "      <td>1</td>\n",
              "      <td>1</td>\n",
              "      <td>1</td>\n",
              "      <td>1</td>\n",
              "      <td>1</td>\n",
              "      <td>1</td>\n",
              "      <td>1</td>\n",
              "      <td>...</td>\n",
              "      <td>1</td>\n",
              "      <td>1</td>\n",
              "      <td>0</td>\n",
              "      <td>1</td>\n",
              "      <td>1</td>\n",
              "      <td>1</td>\n",
              "      <td>1</td>\n",
              "      <td>1</td>\n",
              "      <td>1</td>\n",
              "      <td>1</td>\n",
              "    </tr>\n",
              "    <tr>\n",
              "      <th>Social Media</th>\n",
              "      <td>1</td>\n",
              "      <td>0</td>\n",
              "      <td>0</td>\n",
              "      <td>0</td>\n",
              "      <td>0</td>\n",
              "      <td>0</td>\n",
              "      <td>0</td>\n",
              "      <td>0</td>\n",
              "      <td>0</td>\n",
              "      <td>0</td>\n",
              "      <td>...</td>\n",
              "      <td>0</td>\n",
              "      <td>0</td>\n",
              "      <td>0</td>\n",
              "      <td>1</td>\n",
              "      <td>0</td>\n",
              "      <td>0</td>\n",
              "      <td>1</td>\n",
              "      <td>0</td>\n",
              "      <td>0</td>\n",
              "      <td>0</td>\n",
              "    </tr>\n",
              "    <tr>\n",
              "      <th>Walk</th>\n",
              "      <td>1</td>\n",
              "      <td>1</td>\n",
              "      <td>1</td>\n",
              "      <td>1</td>\n",
              "      <td>1</td>\n",
              "      <td>1</td>\n",
              "      <td>1</td>\n",
              "      <td>1</td>\n",
              "      <td>1</td>\n",
              "      <td>1</td>\n",
              "      <td>...</td>\n",
              "      <td>1</td>\n",
              "      <td>1</td>\n",
              "      <td>1</td>\n",
              "      <td>0</td>\n",
              "      <td>1</td>\n",
              "      <td>1</td>\n",
              "      <td>1</td>\n",
              "      <td>1</td>\n",
              "      <td>1</td>\n",
              "      <td>1</td>\n",
              "    </tr>\n",
              "  </tbody>\n",
              "</table>\n",
              "<p>5 rows × 80 columns</p>\n",
              "</div>\n",
              "    <div class=\"colab-df-buttons\">\n",
              "\n",
              "  <div class=\"colab-df-container\">\n",
              "    <button class=\"colab-df-convert\" onclick=\"convertToInteractive('df-11978dc5-3022-49b0-9a3a-59861c142dfd')\"\n",
              "            title=\"Convert this dataframe to an interactive table.\"\n",
              "            style=\"display:none;\">\n",
              "\n",
              "  <svg xmlns=\"http://www.w3.org/2000/svg\" height=\"24px\" viewBox=\"0 -960 960 960\">\n",
              "    <path d=\"M120-120v-720h720v720H120Zm60-500h600v-160H180v160Zm220 220h160v-160H400v160Zm0 220h160v-160H400v160ZM180-400h160v-160H180v160Zm440 0h160v-160H620v160ZM180-180h160v-160H180v160Zm440 0h160v-160H620v160Z\"/>\n",
              "  </svg>\n",
              "    </button>\n",
              "\n",
              "  <style>\n",
              "    .colab-df-container {\n",
              "      display:flex;\n",
              "      gap: 12px;\n",
              "    }\n",
              "\n",
              "    .colab-df-convert {\n",
              "      background-color: #E8F0FE;\n",
              "      border: none;\n",
              "      border-radius: 50%;\n",
              "      cursor: pointer;\n",
              "      display: none;\n",
              "      fill: #1967D2;\n",
              "      height: 32px;\n",
              "      padding: 0 0 0 0;\n",
              "      width: 32px;\n",
              "    }\n",
              "\n",
              "    .colab-df-convert:hover {\n",
              "      background-color: #E2EBFA;\n",
              "      box-shadow: 0px 1px 2px rgba(60, 64, 67, 0.3), 0px 1px 3px 1px rgba(60, 64, 67, 0.15);\n",
              "      fill: #174EA6;\n",
              "    }\n",
              "\n",
              "    .colab-df-buttons div {\n",
              "      margin-bottom: 4px;\n",
              "    }\n",
              "\n",
              "    [theme=dark] .colab-df-convert {\n",
              "      background-color: #3B4455;\n",
              "      fill: #D2E3FC;\n",
              "    }\n",
              "\n",
              "    [theme=dark] .colab-df-convert:hover {\n",
              "      background-color: #434B5C;\n",
              "      box-shadow: 0px 1px 3px 1px rgba(0, 0, 0, 0.15);\n",
              "      filter: drop-shadow(0px 1px 2px rgba(0, 0, 0, 0.3));\n",
              "      fill: #FFFFFF;\n",
              "    }\n",
              "  </style>\n",
              "\n",
              "    <script>\n",
              "      const buttonEl =\n",
              "        document.querySelector('#df-11978dc5-3022-49b0-9a3a-59861c142dfd button.colab-df-convert');\n",
              "      buttonEl.style.display =\n",
              "        google.colab.kernel.accessAllowed ? 'block' : 'none';\n",
              "\n",
              "      async function convertToInteractive(key) {\n",
              "        const element = document.querySelector('#df-11978dc5-3022-49b0-9a3a-59861c142dfd');\n",
              "        const dataTable =\n",
              "          await google.colab.kernel.invokeFunction('convertToInteractive',\n",
              "                                                    [key], {});\n",
              "        if (!dataTable) return;\n",
              "\n",
              "        const docLinkHtml = 'Like what you see? Visit the ' +\n",
              "          '<a target=\"_blank\" href=https://colab.research.google.com/notebooks/data_table.ipynb>data table notebook</a>'\n",
              "          + ' to learn more about interactive tables.';\n",
              "        element.innerHTML = '';\n",
              "        dataTable['output_type'] = 'display_data';\n",
              "        await google.colab.output.renderOutput(dataTable, element);\n",
              "        const docLink = document.createElement('div');\n",
              "        docLink.innerHTML = docLinkHtml;\n",
              "        element.appendChild(docLink);\n",
              "      }\n",
              "    </script>\n",
              "  </div>\n",
              "\n",
              "\n",
              "<div id=\"df-54d23039-9787-46ac-b58f-356d6e1ed9d5\">\n",
              "  <button class=\"colab-df-quickchart\" onclick=\"quickchart('df-54d23039-9787-46ac-b58f-356d6e1ed9d5')\"\n",
              "            title=\"Suggest charts\"\n",
              "            style=\"display:none;\">\n",
              "\n",
              "<svg xmlns=\"http://www.w3.org/2000/svg\" height=\"24px\"viewBox=\"0 0 24 24\"\n",
              "     width=\"24px\">\n",
              "    <g>\n",
              "        <path d=\"M19 3H5c-1.1 0-2 .9-2 2v14c0 1.1.9 2 2 2h14c1.1 0 2-.9 2-2V5c0-1.1-.9-2-2-2zM9 17H7v-7h2v7zm4 0h-2V7h2v10zm4 0h-2v-4h2v4z\"/>\n",
              "    </g>\n",
              "</svg>\n",
              "  </button>\n",
              "\n",
              "<style>\n",
              "  .colab-df-quickchart {\n",
              "      --bg-color: #E8F0FE;\n",
              "      --fill-color: #1967D2;\n",
              "      --hover-bg-color: #E2EBFA;\n",
              "      --hover-fill-color: #174EA6;\n",
              "      --disabled-fill-color: #AAA;\n",
              "      --disabled-bg-color: #DDD;\n",
              "  }\n",
              "\n",
              "  [theme=dark] .colab-df-quickchart {\n",
              "      --bg-color: #3B4455;\n",
              "      --fill-color: #D2E3FC;\n",
              "      --hover-bg-color: #434B5C;\n",
              "      --hover-fill-color: #FFFFFF;\n",
              "      --disabled-bg-color: #3B4455;\n",
              "      --disabled-fill-color: #666;\n",
              "  }\n",
              "\n",
              "  .colab-df-quickchart {\n",
              "    background-color: var(--bg-color);\n",
              "    border: none;\n",
              "    border-radius: 50%;\n",
              "    cursor: pointer;\n",
              "    display: none;\n",
              "    fill: var(--fill-color);\n",
              "    height: 32px;\n",
              "    padding: 0;\n",
              "    width: 32px;\n",
              "  }\n",
              "\n",
              "  .colab-df-quickchart:hover {\n",
              "    background-color: var(--hover-bg-color);\n",
              "    box-shadow: 0 1px 2px rgba(60, 64, 67, 0.3), 0 1px 3px 1px rgba(60, 64, 67, 0.15);\n",
              "    fill: var(--button-hover-fill-color);\n",
              "  }\n",
              "\n",
              "  .colab-df-quickchart-complete:disabled,\n",
              "  .colab-df-quickchart-complete:disabled:hover {\n",
              "    background-color: var(--disabled-bg-color);\n",
              "    fill: var(--disabled-fill-color);\n",
              "    box-shadow: none;\n",
              "  }\n",
              "\n",
              "  .colab-df-spinner {\n",
              "    border: 2px solid var(--fill-color);\n",
              "    border-color: transparent;\n",
              "    border-bottom-color: var(--fill-color);\n",
              "    animation:\n",
              "      spin 1s steps(1) infinite;\n",
              "  }\n",
              "\n",
              "  @keyframes spin {\n",
              "    0% {\n",
              "      border-color: transparent;\n",
              "      border-bottom-color: var(--fill-color);\n",
              "      border-left-color: var(--fill-color);\n",
              "    }\n",
              "    20% {\n",
              "      border-color: transparent;\n",
              "      border-left-color: var(--fill-color);\n",
              "      border-top-color: var(--fill-color);\n",
              "    }\n",
              "    30% {\n",
              "      border-color: transparent;\n",
              "      border-left-color: var(--fill-color);\n",
              "      border-top-color: var(--fill-color);\n",
              "      border-right-color: var(--fill-color);\n",
              "    }\n",
              "    40% {\n",
              "      border-color: transparent;\n",
              "      border-right-color: var(--fill-color);\n",
              "      border-top-color: var(--fill-color);\n",
              "    }\n",
              "    60% {\n",
              "      border-color: transparent;\n",
              "      border-right-color: var(--fill-color);\n",
              "    }\n",
              "    80% {\n",
              "      border-color: transparent;\n",
              "      border-right-color: var(--fill-color);\n",
              "      border-bottom-color: var(--fill-color);\n",
              "    }\n",
              "    90% {\n",
              "      border-color: transparent;\n",
              "      border-bottom-color: var(--fill-color);\n",
              "    }\n",
              "  }\n",
              "</style>\n",
              "\n",
              "  <script>\n",
              "    async function quickchart(key) {\n",
              "      const quickchartButtonEl =\n",
              "        document.querySelector('#' + key + ' button');\n",
              "      quickchartButtonEl.disabled = true;  // To prevent multiple clicks.\n",
              "      quickchartButtonEl.classList.add('colab-df-spinner');\n",
              "      try {\n",
              "        const charts = await google.colab.kernel.invokeFunction(\n",
              "            'suggestCharts', [key], {});\n",
              "      } catch (error) {\n",
              "        console.error('Error during call to suggestCharts:', error);\n",
              "      }\n",
              "      quickchartButtonEl.classList.remove('colab-df-spinner');\n",
              "      quickchartButtonEl.classList.add('colab-df-quickchart-complete');\n",
              "    }\n",
              "    (() => {\n",
              "      let quickchartButtonEl =\n",
              "        document.querySelector('#df-54d23039-9787-46ac-b58f-356d6e1ed9d5 button');\n",
              "      quickchartButtonEl.style.display =\n",
              "        google.colab.kernel.accessAllowed ? 'block' : 'none';\n",
              "    })();\n",
              "  </script>\n",
              "</div>\n",
              "\n",
              "    </div>\n",
              "  </div>\n"
            ],
            "text/plain": [
              "               Coder 1 - P1  Coder 1 - P2  Coder 1 - P3  Coder 1 - P4  \\\n",
              "Unnamed: 0                                                              \n",
              "TV                        1             0             1             1   \n",
              "Youtube/other             1             1             1             1   \n",
              "Music                     1             1             1             1   \n",
              "Social Media              1             0             0             0   \n",
              "Walk                      1             1             1             1   \n",
              "\n",
              "               Coder 1 - P5  Coder 1 - P6  Coder 1 - P7  Coder 1 - P8  \\\n",
              "Unnamed: 0                                                              \n",
              "TV                        1             1             1             1   \n",
              "Youtube/other             1             1             1             1   \n",
              "Music                     1             1             1             1   \n",
              "Social Media              0             0             0             0   \n",
              "Walk                      1             1             1             1   \n",
              "\n",
              "               Coder 1 - P9  Coder 1 - P10  ...  Coder 4 - P11  Coder 4 - P12  \\\n",
              "Unnamed: 0                                  ...                                 \n",
              "TV                        1              1  ...              1              1   \n",
              "Youtube/other             1              1  ...              1              1   \n",
              "Music                     1              1  ...              1              1   \n",
              "Social Media              0              0  ...              0              0   \n",
              "Walk                      1              1  ...              1              1   \n",
              "\n",
              "               Coder 4 - P13  Coder 4 - P14  Coder 4 - P15  Coder 4 - P16  \\\n",
              "Unnamed: 0                                                                  \n",
              "TV                         1              1              1              1   \n",
              "Youtube/other              1              1              1              1   \n",
              "Music                      0              1              1              1   \n",
              "Social Media               0              1              0              0   \n",
              "Walk                       1              0              1              1   \n",
              "\n",
              "               Coder 4 - P17  Coder 4 - P18  Coder 4 - P19  Coder 4 - P20  \n",
              "Unnamed: 0                                                                 \n",
              "TV                         1              1              1              1  \n",
              "Youtube/other              0              1              0              1  \n",
              "Music                      1              1              1              1  \n",
              "Social Media               1              0              0              0  \n",
              "Walk                       1              1              1              1  \n",
              "\n",
              "[5 rows x 80 columns]"
            ]
          },
          "execution_count": 43,
          "metadata": {},
          "output_type": "execute_result"
        }
      ],
      "source": [
        "coding_df.head()"
      ]
    },
    {
      "cell_type": "code",
      "execution_count": 50,
      "metadata": {
        "id": "aA_SpeM0Htke"
      },
      "outputs": [],
      "source": [
        "import numpy as np\n",
        "from pyanno.annotations import AnnotationsContainer\n",
        "\n",
        "# Assuming 'coding_df' is your expanded DataFrame\n",
        "\n",
        "# Initialize an empty list to hold the reshaped data\n",
        "reshaped_data = []\n",
        "\n",
        "# Loop over each activity\n",
        "for activity in coding_df.index:\n",
        "    # For each participant, aggregate the coders' judgments\n",
        "    for participant in range(1, 21):\n",
        "        participant_data = []\n",
        "        for coder in range(1, 5):\n",
        "            # Construct the column name for the current coder and participant\n",
        "            column_name = f'Coder {coder} - P{participant}'\n",
        "            # Append the coder's judgment for the current activity and participant\n",
        "            participant_data.append(coding_df.loc[activity, column_name])\n",
        "        # Append the aggregated judgments for the current participant and activity\n",
        "        reshaped_data.append(participant_data)\n",
        "\n",
        "# Convert the list to a NumPy array\n",
        "annotations_array = np.array(reshaped_data)\n",
        "\n",
        "# Create an AnnotationsContainer with the reshaped data\n",
        "anno_psych = AnnotationsContainer.from_array(annotations_array)\n",
        "\n",
        "# Now, you can proceed with your analysis using PyAnno's models and tools\n",
        "# For example, initializing a model and training it with the annotations\n",
        "# model = models.AnnotationModel(...)\n",
        "# model.mle(annotations_container)\n"
      ]
    },
    {
      "cell_type": "code",
      "execution_count": 52,
      "metadata": {
        "colab": {
          "base_uri": "https://localhost:8080/"
        },
        "id": "pDuOwksrHuxQ",
        "outputId": "a961110f-bddf-4231-ddda-bd6137e802db"
      },
      "outputs": [
        {
          "data": {
            "text/plain": [
              "array([[1, 1, 1, 1],\n",
              "       [0, 1, 1, 1],\n",
              "       [1, 1, 1, 1],\n",
              "       [1, 1, 1, 0],\n",
              "       [1, 1, 1, 0]])"
            ]
          },
          "execution_count": 52,
          "metadata": {},
          "output_type": "execute_result"
        }
      ],
      "source": [
        "anno_psych.annotations[:5]"
      ]
    },
    {
      "cell_type": "code",
      "execution_count": 53,
      "metadata": {
        "colab": {
          "base_uri": "https://localhost:8080/"
        },
        "id": "R9tohkv-IJGv",
        "outputId": "7df03174-61d8-48f4-8e05-bda024db6581"
      },
      "outputs": [
        {
          "data": {
            "text/plain": [
              "[0, 1]"
            ]
          },
          "execution_count": 53,
          "metadata": {},
          "output_type": "execute_result"
        }
      ],
      "source": [
        "anno_psych.labels # everything is binary"
      ]
    },
    {
      "cell_type": "code",
      "execution_count": 61,
      "metadata": {
        "colab": {
          "base_uri": "https://localhost:8080/"
        },
        "id": "1sQXWPGGIPEb",
        "outputId": "3b311a7b-0b63-4fae-de60-d0549cd44352"
      },
      "outputs": [
        {
          "data": {
            "text/plain": [
              "array([0.425, 0.575])"
            ]
          },
          "execution_count": 61,
          "metadata": {},
          "output_type": "execute_result"
        }
      ],
      "source": [
        "pyanno.measures.agreement.labels_frequency(anno_psych.annotations, 2) # 2 for binary coding\n",
        "# the result is the frequency of 0 and 1 respectively, not meaningful in our case"
      ]
    },
    {
      "cell_type": "code",
      "execution_count": 60,
      "metadata": {
        "colab": {
          "base_uri": "https://localhost:8080/",
          "height": 465
        },
        "id": "C_P0-y_LInTk",
        "outputId": "165f6e82-6608-47c4-bb75-0ae440034683"
      },
      "outputs": [
        {
          "name": "stdout",
          "output_type": "stream",
          "text": [
            "[[65.  7.]\n",
            " [33. 55.]]\n"
          ]
        },
        {
          "data": {
            "image/png": "[encoded data removed]",
            "text/plain": [
              "<Figure size 640x480 with 2 Axes>"
            ]
          },
          "metadata": {},
          "output_type": "display_data"
        }
      ],
      "source": [
        "c = pyanno.measures.agreement.confusion_matrix(anno_psych.annotations[:,0], anno_psych.annotations[:,1],2)\n",
        "print(c)\n",
        "ac = seaborn.heatmap(c)\n",
        "plt.show()\n",
        "\n"
      ]
    },
    {
      "cell_type": "markdown",
      "metadata": {
        "id": "hPgtG1OpJa6l"
      },
      "source": [
        "- Consider our binary coding: [0, 1], the four blocks above represent (from top-left to bottom right): True Negative (00), False Positive(01), False Negative (10), True Positive (11).\n",
        "- i.e. considering the first 2 coders, 65 time both coder give 0, 55 time both 1; while there are some deviations where 7 times the first coder gave 0 but second gave 1, 33 time reversely\n",
        "\n",
        "- I know that it was due to the high disagreement amount the definition of `exercise` and `mindfulness` in the first version of our rubric.\n"
      ]
    },
    {
      "cell_type": "markdown",
      "metadata": {
        "id": "gKqF5md5LuOc"
      },
      "source": []
    },
    {
      "cell_type": "code",
      "execution_count": 64,
      "metadata": {
        "colab": {
          "base_uri": "https://localhost:8080/"
        },
        "id": "iIGElEkuLwhH",
        "outputId": "a2d01e9a-1635-43be-f81b-57b14fc41f4a"
      },
      "outputs": [
        {
          "data": {
            "text/plain": [
              "0.3675578076827011"
            ]
          },
          "execution_count": 64,
          "metadata": {},
          "output_type": "execute_result"
        }
      ],
      "source": [
        "pairwise_metric_average(cohens_kappa,anno_psych.annotations) ## looks like the agreement is quiet low"
      ]
    },
    {
      "cell_type": "code",
      "execution_count": 65,
      "metadata": {
        "colab": {
          "base_uri": "https://localhost:8080/",
          "height": 435
        },
        "id": "azzdjcoIMfky",
        "outputId": "f7fa2491-0314-4ecb-8b8e-00a2578e30fc"
      },
      "outputs": [
        {
          "data": {
            "image/png": "[encoded data removed]",
            "text/plain": [
              "<Figure size 640x480 with 2 Axes>"
            ]
          },
          "metadata": {},
          "output_type": "display_data"
        }
      ],
      "source": [
        "cohens_kappa(anno_psych.annotations[:,0], anno_psych.annotations[:,1])\n",
        "m = pairwise_matrix(cohens_kappa, anno_psych.annotations)\n",
        "an = seaborn.heatmap(m)\n",
        "plt.show()"
      ]
    },
    {
      "cell_type": "markdown",
      "metadata": {
        "id": "NPROArn5Mn7Q"
      },
      "source": [
        "- We can see that e.g. coder number 1 and 3 have to most disagreement.\n",
        "\n",
        "-- Seems like I'm not storing and importing the data correctly... there shouldn't be that much disagreement and low cohen score. (to be check later)\n",
        "\n",
        "- Also, I'm not testing with pearson and spearmans rho since it is not a correlational situation: our codings are binary entirely"
      ]
    },
    {
      "cell_type": "code",
      "execution_count": null,
      "metadata": {
        "id": "kyGNaBtqNSK5"
      },
      "outputs": [],
      "source": []
    },
    {
      "cell_type": "markdown",
      "metadata": {
        "id": "glLJMdYUZuuD"
      },
      "source": [
        "# Simple Simulated Examples for Classification\n",
        "\n",
        "Here we create a sandbox for you to explore different types of classified data and how different statistical classifiers perform on each type."
      ]
    },
    {
      "cell_type": "markdown",
      "metadata": {
        "id": "oxATrbwwZuuD"
      },
      "source": [
        "## Generating example data\n",
        "\n",
        "We start by loading one of the \"cartoon\" or simplified data sets and then dividing it into training and testing sets. To maximize our ability to visualize, each dataset involves two classes, colored yellow and blue, arrayed along two dimensions (`x` and `y`).\n",
        "\n",
        "The four data patterns include:\n",
        "+ `random` in which the two classes are randomly distributed across both dimensions\n",
        "+ `andSplit` in which the two classes are linearly split along one of two dimensions (e.g., men like Adidas)\n",
        "+ `xorSplit` in which the two classes are split, oppositely, along each dimension (e.g., old ladies and young men like Nikes)\n",
        "+ `targetSplit` in which one class is nested within the other in two dimensions (e.g., middle aged, middle income people like vintage Mustangs)\n",
        "+ `multiBlobs` in which 5 classes are placed as bivariate Gaussians at random locations\n",
        "\n",
        "`noise` is a variable [0-1] that ranges from no noise in the prescribed pattern [0] to complete noise/randomness [1].\n",
        "\n",
        "Uncomment (remove the # in front of) each dataset, one at a time, and then run the cell and subsequent cells to examine how each machine learning approach captures each pattern.\n",
        "\n",
        "We use the popular `train_test_split()` function from `sklearn`, and the data pattern function source code is copied below for your convenience from `lucem_illud`'s [cartoons.py](https://github.com/UChicago-Computational-Content-Analysis/lucem_illud/blob/main/lucem_illud/cartoons.py) file."
      ]
    },
    {
      "cell_type": "code",
      "execution_count": 67,
      "metadata": {
        "id": "_fqjMvonZuuG"
      },
      "outputs": [],
      "source": [
        "def random(numPerCategory = 500):\n",
        "    datDict = {\n",
        "        'vect' : [np.random.rand(2) * 2 - 1 for i in range(2 * numPerCategory)],\n",
        "        'category' : [i % 2 for i in range(2 * numPerCategory)],\n",
        "    }\n",
        "\n",
        "    return pandas.DataFrame(datDict)\n",
        "\n",
        "def andSplit(noise = 0, numPerCategory = 500):\n",
        "    def genPoint(cat):\n",
        "        y = np.random.random_sample() * 2 - 1\n",
        "        if noise >= 0:\n",
        "            x = np.random.random_sample() - cat - (np.random.random_sample() - cat) * noise\n",
        "        else:\n",
        "            x = (1 - noise * np.random.random_sample()) - cat\n",
        "        return np.array([x, y])\n",
        "    datDict = {\n",
        "        'vect' : [genPoint(i % 2) for i in range(2 * numPerCategory)],\n",
        "        'category' : [i % 2 for i in range(2 * numPerCategory)],\n",
        "    }\n",
        "\n",
        "    return pandas.DataFrame(datDict)\n",
        "\n",
        "def xorSplit(noise = 0, numPerCategory = 500):\n",
        "    def genPoint(cat):\n",
        "        if cat == 1:\n",
        "            if np.random.randint(0,2) < 1:\n",
        "                y = np.random.random_sample() - np.random.random_sample() * noise * 2\n",
        "                x = np.random.random_sample() - np.random.random_sample() * noise * 2\n",
        "            else:\n",
        "                y = np.random.random_sample() - 1 - np.random.random_sample() * noise * 2\n",
        "                x = np.random.random_sample() - 1 - np.random.random_sample() * noise * 2\n",
        "        else:\n",
        "            if np.random.randint(0,2) < 1:\n",
        "                y = np.random.random_sample() - 1 - np.random.random_sample() * noise * 2\n",
        "                x = np.random.random_sample() - np.random.random_sample() * noise * 2\n",
        "            else:\n",
        "                y = np.random.random_sample() - np.random.random_sample() * noise * 2\n",
        "                x = np.random.random_sample() - 1 - np.random.random_sample() * noise * 2\n",
        "        return np.array([x, y])\n",
        "\n",
        "    datDict = {\n",
        "        'vect' : [genPoint(i % 2) for i in range(2 * numPerCategory)],\n",
        "        'category' : [i % 2 for i in range(2 * numPerCategory)],\n",
        "    }\n",
        "\n",
        "    return pandas.DataFrame(datDict)\n",
        "\n",
        "def targetSplit(noise = 0, numPerCategory = 500, innerRad = .3):\n",
        "    def genPoint(cat):\n",
        "        if cat == 0:\n",
        "            r = np.random.random_sample() * innerRad + (1 - innerRad) * np.random.random_sample() * noise\n",
        "        else:\n",
        "            r = np.random.random_sample() * (1 - innerRad) + innerRad - innerRad * np.random.random_sample() * noise\n",
        "        eta = 2 * np.pi * np.random.random_sample()\n",
        "        return np.array([r * np.cos(eta), r * np.sin(eta)])\n",
        "\n",
        "    datDict = {\n",
        "        'vect' : [genPoint(i % 2) for i in range(2 * numPerCategory)],\n",
        "        'category' : [i % 2 for i in range(2 * numPerCategory)],\n",
        "    }\n",
        "\n",
        "    return pandas.DataFrame(datDict)\n",
        "\n",
        "def multiBlobs(noise = 0, numPerCategory = 500, centers = 5):\n",
        "    if isinstance(centers, int):\n",
        "        n_samples = numPerCategory * centers\n",
        "    else:\n",
        "        n_samples = numPerCategory * len(centers)\n",
        "    X, y = sklearn.datasets.make_blobs(n_samples=n_samples, centers=centers, cluster_std = (.8 * (noise * 2 + 1)))\n",
        "    datDict = {\n",
        "        'vect' : list(X),\n",
        "        'category' : y,\n",
        "    }\n",
        "    return pandas.DataFrame(datDict)"
      ]
    },
    {
      "cell_type": "code",
      "execution_count": null,
      "metadata": {
        "id": "QrdxULvnZuuG"
      },
      "outputs": [],
      "source": [
        "noise = .2\n",
        "\n",
        "#dfTrain, dfTest = sklearn.model_selection.train_test_split(lucem_illud.random(noise), test_size=.2)\n",
        "#dfTrain, dfTest = sklearn.model_selection.train_test_split(lucem_illud.andSplit(noise), test_size=.2)\n",
        "#dfTrain, dfTest = sklearn.model_selection.train_test_split(lucem_illud.xorSplit(noise), test_size=.2)\n",
        "dfTrain, dfTest = sklearn.model_selection.train_test_split(lucem_illud.targetSplit(noise), test_size=.2)\n",
        "#dfTrain, dfTest = sklearn.model_selection.train_test_split(lucem_illud.multiBlobs(noise), test_size=.2)"
      ]
    },
    {
      "cell_type": "markdown",
      "metadata": {
        "id": "HH1SQlNJZuuG"
      },
      "source": [
        "We can easily visualize the rendered datasets because they are generated in two dimensions."
      ]
    },
    {
      "cell_type": "markdown",
      "metadata": {
        "id": "Us1j_pROZuuG"
      },
      "source": [
        "Let's see what dfTrain, a simulated data that we just made, looks like"
      ]
    },
    {
      "cell_type": "code",
      "execution_count": null,
      "metadata": {
        "id": "Uhh9EpW4ZuuG"
      },
      "outputs": [],
      "source": [
        "dfTrain"
      ]
    },
    {
      "cell_type": "markdown",
      "metadata": {
        "id": "vTgEZjq4ZuuG"
      },
      "source": [
        "So, dfTrain has two columns, vect and category. We can plot this with `plotter()` from [lucem_illud/lucem_illud/cartoons.py](https://github.com/UChicago-Computational-Content-Analysis/lucem_illud/blob/main/lucem_illud/cartoons.py). Here's the source code:"
      ]
    },
    {
      "cell_type": "code",
      "execution_count": null,
      "metadata": {
        "id": "0EPfZ3VbZuuG"
      },
      "outputs": [],
      "source": [
        "def plotter(df):\n",
        "    fig, ax = plt.subplots(figsize = (10,10))\n",
        "    pallet = seaborn.color_palette(palette='rainbow', n_colors= len(set(df['category'])))\n",
        "    for i, cat in enumerate(set(df['category'])):\n",
        "        a = np.stack(df[df['category'] == cat]['vect'])\n",
        "        ax.scatter(a[:,0], a[:, 1], c = pallet[i], label = cat)\n",
        "    ax.legend(loc = 'center right', title = 'Categories')\n",
        "    ax.axis('off')\n",
        "    plt.show()\n",
        "    plt.close()"
      ]
    },
    {
      "cell_type": "code",
      "execution_count": null,
      "metadata": {
        "id": "DRJPjTTQZuuG"
      },
      "outputs": [],
      "source": [
        "lucem_illud.plotter(dfTrain)"
      ]
    },
    {
      "cell_type": "markdown",
      "metadata": {
        "id": "BG8nc6McZuuG"
      },
      "source": [
        "## Training a Machine Learning algorithm\n",
        "\n",
        "We can now pick a model, there are many more options in `scikit-learn`. These are just a few examples, which array along the machine learning \"tribes\" described in Pedro Domingos _The Master Algorithm_.\n",
        "\n",
        "Uncomment (remove the # in front of) each algorithm one at a time, then run the cell and subsequent cells to evaluate how it learns to understand the data."
      ]
    },
    {
      "cell_type": "code",
      "execution_count": null,
      "metadata": {
        "id": "ThevLWv8ZuuG"
      },
      "outputs": [],
      "source": [
        "#Bayes\n",
        "#clf = sklearn.naive_bayes.GaussianNB()\n",
        "\n",
        "#Analogizes\n",
        "#clf = sklearn.svm.SVC(kernel = 'linear', probability = True) #slow, set probability = False to speed up\n",
        "#clf = sklearn.svm.SVC(kernel = 'poly', degree = 3, probability = True) #slower\n",
        "clf = sklearn.neighbors.KNeighborsClassifier(5, weights='distance')# k, 'distance' or 'uniform'\n",
        "\n",
        "#Classical Regression\n",
        "#clf = sklearn.linear_model.LogisticRegression()\n",
        "\n",
        "#Symbolists\n",
        "#clf = sklearn.tree.DecisionTreeClassifier()\n",
        "#clf = sklearn.ensemble.RandomForestClassifier()\n",
        "\n",
        "#Connectionists\n",
        "#clf = sklearn.neural_network.MLPClassifier()\n",
        "\n",
        "#Ensemble\n",
        "#clf = sklearn.ensemble.GradientBoostingClassifier()"
      ]
    },
    {
      "cell_type": "markdown",
      "metadata": {
        "id": "1F5SLrR2ZuuG"
      },
      "source": [
        "We're using sklearn here. What is sklearn? It's an open source machine learning library for Python. We use sklearn because it features various machine learning algorithms and it works well with NumPy library. You don't need to understand the sklearn package in detail for the moment, but let's see what methods and attributes sklearn has, because we're going to use some of them:"
      ]
    },
    {
      "cell_type": "code",
      "execution_count": null,
      "metadata": {
        "id": "mEP82UtkZuuG"
      },
      "outputs": [],
      "source": [
        "dir(sklearn)"
      ]
    },
    {
      "cell_type": "markdown",
      "metadata": {
        "id": "OIlBy9JmZuuH"
      },
      "source": [
        "Now we fit the model by giving it our training data"
      ]
    },
    {
      "cell_type": "code",
      "execution_count": null,
      "metadata": {
        "id": "RfDrTxYrZuuH"
      },
      "outputs": [],
      "source": [
        "clf.fit(np.stack(dfTrain['vect'], axis=0), dfTrain['category'])"
      ]
    },
    {
      "cell_type": "markdown",
      "metadata": {
        "id": "KFhIS1g5ZuuI"
      },
      "source": [
        "Here, \"stack\" function is used. Why did we use stack function here? This is because dfTrain['vect'] is a sequence, while clf.fit() takes an array element. Let's see what dfTrain['vect'] looks like:"
      ]
    },
    {
      "cell_type": "code",
      "execution_count": null,
      "metadata": {
        "id": "ydUbbjy3ZuuI"
      },
      "outputs": [],
      "source": [
        "dfTrain['vect']"
      ]
    },
    {
      "cell_type": "markdown",
      "metadata": {
        "id": "yDDAShCuZuuI"
      },
      "source": [
        "And let's see what np.stack(dfTrain['vect']) does:"
      ]
    },
    {
      "cell_type": "code",
      "execution_count": null,
      "metadata": {
        "id": "zmulZnezZuuI"
      },
      "outputs": [],
      "source": [
        "np.stack(dfTrain['vect'])"
      ]
    },
    {
      "cell_type": "markdown",
      "metadata": {
        "id": "0H6S5fl1ZuuI"
      },
      "source": [
        "As you can see, stack function takes a sequence of arrays (which have the same shape) and joins them along a new axis."
      ]
    },
    {
      "cell_type": "markdown",
      "metadata": {
        "id": "bHk6fbueZuuI"
      },
      "source": [
        "## Algorithm evaluation\n",
        "\n",
        "We can look at few measurements of each classifier's performance by using the testing set. These `lucem_illud` functions are in [metrics.py](https://github.com/UChicago-Computational-Content-Analysis/lucem_illud/blob/main/lucem_illud/metrics.py), and we will skip copying source code this time due to length."
      ]
    },
    {
      "cell_type": "code",
      "execution_count": null,
      "metadata": {
        "id": "1PTyn51wZuuI"
      },
      "outputs": [],
      "source": [
        "lucem_illud.evaluateClassifier(clf, dfTest)"
      ]
    },
    {
      "cell_type": "markdown",
      "metadata": {
        "id": "TLej1QiyZuuI"
      },
      "source": [
        "This lets us look at which classes do better:"
      ]
    },
    {
      "cell_type": "code",
      "execution_count": null,
      "metadata": {
        "id": "-qQjS4bfZuuI"
      },
      "outputs": [],
      "source": [
        "lucem_illud.plotConfusionMatrix(clf, dfTest)"
      ]
    },
    {
      "cell_type": "markdown",
      "metadata": {
        "id": "Cjjnnl_2ZuuI"
      },
      "source": [
        "The greater the area under the curve the better."
      ]
    },
    {
      "cell_type": "code",
      "execution_count": null,
      "metadata": {
        "id": "IlUyYgZEZuuI"
      },
      "outputs": [],
      "source": [
        "lucem_illud.plotMultiROC(clf, dfTest)"
      ]
    },
    {
      "cell_type": "markdown",
      "metadata": {
        "id": "dbdTRixlZuuI"
      },
      "source": [
        "We can also look at the regions the classifer identifies as one class or the other:"
      ]
    },
    {
      "cell_type": "code",
      "execution_count": null,
      "metadata": {
        "id": "YdV5G3urZuuI"
      },
      "outputs": [],
      "source": [
        "lucem_illud.plotregions(clf, dfTrain)"
      ]
    },
    {
      "cell_type": "markdown",
      "metadata": {
        "id": "BH6SjuqQZuuI"
      },
      "source": [
        "## Now we do the same for real data\n",
        "\n",
        "Available data sets include:\n",
        "+ Reddit threads \"classified\" by thread topic\n",
        "+ 20 newsgroups \"classified\" by group topic\n",
        "+ Senate press releases \"classified\" by Senator (2 senators)\n",
        "+ Senate press releases \"classified\" by Senator (5 senators)\n",
        "+ Emails classified as Spam or Ham\n",
        "\n",
        "Note that if you're on Google Colab and have not `git clone`ed the [class repo](https://github.com/UChicago-Computational-Content-Analysis/Homework-Notebooks-2024-Winter), you can set a `dataDirectory=` parameter in the loadReddit function to match the data folder path on Colab."
      ]
    },
    {
      "cell_type": "code",
      "execution_count": null,
      "metadata": {
        "id": "MDUsC4hnZuuI"
      },
      "outputs": [],
      "source": [
        "# dfTrain, dfTest = sklearn.model_selection.train_test_split(lucem_illud.loadReddit(dataDirectory='../data/'), test_size=.2)\n",
        "dfTrain, dfTest = sklearn.model_selection.train_test_split(lucem_illud.loadReddit(dataDirectory=''), test_size=.2)\n",
        "#dfTrain, dfTest = sklearn.model_selection.train_test_split(lucem_illud.loadNewsGroups(), test_size=.2)\n",
        "#dfTrain, dfTest = sklearn.model_selection.train_test_split(lucem_illud.loadSenateSmall(), test_size=.2)\n",
        "#dfTrain, dfTest = sklearn.model_selection.train_test_split(lucem_illud.loadSenateLarge(), test_size=.2)\n",
        "#dfTrain, dfTest = sklearn.model_selection.train_test_split(lucem_illud.loadSpam(), test_size=.2)"
      ]
    },
    {
      "cell_type": "code",
      "execution_count": null,
      "metadata": {
        "id": "_H62FGHGZuuI"
      },
      "outputs": [],
      "source": [
        "dfTrain"
      ]
    },
    {
      "cell_type": "code",
      "execution_count": null,
      "metadata": {
        "id": "qgHrsHkyZuuI"
      },
      "outputs": [],
      "source": [
        "#Classical Regression\n",
        "clf = sklearn.linear_model.LogisticRegression()\n",
        "\n",
        "#Bayes\n",
        "# clf = sklearn.naive_bayes.GaussianNB()\n",
        "\n",
        "#Analogizes\n",
        "#clf = sklearn.svm.SVC(kernel = 'linear', probability = True) #slow, set probability = False to speed up, but lose ROC\n",
        "#clf = sklearn.svm.SVC(kernel = 'poly', degree = 3, probability = True) #slower\n",
        "#clf = sklearn.neighbors.KNeighborsClassifier(5, weights='distance')# k, 'distance' or 'uniform'\n",
        "\n",
        "#Symbolists\n",
        "#clf = sklearn.tree.DecisionTreeClassifier()\n",
        "#clf = sklearn.ensemble.RandomForestClassifier()\n",
        "\n",
        "#Connectionists\n",
        "#clf = sklearn.neural_network.MLPClassifier()\n",
        "\n",
        "#Ensemble\n",
        "#clf = sklearn.ensemble.GradientBoostingClassifier()"
      ]
    },
    {
      "cell_type": "code",
      "execution_count": null,
      "metadata": {
        "id": "9204OpWIZuuI"
      },
      "outputs": [],
      "source": [
        "clf.fit(np.stack(dfTrain['vect'], axis=0), dfTrain['category'])"
      ]
    },
    {
      "cell_type": "code",
      "execution_count": null,
      "metadata": {
        "id": "bcrwBzuoZuuI"
      },
      "outputs": [],
      "source": [
        "lucem_illud.evaluateClassifier(clf, dfTest)"
      ]
    },
    {
      "cell_type": "code",
      "execution_count": null,
      "metadata": {
        "id": "cDS22WQ4ZuuI"
      },
      "outputs": [],
      "source": [
        "lucem_illud.plotConfusionMatrix(clf, dfTest)"
      ]
    },
    {
      "cell_type": "code",
      "execution_count": null,
      "metadata": {
        "id": "127G19voZuuI"
      },
      "outputs": [],
      "source": [
        "lucem_illud.plotMultiROC(clf, dfTest)"
      ]
    },
    {
      "cell_type": "code",
      "execution_count": null,
      "metadata": {
        "id": "AtqkKlaOZuuI"
      },
      "outputs": [],
      "source": [
        "lucem_illud.plotregions(clf, dfTrain)"
      ]
    },
    {
      "cell_type": "markdown",
      "metadata": {
        "id": "OOG3Vv9aZuuJ"
      },
      "source": [
        "## <font color=\"red\">*Exercise 2*</font>\n",
        "\n",
        "<font color=\"red\">Go back through all of the cells above and generate 10 distinct artificial datasets and classify them with all of the available methods. Add a cell immediately below and describe which classifier(s) worked best with which artificially constructed data source and why. Then go through all of the empirical datasets (i.e., Newsgroups, Senate Small, Senate Large, Email Spam) and classify them with all available methods. Add a second cell immediately below and describe which classifier(s) worked best with which data set and why.\n",
        "\n",
        "<font color=\"red\">***Stretch*** (but also required) Wander through the SKLearn documentation available [here](http://scikit-learn.org/stable/), particularly perusing the classifiers. In cells following, identify and implement a new classifier that we have not yet used (e.g., AdaBoost, CART) on one artificial dataset and one real dataset (used above). Then, in the next cell describe the classifier, detail how it compares with the approaches above, and why it performed better or worse than others."
      ]
    },
    {
      "cell_type": "code",
      "execution_count": 85,
      "metadata": {
        "id": "SoEiQTInTBx-"
      },
      "outputs": [],
      "source": [
        "import numpy as np\n",
        "import pandas as pd\n",
        "import sklearn.naive_bayes\n",
        "import sklearn.linear_model\n",
        "import sklearn.tree\n",
        "import sklearn.ensemble\n",
        "import sklearn.neighbors\n",
        "import sklearn.svm\n",
        "import sklearn.neural_network"
      ]
    },
    {
      "cell_type": "code",
      "execution_count": 113,
      "metadata": {
        "id": "yryJwlV2NhfG"
      },
      "outputs": [],
      "source": [
        "# create 10 distinct artificial dataset using above function\n",
        "\n",
        "noise = 0.2\n",
        "\n",
        "\n",
        "df_train_1, df_test_1 = sklearn.model_selection.train_test_split(lucem_illud.random(), test_size=.2)\n",
        "df_train_2, df_test_2 = sklearn.model_selection.train_test_split(lucem_illud.random(), test_size=.2)\n",
        "df_train_3, df_test_3 = sklearn.model_selection.train_test_split(lucem_illud.andSplit(noise), test_size=.2)\n",
        "df_train_4, df_test_4 = sklearn.model_selection.train_test_split(lucem_illud.andSplit(noise), test_size=.2)\n",
        "df_train_5, df_test_5 = sklearn.model_selection.train_test_split(lucem_illud.xorSplit(noise), test_size=.2)\n",
        "df_train_6, df_test_6 = sklearn.model_selection.train_test_split(lucem_illud.xorSplit(noise), test_size=.2)\n",
        "df_train_7, df_test_7 = sklearn.model_selection.train_test_split(lucem_illud.targetSplit(noise), test_size=.2)\n",
        "df_train_8, df_test_8 = sklearn.model_selection.train_test_split(lucem_illud.targetSplit(noise), test_size=.2)\n",
        "df_train_9, df_test_9 = sklearn.model_selection.train_test_split(lucem_illud.multiBlobs(noise), test_size=.2)\n",
        "df_train_10, df_test_10 = sklearn.model_selection.train_test_split(lucem_illud.multiBlobs(noise), test_size=.2)\n"
      ]
    },
    {
      "cell_type": "code",
      "execution_count": 73,
      "metadata": {
        "colab": {
          "base_uri": "https://localhost:8080/",
          "height": 206
        },
        "id": "WtDCSW3JPSB7",
        "outputId": "183eea1e-730d-4a4d-c268-eba543e10b39"
      },
      "outputs": [
        {
          "data": {
            "text/html": [
              "\n",
              "  <div id=\"df-9c94b467-a6ec-4683-8e13-5636f70f79f6\" class=\"colab-df-container\">\n",
              "    <div>\n",
              "<style scoped>\n",
              "    .dataframe tbody tr th:only-of-type {\n",
              "        vertical-align: middle;\n",
              "    }\n",
              "\n",
              "    .dataframe tbody tr th {\n",
              "        vertical-align: top;\n",
              "    }\n",
              "\n",
              "    .dataframe thead th {\n",
              "        text-align: right;\n",
              "    }\n",
              "</style>\n",
              "<table border=\"1\" class=\"dataframe\">\n",
              "  <thead>\n",
              "    <tr style=\"text-align: right;\">\n",
              "      <th></th>\n",
              "      <th>vect</th>\n",
              "      <th>category</th>\n",
              "    </tr>\n",
              "  </thead>\n",
              "  <tbody>\n",
              "    <tr>\n",
              "      <th>833</th>\n",
              "      <td>[-0.34199521998080074, -0.007706390467492996]</td>\n",
              "      <td>1</td>\n",
              "    </tr>\n",
              "    <tr>\n",
              "      <th>410</th>\n",
              "      <td>[0.8282262697787202, 0.1408434274414978]</td>\n",
              "      <td>0</td>\n",
              "    </tr>\n",
              "    <tr>\n",
              "      <th>521</th>\n",
              "      <td>[0.2642840138095277, 0.5181681082040426]</td>\n",
              "      <td>1</td>\n",
              "    </tr>\n",
              "    <tr>\n",
              "      <th>7</th>\n",
              "      <td>[0.10366504602008009, -0.6048598021448488]</td>\n",
              "      <td>1</td>\n",
              "    </tr>\n",
              "    <tr>\n",
              "      <th>757</th>\n",
              "      <td>[0.43483986689682097, -0.5520364509949227]</td>\n",
              "      <td>1</td>\n",
              "    </tr>\n",
              "  </tbody>\n",
              "</table>\n",
              "</div>\n",
              "    <div class=\"colab-df-buttons\">\n",
              "\n",
              "  <div class=\"colab-df-container\">\n",
              "    <button class=\"colab-df-convert\" onclick=\"convertToInteractive('df-9c94b467-a6ec-4683-8e13-5636f70f79f6')\"\n",
              "            title=\"Convert this dataframe to an interactive table.\"\n",
              "            style=\"display:none;\">\n",
              "\n",
              "  <svg xmlns=\"http://www.w3.org/2000/svg\" height=\"24px\" viewBox=\"0 -960 960 960\">\n",
              "    <path d=\"M120-120v-720h720v720H120Zm60-500h600v-160H180v160Zm220 220h160v-160H400v160Zm0 220h160v-160H400v160ZM180-400h160v-160H180v160Zm440 0h160v-160H620v160ZM180-180h160v-160H180v160Zm440 0h160v-160H620v160Z\"/>\n",
              "  </svg>\n",
              "    </button>\n",
              "\n",
              "  <style>\n",
              "    .colab-df-container {\n",
              "      display:flex;\n",
              "      gap: 12px;\n",
              "    }\n",
              "\n",
              "    .colab-df-convert {\n",
              "      background-color: #E8F0FE;\n",
              "      border: none;\n",
              "      border-radius: 50%;\n",
              "      cursor: pointer;\n",
              "      display: none;\n",
              "      fill: #1967D2;\n",
              "      height: 32px;\n",
              "      padding: 0 0 0 0;\n",
              "      width: 32px;\n",
              "    }\n",
              "\n",
              "    .colab-df-convert:hover {\n",
              "      background-color: #E2EBFA;\n",
              "      box-shadow: 0px 1px 2px rgba(60, 64, 67, 0.3), 0px 1px 3px 1px rgba(60, 64, 67, 0.15);\n",
              "      fill: #174EA6;\n",
              "    }\n",
              "\n",
              "    .colab-df-buttons div {\n",
              "      margin-bottom: 4px;\n",
              "    }\n",
              "\n",
              "    [theme=dark] .colab-df-convert {\n",
              "      background-color: #3B4455;\n",
              "      fill: #D2E3FC;\n",
              "    }\n",
              "\n",
              "    [theme=dark] .colab-df-convert:hover {\n",
              "      background-color: #434B5C;\n",
              "      box-shadow: 0px 1px 3px 1px rgba(0, 0, 0, 0.15);\n",
              "      filter: drop-shadow(0px 1px 2px rgba(0, 0, 0, 0.3));\n",
              "      fill: #FFFFFF;\n",
              "    }\n",
              "  </style>\n",
              "\n",
              "    <script>\n",
              "      const buttonEl =\n",
              "        document.querySelector('#df-9c94b467-a6ec-4683-8e13-5636f70f79f6 button.colab-df-convert');\n",
              "      buttonEl.style.display =\n",
              "        google.colab.kernel.accessAllowed ? 'block' : 'none';\n",
              "\n",
              "      async function convertToInteractive(key) {\n",
              "        const element = document.querySelector('#df-9c94b467-a6ec-4683-8e13-5636f70f79f6');\n",
              "        const dataTable =\n",
              "          await google.colab.kernel.invokeFunction('convertToInteractive',\n",
              "                                                    [key], {});\n",
              "        if (!dataTable) return;\n",
              "\n",
              "        const docLinkHtml = 'Like what you see? Visit the ' +\n",
              "          '<a target=\"_blank\" href=https://colab.research.google.com/notebooks/data_table.ipynb>data table notebook</a>'\n",
              "          + ' to learn more about interactive tables.';\n",
              "        element.innerHTML = '';\n",
              "        dataTable['output_type'] = 'display_data';\n",
              "        await google.colab.output.renderOutput(dataTable, element);\n",
              "        const docLink = document.createElement('div');\n",
              "        docLink.innerHTML = docLinkHtml;\n",
              "        element.appendChild(docLink);\n",
              "      }\n",
              "    </script>\n",
              "  </div>\n",
              "\n",
              "\n",
              "<div id=\"df-a7a67b53-d254-4a41-a3cc-54d42c939a46\">\n",
              "  <button class=\"colab-df-quickchart\" onclick=\"quickchart('df-a7a67b53-d254-4a41-a3cc-54d42c939a46')\"\n",
              "            title=\"Suggest charts\"\n",
              "            style=\"display:none;\">\n",
              "\n",
              "<svg xmlns=\"http://www.w3.org/2000/svg\" height=\"24px\"viewBox=\"0 0 24 24\"\n",
              "     width=\"24px\">\n",
              "    <g>\n",
              "        <path d=\"M19 3H5c-1.1 0-2 .9-2 2v14c0 1.1.9 2 2 2h14c1.1 0 2-.9 2-2V5c0-1.1-.9-2-2-2zM9 17H7v-7h2v7zm4 0h-2V7h2v10zm4 0h-2v-4h2v4z\"/>\n",
              "    </g>\n",
              "</svg>\n",
              "  </button>\n",
              "\n",
              "<style>\n",
              "  .colab-df-quickchart {\n",
              "      --bg-color: #E8F0FE;\n",
              "      --fill-color: #1967D2;\n",
              "      --hover-bg-color: #E2EBFA;\n",
              "      --hover-fill-color: #174EA6;\n",
              "      --disabled-fill-color: #AAA;\n",
              "      --disabled-bg-color: #DDD;\n",
              "  }\n",
              "\n",
              "  [theme=dark] .colab-df-quickchart {\n",
              "      --bg-color: #3B4455;\n",
              "      --fill-color: #D2E3FC;\n",
              "      --hover-bg-color: #434B5C;\n",
              "      --hover-fill-color: #FFFFFF;\n",
              "      --disabled-bg-color: #3B4455;\n",
              "      --disabled-fill-color: #666;\n",
              "  }\n",
              "\n",
              "  .colab-df-quickchart {\n",
              "    background-color: var(--bg-color);\n",
              "    border: none;\n",
              "    border-radius: 50%;\n",
              "    cursor: pointer;\n",
              "    display: none;\n",
              "    fill: var(--fill-color);\n",
              "    height: 32px;\n",
              "    padding: 0;\n",
              "    width: 32px;\n",
              "  }\n",
              "\n",
              "  .colab-df-quickchart:hover {\n",
              "    background-color: var(--hover-bg-color);\n",
              "    box-shadow: 0 1px 2px rgba(60, 64, 67, 0.3), 0 1px 3px 1px rgba(60, 64, 67, 0.15);\n",
              "    fill: var(--button-hover-fill-color);\n",
              "  }\n",
              "\n",
              "  .colab-df-quickchart-complete:disabled,\n",
              "  .colab-df-quickchart-complete:disabled:hover {\n",
              "    background-color: var(--disabled-bg-color);\n",
              "    fill: var(--disabled-fill-color);\n",
              "    box-shadow: none;\n",
              "  }\n",
              "\n",
              "  .colab-df-spinner {\n",
              "    border: 2px solid var(--fill-color);\n",
              "    border-color: transparent;\n",
              "    border-bottom-color: var(--fill-color);\n",
              "    animation:\n",
              "      spin 1s steps(1) infinite;\n",
              "  }\n",
              "\n",
              "  @keyframes spin {\n",
              "    0% {\n",
              "      border-color: transparent;\n",
              "      border-bottom-color: var(--fill-color);\n",
              "      border-left-color: var(--fill-color);\n",
              "    }\n",
              "    20% {\n",
              "      border-color: transparent;\n",
              "      border-left-color: var(--fill-color);\n",
              "      border-top-color: var(--fill-color);\n",
              "    }\n",
              "    30% {\n",
              "      border-color: transparent;\n",
              "      border-left-color: var(--fill-color);\n",
              "      border-top-color: var(--fill-color);\n",
              "      border-right-color: var(--fill-color);\n",
              "    }\n",
              "    40% {\n",
              "      border-color: transparent;\n",
              "      border-right-color: var(--fill-color);\n",
              "      border-top-color: var(--fill-color);\n",
              "    }\n",
              "    60% {\n",
              "      border-color: transparent;\n",
              "      border-right-color: var(--fill-color);\n",
              "    }\n",
              "    80% {\n",
              "      border-color: transparent;\n",
              "      border-right-color: var(--fill-color);\n",
              "      border-bottom-color: var(--fill-color);\n",
              "    }\n",
              "    90% {\n",
              "      border-color: transparent;\n",
              "      border-bottom-color: var(--fill-color);\n",
              "    }\n",
              "  }\n",
              "</style>\n",
              "\n",
              "  <script>\n",
              "    async function quickchart(key) {\n",
              "      const quickchartButtonEl =\n",
              "        document.querySelector('#' + key + ' button');\n",
              "      quickchartButtonEl.disabled = true;  // To prevent multiple clicks.\n",
              "      quickchartButtonEl.classList.add('colab-df-spinner');\n",
              "      try {\n",
              "        const charts = await google.colab.kernel.invokeFunction(\n",
              "            'suggestCharts', [key], {});\n",
              "      } catch (error) {\n",
              "        console.error('Error during call to suggestCharts:', error);\n",
              "      }\n",
              "      quickchartButtonEl.classList.remove('colab-df-spinner');\n",
              "      quickchartButtonEl.classList.add('colab-df-quickchart-complete');\n",
              "    }\n",
              "    (() => {\n",
              "      let quickchartButtonEl =\n",
              "        document.querySelector('#df-a7a67b53-d254-4a41-a3cc-54d42c939a46 button');\n",
              "      quickchartButtonEl.style.display =\n",
              "        google.colab.kernel.accessAllowed ? 'block' : 'none';\n",
              "    })();\n",
              "  </script>\n",
              "</div>\n",
              "\n",
              "    </div>\n",
              "  </div>\n"
            ],
            "text/plain": [
              "                                              vect  category\n",
              "833  [-0.34199521998080074, -0.007706390467492996]         1\n",
              "410       [0.8282262697787202, 0.1408434274414978]         0\n",
              "521       [0.2642840138095277, 0.5181681082040426]         1\n",
              "7       [0.10366504602008009, -0.6048598021448488]         1\n",
              "757     [0.43483986689682097, -0.5520364509949227]         1"
            ]
          },
          "execution_count": 73,
          "metadata": {},
          "output_type": "execute_result"
        }
      ],
      "source": [
        "df_train_1.head()"
      ]
    },
    {
      "cell_type": "code",
      "execution_count": 76,
      "metadata": {
        "colab": {
          "base_uri": "https://localhost:8080/",
          "height": 206
        },
        "id": "v_QHjECzPZZh",
        "outputId": "556db90c-981b-4b92-cf49-ad0a00957382"
      },
      "outputs": [
        {
          "data": {
            "text/html": [
              "\n",
              "  <div id=\"df-a861ea99-5752-4100-a9f0-9accef212cff\" class=\"colab-df-container\">\n",
              "    <div>\n",
              "<style scoped>\n",
              "    .dataframe tbody tr th:only-of-type {\n",
              "        vertical-align: middle;\n",
              "    }\n",
              "\n",
              "    .dataframe tbody tr th {\n",
              "        vertical-align: top;\n",
              "    }\n",
              "\n",
              "    .dataframe thead th {\n",
              "        text-align: right;\n",
              "    }\n",
              "</style>\n",
              "<table border=\"1\" class=\"dataframe\">\n",
              "  <thead>\n",
              "    <tr style=\"text-align: right;\">\n",
              "      <th></th>\n",
              "      <th>vect</th>\n",
              "      <th>category</th>\n",
              "    </tr>\n",
              "  </thead>\n",
              "  <tbody>\n",
              "    <tr>\n",
              "      <th>351</th>\n",
              "      <td>[-0.9962343075282181, -0.8895316517044647]</td>\n",
              "      <td>1</td>\n",
              "    </tr>\n",
              "    <tr>\n",
              "      <th>467</th>\n",
              "      <td>[-0.284418913263083, -0.3365621076979441]</td>\n",
              "      <td>1</td>\n",
              "    </tr>\n",
              "    <tr>\n",
              "      <th>25</th>\n",
              "      <td>[-0.6517246179872063, -0.674938637551924]</td>\n",
              "      <td>1</td>\n",
              "    </tr>\n",
              "    <tr>\n",
              "      <th>405</th>\n",
              "      <td>[-0.5479694632609264, -0.3784420685411525]</td>\n",
              "      <td>1</td>\n",
              "    </tr>\n",
              "    <tr>\n",
              "      <th>162</th>\n",
              "      <td>[0.8088225651711761, -0.9654279235446062]</td>\n",
              "      <td>0</td>\n",
              "    </tr>\n",
              "  </tbody>\n",
              "</table>\n",
              "</div>\n",
              "    <div class=\"colab-df-buttons\">\n",
              "\n",
              "  <div class=\"colab-df-container\">\n",
              "    <button class=\"colab-df-convert\" onclick=\"convertToInteractive('df-a861ea99-5752-4100-a9f0-9accef212cff')\"\n",
              "            title=\"Convert this dataframe to an interactive table.\"\n",
              "            style=\"display:none;\">\n",
              "\n",
              "  <svg xmlns=\"http://www.w3.org/2000/svg\" height=\"24px\" viewBox=\"0 -960 960 960\">\n",
              "    <path d=\"M120-120v-720h720v720H120Zm60-500h600v-160H180v160Zm220 220h160v-160H400v160Zm0 220h160v-160H400v160ZM180-400h160v-160H180v160Zm440 0h160v-160H620v160ZM180-180h160v-160H180v160Zm440 0h160v-160H620v160Z\"/>\n",
              "  </svg>\n",
              "    </button>\n",
              "\n",
              "  <style>\n",
              "    .colab-df-container {\n",
              "      display:flex;\n",
              "      gap: 12px;\n",
              "    }\n",
              "\n",
              "    .colab-df-convert {\n",
              "      background-color: #E8F0FE;\n",
              "      border: none;\n",
              "      border-radius: 50%;\n",
              "      cursor: pointer;\n",
              "      display: none;\n",
              "      fill: #1967D2;\n",
              "      height: 32px;\n",
              "      padding: 0 0 0 0;\n",
              "      width: 32px;\n",
              "    }\n",
              "\n",
              "    .colab-df-convert:hover {\n",
              "      background-color: #E2EBFA;\n",
              "      box-shadow: 0px 1px 2px rgba(60, 64, 67, 0.3), 0px 1px 3px 1px rgba(60, 64, 67, 0.15);\n",
              "      fill: #174EA6;\n",
              "    }\n",
              "\n",
              "    .colab-df-buttons div {\n",
              "      margin-bottom: 4px;\n",
              "    }\n",
              "\n",
              "    [theme=dark] .colab-df-convert {\n",
              "      background-color: #3B4455;\n",
              "      fill: #D2E3FC;\n",
              "    }\n",
              "\n",
              "    [theme=dark] .colab-df-convert:hover {\n",
              "      background-color: #434B5C;\n",
              "      box-shadow: 0px 1px 3px 1px rgba(0, 0, 0, 0.15);\n",
              "      filter: drop-shadow(0px 1px 2px rgba(0, 0, 0, 0.3));\n",
              "      fill: #FFFFFF;\n",
              "    }\n",
              "  </style>\n",
              "\n",
              "    <script>\n",
              "      const buttonEl =\n",
              "        document.querySelector('#df-a861ea99-5752-4100-a9f0-9accef212cff button.colab-df-convert');\n",
              "      buttonEl.style.display =\n",
              "        google.colab.kernel.accessAllowed ? 'block' : 'none';\n",
              "\n",
              "      async function convertToInteractive(key) {\n",
              "        const element = document.querySelector('#df-a861ea99-5752-4100-a9f0-9accef212cff');\n",
              "        const dataTable =\n",
              "          await google.colab.kernel.invokeFunction('convertToInteractive',\n",
              "                                                    [key], {});\n",
              "        if (!dataTable) return;\n",
              "\n",
              "        const docLinkHtml = 'Like what you see? Visit the ' +\n",
              "          '<a target=\"_blank\" href=https://colab.research.google.com/notebooks/data_table.ipynb>data table notebook</a>'\n",
              "          + ' to learn more about interactive tables.';\n",
              "        element.innerHTML = '';\n",
              "        dataTable['output_type'] = 'display_data';\n",
              "        await google.colab.output.renderOutput(dataTable, element);\n",
              "        const docLink = document.createElement('div');\n",
              "        docLink.innerHTML = docLinkHtml;\n",
              "        element.appendChild(docLink);\n",
              "      }\n",
              "    </script>\n",
              "  </div>\n",
              "\n",
              "\n",
              "<div id=\"df-8960ad3e-4db3-47cf-9b87-cd7c5e8502c0\">\n",
              "  <button class=\"colab-df-quickchart\" onclick=\"quickchart('df-8960ad3e-4db3-47cf-9b87-cd7c5e8502c0')\"\n",
              "            title=\"Suggest charts\"\n",
              "            style=\"display:none;\">\n",
              "\n",
              "<svg xmlns=\"http://www.w3.org/2000/svg\" height=\"24px\"viewBox=\"0 0 24 24\"\n",
              "     width=\"24px\">\n",
              "    <g>\n",
              "        <path d=\"M19 3H5c-1.1 0-2 .9-2 2v14c0 1.1.9 2 2 2h14c1.1 0 2-.9 2-2V5c0-1.1-.9-2-2-2zM9 17H7v-7h2v7zm4 0h-2V7h2v10zm4 0h-2v-4h2v4z\"/>\n",
              "    </g>\n",
              "</svg>\n",
              "  </button>\n",
              "\n",
              "<style>\n",
              "  .colab-df-quickchart {\n",
              "      --bg-color: #E8F0FE;\n",
              "      --fill-color: #1967D2;\n",
              "      --hover-bg-color: #E2EBFA;\n",
              "      --hover-fill-color: #174EA6;\n",
              "      --disabled-fill-color: #AAA;\n",
              "      --disabled-bg-color: #DDD;\n",
              "  }\n",
              "\n",
              "  [theme=dark] .colab-df-quickchart {\n",
              "      --bg-color: #3B4455;\n",
              "      --fill-color: #D2E3FC;\n",
              "      --hover-bg-color: #434B5C;\n",
              "      --hover-fill-color: #FFFFFF;\n",
              "      --disabled-bg-color: #3B4455;\n",
              "      --disabled-fill-color: #666;\n",
              "  }\n",
              "\n",
              "  .colab-df-quickchart {\n",
              "    background-color: var(--bg-color);\n",
              "    border: none;\n",
              "    border-radius: 50%;\n",
              "    cursor: pointer;\n",
              "    display: none;\n",
              "    fill: var(--fill-color);\n",
              "    height: 32px;\n",
              "    padding: 0;\n",
              "    width: 32px;\n",
              "  }\n",
              "\n",
              "  .colab-df-quickchart:hover {\n",
              "    background-color: var(--hover-bg-color);\n",
              "    box-shadow: 0 1px 2px rgba(60, 64, 67, 0.3), 0 1px 3px 1px rgba(60, 64, 67, 0.15);\n",
              "    fill: var(--button-hover-fill-color);\n",
              "  }\n",
              "\n",
              "  .colab-df-quickchart-complete:disabled,\n",
              "  .colab-df-quickchart-complete:disabled:hover {\n",
              "    background-color: var(--disabled-bg-color);\n",
              "    fill: var(--disabled-fill-color);\n",
              "    box-shadow: none;\n",
              "  }\n",
              "\n",
              "  .colab-df-spinner {\n",
              "    border: 2px solid var(--fill-color);\n",
              "    border-color: transparent;\n",
              "    border-bottom-color: var(--fill-color);\n",
              "    animation:\n",
              "      spin 1s steps(1) infinite;\n",
              "  }\n",
              "\n",
              "  @keyframes spin {\n",
              "    0% {\n",
              "      border-color: transparent;\n",
              "      border-bottom-color: var(--fill-color);\n",
              "      border-left-color: var(--fill-color);\n",
              "    }\n",
              "    20% {\n",
              "      border-color: transparent;\n",
              "      border-left-color: var(--fill-color);\n",
              "      border-top-color: var(--fill-color);\n",
              "    }\n",
              "    30% {\n",
              "      border-color: transparent;\n",
              "      border-left-color: var(--fill-color);\n",
              "      border-top-color: var(--fill-color);\n",
              "      border-right-color: var(--fill-color);\n",
              "    }\n",
              "    40% {\n",
              "      border-color: transparent;\n",
              "      border-right-color: var(--fill-color);\n",
              "      border-top-color: var(--fill-color);\n",
              "    }\n",
              "    60% {\n",
              "      border-color: transparent;\n",
              "      border-right-color: var(--fill-color);\n",
              "    }\n",
              "    80% {\n",
              "      border-color: transparent;\n",
              "      border-right-color: var(--fill-color);\n",
              "      border-bottom-color: var(--fill-color);\n",
              "    }\n",
              "    90% {\n",
              "      border-color: transparent;\n",
              "      border-bottom-color: var(--fill-color);\n",
              "    }\n",
              "  }\n",
              "</style>\n",
              "\n",
              "  <script>\n",
              "    async function quickchart(key) {\n",
              "      const quickchartButtonEl =\n",
              "        document.querySelector('#' + key + ' button');\n",
              "      quickchartButtonEl.disabled = true;  // To prevent multiple clicks.\n",
              "      quickchartButtonEl.classList.add('colab-df-spinner');\n",
              "      try {\n",
              "        const charts = await google.colab.kernel.invokeFunction(\n",
              "            'suggestCharts', [key], {});\n",
              "      } catch (error) {\n",
              "        console.error('Error during call to suggestCharts:', error);\n",
              "      }\n",
              "      quickchartButtonEl.classList.remove('colab-df-spinner');\n",
              "      quickchartButtonEl.classList.add('colab-df-quickchart-complete');\n",
              "    }\n",
              "    (() => {\n",
              "      let quickchartButtonEl =\n",
              "        document.querySelector('#df-8960ad3e-4db3-47cf-9b87-cd7c5e8502c0 button');\n",
              "      quickchartButtonEl.style.display =\n",
              "        google.colab.kernel.accessAllowed ? 'block' : 'none';\n",
              "    })();\n",
              "  </script>\n",
              "</div>\n",
              "\n",
              "    </div>\n",
              "  </div>\n"
            ],
            "text/plain": [
              "                                           vect  category\n",
              "351  [-0.9962343075282181, -0.8895316517044647]         1\n",
              "467   [-0.284418913263083, -0.3365621076979441]         1\n",
              "25    [-0.6517246179872063, -0.674938637551924]         1\n",
              "405  [-0.5479694632609264, -0.3784420685411525]         1\n",
              "162   [0.8088225651711761, -0.9654279235446062]         0"
            ]
          },
          "execution_count": 76,
          "metadata": {},
          "output_type": "execute_result"
        }
      ],
      "source": [
        "df_train_6.head()"
      ]
    },
    {
      "cell_type": "markdown",
      "metadata": {
        "id": "liGrrKklPoA0"
      },
      "source": [
        "- Let's try different models on the datasets above\n",
        "\n",
        "I simply curated models with the help of GPT agent:"
      ]
    },
    {
      "cell_type": "code",
      "execution_count": 83,
      "metadata": {
        "id": "8fxRyFLrRLsa"
      },
      "outputs": [],
      "source": [
        "### many models~\n",
        "\n",
        "from sklearn.naive_bayes import GaussianNB\n",
        "# Bayesian\n",
        "clf_gaussianNB = sklearn.naive_bayes.GaussianNB()\n",
        "clf_multinomialNB = sklearn.naive_bayes.MultinomialNB()\n",
        "clf_bernoulliNB = sklearn.naive_bayes.BernoulliNB()\n",
        "\n",
        "# Linear Models\n",
        "clf_logisticRegression = sklearn.linear_model.LogisticRegression()\n",
        "clf_sgdClassifier = sklearn.linear_model.SGDClassifier()\n",
        "\n",
        "# Trees\n",
        "clf_decisionTree = sklearn.tree.DecisionTreeClassifier()\n",
        "clf_extraTreeClassifier = sklearn.tree.ExtraTreeClassifier()\n",
        "\n",
        "# Ensemble Methods\n",
        "clf_randomForest = sklearn.ensemble.RandomForestClassifier()\n",
        "clf_gradientBoosting = sklearn.ensemble.GradientBoostingClassifier()\n",
        "clf_adaboost = sklearn.ensemble.AdaBoostClassifier()\n",
        "clf_bagging = sklearn.ensemble.BaggingClassifier()\n",
        "clf_extraTrees = sklearn.ensemble.ExtraTreesClassifier()\n",
        "\n",
        "# Neighbors\n",
        "clf_kNeighbors = sklearn.neighbors.KNeighborsClassifier()\n",
        "clf_radiusNeighbors = sklearn.neighbors.RadiusNeighborsClassifier()\n",
        "\n",
        "# SVM\n",
        "clf_svc = sklearn.svm.SVC()\n",
        "clf_linearSVC = sklearn.svm.LinearSVC()\n",
        "\n",
        "# Neural Network Models\n",
        "clf_mlpClassifier = sklearn.neural_network.MLPClassifier()\n",
        "\n",
        "# Others\n",
        "clf_passiveAggressiveClassifier = sklearn.linear_model.PassiveAggressiveClassifier()\n",
        "clf_ridgeClassifier = sklearn.linear_model.RidgeClassifier()\n"
      ]
    },
    {
      "cell_type": "code",
      "execution_count": 92,
      "metadata": {
        "id": "Ppripz5OS_9p"
      },
      "outputs": [],
      "source": [
        "# These are everything I tried, including extra models\n",
        "classifiers = {\n",
        "    'GaussianNB': sklearn.naive_bayes.GaussianNB(),\n",
        "    'LogisticRegression': sklearn.linear_model.LogisticRegression(),\n",
        "    'SGDClassifier': sklearn.linear_model.SGDClassifier(),\n",
        "    'DecisionTree': sklearn.tree.DecisionTreeClassifier(),\n",
        "    'ExtraTreeClassifier': sklearn.tree.ExtraTreeClassifier(),\n",
        "    'RandomForest': sklearn.ensemble.RandomForestClassifier(),\n",
        "    'GradientBoosting': sklearn.ensemble.GradientBoostingClassifier(),\n",
        "    'AdaBoost': sklearn.ensemble.AdaBoostClassifier(),\n",
        "    'Bagging': sklearn.ensemble.BaggingClassifier(),\n",
        "    'ExtraTrees': sklearn.ensemble.ExtraTreesClassifier(),\n",
        "    'KNeighbors': sklearn.neighbors.KNeighborsClassifier(),\n",
        "    'RadiusNeighbors': sklearn.neighbors.RadiusNeighborsClassifier(),\n",
        "    'SVC': sklearn.svm.SVC(),\n",
        "    'LinearSVC': sklearn.svm.LinearSVC(),\n",
        "    'MLPClassifier': sklearn.neural_network.MLPClassifier(),\n",
        "    'PassiveAggressiveClassifier': sklearn.linear_model.PassiveAggressiveClassifier(),\n",
        "    'RidgeClassifier': sklearn.linear_model.RidgeClassifier(),\n",
        "}"
      ]
    },
    {
      "cell_type": "code",
      "execution_count": 86,
      "metadata": {
        "id": "eKti7qv8TQMq"
      },
      "outputs": [],
      "source": [
        "def evaluate_classifiers(classifiers, datasets): # this didn't work well, I use next function\n",
        "    results = []\n",
        "\n",
        "    for clf_name, clf in classifiers.items():\n",
        "        for i in range(1, 11):  # Assuming dataset indices range from 1 to 10\n",
        "            # Load training and test datasets\n",
        "            df_train = datasets[f'df_train_{i}']\n",
        "            df_test = datasets[f'df_test_{i}']\n",
        "\n",
        "            # Fit the classifier\n",
        "            clf.fit(np.stack(df_train['vect'], axis=0), df_train['category'])\n",
        "\n",
        "            # Evaluate the classifier\n",
        "            result = lucem_illud.evaluateClassifier(clf, df_test)\n",
        "\n",
        "            # Store results with additional info\n",
        "            result['Classifier'] = clf_name\n",
        "            result['Dataset'] = f'Dataset {i}'\n",
        "            results.append(result)\n",
        "\n",
        "    # Combine all results into a single DataFrame\n",
        "    final_results = pd.concat(results, ignore_index=True)\n",
        "    return final_results"
      ]
    },
    {
      "cell_type": "code",
      "execution_count": 97,
      "metadata": {
        "id": "8RR67tcKVHXj"
      },
      "outputs": [],
      "source": [
        "def evaluate_classifiers_on_dataset(classifiers, df_train, df_test):\n",
        "  # I use this function for testing\n",
        "  # also, I excluded the plotings for managable upload\n",
        "    results = {}\n",
        "\n",
        "    for clf_name, clf in classifiers.items():\n",
        "        # Fit the classifier\n",
        "        clf.fit(np.stack(df_train['vect'], axis=0), df_train['category'])\n",
        "\n",
        "        # Evaluate the classifier\n",
        "        result = lucem_illud.evaluateClassifier(clf, df_test)\n",
        "\n",
        "        # Store results with classifier name\n",
        "        results[clf_name] = result\n",
        "\n",
        "    return results\n"
      ]
    },
    {
      "cell_type": "code",
      "execution_count": 84,
      "metadata": {
        "colab": {
          "base_uri": "https://localhost:8080/",
          "height": 143
        },
        "id": "m-u0J6j1RUeA",
        "outputId": "127bf171-162f-4cf3-bc06-bfa9f399fb0e"
      },
      "outputs": [
        {
          "data": {
            "text/html": [
              "\n",
              "  <div id=\"df-aa8cd38d-250a-4079-a383-39ae388a5c0c\" class=\"colab-df-container\">\n",
              "    <div>\n",
              "<style scoped>\n",
              "    .dataframe tbody tr th:only-of-type {\n",
              "        vertical-align: middle;\n",
              "    }\n",
              "\n",
              "    .dataframe tbody tr th {\n",
              "        vertical-align: top;\n",
              "    }\n",
              "\n",
              "    .dataframe thead th {\n",
              "        text-align: right;\n",
              "    }\n",
              "</style>\n",
              "<table border=\"1\" class=\"dataframe\">\n",
              "  <thead>\n",
              "    <tr style=\"text-align: right;\">\n",
              "      <th></th>\n",
              "      <th>Error_Rate</th>\n",
              "      <th>AUC</th>\n",
              "      <th>Precision</th>\n",
              "      <th>Average_Precision</th>\n",
              "      <th>Recall</th>\n",
              "    </tr>\n",
              "    <tr>\n",
              "      <th>Category</th>\n",
              "      <th></th>\n",
              "      <th></th>\n",
              "      <th></th>\n",
              "      <th></th>\n",
              "      <th></th>\n",
              "    </tr>\n",
              "  </thead>\n",
              "  <tbody>\n",
              "    <tr>\n",
              "      <th>0</th>\n",
              "      <td>0.525</td>\n",
              "      <td>0.481454</td>\n",
              "      <td>0.460317</td>\n",
              "      <td>0.466036</td>\n",
              "      <td>0.610526</td>\n",
              "    </tr>\n",
              "    <tr>\n",
              "      <th>1</th>\n",
              "      <td>0.525</td>\n",
              "      <td>0.481454</td>\n",
              "      <td>0.500000</td>\n",
              "      <td>0.516190</td>\n",
              "      <td>0.352381</td>\n",
              "    </tr>\n",
              "  </tbody>\n",
              "</table>\n",
              "</div>\n",
              "    <div class=\"colab-df-buttons\">\n",
              "\n",
              "  <div class=\"colab-df-container\">\n",
              "    <button class=\"colab-df-convert\" onclick=\"convertToInteractive('df-aa8cd38d-250a-4079-a383-39ae388a5c0c')\"\n",
              "            title=\"Convert this dataframe to an interactive table.\"\n",
              "            style=\"display:none;\">\n",
              "\n",
              "  <svg xmlns=\"http://www.w3.org/2000/svg\" height=\"24px\" viewBox=\"0 -960 960 960\">\n",
              "    <path d=\"M120-120v-720h720v720H120Zm60-500h600v-160H180v160Zm220 220h160v-160H400v160Zm0 220h160v-160H400v160ZM180-400h160v-160H180v160Zm440 0h160v-160H620v160ZM180-180h160v-160H180v160Zm440 0h160v-160H620v160Z\"/>\n",
              "  </svg>\n",
              "    </button>\n",
              "\n",
              "  <style>\n",
              "    .colab-df-container {\n",
              "      display:flex;\n",
              "      gap: 12px;\n",
              "    }\n",
              "\n",
              "    .colab-df-convert {\n",
              "      background-color: #E8F0FE;\n",
              "      border: none;\n",
              "      border-radius: 50%;\n",
              "      cursor: pointer;\n",
              "      display: none;\n",
              "      fill: #1967D2;\n",
              "      height: 32px;\n",
              "      padding: 0 0 0 0;\n",
              "      width: 32px;\n",
              "    }\n",
              "\n",
              "    .colab-df-convert:hover {\n",
              "      background-color: #E2EBFA;\n",
              "      box-shadow: 0px 1px 2px rgba(60, 64, 67, 0.3), 0px 1px 3px 1px rgba(60, 64, 67, 0.15);\n",
              "      fill: #174EA6;\n",
              "    }\n",
              "\n",
              "    .colab-df-buttons div {\n",
              "      margin-bottom: 4px;\n",
              "    }\n",
              "\n",
              "    [theme=dark] .colab-df-convert {\n",
              "      background-color: #3B4455;\n",
              "      fill: #D2E3FC;\n",
              "    }\n",
              "\n",
              "    [theme=dark] .colab-df-convert:hover {\n",
              "      background-color: #434B5C;\n",
              "      box-shadow: 0px 1px 3px 1px rgba(0, 0, 0, 0.15);\n",
              "      filter: drop-shadow(0px 1px 2px rgba(0, 0, 0, 0.3));\n",
              "      fill: #FFFFFF;\n",
              "    }\n",
              "  </style>\n",
              "\n",
              "    <script>\n",
              "      const buttonEl =\n",
              "        document.querySelector('#df-aa8cd38d-250a-4079-a383-39ae388a5c0c button.colab-df-convert');\n",
              "      buttonEl.style.display =\n",
              "        google.colab.kernel.accessAllowed ? 'block' : 'none';\n",
              "\n",
              "      async function convertToInteractive(key) {\n",
              "        const element = document.querySelector('#df-aa8cd38d-250a-4079-a383-39ae388a5c0c');\n",
              "        const dataTable =\n",
              "          await google.colab.kernel.invokeFunction('convertToInteractive',\n",
              "                                                    [key], {});\n",
              "        if (!dataTable) return;\n",
              "\n",
              "        const docLinkHtml = 'Like what you see? Visit the ' +\n",
              "          '<a target=\"_blank\" href=https://colab.research.google.com/notebooks/data_table.ipynb>data table notebook</a>'\n",
              "          + ' to learn more about interactive tables.';\n",
              "        element.innerHTML = '';\n",
              "        dataTable['output_type'] = 'display_data';\n",
              "        await google.colab.output.renderOutput(dataTable, element);\n",
              "        const docLink = document.createElement('div');\n",
              "        docLink.innerHTML = docLinkHtml;\n",
              "        element.appendChild(docLink);\n",
              "      }\n",
              "    </script>\n",
              "  </div>\n",
              "\n",
              "\n",
              "<div id=\"df-e5a1608d-71cd-45d7-b348-ec776a246491\">\n",
              "  <button class=\"colab-df-quickchart\" onclick=\"quickchart('df-e5a1608d-71cd-45d7-b348-ec776a246491')\"\n",
              "            title=\"Suggest charts\"\n",
              "            style=\"display:none;\">\n",
              "\n",
              "<svg xmlns=\"http://www.w3.org/2000/svg\" height=\"24px\"viewBox=\"0 0 24 24\"\n",
              "     width=\"24px\">\n",
              "    <g>\n",
              "        <path d=\"M19 3H5c-1.1 0-2 .9-2 2v14c0 1.1.9 2 2 2h14c1.1 0 2-.9 2-2V5c0-1.1-.9-2-2-2zM9 17H7v-7h2v7zm4 0h-2V7h2v10zm4 0h-2v-4h2v4z\"/>\n",
              "    </g>\n",
              "</svg>\n",
              "  </button>\n",
              "\n",
              "<style>\n",
              "  .colab-df-quickchart {\n",
              "      --bg-color: #E8F0FE;\n",
              "      --fill-color: #1967D2;\n",
              "      --hover-bg-color: #E2EBFA;\n",
              "      --hover-fill-color: #174EA6;\n",
              "      --disabled-fill-color: #AAA;\n",
              "      --disabled-bg-color: #DDD;\n",
              "  }\n",
              "\n",
              "  [theme=dark] .colab-df-quickchart {\n",
              "      --bg-color: #3B4455;\n",
              "      --fill-color: #D2E3FC;\n",
              "      --hover-bg-color: #434B5C;\n",
              "      --hover-fill-color: #FFFFFF;\n",
              "      --disabled-bg-color: #3B4455;\n",
              "      --disabled-fill-color: #666;\n",
              "  }\n",
              "\n",
              "  .colab-df-quickchart {\n",
              "    background-color: var(--bg-color);\n",
              "    border: none;\n",
              "    border-radius: 50%;\n",
              "    cursor: pointer;\n",
              "    display: none;\n",
              "    fill: var(--fill-color);\n",
              "    height: 32px;\n",
              "    padding: 0;\n",
              "    width: 32px;\n",
              "  }\n",
              "\n",
              "  .colab-df-quickchart:hover {\n",
              "    background-color: var(--hover-bg-color);\n",
              "    box-shadow: 0 1px 2px rgba(60, 64, 67, 0.3), 0 1px 3px 1px rgba(60, 64, 67, 0.15);\n",
              "    fill: var(--button-hover-fill-color);\n",
              "  }\n",
              "\n",
              "  .colab-df-quickchart-complete:disabled,\n",
              "  .colab-df-quickchart-complete:disabled:hover {\n",
              "    background-color: var(--disabled-bg-color);\n",
              "    fill: var(--disabled-fill-color);\n",
              "    box-shadow: none;\n",
              "  }\n",
              "\n",
              "  .colab-df-spinner {\n",
              "    border: 2px solid var(--fill-color);\n",
              "    border-color: transparent;\n",
              "    border-bottom-color: var(--fill-color);\n",
              "    animation:\n",
              "      spin 1s steps(1) infinite;\n",
              "  }\n",
              "\n",
              "  @keyframes spin {\n",
              "    0% {\n",
              "      border-color: transparent;\n",
              "      border-bottom-color: var(--fill-color);\n",
              "      border-left-color: var(--fill-color);\n",
              "    }\n",
              "    20% {\n",
              "      border-color: transparent;\n",
              "      border-left-color: var(--fill-color);\n",
              "      border-top-color: var(--fill-color);\n",
              "    }\n",
              "    30% {\n",
              "      border-color: transparent;\n",
              "      border-left-color: var(--fill-color);\n",
              "      border-top-color: var(--fill-color);\n",
              "      border-right-color: var(--fill-color);\n",
              "    }\n",
              "    40% {\n",
              "      border-color: transparent;\n",
              "      border-right-color: var(--fill-color);\n",
              "      border-top-color: var(--fill-color);\n",
              "    }\n",
              "    60% {\n",
              "      border-color: transparent;\n",
              "      border-right-color: var(--fill-color);\n",
              "    }\n",
              "    80% {\n",
              "      border-color: transparent;\n",
              "      border-right-color: var(--fill-color);\n",
              "      border-bottom-color: var(--fill-color);\n",
              "    }\n",
              "    90% {\n",
              "      border-color: transparent;\n",
              "      border-bottom-color: var(--fill-color);\n",
              "    }\n",
              "  }\n",
              "</style>\n",
              "\n",
              "  <script>\n",
              "    async function quickchart(key) {\n",
              "      const quickchartButtonEl =\n",
              "        document.querySelector('#' + key + ' button');\n",
              "      quickchartButtonEl.disabled = true;  // To prevent multiple clicks.\n",
              "      quickchartButtonEl.classList.add('colab-df-spinner');\n",
              "      try {\n",
              "        const charts = await google.colab.kernel.invokeFunction(\n",
              "            'suggestCharts', [key], {});\n",
              "      } catch (error) {\n",
              "        console.error('Error during call to suggestCharts:', error);\n",
              "      }\n",
              "      quickchartButtonEl.classList.remove('colab-df-spinner');\n",
              "      quickchartButtonEl.classList.add('colab-df-quickchart-complete');\n",
              "    }\n",
              "    (() => {\n",
              "      let quickchartButtonEl =\n",
              "        document.querySelector('#df-e5a1608d-71cd-45d7-b348-ec776a246491 button');\n",
              "      quickchartButtonEl.style.display =\n",
              "        google.colab.kernel.accessAllowed ? 'block' : 'none';\n",
              "    })();\n",
              "  </script>\n",
              "</div>\n",
              "\n",
              "    </div>\n",
              "  </div>\n"
            ],
            "text/plain": [
              "          Error_Rate       AUC  Precision  Average_Precision    Recall\n",
              "Category                                                              \n",
              "0              0.525  0.481454   0.460317           0.466036  0.610526\n",
              "1              0.525  0.481454   0.500000           0.516190  0.352381"
            ]
          },
          "execution_count": 84,
          "metadata": {},
          "output_type": "execute_result"
        }
      ],
      "source": [
        "# try those functions and ploting first\n",
        "\n",
        "clf_gaussianNB.fit(np.stack(df_train_1['vect'], axis=0), df_train_1['category'])\n",
        "lucem_illud.evaluateClassifier(clf_gaussianNB, df_test_1) # this returns a pandas dataframe\n"
      ]
    },
    {
      "cell_type": "code",
      "execution_count": 124,
      "metadata": {
        "colab": {
          "base_uri": "https://localhost:8080/",
          "height": 237
        },
        "id": "bFX4qvdeT8eC",
        "outputId": "2ba3d010-4a9a-461f-97ac-736a9f0f91cb"
      },
      "outputs": [
        {
          "data": {
            "text/html": [
              "\n",
              "  <div id=\"df-27d59fe7-441a-490d-9b76-2145d537f0c9\" class=\"colab-df-container\">\n",
              "    <div>\n",
              "<style scoped>\n",
              "    .dataframe tbody tr th:only-of-type {\n",
              "        vertical-align: middle;\n",
              "    }\n",
              "\n",
              "    .dataframe tbody tr th {\n",
              "        vertical-align: top;\n",
              "    }\n",
              "\n",
              "    .dataframe thead th {\n",
              "        text-align: right;\n",
              "    }\n",
              "</style>\n",
              "<table border=\"1\" class=\"dataframe\">\n",
              "  <thead>\n",
              "    <tr style=\"text-align: right;\">\n",
              "      <th></th>\n",
              "      <th>Error_Rate</th>\n",
              "      <th>AUC</th>\n",
              "      <th>Precision</th>\n",
              "      <th>Average_Precision</th>\n",
              "      <th>Recall</th>\n",
              "    </tr>\n",
              "    <tr>\n",
              "      <th>Category</th>\n",
              "      <th></th>\n",
              "      <th></th>\n",
              "      <th></th>\n",
              "      <th></th>\n",
              "      <th></th>\n",
              "    </tr>\n",
              "  </thead>\n",
              "  <tbody>\n",
              "    <tr>\n",
              "      <th>0</th>\n",
              "      <td>0.044</td>\n",
              "      <td>0.948460</td>\n",
              "      <td>0.870690</td>\n",
              "      <td>0.828256</td>\n",
              "      <td>0.935185</td>\n",
              "    </tr>\n",
              "    <tr>\n",
              "      <th>1</th>\n",
              "      <td>0.044</td>\n",
              "      <td>0.916439</td>\n",
              "      <td>0.910112</td>\n",
              "      <td>0.803991</td>\n",
              "      <td>0.852632</td>\n",
              "    </tr>\n",
              "    <tr>\n",
              "      <th>2</th>\n",
              "      <td>0.032</td>\n",
              "      <td>0.938750</td>\n",
              "      <td>0.946809</td>\n",
              "      <td>0.864660</td>\n",
              "      <td>0.890000</td>\n",
              "    </tr>\n",
              "    <tr>\n",
              "      <th>3</th>\n",
              "      <td>0.046</td>\n",
              "      <td>0.940476</td>\n",
              "      <td>0.876106</td>\n",
              "      <td>0.821097</td>\n",
              "      <td>0.916667</td>\n",
              "    </tr>\n",
              "    <tr>\n",
              "      <th>4</th>\n",
              "      <td>0.014</td>\n",
              "      <td>0.973878</td>\n",
              "      <td>0.965909</td>\n",
              "      <td>0.930497</td>\n",
              "      <td>0.955056</td>\n",
              "    </tr>\n",
              "  </tbody>\n",
              "</table>\n",
              "</div>\n",
              "    <div class=\"colab-df-buttons\">\n",
              "\n",
              "  <div class=\"colab-df-container\">\n",
              "    <button class=\"colab-df-convert\" onclick=\"convertToInteractive('df-27d59fe7-441a-490d-9b76-2145d537f0c9')\"\n",
              "            title=\"Convert this dataframe to an interactive table.\"\n",
              "            style=\"display:none;\">\n",
              "\n",
              "  <svg xmlns=\"http://www.w3.org/2000/svg\" height=\"24px\" viewBox=\"0 -960 960 960\">\n",
              "    <path d=\"M120-120v-720h720v720H120Zm60-500h600v-160H180v160Zm220 220h160v-160H400v160Zm0 220h160v-160H400v160ZM180-400h160v-160H180v160Zm440 0h160v-160H620v160ZM180-180h160v-160H180v160Zm440 0h160v-160H620v160Z\"/>\n",
              "  </svg>\n",
              "    </button>\n",
              "\n",
              "  <style>\n",
              "    .colab-df-container {\n",
              "      display:flex;\n",
              "      gap: 12px;\n",
              "    }\n",
              "\n",
              "    .colab-df-convert {\n",
              "      background-color: #E8F0FE;\n",
              "      border: none;\n",
              "      border-radius: 50%;\n",
              "      cursor: pointer;\n",
              "      display: none;\n",
              "      fill: #1967D2;\n",
              "      height: 32px;\n",
              "      padding: 0 0 0 0;\n",
              "      width: 32px;\n",
              "    }\n",
              "\n",
              "    .colab-df-convert:hover {\n",
              "      background-color: #E2EBFA;\n",
              "      box-shadow: 0px 1px 2px rgba(60, 64, 67, 0.3), 0px 1px 3px 1px rgba(60, 64, 67, 0.15);\n",
              "      fill: #174EA6;\n",
              "    }\n",
              "\n",
              "    .colab-df-buttons div {\n",
              "      margin-bottom: 4px;\n",
              "    }\n",
              "\n",
              "    [theme=dark] .colab-df-convert {\n",
              "      background-color: #3B4455;\n",
              "      fill: #D2E3FC;\n",
              "    }\n",
              "\n",
              "    [theme=dark] .colab-df-convert:hover {\n",
              "      background-color: #434B5C;\n",
              "      box-shadow: 0px 1px 3px 1px rgba(0, 0, 0, 0.15);\n",
              "      filter: drop-shadow(0px 1px 2px rgba(0, 0, 0, 0.3));\n",
              "      fill: #FFFFFF;\n",
              "    }\n",
              "  </style>\n",
              "\n",
              "    <script>\n",
              "      const buttonEl =\n",
              "        document.querySelector('#df-27d59fe7-441a-490d-9b76-2145d537f0c9 button.colab-df-convert');\n",
              "      buttonEl.style.display =\n",
              "        google.colab.kernel.accessAllowed ? 'block' : 'none';\n",
              "\n",
              "      async function convertToInteractive(key) {\n",
              "        const element = document.querySelector('#df-27d59fe7-441a-490d-9b76-2145d537f0c9');\n",
              "        const dataTable =\n",
              "          await google.colab.kernel.invokeFunction('convertToInteractive',\n",
              "                                                    [key], {});\n",
              "        if (!dataTable) return;\n",
              "\n",
              "        const docLinkHtml = 'Like what you see? Visit the ' +\n",
              "          '<a target=\"_blank\" href=https://colab.research.google.com/notebooks/data_table.ipynb>data table notebook</a>'\n",
              "          + ' to learn more about interactive tables.';\n",
              "        element.innerHTML = '';\n",
              "        dataTable['output_type'] = 'display_data';\n",
              "        await google.colab.output.renderOutput(dataTable, element);\n",
              "        const docLink = document.createElement('div');\n",
              "        docLink.innerHTML = docLinkHtml;\n",
              "        element.appendChild(docLink);\n",
              "      }\n",
              "    </script>\n",
              "  </div>\n",
              "\n",
              "\n",
              "<div id=\"df-77092cfa-c6b7-475a-aad8-7539c06d91cd\">\n",
              "  <button class=\"colab-df-quickchart\" onclick=\"quickchart('df-77092cfa-c6b7-475a-aad8-7539c06d91cd')\"\n",
              "            title=\"Suggest charts\"\n",
              "            style=\"display:none;\">\n",
              "\n",
              "<svg xmlns=\"http://www.w3.org/2000/svg\" height=\"24px\"viewBox=\"0 0 24 24\"\n",
              "     width=\"24px\">\n",
              "    <g>\n",
              "        <path d=\"M19 3H5c-1.1 0-2 .9-2 2v14c0 1.1.9 2 2 2h14c1.1 0 2-.9 2-2V5c0-1.1-.9-2-2-2zM9 17H7v-7h2v7zm4 0h-2V7h2v10zm4 0h-2v-4h2v4z\"/>\n",
              "    </g>\n",
              "</svg>\n",
              "  </button>\n",
              "\n",
              "<style>\n",
              "  .colab-df-quickchart {\n",
              "      --bg-color: #E8F0FE;\n",
              "      --fill-color: #1967D2;\n",
              "      --hover-bg-color: #E2EBFA;\n",
              "      --hover-fill-color: #174EA6;\n",
              "      --disabled-fill-color: #AAA;\n",
              "      --disabled-bg-color: #DDD;\n",
              "  }\n",
              "\n",
              "  [theme=dark] .colab-df-quickchart {\n",
              "      --bg-color: #3B4455;\n",
              "      --fill-color: #D2E3FC;\n",
              "      --hover-bg-color: #434B5C;\n",
              "      --hover-fill-color: #FFFFFF;\n",
              "      --disabled-bg-color: #3B4455;\n",
              "      --disabled-fill-color: #666;\n",
              "  }\n",
              "\n",
              "  .colab-df-quickchart {\n",
              "    background-color: var(--bg-color);\n",
              "    border: none;\n",
              "    border-radius: 50%;\n",
              "    cursor: pointer;\n",
              "    display: none;\n",
              "    fill: var(--fill-color);\n",
              "    height: 32px;\n",
              "    padding: 0;\n",
              "    width: 32px;\n",
              "  }\n",
              "\n",
              "  .colab-df-quickchart:hover {\n",
              "    background-color: var(--hover-bg-color);\n",
              "    box-shadow: 0 1px 2px rgba(60, 64, 67, 0.3), 0 1px 3px 1px rgba(60, 64, 67, 0.15);\n",
              "    fill: var(--button-hover-fill-color);\n",
              "  }\n",
              "\n",
              "  .colab-df-quickchart-complete:disabled,\n",
              "  .colab-df-quickchart-complete:disabled:hover {\n",
              "    background-color: var(--disabled-bg-color);\n",
              "    fill: var(--disabled-fill-color);\n",
              "    box-shadow: none;\n",
              "  }\n",
              "\n",
              "  .colab-df-spinner {\n",
              "    border: 2px solid var(--fill-color);\n",
              "    border-color: transparent;\n",
              "    border-bottom-color: var(--fill-color);\n",
              "    animation:\n",
              "      spin 1s steps(1) infinite;\n",
              "  }\n",
              "\n",
              "  @keyframes spin {\n",
              "    0% {\n",
              "      border-color: transparent;\n",
              "      border-bottom-color: var(--fill-color);\n",
              "      border-left-color: var(--fill-color);\n",
              "    }\n",
              "    20% {\n",
              "      border-color: transparent;\n",
              "      border-left-color: var(--fill-color);\n",
              "      border-top-color: var(--fill-color);\n",
              "    }\n",
              "    30% {\n",
              "      border-color: transparent;\n",
              "      border-left-color: var(--fill-color);\n",
              "      border-top-color: var(--fill-color);\n",
              "      border-right-color: var(--fill-color);\n",
              "    }\n",
              "    40% {\n",
              "      border-color: transparent;\n",
              "      border-right-color: var(--fill-color);\n",
              "      border-top-color: var(--fill-color);\n",
              "    }\n",
              "    60% {\n",
              "      border-color: transparent;\n",
              "      border-right-color: var(--fill-color);\n",
              "    }\n",
              "    80% {\n",
              "      border-color: transparent;\n",
              "      border-right-color: var(--fill-color);\n",
              "      border-bottom-color: var(--fill-color);\n",
              "    }\n",
              "    90% {\n",
              "      border-color: transparent;\n",
              "      border-bottom-color: var(--fill-color);\n",
              "    }\n",
              "  }\n",
              "</style>\n",
              "\n",
              "  <script>\n",
              "    async function quickchart(key) {\n",
              "      const quickchartButtonEl =\n",
              "        document.querySelector('#' + key + ' button');\n",
              "      quickchartButtonEl.disabled = true;  // To prevent multiple clicks.\n",
              "      quickchartButtonEl.classList.add('colab-df-spinner');\n",
              "      try {\n",
              "        const charts = await google.colab.kernel.invokeFunction(\n",
              "            'suggestCharts', [key], {});\n",
              "      } catch (error) {\n",
              "        console.error('Error during call to suggestCharts:', error);\n",
              "      }\n",
              "      quickchartButtonEl.classList.remove('colab-df-spinner');\n",
              "      quickchartButtonEl.classList.add('colab-df-quickchart-complete');\n",
              "    }\n",
              "    (() => {\n",
              "      let quickchartButtonEl =\n",
              "        document.querySelector('#df-77092cfa-c6b7-475a-aad8-7539c06d91cd button');\n",
              "      quickchartButtonEl.style.display =\n",
              "        google.colab.kernel.accessAllowed ? 'block' : 'none';\n",
              "    })();\n",
              "  </script>\n",
              "</div>\n",
              "\n",
              "    </div>\n",
              "  </div>\n"
            ],
            "text/plain": [
              "          Error_Rate       AUC  Precision  Average_Precision    Recall\n",
              "Category                                                              \n",
              "0              0.044  0.948460   0.870690           0.828256  0.935185\n",
              "1              0.044  0.916439   0.910112           0.803991  0.852632\n",
              "2              0.032  0.938750   0.946809           0.864660  0.890000\n",
              "3              0.046  0.940476   0.876106           0.821097  0.916667\n",
              "4              0.014  0.973878   0.965909           0.930497  0.955056"
            ]
          },
          "execution_count": 124,
          "metadata": {},
          "output_type": "execute_result"
        }
      ],
      "source": [
        "clf_randomForest.fit(np.stack(df_train_9['vect'], axis=0), df_train_9['category'])\n",
        "lucem_illud.evaluateClassifier(clf_randomForest, df_test_9) # this returns a pandas dataframe\n"
      ]
    },
    {
      "cell_type": "code",
      "execution_count": 125,
      "metadata": {
        "colab": {
          "base_uri": "https://localhost:8080/",
          "height": 472
        },
        "id": "zeD-gG08aHlU",
        "outputId": "58630b8f-65d1-437b-b493-8fe43234b37c"
      },
      "outputs": [
        {
          "data": {
            "image/png": "[encoded data removed]",
            "text/plain": [
              "<Figure size 640x480 with 1 Axes>"
            ]
          },
          "metadata": {},
          "output_type": "display_data"
        }
      ],
      "source": [
        "lucem_illud.plotConfusionMatrix(clf_randomForest, df_test_9)"
      ]
    },
    {
      "cell_type": "code",
      "execution_count": 126,
      "metadata": {
        "colab": {
          "base_uri": "https://localhost:8080/",
          "height": 872
        },
        "id": "i2Vw5I7Naexe",
        "outputId": "eaf6cd36-8c51-4ab6-bc00-902317998bd8"
      },
      "outputs": [
        {
          "data": {
            "image/png": "[encoded data removed]",
            "text/plain": [
              "<Figure size 1000x1000 with 1 Axes>"
            ]
          },
          "metadata": {},
          "output_type": "display_data"
        }
      ],
      "source": [
        "lucem_illud.plotMultiROC(clf_randomForest, df_test_9)"
      ]
    },
    {
      "cell_type": "code",
      "execution_count": 127,
      "metadata": {
        "colab": {
          "base_uri": "https://localhost:8080/",
          "height": 862
        },
        "id": "_MHIWQ6zabFT",
        "outputId": "396220ad-ca43-48d7-fa8d-f542128a0d07"
      },
      "outputs": [
        {
          "name": "stderr",
          "output_type": "stream",
          "text": [
            "/usr/local/lib/python3.10/dist-packages/lucem_illud/metrics.py:167: UserWarning: *c* argument looks like a single numeric RGB or RGBA sequence, which should be avoided as value-mapping will have precedence in case its length matches with *x* & *y*.  Please use the *color* keyword-argument or provide a 2D array with a single row if you intend to specify the same RGB or RGBA value for all points.\n",
            "  ax.scatter(a[:,0], a[:, 1], c = pallet[catsMap[cat]], label = cat)\n"
          ]
        },
        {
          "data": {
            "image/png": "[encoded data removed]",
            "text/plain": [
              "<Figure size 1000x1000 with 1 Axes>"
            ]
          },
          "metadata": {},
          "output_type": "display_data"
        }
      ],
      "source": [
        "lucem_illud.plotregions(clf_randomForest, df_test_9)"
      ]
    },
    {
      "cell_type": "code",
      "execution_count": 90,
      "metadata": {
        "id": "erdzWHv2Pn3c"
      },
      "outputs": [],
      "source": [
        "datasets = {\n",
        "    'df_train_1': df_train_1, 'df_test_1': df_test_1,\n",
        "    'df_train_2': df_train_2, 'df_test_2': df_test_2,\n",
        "    'df_train_3': df_train_3, 'df_test_3': df_test_3,\n",
        "    'df_train_4': df_train_4, 'df_test_4': df_test_4,\n",
        "    'df_train_5': df_train_5, 'df_test_5': df_test_5,\n",
        "    'df_train_6': df_train_6, 'df_test_6': df_test_6,\n",
        "    'df_train_7': df_train_7, 'df_test_7': df_test_7,\n",
        "    'df_train_8': df_train_8, 'df_test_8': df_test_8,\n",
        "    'df_train_9': df_train_9, 'df_test_9': df_test_9,\n",
        "    'df_train_10': df_train_10, 'df_test_10': df_test_10\n",
        "}"
      ]
    },
    {
      "cell_type": "markdown",
      "metadata": {
        "id": "6fdWIbgCXE5z"
      },
      "source": [
        "#### Model fit and evaluation on toy dataset start here"
      ]
    },
    {
      "cell_type": "code",
      "execution_count": 98,
      "metadata": {
        "id": "6h3OQHjZVIxZ"
      },
      "outputs": [],
      "source": [
        "results_df1 = evaluate_classifiers_on_dataset(classifiers, df_train_1, df_test_1)"
      ]
    },
    {
      "cell_type": "code",
      "execution_count": 99,
      "metadata": {
        "colab": {
          "base_uri": "https://localhost:8080/"
        },
        "id": "PhgPg3KEVO3r",
        "outputId": "2eced173-9717-42a3-9d55-079ab7944c1a"
      },
      "outputs": [
        {
          "data": {
            "text/plain": [
              "{'GaussianNB':           Error_Rate       AUC  Precision  Average_Precision    Recall\n",
              " Category                                                              \n",
              " 0              0.525  0.481454   0.460317           0.466036  0.610526\n",
              " 1              0.525  0.481454   0.500000           0.516190  0.352381,\n",
              " 'LogisticRegression':           Error_Rate       AUC  Precision  Average_Precision    Recall\n",
              " Category                                                              \n",
              " 0                0.5  0.503258   0.477876           0.476635  0.568421\n",
              " 1                0.5  0.503258   0.528736           0.526637  0.438095,\n",
              " 'SGDClassifier':           Error_Rate       AUC  Precision  Average_Precision    Recall\n",
              " Category                                                              \n",
              " 0                0.5  0.510276   0.482270           0.480203  0.715789\n",
              " 1                0.5  0.510276   0.542373           0.530295  0.304762,\n",
              " 'DecisionTree':           Error_Rate       AUC  Precision  Average_Precision    Recall\n",
              " Category                                                              \n",
              " 0               0.47  0.530827   0.504854           0.491341  0.547368\n",
              " 1               0.47  0.530827   0.556701           0.541303  0.514286,\n",
              " 'ExtraTreeClassifier':           Error_Rate       AUC  Precision  Average_Precision    Recall\n",
              " Category                                                              \n",
              " 0              0.495  0.506516   0.481132           0.478292  0.536842\n",
              " 1              0.495  0.506516   0.531915           0.528293  0.476190,\n",
              " 'RandomForest':           Error_Rate       AUC  Precision  Average_Precision    Recall\n",
              " Category                                                              \n",
              " 0              0.475  0.525063       0.50           0.488158  0.526316\n",
              " 1              0.475  0.525063       0.55           0.538095  0.523810,\n",
              " 'GradientBoosting':           Error_Rate       AUC  Precision  Average_Precision   Recall\n",
              " Category                                                             \n",
              " 0              0.465  0.538095   0.508929           0.495357  0.60000\n",
              " 1              0.465  0.538095   0.568182           0.545563  0.47619,\n",
              " 'AdaBoost':           Error_Rate       AUC  Precision  Average_Precision    Recall\n",
              " Category                                                              \n",
              " 0              0.455  0.548622   0.517544           0.501422  0.621053\n",
              " 1              0.455  0.548622   0.581395           0.551855  0.476190,\n",
              " 'Bagging':           Error_Rate       AUC  Precision  Average_Precision    Recall\n",
              " Category                                                              \n",
              " 0              0.525  0.477444   0.454545           0.464234  0.526316\n",
              " 1              0.525  0.477444   0.500000           0.514286  0.428571,\n",
              " 'ExtraTrees':           Error_Rate       AUC  Precision  Average_Precision    Recall\n",
              " Category                                                              \n",
              " 0              0.465  0.536591   0.509434           0.494573  0.568421\n",
              " 1              0.465  0.536591   0.563830           0.544600  0.504762,\n",
              " 'KNeighbors':           Error_Rate      AUC  Precision  Average_Precision    Recall\n",
              " Category                                                             \n",
              " 0              0.495  0.50802   0.482143           0.479060  0.568421\n",
              " 1              0.495  0.50802   0.534091           0.529069  0.447619,\n",
              " 'RadiusNeighbors':           Error_Rate       AUC  Precision  Average_Precision    Recall\n",
              " Category                                                              \n",
              " 0              0.485  0.521053   0.491935           0.485874  0.642105\n",
              " 1              0.485  0.521053   0.552632           0.536053  0.400000,\n",
              " 'SVC':           Error_Rate       AUC  Precision  Average_Precision    Recall\n",
              " Category                                                              \n",
              " 0              0.515  0.492982   0.469697           0.471539  0.652632\n",
              " 1              0.515  0.492982   0.514706           0.521569  0.333333,\n",
              " 'LinearSVC':           Error_Rate      AUC  Precision  Average_Precision    Recall\n",
              " Category                                                             \n",
              " 0              0.495  0.50802   0.482143           0.479060  0.568421\n",
              " 1              0.495  0.50802   0.534091           0.529069  0.447619,\n",
              " 'MLPClassifier':           Error_Rate       AUC  Precision  Average_Precision    Recall\n",
              " Category                                                              \n",
              " 0              0.535  0.470927   0.451613           0.461214  0.589474\n",
              " 1              0.535  0.470927   0.486842           0.511554  0.352381,\n",
              " 'PassiveAggressiveClassifier':           Error_Rate       AUC  Precision  Average_Precision    Recall\n",
              " Category                                                              \n",
              " 0              0.525  0.460902   0.386364           0.459139  0.178947\n",
              " 1              0.525  0.460902   0.500000           0.506429  0.742857,\n",
              " 'RidgeClassifier':           Error_Rate      AUC  Precision  Average_Precision    Recall\n",
              " Category                                                             \n",
              " 0              0.495  0.50802   0.482143           0.479060  0.568421\n",
              " 1              0.495  0.50802   0.534091           0.529069  0.447619}"
            ]
          },
          "execution_count": 99,
          "metadata": {},
          "output_type": "execute_result"
        }
      ],
      "source": [
        "results_df1"
      ]
    },
    {
      "cell_type": "code",
      "execution_count": 100,
      "metadata": {
        "colab": {
          "base_uri": "https://localhost:8080/"
        },
        "id": "P1QJpDaQWsZP",
        "outputId": "9833d1da-6ba7-4776-d9e9-41af4c344e96"
      },
      "outputs": [
        {
          "name": "stderr",
          "output_type": "stream",
          "text": [
            "/usr/local/lib/python3.10/dist-packages/sklearn/metrics/_classification.py:1344: UndefinedMetricWarning: Precision is ill-defined and being set to 0.0 due to no predicted samples. Use `zero_division` parameter to control this behavior.\n",
            "  _warn_prf(average, modifier, msg_start, len(result))\n"
          ]
        },
        {
          "data": {
            "text/plain": [
              "{'GaussianNB':           Error_Rate       AUC  Precision  Average_Precision    Recall\n",
              " Category                                                              \n",
              " 0              0.495  0.505502   0.495238           0.492779  0.530612\n",
              " 1              0.495  0.505502   0.515789           0.512781  0.480392,\n",
              " 'LogisticRegression':           Error_Rate       AUC  Precision  Average_Precision    Recall\n",
              " Category                                                              \n",
              " 0              0.485  0.516307   0.504425           0.498390  0.581633\n",
              " 1              0.485  0.516307   0.528736           0.518449  0.450980,\n",
              " 'SGDClassifier':           Error_Rate       AUC  Precision  Average_Precision    Recall\n",
              " Category                                                              \n",
              " 0                0.5  0.494798   0.479167           0.487457  0.234694\n",
              " 1                0.5  0.494798   0.506579           0.507417  0.754902,\n",
              " 'DecisionTree':           Error_Rate       AUC  Precision  Average_Precision    Recall\n",
              " Category                                                              \n",
              " 0              0.445  0.555322   0.543689           0.520680  0.571429\n",
              " 1              0.445  0.555322   0.567010           0.540741  0.539216,\n",
              " 'ExtraTreeClassifier':           Error_Rate       AUC  Precision  Average_Precision    Recall\n",
              " Category                                                              \n",
              " 0              0.505  0.495298   0.485437           0.487672  0.510204\n",
              " 1              0.505  0.495298   0.505155           0.507672  0.480392,\n",
              " 'RandomForest':           Error_Rate     AUC  Precision  Average_Precision    Recall\n",
              " Category                                                            \n",
              " 0                0.5  0.5008   0.490741           0.490401  0.540816\n",
              " 1                0.5  0.5008   0.510870           0.510401  0.460784,\n",
              " 'GradientBoosting':           Error_Rate       AUC  Precision  Average_Precision    Recall\n",
              " Category                                                              \n",
              " 0               0.52  0.480792   0.472222           0.480748  0.520408\n",
              " 1               0.52  0.480792   0.489130           0.500793  0.441176,\n",
              " 'AdaBoost':           Error_Rate       AUC  Precision  Average_Precision    Recall\n",
              " Category                                                              \n",
              " 0              0.545  0.455282   0.446602           0.469629  0.469388\n",
              " 1              0.545  0.455282   0.463918           0.489669  0.441176,\n",
              " 'Bagging':           Error_Rate       AUC  Precision  Average_Precision    Recall\n",
              " Category                                                              \n",
              " 0              0.515  0.487895   0.480620           0.484066  0.632653\n",
              " 1              0.515  0.487895   0.492958           0.504152  0.343137,\n",
              " 'ExtraTrees':           Error_Rate       AUC  Precision  Average_Precision    Recall\n",
              " Category                                                              \n",
              " 0              0.505  0.495498   0.485714           0.487770  0.520408\n",
              " 1              0.505  0.495498   0.505263           0.507771  0.470588,\n",
              " 'KNeighbors':           Error_Rate       AUC  Precision  Average_Precision    Recall\n",
              " Category                                                              \n",
              " 0               0.52  0.480392   0.471154           0.480577  0.500000\n",
              " 1               0.52  0.480392   0.489583           0.500592  0.460784,\n",
              " 'RadiusNeighbors':           Error_Rate       AUC  Precision  Average_Precision    Recall\n",
              " Category                                                              \n",
              " 0               0.49  0.512005      0.500           0.496122  0.612245\n",
              " 1               0.49  0.512005      0.525           0.516176  0.411765,\n",
              " 'SVC':           Error_Rate       AUC  Precision  Average_Precision    Recall\n",
              " Category                                                              \n",
              " 0                0.5  0.498399   0.488095           0.489203  0.418367\n",
              " 1                0.5  0.498399   0.508621           0.509202  0.578431,\n",
              " 'LinearSVC':           Error_Rate       AUC  Precision  Average_Precision    Recall\n",
              " Category                                                              \n",
              " 0              0.485  0.516307   0.504425           0.498390  0.581633\n",
              " 1              0.485  0.516307   0.528736           0.518449  0.450980,\n",
              " 'MLPClassifier':           Error_Rate       AUC  Precision  Average_Precision    Recall\n",
              " Category                                                              \n",
              " 0               0.47  0.531012   0.518182           0.506391  0.581633\n",
              " 1               0.47  0.531012   0.544444           0.526547  0.480392,\n",
              " 'PassiveAggressiveClassifier':           Error_Rate  AUC  Precision  Average_Precision  Recall\n",
              " Category                                                       \n",
              " 0               0.49  0.5       0.00               0.49     0.0\n",
              " 1               0.49  0.5       0.51               0.51     1.0,\n",
              " 'RidgeClassifier':           Error_Rate       AUC  Precision  Average_Precision    Recall\n",
              " Category                                                              \n",
              " 0              0.485  0.516307   0.504425           0.498390  0.581633\n",
              " 1              0.485  0.516307   0.528736           0.518449  0.450980}"
            ]
          },
          "execution_count": 100,
          "metadata": {},
          "output_type": "execute_result"
        }
      ],
      "source": [
        "result_df2 = evaluate_classifiers_on_dataset(classifiers, df_train_2, df_test_2)\n",
        "result_df2"
      ]
    },
    {
      "cell_type": "markdown",
      "metadata": {
        "id": "gQa0nkv6WPps"
      },
      "source": [
        "We can see that no particular model can really have prediction power when it comes to the **random dataset**.\n",
        "\n",
        "For both dataset generated by random pattern: (1 and 2)\n",
        "\n",
        "- All `AUC`, and `error rates` are around 0.5, suggesting it is just like *guessing* between 0 or 1 -- indeed, the values are random"
      ]
    },
    {
      "cell_type": "code",
      "execution_count": 101,
      "metadata": {
        "colab": {
          "base_uri": "https://localhost:8080/"
        },
        "id": "QuM62tjHVzY5",
        "outputId": "34ad5d02-8959-4c9e-84fa-7326929aade3"
      },
      "outputs": [
        {
          "name": "stderr",
          "output_type": "stream",
          "text": [
            "/usr/local/lib/python3.10/dist-packages/sklearn/neural_network/_multilayer_perceptron.py:686: ConvergenceWarning: Stochastic Optimizer: Maximum iterations (200) reached and the optimization hasn't converged yet.\n",
            "  warnings.warn(\n"
          ]
        },
        {
          "data": {
            "text/plain": [
              "{'GaussianNB':           Error_Rate       AUC  Precision  Average_Precision    Recall\n",
              " Category                                                              \n",
              " 0              0.045  0.955138   0.961905           0.941532  0.952830\n",
              " 1              0.045  0.955138   0.947368           0.927055  0.957447,\n",
              " 'LogisticRegression':           Error_Rate       AUC  Precision  Average_Precision    Recall\n",
              " Category                                                              \n",
              " 0              0.045  0.955138   0.961905           0.941532  0.952830\n",
              " 1              0.045  0.955138   0.947368           0.927055  0.957447,\n",
              " 'SGDClassifier':           Error_Rate       AUC  Precision  Average_Precision    Recall\n",
              " Category                                                              \n",
              " 0              0.075  0.928643   0.989247           0.928592  0.867925\n",
              " 1              0.075  0.928643   0.869159           0.864913  0.989362,\n",
              " 'DecisionTree':           Error_Rate       AUC  Precision  Average_Precision    Recall\n",
              " Category                                                              \n",
              " 0              0.055  0.943898   0.935780           0.920467  0.962264\n",
              " 1              0.055  0.943898   0.956044           0.919849  0.925532,\n",
              " 'ExtraTreeClassifier':           Error_Rate       AUC  Precision  Average_Precision    Recall\n",
              " Category                                                              \n",
              " 0              0.075  0.926234   0.950495           0.910826  0.905660\n",
              " 1              0.075  0.926234   0.898990           0.876171  0.946809,\n",
              " 'RandomForest':           Error_Rate       AUC  Precision  Average_Precision    Recall\n",
              " Category                                                              \n",
              " 0              0.035  0.963368   0.945946           0.942022  0.990566\n",
              " 1              0.035  0.963368   0.988764           0.955651  0.936170,\n",
              " 'GradientBoosting':           Error_Rate      AUC  Precision  Average_Precision    Recall\n",
              " Category                                                             \n",
              " 0              0.035  0.96397   0.954128           0.946126  0.981132\n",
              " 1              0.035  0.96397   0.978022           0.951000  0.946809,\n",
              " 'AdaBoost':           Error_Rate       AUC  Precision  Average_Precision    Recall\n",
              " Category                                                              \n",
              " 0               0.04  0.959253   0.953704           0.941712  0.971698\n",
              " 1               0.04  0.959253   0.967391           0.940934  0.946809,\n",
              " 'Bagging':           Error_Rate       AUC  Precision  Average_Precision    Recall\n",
              " Category                                                              \n",
              " 0              0.035  0.963368   0.945946           0.942022  0.990566\n",
              " 1              0.035  0.963368   0.988764           0.955651  0.936170,\n",
              " 'ExtraTrees':           Error_Rate       AUC  Precision  Average_Precision    Recall\n",
              " Category                                                              \n",
              " 0               0.06  0.938579   0.927273           0.912281  0.962264\n",
              " 1               0.06  0.938579   0.955556           0.914232  0.914894,\n",
              " 'KNeighbors':           Error_Rate       AUC  Precision  Average_Precision    Recall\n",
              " Category                                                              \n",
              " 0               0.05  0.949217   0.944444           0.928805  0.962264\n",
              " 1               0.05  0.949217   0.956522           0.925467  0.936170,\n",
              " 'RadiusNeighbors':           Error_Rate       AUC  Precision  Average_Precision    Recall\n",
              " Category                                                              \n",
              " 0               0.07  0.930951   0.950980           0.915237  0.915094\n",
              " 1               0.07  0.930951   0.908163           0.884857  0.946809,\n",
              " 'SVC':           Error_Rate       AUC  Precision  Average_Precision    Recall\n",
              " Category                                                              \n",
              " 0               0.06  0.939181   0.935185           0.916073  0.952830\n",
              " 1               0.06  0.939181   0.945652           0.910231  0.925532,\n",
              " 'LinearSVC':           Error_Rate       AUC  Precision  Average_Precision    Recall\n",
              " Category                                                              \n",
              " 0               0.05  0.949819   0.952830           0.932885  0.952830\n",
              " 1               0.05  0.949819   0.946809           0.921446  0.946809,\n",
              " 'MLPClassifier':           Error_Rate       AUC  Precision  Average_Precision    Recall\n",
              " Category                                                              \n",
              " 0               0.05  0.949819   0.952830           0.932885  0.952830\n",
              " 1               0.05  0.949819   0.946809           0.921446  0.946809,\n",
              " 'PassiveAggressiveClassifier':           Error_Rate       AUC  Precision  Average_Precision    Recall\n",
              " Category                                                              \n",
              " 0              0.065  0.938679   1.000000           0.942358  0.877358\n",
              " 1              0.065  0.938679   0.878505           0.878505  1.000000,\n",
              " 'RidgeClassifier':           Error_Rate       AUC  Precision  Average_Precision    Recall\n",
              " Category                                                              \n",
              " 0               0.04  0.960458   0.971154           0.950345  0.952830\n",
              " 1               0.04  0.960458   0.947917           0.932664  0.968085}"
            ]
          },
          "execution_count": 101,
          "metadata": {},
          "output_type": "execute_result"
        }
      ],
      "source": [
        "result_df3 = evaluate_classifiers_on_dataset(classifiers, df_train_3, df_test_3)\n",
        "result_df3"
      ]
    },
    {
      "cell_type": "code",
      "execution_count": 102,
      "metadata": {
        "colab": {
          "base_uri": "https://localhost:8080/"
        },
        "id": "CR8xkSE6Xzmd",
        "outputId": "0d3eefa1-59f4-4299-c599-d751f8f5ce6c"
      },
      "outputs": [
        {
          "name": "stderr",
          "output_type": "stream",
          "text": [
            "/usr/local/lib/python3.10/dist-packages/sklearn/neural_network/_multilayer_perceptron.py:686: ConvergenceWarning: Stochastic Optimizer: Maximum iterations (200) reached and the optimization hasn't converged yet.\n",
            "  warnings.warn(\n"
          ]
        },
        {
          "data": {
            "text/plain": [
              "{'GaussianNB':           Error_Rate       AUC  Precision  Average_Precision    Recall\n",
              " Category                                                              \n",
              " 0               0.04  0.959784   0.968750           0.944324  0.948980\n",
              " 1               0.04  0.959784   0.951923           0.938925  0.970588,\n",
              " 'LogisticRegression':           Error_Rate       AUC  Precision  Average_Precision    Recall\n",
              " Category                                                              \n",
              " 0               0.04  0.959784   0.968750           0.944324  0.948980\n",
              " 1               0.04  0.959784   0.951923           0.938925  0.970588,\n",
              " 'SGDClassifier':           Error_Rate       AUC  Precision  Average_Precision    Recall\n",
              " Category                                                              \n",
              " 0               0.04  0.959584   0.978723           0.948802  0.938776\n",
              " 1               0.04  0.959584   0.943396           0.934898  0.980392,\n",
              " 'DecisionTree':           Error_Rate       AUC  Precision  Average_Precision    Recall\n",
              " Category                                                              \n",
              " 0              0.035  0.965086   0.959596           0.945221  0.969388\n",
              " 1              0.035  0.965086   0.970297           0.952246  0.960784,\n",
              " 'ExtraTreeClassifier':           Error_Rate      AUC  Precision  Average_Precision    Recall\n",
              " Category                                                             \n",
              " 0               0.05  0.95038   0.931373           0.917861  0.969388\n",
              " 1               0.05  0.95038   0.969388           0.937861  0.931373,\n",
              " 'RandomForest':           Error_Rate       AUC  Precision  Average_Precision    Recall\n",
              " Category                                                              \n",
              " 0               0.06  0.939776   0.947917           0.915208  0.928571\n",
              " 1               0.06  0.939776   0.932692           0.911972  0.950980,\n",
              " 'GradientBoosting':           Error_Rate       AUC  Precision  Average_Precision    Recall\n",
              " Category                                                              \n",
              " 0               0.04  0.960184       0.95           0.935918  0.969388\n",
              " 1               0.04  0.960184       0.97           0.947451  0.950980,\n",
              " 'AdaBoost':           Error_Rate       AUC  Precision  Average_Precision    Recall\n",
              " Category                                                              \n",
              " 0              0.035  0.965086   0.959596           0.945221  0.969388\n",
              " 1              0.035  0.965086   0.970297           0.952246  0.960784,\n",
              " 'Bagging':           Error_Rate       AUC  Precision  Average_Precision    Recall\n",
              " Category                                                              \n",
              " 0              0.045  0.954882   0.958763           0.934846  0.948980\n",
              " 1              0.045  0.954882   0.951456           0.934144  0.960784,\n",
              " 'ExtraTrees':           Error_Rate       AUC  Precision  Average_Precision    Recall\n",
              " Category                                                              \n",
              " 0              0.045  0.954682   0.968421           0.939130  0.938776\n",
              " 1              0.045  0.954682   0.942857           0.930126  0.970588,\n",
              " 'KNeighbors':           Error_Rate       AUC  Precision  Average_Precision    Recall\n",
              " Category                                                              \n",
              " 0              0.035  0.964686   0.978947           0.954001  0.948980\n",
              " 1              0.035  0.964686   0.952381           0.943707  0.980392,\n",
              " 'RadiusNeighbors':           Error_Rate      AUC  Precision  Average_Precision    Recall\n",
              " Category                                                             \n",
              " 0               0.05  0.94978   0.958333           0.929660  0.938776\n",
              " 1               0.05  0.94978   0.942308           0.925354  0.960784,\n",
              " 'SVC':           Error_Rate       AUC  Precision  Average_Precision    Recall\n",
              " Category                                                              \n",
              " 0               0.03  0.969588   0.989362           0.963884  0.948980\n",
              " 1               0.03  0.969588   0.952830           0.948489  0.990196,\n",
              " 'LinearSVC':           Error_Rate       AUC  Precision  Average_Precision    Recall\n",
              " Category                                                              \n",
              " 0               0.04  0.959784   0.968750           0.944324  0.948980\n",
              " 1               0.04  0.959784   0.951923           0.938925  0.970588,\n",
              " 'MLPClassifier':           Error_Rate       AUC  Precision  Average_Precision    Recall\n",
              " Category                                                              \n",
              " 0               0.04  0.959784   0.968750           0.944324  0.948980\n",
              " 1               0.04  0.959784   0.951923           0.938925  0.970588,\n",
              " 'PassiveAggressiveClassifier':           Error_Rate       AUC  Precision  Average_Precision    Recall\n",
              " Category                                                              \n",
              " 0               0.04  0.960784   0.924528           0.924528  1.000000\n",
              " 1               0.04  0.960784   1.000000           0.961569  0.921569,\n",
              " 'RidgeClassifier':           Error_Rate       AUC  Precision  Average_Precision    Recall\n",
              " Category                                                              \n",
              " 0               0.04  0.959784   0.968750           0.944324  0.948980\n",
              " 1               0.04  0.959784   0.951923           0.938925  0.970588}"
            ]
          },
          "execution_count": 102,
          "metadata": {},
          "output_type": "execute_result"
        }
      ],
      "source": [
        "result_df4 = evaluate_classifiers_on_dataset(classifiers, df_train_4, df_test_4)\n",
        "result_df4"
      ]
    },
    {
      "cell_type": "markdown",
      "metadata": {
        "id": "coq7e9yKX3rC"
      },
      "source": [
        "Above are for **andSplit** pattern (3 and 4)"
      ]
    },
    {
      "cell_type": "code",
      "execution_count": 114,
      "metadata": {
        "colab": {
          "base_uri": "https://localhost:8080/"
        },
        "id": "7_2z56I0YBWi",
        "outputId": "fd4eeadb-4407-4498-a13a-eaf533a2b31c"
      },
      "outputs": [
        {
          "name": "stderr",
          "output_type": "stream",
          "text": [
            "/usr/local/lib/python3.10/dist-packages/sklearn/neural_network/_multilayer_perceptron.py:686: ConvergenceWarning: Stochastic Optimizer: Maximum iterations (200) reached and the optimization hasn't converged yet.\n",
            "  warnings.warn(\n"
          ]
        },
        {
          "data": {
            "text/plain": [
              "{'GaussianNB':           Error_Rate      AUC  Precision  Average_Precision    Recall\n",
              " Category                                                             \n",
              " 0              0.475  0.53208   0.500000           0.491842  0.673684\n",
              " 1              0.475  0.53208   0.569444           0.542354  0.390476,\n",
              " 'LogisticRegression':           Error_Rate       AUC  Precision  Average_Precision    Recall\n",
              " Category                                                              \n",
              " 0              0.555  0.453885   0.441176           0.453638  0.631579\n",
              " 1              0.555  0.453885   0.453125           0.505149  0.276190,\n",
              " 'SGDClassifier':           Error_Rate       AUC  Precision  Average_Precision    Recall\n",
              " Category                                                              \n",
              " 0              0.545  0.450877   0.416667           0.453509  0.368421\n",
              " 1              0.545  0.450877   0.482759           0.502471  0.533333,\n",
              " 'DecisionTree':           Error_Rate       AUC  Precision  Average_Precision    Recall\n",
              " Category                                                              \n",
              " 0              0.125  0.875439   0.857143           0.812895  0.884211\n",
              " 1              0.125  0.875439   0.892157           0.843203  0.866667,\n",
              " 'ExtraTreeClassifier':           Error_Rate       AUC  Precision  Average_Precision    Recall\n",
              " Category                                                              \n",
              " 0              0.145  0.854887   0.843750           0.789408  0.852632\n",
              " 1              0.145  0.854887   0.865385           0.816758  0.857143,\n",
              " 'RandomForest':           Error_Rate       AUC  Precision  Average_Precision    Recall\n",
              " Category                                                              \n",
              " 0              0.075  0.926566   0.892157           0.874592  0.957895\n",
              " 1              0.075  0.926566   0.959184           0.913698  0.895238,\n",
              " 'GradientBoosting':           Error_Rate       AUC  Precision  Average_Precision    Recall\n",
              " Category                                                              \n",
              " 0              0.095  0.906015       0.88           0.850158  0.926316\n",
              " 1              0.095  0.906015       0.93           0.883714  0.885714,\n",
              " 'AdaBoost':           Error_Rate      AUC  Precision  Average_Precision    Recall\n",
              " Category                                                             \n",
              " 0              0.465  0.53208   0.511364           0.492225  0.473684\n",
              " 1              0.465  0.53208   0.553571           0.541871  0.590476,\n",
              " 'Bagging':           Error_Rate       AUC  Precision  Average_Precision    Recall\n",
              " Category                                                              \n",
              " 0              0.095  0.907519   0.858491           0.842344  0.957895\n",
              " 1              0.095  0.907519   0.957447           0.895669  0.857143,\n",
              " 'ExtraTrees':           Error_Rate       AUC  Precision  Average_Precision    Recall\n",
              " Category                                                              \n",
              " 0              0.095  0.906516   0.872549           0.847441  0.936842\n",
              " 1              0.095  0.906516   0.938776           0.887546  0.876190,\n",
              " 'KNeighbors':           Error_Rate       AUC  Precision  Average_Precision    Recall\n",
              " Category                                                              \n",
              " 0              0.085  0.915539   0.897959           0.866794  0.926316\n",
              " 1              0.085  0.915539   0.931373           0.892670  0.904762,\n",
              " 'RadiusNeighbors':           Error_Rate       AUC  Precision  Average_Precision    Recall\n",
              " Category                                                              \n",
              " 0               0.15  0.853634   0.792793           0.769376  0.926316\n",
              " 1               0.15  0.853634   0.921348           0.834529  0.780952,\n",
              " 'SVC':           Error_Rate       AUC  Precision  Average_Precision    Recall\n",
              " Category                                                              \n",
              " 0                0.1  0.898747   0.912088           0.856877  0.873684\n",
              " 1                0.1  0.898747   0.889908           0.862106  0.923810,\n",
              " 'LinearSVC':           Error_Rate       AUC  Precision  Average_Precision    Recall\n",
              " Category                                                              \n",
              " 0              0.555  0.453885   0.441176           0.453638  0.631579\n",
              " 1              0.555  0.453885   0.453125           0.505149  0.276190,\n",
              " 'MLPClassifier':           Error_Rate       AUC  Precision  Average_Precision    Recall\n",
              " Category                                                              \n",
              " 0                0.1  0.900251   0.886598           0.847604  0.905263\n",
              " 1                0.1  0.900251   0.912621           0.872013  0.895238,\n",
              " 'PassiveAggressiveClassifier':           Error_Rate       AUC  Precision  Average_Precision    Recall\n",
              " Category                                                              \n",
              " 0                0.4  0.603008   0.567568           0.536387  0.663158\n",
              " 1                0.4  0.603008   0.640449           0.587673  0.542857,\n",
              " 'RidgeClassifier':           Error_Rate       AUC  Precision  Average_Precision    Recall\n",
              " Category                                                              \n",
              " 0              0.555  0.453885   0.441176           0.453638  0.631579\n",
              " 1              0.555  0.453885   0.453125           0.505149  0.276190}"
            ]
          },
          "execution_count": 114,
          "metadata": {},
          "output_type": "execute_result"
        }
      ],
      "source": [
        "result_df5 = evaluate_classifiers_on_dataset(classifiers, df_train_5, df_test_5)\n",
        "result_df5"
      ]
    },
    {
      "cell_type": "code",
      "execution_count": 115,
      "metadata": {
        "colab": {
          "base_uri": "https://localhost:8080/"
        },
        "id": "BDA_PEpwYD1b",
        "outputId": "abd882c2-f6ac-40f9-b5fe-72ea54d06831"
      },
      "outputs": [
        {
          "name": "stderr",
          "output_type": "stream",
          "text": [
            "/usr/local/lib/python3.10/dist-packages/sklearn/metrics/_classification.py:1344: UndefinedMetricWarning: Precision is ill-defined and being set to 0.0 due to no predicted samples. Use `zero_division` parameter to control this behavior.\n",
            "  _warn_prf(average, modifier, msg_start, len(result))\n",
            "/usr/local/lib/python3.10/dist-packages/sklearn/neural_network/_multilayer_perceptron.py:686: ConvergenceWarning: Stochastic Optimizer: Maximum iterations (200) reached and the optimization hasn't converged yet.\n",
            "  warnings.warn(\n",
            "/usr/local/lib/python3.10/dist-packages/sklearn/metrics/_classification.py:1344: UndefinedMetricWarning: Precision is ill-defined and being set to 0.0 due to no predicted samples. Use `zero_division` parameter to control this behavior.\n",
            "  _warn_prf(average, modifier, msg_start, len(result))\n"
          ]
        },
        {
          "data": {
            "text/plain": [
              "{'GaussianNB':           Error_Rate      AUC  Precision  Average_Precision    Recall\n",
              " Category                                                             \n",
              " 0                0.5  0.50095   0.506173           0.505476  0.405941\n",
              " 1                0.5  0.50095   0.495798           0.495476  0.595960,\n",
              " 'LogisticRegression':           Error_Rate       AUC  Precision  Average_Precision    Recall\n",
              " Category                                                              \n",
              " 0               0.48  0.520552   0.528090           0.515745  0.465347\n",
              " 1               0.48  0.520552   0.513514           0.505659  0.575758,\n",
              " 'SGDClassifier':           Error_Rate  AUC  Precision  Average_Precision  Recall\n",
              " Category                                                       \n",
              " 0              0.505  0.5      0.000              0.505     0.0\n",
              " 1              0.505  0.5      0.495              0.495     1.0,\n",
              " 'DecisionTree':           Error_Rate       AUC  Precision  Average_Precision    Recall\n",
              " Category                                                              \n",
              " 0               0.14  0.860186   0.876289           0.817471  0.841584\n",
              " 1               0.14  0.860186   0.844660           0.802277  0.878788,\n",
              " 'ExtraTreeClassifier':           Error_Rate       AUC  Precision  Average_Precision    Recall\n",
              " Category                                                              \n",
              " 0               0.24  0.760576   0.797753           0.710797  0.702970\n",
              " 1               0.24  0.760576   0.729730           0.687052  0.818182,\n",
              " 'RandomForest':           Error_Rate       AUC  Precision  Average_Precision    Recall\n",
              " Category                                                              \n",
              " 0              0.135  0.865037       0.87           0.819406  0.861386\n",
              " 1              0.135  0.865037       0.86           0.812071  0.868687,\n",
              " 'GradientBoosting':           Error_Rate       AUC  Precision  Average_Precision    Recall\n",
              " Category                                                              \n",
              " 0               0.13  0.869987   0.871287           0.824141  0.871287\n",
              " 1               0.13  0.869987   0.868687           0.819617  0.868687,\n",
              " 'AdaBoost':           Error_Rate      AUC  Precision  Average_Precision    Recall\n",
              " Category                                                             \n",
              " 0                0.4  0.59936   0.592920           0.563323  0.663366\n",
              " 1                0.4  0.59936   0.609195           0.556135  0.535354,\n",
              " 'Bagging':           Error_Rate       AUC  Precision  Average_Precision    Recall\n",
              " Category                                                              \n",
              " 0               0.13  0.869887   0.864078           0.821415  0.881188\n",
              " 1               0.13  0.869887   0.876289           0.822369  0.858586,\n",
              " 'ExtraTrees':           Error_Rate       AUC  Precision  Average_Precision    Recall\n",
              " Category                                                              \n",
              " 0               0.14  0.860186   0.876289           0.817471  0.841584\n",
              " 1               0.14  0.860186   0.844660           0.802277  0.878788,\n",
              " 'KNeighbors':           Error_Rate       AUC  Precision  Average_Precision    Recall\n",
              " Category                                                              \n",
              " 0              0.105  0.894739   0.877358           0.847865  0.920792\n",
              " 1              0.105  0.894739   0.914894           0.859756  0.868687,\n",
              " 'RadiusNeighbors':           Error_Rate       AUC  Precision  Average_Precision    Recall\n",
              " Category                                                              \n",
              " 0               0.16  0.840984   0.925926           0.817569  0.742574\n",
              " 1               0.16  0.840984   0.781513           0.764148  0.939394,\n",
              " 'SVC':           Error_Rate       AUC  Precision  Average_Precision    Recall\n",
              " Category                                                              \n",
              " 0              0.115  0.885039       0.89           0.844257  0.881188\n",
              " 1              0.115  0.885039       0.88           0.837222  0.888889,\n",
              " 'LinearSVC':           Error_Rate       AUC  Precision  Average_Precision    Recall\n",
              " Category                                                              \n",
              " 0               0.48  0.520552   0.528090           0.515745  0.465347\n",
              " 1               0.48  0.520552   0.513514           0.505659  0.575758,\n",
              " 'MLPClassifier':           Error_Rate       AUC  Precision  Average_Precision    Recall\n",
              " Category                                                              \n",
              " 0              0.105  0.894839   0.884615           0.850788  0.910891\n",
              " 1              0.105  0.894839   0.906250           0.856402  0.878788,\n",
              " 'PassiveAggressiveClassifier':           Error_Rate  AUC  Precision  Average_Precision  Recall\n",
              " Category                                                       \n",
              " 0              0.495  0.5      0.505              0.505     1.0\n",
              " 1              0.495  0.5      0.000              0.495     0.0,\n",
              " 'RidgeClassifier':           Error_Rate       AUC  Precision  Average_Precision    Recall\n",
              " Category                                                              \n",
              " 0               0.48  0.520552   0.528090           0.515745  0.465347\n",
              " 1               0.48  0.520552   0.513514           0.505659  0.575758}"
            ]
          },
          "execution_count": 115,
          "metadata": {},
          "output_type": "execute_result"
        }
      ],
      "source": [
        "result_df6 = evaluate_classifiers_on_dataset(classifiers, df_train_6, df_test_6)\n",
        "result_df6"
      ]
    },
    {
      "cell_type": "markdown",
      "metadata": {
        "id": "9sBr6zxjYXxb"
      },
      "source": [
        "Above are for **xorSplit** pattern (5 and 6)"
      ]
    },
    {
      "cell_type": "code",
      "execution_count": 116,
      "metadata": {
        "colab": {
          "base_uri": "https://localhost:8080/"
        },
        "id": "eiOCEZyhYNS1",
        "outputId": "d6f02bb4-f46f-434b-a553-d35738dab268"
      },
      "outputs": [
        {
          "name": "stderr",
          "output_type": "stream",
          "text": [
            "/usr/local/lib/python3.10/dist-packages/sklearn/metrics/_classification.py:1344: UndefinedMetricWarning: Precision is ill-defined and being set to 0.0 due to no predicted samples. Use `zero_division` parameter to control this behavior.\n",
            "  _warn_prf(average, modifier, msg_start, len(result))\n",
            "/usr/local/lib/python3.10/dist-packages/sklearn/neural_network/_multilayer_perceptron.py:686: ConvergenceWarning: Stochastic Optimizer: Maximum iterations (200) reached and the optimization hasn't converged yet.\n",
            "  warnings.warn(\n"
          ]
        },
        {
          "data": {
            "text/plain": [
              "{'GaussianNB':           Error_Rate      AUC  Precision  Average_Precision    Recall\n",
              " Category                                                             \n",
              " 0                0.1  0.89599   0.871795           0.856057  0.953271\n",
              " 1                0.1  0.89599   0.939759           0.863185  0.838710,\n",
              " 'LogisticRegression':           Error_Rate       AUC  Precision  Average_Precision    Recall\n",
              " Category                                                              \n",
              " 0              0.635  0.381218   0.307692           0.501010  0.149533\n",
              " 1              0.635  0.381218   0.385135           0.416051  0.612903,\n",
              " 'SGDClassifier':           Error_Rate  AUC  Precision  Average_Precision  Recall\n",
              " Category                                                       \n",
              " 0              0.465  0.5      0.535              0.535     1.0\n",
              " 1              0.465  0.5      0.000              0.465     0.0,\n",
              " 'DecisionTree':           Error_Rate       AUC  Precision  Average_Precision    Recall\n",
              " Category                                                              \n",
              " 0                0.1  0.900914   0.922330           0.878891  0.887850\n",
              " 1                0.1  0.900914   0.876289           0.840909  0.913978,\n",
              " 'ExtraTreeClassifier':           Error_Rate       AUC  Precision  Average_Precision    Recall\n",
              " Category                                                              \n",
              " 0              0.165  0.835946   0.862745           0.804547  0.822430\n",
              " 1              0.165  0.835946   0.806122           0.754771  0.849462,\n",
              " 'RandomForest':           Error_Rate       AUC  Precision  Average_Precision    Recall\n",
              " Category                                                              \n",
              " 0              0.105  0.896242   0.921569           0.874602  0.878505\n",
              " 1              0.105  0.896242   0.867347           0.832736  0.913978,\n",
              " 'GradientBoosting':           Error_Rate       AUC  Precision  Average_Precision    Recall\n",
              " Category                                                              \n",
              " 0               0.11  0.888755   0.889908           0.856739  0.906542\n",
              " 1               0.11  0.888755   0.890110           0.835257  0.870968,\n",
              " 'AdaBoost':           Error_Rate       AUC  Precision  Average_Precision    Recall\n",
              " Category                                                              \n",
              " 0              0.125  0.873329   0.872727           0.838008  0.897196\n",
              " 1              0.125  0.873329   0.877778           0.815639  0.849462,\n",
              " 'Bagging':           Error_Rate       AUC  Precision  Average_Precision    Recall\n",
              " Category                                                              \n",
              " 0               0.11  0.890162   0.904762           0.863293  0.887850\n",
              " 1               0.11  0.890162   0.873684           0.829740  0.892473,\n",
              " 'ExtraTrees':           Error_Rate       AUC  Precision  Average_Precision    Recall\n",
              " Category                                                              \n",
              " 0              0.115  0.886192   0.911765           0.862468  0.869159\n",
              " 1              0.115  0.886192   0.857143           0.819194  0.903226,\n",
              " 'KNeighbors':           Error_Rate       AUC  Precision  Average_Precision    Recall\n",
              " Category                                                              \n",
              " 0              0.135  0.863984   0.870370           0.829624  0.878505\n",
              " 1              0.135  0.863984   0.858696           0.799430  0.849462,\n",
              " 'RadiusNeighbors':           Error_Rate       AUC  Precision  Average_Precision    Recall\n",
              " Category                                                              \n",
              " 0               0.55  0.420561   0.491803           0.498666  0.841121\n",
              " 1               0.55  0.420561   0.000000           0.465000  0.000000,\n",
              " 'SVC':           Error_Rate       AUC  Precision  Average_Precision    Recall\n",
              " Category                                                              \n",
              " 0              0.105  0.891317   0.870690           0.851866  0.943925\n",
              " 1              0.105  0.891317   0.928571           0.853802  0.838710,\n",
              " 'LinearSVC':           Error_Rate       AUC  Precision  Average_Precision    Recall\n",
              " Category                                                              \n",
              " 0              0.635  0.381218   0.307692           0.501010  0.149533\n",
              " 1              0.635  0.381218   0.385135           0.416051  0.612903,\n",
              " 'MLPClassifier':           Error_Rate       AUC  Precision  Average_Precision    Recall\n",
              " Category                                                              \n",
              " 0               0.11  0.886645   0.869565           0.847678  0.934579\n",
              " 1               0.11  0.886645   0.917647           0.844639  0.838710,\n",
              " 'PassiveAggressiveClassifier':           Error_Rate       AUC  Precision  Average_Precision    Recall\n",
              " Category                                                              \n",
              " 0              0.465  0.527434   0.557377           0.549221  0.635514\n",
              " 1              0.465  0.527434   0.500000           0.479677  0.419355,\n",
              " 'RidgeClassifier':           Error_Rate       AUC  Precision  Average_Precision    Recall\n",
              " Category                                                              \n",
              " 0              0.635  0.381218   0.307692           0.501010  0.149533\n",
              " 1              0.635  0.381218   0.385135           0.416051  0.612903}"
            ]
          },
          "execution_count": 116,
          "metadata": {},
          "output_type": "execute_result"
        }
      ],
      "source": [
        "result_df7 = evaluate_classifiers_on_dataset(classifiers, df_train_7, df_test_7)\n",
        "result_df7"
      ]
    },
    {
      "cell_type": "code",
      "execution_count": 117,
      "metadata": {
        "colab": {
          "base_uri": "https://localhost:8080/"
        },
        "id": "-ccAJofKYNh1",
        "outputId": "a372b399-4f69-4206-cb1f-6a3f965d011b"
      },
      "outputs": [
        {
          "name": "stderr",
          "output_type": "stream",
          "text": [
            "/usr/local/lib/python3.10/dist-packages/sklearn/metrics/_classification.py:1344: UndefinedMetricWarning: Precision is ill-defined and being set to 0.0 due to no predicted samples. Use `zero_division` parameter to control this behavior.\n",
            "  _warn_prf(average, modifier, msg_start, len(result))\n",
            "/usr/local/lib/python3.10/dist-packages/sklearn/neural_network/_multilayer_perceptron.py:686: ConvergenceWarning: Stochastic Optimizer: Maximum iterations (200) reached and the optimization hasn't converged yet.\n",
            "  warnings.warn(\n"
          ]
        },
        {
          "data": {
            "text/plain": [
              "{'GaussianNB':           Error_Rate       AUC  Precision  Average_Precision    Recall\n",
              " Category                                                              \n",
              " 0                0.1  0.893939     0.8750           0.860227  0.954545\n",
              " 1                0.1  0.893939     0.9375           0.856250  0.833333,\n",
              " 'LogisticRegression':           Error_Rate       AUC  Precision  Average_Precision    Recall\n",
              " Category                                                              \n",
              " 0               0.51  0.493939   0.543478           0.547036  0.454545\n",
              " 1               0.51  0.493939   0.444444           0.447037  0.533333,\n",
              " 'SGDClassifier':           Error_Rate  AUC  Precision  Average_Precision  Recall\n",
              " Category                                                       \n",
              " 0               0.45  0.5       0.55               0.55     1.0\n",
              " 1               0.45  0.5       0.00               0.45     0.0,\n",
              " 'DecisionTree':           Error_Rate       AUC  Precision  Average_Precision    Recall\n",
              " Category                                                              \n",
              " 0              0.135  0.866162   0.895238           0.845022  0.854545\n",
              " 1              0.135  0.866162   0.831579           0.784942  0.877778,\n",
              " 'ExtraTreeClassifier':           Error_Rate       AUC  Precision  Average_Precision    Recall\n",
              " Category                                                              \n",
              " 0               0.11  0.888889   0.900000           0.865000  0.900000\n",
              " 1               0.11  0.888889   0.877778           0.825494  0.877778,\n",
              " 'RandomForest':           Error_Rate       AUC  Precision  Average_Precision    Recall\n",
              " Category                                                              \n",
              " 0              0.095  0.902525   0.902655           0.877007  0.927273\n",
              " 1              0.095  0.902525   0.908046           0.852063  0.877778,\n",
              " 'GradientBoosting':           Error_Rate      AUC  Precision  Average_Precision    Recall\n",
              " Category                                                             \n",
              " 0                0.1  0.89697   0.894737           0.869665  0.927273\n",
              " 1                0.1  0.89697   0.906977           0.846047  0.866667,\n",
              " 'AdaBoost':           Error_Rate       AUC  Precision  Average_Precision    Recall\n",
              " Category                                                              \n",
              " 0               0.08  0.917172   0.912281           0.892520  0.945455\n",
              " 1               0.08  0.917172   0.930233           0.876873  0.888889,\n",
              " 'Bagging':           Error_Rate       AUC  Precision  Average_Precision    Recall\n",
              " Category                                                              \n",
              " 0              0.115  0.881313   0.878261           0.851403  0.918182\n",
              " 1              0.115  0.881313   0.894118           0.825033  0.844444,\n",
              " 'ExtraTrees':           Error_Rate       AUC  Precision  Average_Precision    Recall\n",
              " Category                                                              \n",
              " 0              0.105  0.891414   0.886957           0.862451  0.927273\n",
              " 1              0.105  0.891414   0.905882           0.840033  0.855556,\n",
              " 'KNeighbors':           Error_Rate      AUC  Precision  Average_Precision    Recall\n",
              " Category                                                             \n",
              " 0               0.09  0.90303   0.877049           0.868130  0.972727\n",
              " 1               0.09  0.90303   0.961538           0.876282  0.833333,\n",
              " 'RadiusNeighbors':           Error_Rate       AUC  Precision  Average_Precision    Recall\n",
              " Category                                                              \n",
              " 0              0.625  0.340909   0.454545           0.484917  0.681818\n",
              " 1              0.625  0.340909   0.000000           0.450000  0.000000,\n",
              " 'SVC':           Error_Rate      AUC  Precision  Average_Precision    Recall\n",
              " Category                                                             \n",
              " 0               0.09  0.90303   0.877049           0.868130  0.972727\n",
              " 1               0.09  0.90303   0.961538           0.876282  0.833333,\n",
              " 'LinearSVC':           Error_Rate       AUC  Precision  Average_Precision    Recall\n",
              " Category                                                              \n",
              " 0              0.505  0.498485   0.548387           0.549252  0.463636\n",
              " 1              0.505  0.498485   0.448598           0.449252  0.533333,\n",
              " 'MLPClassifier':           Error_Rate       AUC  Precision  Average_Precision    Recall\n",
              " Category                                                              \n",
              " 0              0.115  0.877273   0.853659           0.839856  0.954545\n",
              " 1              0.115  0.877273   0.935065           0.838052  0.800000,\n",
              " 'PassiveAggressiveClassifier':           Error_Rate       AUC  Precision  Average_Precision    Recall\n",
              " Category                                                              \n",
              " 0               0.34  0.631313    0.63125           0.624602  0.918182\n",
              " 1               0.34  0.631313    0.77500           0.561944  0.344444,\n",
              " 'RidgeClassifier':           Error_Rate       AUC  Precision  Average_Precision    Recall\n",
              " Category                                                              \n",
              " 0              0.505  0.498485   0.548387           0.549252  0.463636\n",
              " 1              0.505  0.498485   0.448598           0.449252  0.533333}"
            ]
          },
          "execution_count": 117,
          "metadata": {},
          "output_type": "execute_result"
        }
      ],
      "source": [
        "result_df8 = evaluate_classifiers_on_dataset(classifiers, df_train_8, df_test_8)\n",
        "result_df8"
      ]
    },
    {
      "cell_type": "markdown",
      "metadata": {
        "id": "up6aSkhNYdYo"
      },
      "source": [
        "Above are for **targetSplit** pattern (7 and 8)"
      ]
    },
    {
      "cell_type": "code",
      "execution_count": 118,
      "metadata": {
        "colab": {
          "base_uri": "https://localhost:8080/"
        },
        "id": "fzzj_8GvYEL8",
        "outputId": "b8482a82-eb6b-4f27-ad75-c3b31a49aa45"
      },
      "outputs": [
        {
          "name": "stderr",
          "output_type": "stream",
          "text": [
            "/usr/local/lib/python3.10/dist-packages/sklearn/linear_model/_logistic.py:458: ConvergenceWarning: lbfgs failed to converge (status=1):\n",
            "STOP: TOTAL NO. of ITERATIONS REACHED LIMIT.\n",
            "\n",
            "Increase the number of iterations (max_iter) or scale the data as shown in:\n",
            "    https://scikit-learn.org/stable/modules/preprocessing.html\n",
            "Please also refer to the documentation for alternative solver options:\n",
            "    https://scikit-learn.org/stable/modules/linear_model.html#logistic-regression\n",
            "  n_iter_i = _check_optimize_result(\n",
            "/usr/local/lib/python3.10/dist-packages/sklearn/metrics/_classification.py:1344: UndefinedMetricWarning: Precision is ill-defined and being set to 0.0 due to no predicted samples. Use `zero_division` parameter to control this behavior.\n",
            "  _warn_prf(average, modifier, msg_start, len(result))\n",
            "/usr/local/lib/python3.10/dist-packages/sklearn/svm/_base.py:1244: ConvergenceWarning: Liblinear failed to converge, increase the number of iterations.\n",
            "  warnings.warn(\n",
            "/usr/local/lib/python3.10/dist-packages/sklearn/neural_network/_multilayer_perceptron.py:686: ConvergenceWarning: Stochastic Optimizer: Maximum iterations (200) reached and the optimization hasn't converged yet.\n",
            "  warnings.warn(\n",
            "/usr/local/lib/python3.10/dist-packages/sklearn/metrics/_classification.py:1344: UndefinedMetricWarning: Precision is ill-defined and being set to 0.0 due to no predicted samples. Use `zero_division` parameter to control this behavior.\n",
            "  _warn_prf(average, modifier, msg_start, len(result))\n"
          ]
        },
        {
          "data": {
            "text/plain": [
              "{'GaussianNB':           Error_Rate       AUC  Precision  Average_Precision    Recall\n",
              " Category                                                              \n",
              " 0              0.060  0.914777   0.854545           0.771771  0.870370\n",
              " 1              0.036  0.937492   0.913978           0.837770  0.894737\n",
              " 2              0.038  0.927500   0.935484           0.839871  0.870000\n",
              " 3              0.036  0.950208   0.909091           0.857751  0.925926\n",
              " 4              0.018  0.980248   0.925532           0.908733  0.977528,\n",
              " 'LogisticRegression':           Error_Rate       AUC  Precision  Average_Precision    Recall\n",
              " Category                                                              \n",
              " 0              0.062  0.913502   0.846847           0.765070  0.870370\n",
              " 1              0.036  0.937492   0.913978           0.837770  0.894737\n",
              " 2              0.038  0.923750   0.945055           0.840747  0.860000\n",
              " 3              0.036  0.950208   0.909091           0.857751  0.925926\n",
              " 4              0.020  0.979032   0.915789           0.899210  0.977528,\n",
              " 'SGDClassifier':           Error_Rate       AUC  Precision  Average_Precision    Recall\n",
              " Category                                                              \n",
              " 0              0.084  0.849159   0.858696           0.686120  0.731481\n",
              " 1              0.040  0.922937   0.921348           0.821269  0.863158\n",
              " 2              0.048  0.955000   0.827586           0.802483  0.960000\n",
              " 3              0.038  0.942224   0.915888           0.851083  0.907407\n",
              " 4              0.022  0.977815   0.906250           0.889885  0.977528,\n",
              " 'DecisionTree':           Error_Rate       AUC  Precision  Average_Precision    Recall\n",
              " Category                                                              \n",
              " 0              0.060  0.924839   0.836207           0.773038  0.898148\n",
              " 1              0.052  0.907472   0.879121           0.770312  0.842105\n",
              " 2              0.046  0.915000   0.913978           0.806882  0.850000\n",
              " 3              0.056  0.920682   0.863636           0.785680  0.879630\n",
              " 4              0.018  0.971445   0.944444           0.909998  0.955056,\n",
              " 'ExtraTreeClassifier':           Error_Rate       AUC  Precision  Average_Precision    Recall\n",
              " Category                                                              \n",
              " 0              0.080  0.902022   0.783333           0.709790  0.870370\n",
              " 1              0.060  0.894477   0.857143           0.737759  0.821053\n",
              " 2              0.054  0.887500   0.929412           0.776235  0.790000\n",
              " 3              0.060  0.921485   0.842105           0.772538  0.888889\n",
              " 4              0.022  0.964611   0.933333           0.890899  0.943820,\n",
              " 'RandomForest':           Error_Rate       AUC  Precision  Average_Precision    Recall\n",
              " Category                                                              \n",
              " 0              0.044  0.941752   0.883929           0.828268  0.916667\n",
              " 1              0.034  0.934698   0.933333           0.847263  0.884211\n",
              " 2              0.038  0.931250   0.926316           0.839158  0.880000\n",
              " 3              0.034  0.958192   0.902655           0.864507  0.944444\n",
              " 4              0.014  0.978280   0.955556           0.929346  0.966292,\n",
              " 'GradientBoosting':           Error_Rate       AUC  Precision  Average_Precision    Recall\n",
              " Category                                                              \n",
              " 0              0.052  0.943358   0.841667           0.801114  0.935185\n",
              " 1              0.038  0.928200   0.922222           0.829731  0.873684\n",
              " 2              0.040  0.915000   0.954545           0.833818  0.840000\n",
              " 3              0.040  0.947657   0.892857           0.842720  0.925926\n",
              " 4              0.018  0.971445   0.944444           0.909998  0.955056,\n",
              " 'AdaBoost':           Error_Rate       AUC  Precision  Average_Precision    Recall\n",
              " Category                                                              \n",
              " 0              0.230  0.527967   0.379310           0.232633  0.101852\n",
              " 1              0.190  0.500000   0.000000           0.190000  0.000000\n",
              " 2              0.202  0.851250   0.497354           0.479513  0.940000\n",
              " 3              0.170  0.888228   0.560209           0.557022  0.990741\n",
              " 4              0.016  0.977063   0.945055           0.919199  0.966292,\n",
              " 'Bagging':           Error_Rate       AUC  Precision  Average_Precision    Recall\n",
              " Category                                                              \n",
              " 0              0.048  0.942555   0.862069           0.814212  0.925926\n",
              " 1              0.032  0.943990   0.924731           0.855125  0.905263\n",
              " 2              0.038  0.927500   0.935484           0.839871  0.870000\n",
              " 3              0.034  0.951483   0.917431           0.865473  0.925926\n",
              " 4              0.016  0.972662   0.955056           0.920132  0.955056,\n",
              " 'ExtraTrees':           Error_Rate       AUC  Precision  Average_Precision    Recall\n",
              " Category                                                              \n",
              " 0              0.042  0.946381   0.884956           0.835403  0.925926\n",
              " 1              0.042  0.921702   0.911111           0.812433  0.863158\n",
              " 2              0.034  0.933750   0.946237           0.856688  0.880000\n",
              " 3              0.042  0.946381   0.884956           0.835403  0.925926\n",
              " 4              0.008  0.990732   0.967033           0.958167  0.988764,\n",
              " 'KNeighbors':           Error_Rate       AUC  Precision  Average_Precision    Recall\n",
              " Category                                                              \n",
              " 0              0.056  0.924036   0.857143           0.785905  0.888889\n",
              " 1              0.036  0.929435   0.932584           0.838784  0.873684\n",
              " 2              0.040  0.922500   0.934783           0.831913  0.860000\n",
              " 3              0.038  0.952286   0.893805           0.849873  0.935185\n",
              " 4              0.018  0.980248   0.925532           0.908733  0.977528,\n",
              " 'RadiusNeighbors':           Error_Rate       AUC  Precision  Average_Precision    Recall\n",
              " Category                                                              \n",
              " 0              0.064  0.912226   0.839286           0.758489  0.870370\n",
              " 1              0.034  0.938726   0.923913           0.846659  0.894737\n",
              " 2              0.042  0.917500   0.934066           0.823956  0.850000\n",
              " 3              0.036  0.950208   0.909091           0.857751  0.925926\n",
              " 4              0.020  0.979032   0.915789           0.899210  0.977528,\n",
              " 'SVC':           Error_Rate       AUC  Precision  Average_Precision    Recall\n",
              " Category                                                              \n",
              " 0              0.060  0.914777   0.854545           0.771771  0.870370\n",
              " 1              0.034  0.938726   0.923913           0.846659  0.894737\n",
              " 2              0.038  0.927500   0.935484           0.839871  0.870000\n",
              " 3              0.034  0.954837   0.909910           0.864934  0.935185\n",
              " 4              0.018  0.980248   0.925532           0.908733  0.977528,\n",
              " 'LinearSVC':           Error_Rate       AUC  Precision  Average_Precision    Recall\n",
              " Category                                                              \n",
              " 0              0.084  0.842451   0.875000           0.685843  0.712963\n",
              " 1              0.036  0.937492   0.913978           0.837770  0.894737\n",
              " 2              0.054  0.936250   0.828829           0.778523  0.920000\n",
              " 3              0.038  0.945578   0.908257           0.850569  0.916667\n",
              " 4              0.028  0.974166   0.878788           0.863040  0.977528,\n",
              " 'MLPClassifier':           Error_Rate       AUC  Precision  Average_Precision    Recall\n",
              " Category                                                              \n",
              " 0              0.052  0.926587   0.872727           0.799758  0.888889\n",
              " 1              0.032  0.939961   0.934066           0.855743  0.894737\n",
              " 2              0.040  0.926250   0.925532           0.831213  0.870000\n",
              " 3              0.030  0.964097   0.911504           0.879305  0.953704\n",
              " 4              0.014  0.982681   0.945652           0.928402  0.977528,\n",
              " 'PassiveAggressiveClassifier':           Error_Rate       AUC  Precision  Average_Precision    Recall\n",
              " Category                                                              \n",
              " 0              0.096  0.791194   0.941176           0.645734  0.592593\n",
              " 1              0.056  0.872775   0.935065           0.754681  0.757895\n",
              " 2              0.076  0.941250   0.734848           0.718803  0.970000\n",
              " 3              0.054  0.952145   0.818898           0.796568  0.962963\n",
              " 4              0.022  0.977815   0.906250           0.889885  0.977528,\n",
              " 'RidgeClassifier':           Error_Rate       AUC  Precision  Average_Precision    Recall\n",
              " Category                                                              \n",
              " 0              0.216  0.500000   0.000000           0.216000  0.000000\n",
              " 1              0.070  0.932619   0.754237           0.718601  0.936842\n",
              " 2              0.110  0.923750   0.649007           0.640026  0.980000\n",
              " 3              0.048  0.912368   0.928571           0.816407  0.842593\n",
              " 4              0.092  0.939637   0.661654           0.656220  0.988764}"
            ]
          },
          "execution_count": 118,
          "metadata": {},
          "output_type": "execute_result"
        }
      ],
      "source": [
        "result_df9 = evaluate_classifiers_on_dataset(classifiers, df_train_9, df_test_9)\n",
        "result_df9"
      ]
    },
    {
      "cell_type": "code",
      "execution_count": 119,
      "metadata": {
        "colab": {
          "base_uri": "https://localhost:8080/"
        },
        "id": "5_qs4yWqYEWW",
        "outputId": "54142f02-9fa8-4a9a-b908-e39e79a5c9c9"
      },
      "outputs": [
        {
          "name": "stderr",
          "output_type": "stream",
          "text": [
            "/usr/local/lib/python3.10/dist-packages/sklearn/linear_model/_logistic.py:458: ConvergenceWarning: lbfgs failed to converge (status=1):\n",
            "STOP: TOTAL NO. of ITERATIONS REACHED LIMIT.\n",
            "\n",
            "Increase the number of iterations (max_iter) or scale the data as shown in:\n",
            "    https://scikit-learn.org/stable/modules/preprocessing.html\n",
            "Please also refer to the documentation for alternative solver options:\n",
            "    https://scikit-learn.org/stable/modules/linear_model.html#logistic-regression\n",
            "  n_iter_i = _check_optimize_result(\n",
            "/usr/local/lib/python3.10/dist-packages/sklearn/metrics/_classification.py:1344: UndefinedMetricWarning: Precision is ill-defined and being set to 0.0 due to no predicted samples. Use `zero_division` parameter to control this behavior.\n",
            "  _warn_prf(average, modifier, msg_start, len(result))\n",
            "/usr/local/lib/python3.10/dist-packages/sklearn/svm/_base.py:1244: ConvergenceWarning: Liblinear failed to converge, increase the number of iterations.\n",
            "  warnings.warn(\n",
            "/usr/local/lib/python3.10/dist-packages/sklearn/metrics/_classification.py:1344: UndefinedMetricWarning: Precision is ill-defined and being set to 0.0 due to no predicted samples. Use `zero_division` parameter to control this behavior.\n",
            "  _warn_prf(average, modifier, msg_start, len(result))\n",
            "/usr/local/lib/python3.10/dist-packages/sklearn/metrics/_classification.py:1344: UndefinedMetricWarning: Precision is ill-defined and being set to 0.0 due to no predicted samples. Use `zero_division` parameter to control this behavior.\n",
            "  _warn_prf(average, modifier, msg_start, len(result))\n"
          ]
        },
        {
          "data": {
            "text/plain": [
              "{'GaussianNB':           Error_Rate       AUC  Precision  Average_Precision    Recall\n",
              " Category                                                              \n",
              " 0              0.000  1.000000   1.000000           1.000000  1.000000\n",
              " 1              0.094  0.845991   0.728261           0.592241  0.752809\n",
              " 2              0.094  0.846306   0.770833           0.626178  0.747475\n",
              " 3              0.000  1.000000   1.000000           1.000000  1.000000\n",
              " 4              0.000  1.000000   1.000000           1.000000  1.000000,\n",
              " 'LogisticRegression':           Error_Rate       AUC  Precision  Average_Precision    Recall\n",
              " Category                                                              \n",
              " 0               0.00  1.000000    1.00000           1.000000  1.000000\n",
              " 1               0.09  0.852825    0.73913           0.606729  0.764045\n",
              " 2               0.09  0.852603    0.78125           0.639856  0.757576\n",
              " 3               0.00  1.000000    1.00000           1.000000  1.000000\n",
              " 4               0.00  1.000000    1.00000           1.000000  1.000000,\n",
              " 'SGDClassifier':           Error_Rate       AUC  Precision  Average_Precision    Recall\n",
              " Category                                                              \n",
              " 0              0.004  0.990654   1.000000           0.985308  0.981308\n",
              " 1              0.088  0.937669   0.674419           0.663263  0.977528\n",
              " 2              0.126  0.761694   0.730769           0.504746  0.575758\n",
              " 3              0.002  0.995000   1.000000           0.992000  0.990000\n",
              " 4              0.036  0.917782   0.988764           0.862678  0.838095,\n",
              " 'DecisionTree':           Error_Rate       AUC  Precision  Average_Precision    Recall\n",
              " Category                                                              \n",
              " 0               0.00  1.000000   1.000000           1.000000  1.000000\n",
              " 1               0.12  0.812570   0.649485           0.511747  0.707865\n",
              " 2               0.12  0.795864   0.714286           0.536975  0.656566\n",
              " 3               0.00  1.000000   1.000000           1.000000  1.000000\n",
              " 4               0.00  1.000000   1.000000           1.000000  1.000000,\n",
              " 'ExtraTreeClassifier':           Error_Rate       AUC  Precision  Average_Precision    Recall\n",
              " Category                                                              \n",
              " 0              0.000  1.000000   1.000000           1.000000  1.000000\n",
              " 1              0.112  0.826239   0.670103           0.537401  0.730337\n",
              " 2              0.112  0.808459   0.736264           0.562279  0.676768\n",
              " 3              0.002  0.995000   1.000000           0.992000  0.990000\n",
              " 4              0.002  0.998734   0.990566           0.990566  1.000000,\n",
              " 'RandomForest':           Error_Rate       AUC  Precision  Average_Precision    Recall\n",
              " Category                                                              \n",
              " 0              0.000  1.000000   1.000000           1.000000  1.000000\n",
              " 1              0.106  0.838692   0.683673           0.558676  0.752809\n",
              " 2              0.106  0.816003   0.755556           0.580967  0.686869\n",
              " 3              0.000  1.000000   1.000000           1.000000  1.000000\n",
              " 4              0.000  1.000000   1.000000           1.000000  1.000000,\n",
              " 'GradientBoosting':           Error_Rate       AUC  Precision  Average_Precision    Recall\n",
              " Category                                                              \n",
              " 0               0.00  1.000000    1.00000           1.000000  1.000000\n",
              " 1               0.09  0.866030    0.72449           0.613964  0.797753\n",
              " 2               0.09  0.841192    0.80000           0.635818  0.727273\n",
              " 3               0.00  1.000000    1.00000           1.000000  1.000000\n",
              " 4               0.00  1.000000    1.00000           1.000000  1.000000,\n",
              " 'AdaBoost':           Error_Rate       AUC  Precision  Average_Precision    Recall\n",
              " Category                                                              \n",
              " 0              0.000  1.000000   1.000000           1.000000  1.000000\n",
              " 1              0.198  0.879562   0.473404           0.473404  1.000000\n",
              " 2              0.198  0.500000   0.000000           0.198000  0.000000\n",
              " 3              0.022  0.986250   0.900901           0.900901  1.000000\n",
              " 4              0.022  0.947619   1.000000           0.917238  0.895238,\n",
              " 'Bagging':           Error_Rate       AUC  Precision  Average_Precision    Recall\n",
              " Category                                                              \n",
              " 0              0.000  1.000000   1.000000           1.000000  1.000000\n",
              " 1              0.124  0.814538   0.633663           0.505668  0.719101\n",
              " 2              0.124  0.781959   0.712644           0.520302  0.626263\n",
              " 3              0.000  1.000000   1.000000           1.000000  1.000000\n",
              " 4              0.000  1.000000   1.000000           1.000000  1.000000,\n",
              " 'ExtraTrees':           Error_Rate       AUC  Precision  Average_Precision    Recall\n",
              " Category                                                              \n",
              " 0              0.000  1.000000   1.000000           1.000000  1.000000\n",
              " 1              0.112  0.817436   0.677419           0.531522  0.707865\n",
              " 2              0.112  0.816066   0.726316           0.566220  0.696970\n",
              " 3              0.000  1.000000   1.000000           1.000000  1.000000\n",
              " 4              0.000  1.000000   1.000000           1.000000  1.000000,\n",
              " 'KNeighbors':           Error_Rate       AUC  Precision  Average_Precision    Recall\n",
              " Category                                                              \n",
              " 0              0.000  1.000000   1.000000           1.000000  1.000000\n",
              " 1              0.098  0.852361   0.704082           0.585861  0.775281\n",
              " 2              0.098  0.828598   0.777778           0.607944  0.707071\n",
              " 3              0.000  1.000000   1.000000           1.000000  1.000000\n",
              " 4              0.000  1.000000   1.000000           1.000000  1.000000,\n",
              " 'RadiusNeighbors':           Error_Rate       AUC  Precision  Average_Precision    Recall\n",
              " Category                                                              \n",
              " 0               0.00  1.000000   1.000000           1.000000  1.000000\n",
              " 1               0.09  0.861628   0.729167           0.611502  0.786517\n",
              " 2               0.09  0.844996   0.793478           0.637090  0.737374\n",
              " 3               0.00  1.000000   1.000000           1.000000  1.000000\n",
              " 4               0.00  1.000000   1.000000           1.000000  1.000000,\n",
              " 'SVC':           Error_Rate       AUC  Precision  Average_Precision    Recall\n",
              " Category                                                              \n",
              " 0              0.000  1.000000   1.000000           1.000000  1.000000\n",
              " 1              0.088  0.862845   0.736842           0.617539  0.786517\n",
              " 2              0.088  0.850047   0.795699           0.644765  0.747475\n",
              " 3              0.000  1.000000   1.000000           1.000000  1.000000\n",
              " 4              0.000  1.000000   1.000000           1.000000  1.000000,\n",
              " 'LinearSVC':           Error_Rate       AUC  Precision  Average_Precision    Recall\n",
              " Category                                                              \n",
              " 0              0.000  1.000000   1.000000           1.000000  1.000000\n",
              " 1              0.080  0.933732   0.702479           0.678907  0.955056\n",
              " 2              0.082  0.811947   0.926471           0.661572  0.636364\n",
              " 3              0.000  1.000000   1.000000           1.000000  1.000000\n",
              " 4              0.002  0.995238   1.000000           0.992476  0.990476,\n",
              " 'MLPClassifier':           Error_Rate       AUC  Precision  Average_Precision    Recall\n",
              " Category                                                              \n",
              " 0              0.002  0.998728   0.990741           0.990741  1.000000\n",
              " 1              0.092  0.847207   0.736264           0.598266  0.752809\n",
              " 2              0.094  0.846306   0.770833           0.626178  0.747475\n",
              " 3              0.000  1.000000   1.000000           1.000000  1.000000\n",
              " 4              0.000  1.000000   1.000000           1.000000  1.000000,\n",
              " 'PassiveAggressiveClassifier':           Error_Rate       AUC  Precision  Average_Precision    Recall\n",
              " Category                                                              \n",
              " 0              0.010  0.976636   1.000000           0.963271  0.953271\n",
              " 1              0.178  0.500000   0.000000           0.178000  0.000000\n",
              " 2              0.186  0.884040   0.515625           0.515625  1.000000\n",
              " 3              0.000  1.000000   1.000000           1.000000  1.000000\n",
              " 4              0.002  0.998734   0.990566           0.990566  1.000000,\n",
              " 'RidgeClassifier':           Error_Rate       AUC  Precision  Average_Precision    Recall\n",
              " Category                                                              \n",
              " 0              0.006  0.996183   0.972727           0.972727  1.000000\n",
              " 1              0.196  0.880779   0.475936           0.475936  1.000000\n",
              " 2              0.198  0.500000   0.000000           0.198000  0.000000\n",
              " 3              0.018  0.988750   0.917431           0.917431  1.000000\n",
              " 4              0.022  0.947619   1.000000           0.917238  0.895238}"
            ]
          },
          "execution_count": 119,
          "metadata": {},
          "output_type": "execute_result"
        }
      ],
      "source": [
        "result_df10 = evaluate_classifiers_on_dataset(classifiers, df_train_10, df_test_10)\n",
        "result_df10"
      ]
    },
    {
      "cell_type": "markdown",
      "metadata": {
        "id": "orYX3F9TYgTC"
      },
      "source": [
        "Above are for **multiBlobs** pattern (9 and 10)"
      ]
    },
    {
      "cell_type": "code",
      "execution_count": null,
      "metadata": {
        "id": "fq_7U_6eYEy_"
      },
      "outputs": [],
      "source": []
    },
    {
      "cell_type": "code",
      "execution_count": 95,
      "metadata": {
        "colab": {
          "base_uri": "https://localhost:8080/",
          "height": 423
        },
        "id": "NJn3uZQcTrpQ",
        "outputId": "8e64e40a-8e74-490b-b848-33b9f6f9cd07"
      },
      "outputs": [
        {
          "data": {
            "text/html": [
              "\n",
              "  <div id=\"df-c5bfebdd-036a-440c-b501-a4e96b47a14f\" class=\"colab-df-container\">\n",
              "    <div>\n",
              "<style scoped>\n",
              "    .dataframe tbody tr th:only-of-type {\n",
              "        vertical-align: middle;\n",
              "    }\n",
              "\n",
              "    .dataframe tbody tr th {\n",
              "        vertical-align: top;\n",
              "    }\n",
              "\n",
              "    .dataframe thead th {\n",
              "        text-align: right;\n",
              "    }\n",
              "</style>\n",
              "<table border=\"1\" class=\"dataframe\">\n",
              "  <thead>\n",
              "    <tr style=\"text-align: right;\">\n",
              "      <th></th>\n",
              "      <th>Error_Rate</th>\n",
              "      <th>AUC</th>\n",
              "      <th>Precision</th>\n",
              "      <th>Average_Precision</th>\n",
              "      <th>Recall</th>\n",
              "      <th>Classifier</th>\n",
              "      <th>Dataset</th>\n",
              "    </tr>\n",
              "  </thead>\n",
              "  <tbody>\n",
              "    <tr>\n",
              "      <th>0</th>\n",
              "      <td>0.525</td>\n",
              "      <td>0.481454</td>\n",
              "      <td>0.460317</td>\n",
              "      <td>0.466036</td>\n",
              "      <td>0.610526</td>\n",
              "      <td>GaussianNB</td>\n",
              "      <td>Dataset 1</td>\n",
              "    </tr>\n",
              "    <tr>\n",
              "      <th>1</th>\n",
              "      <td>0.525</td>\n",
              "      <td>0.481454</td>\n",
              "      <td>0.500000</td>\n",
              "      <td>0.516190</td>\n",
              "      <td>0.352381</td>\n",
              "      <td>GaussianNB</td>\n",
              "      <td>Dataset 1</td>\n",
              "    </tr>\n",
              "    <tr>\n",
              "      <th>2</th>\n",
              "      <td>0.495</td>\n",
              "      <td>0.505502</td>\n",
              "      <td>0.495238</td>\n",
              "      <td>0.492779</td>\n",
              "      <td>0.530612</td>\n",
              "      <td>GaussianNB</td>\n",
              "      <td>Dataset 2</td>\n",
              "    </tr>\n",
              "    <tr>\n",
              "      <th>3</th>\n",
              "      <td>0.495</td>\n",
              "      <td>0.505502</td>\n",
              "      <td>0.515789</td>\n",
              "      <td>0.512781</td>\n",
              "      <td>0.480392</td>\n",
              "      <td>GaussianNB</td>\n",
              "      <td>Dataset 2</td>\n",
              "    </tr>\n",
              "    <tr>\n",
              "      <th>4</th>\n",
              "      <td>0.045</td>\n",
              "      <td>0.955138</td>\n",
              "      <td>0.961905</td>\n",
              "      <td>0.941532</td>\n",
              "      <td>0.952830</td>\n",
              "      <td>GaussianNB</td>\n",
              "      <td>Dataset 3</td>\n",
              "    </tr>\n",
              "    <tr>\n",
              "      <th>...</th>\n",
              "      <td>...</td>\n",
              "      <td>...</td>\n",
              "      <td>...</td>\n",
              "      <td>...</td>\n",
              "      <td>...</td>\n",
              "      <td>...</td>\n",
              "      <td>...</td>\n",
              "    </tr>\n",
              "    <tr>\n",
              "      <th>437</th>\n",
              "      <td>0.000</td>\n",
              "      <td>1.000000</td>\n",
              "      <td>1.000000</td>\n",
              "      <td>1.000000</td>\n",
              "      <td>1.000000</td>\n",
              "      <td>RidgeClassifier</td>\n",
              "      <td>Dataset 10</td>\n",
              "    </tr>\n",
              "    <tr>\n",
              "      <th>438</th>\n",
              "      <td>0.000</td>\n",
              "      <td>1.000000</td>\n",
              "      <td>1.000000</td>\n",
              "      <td>1.000000</td>\n",
              "      <td>1.000000</td>\n",
              "      <td>RidgeClassifier</td>\n",
              "      <td>Dataset 10</td>\n",
              "    </tr>\n",
              "    <tr>\n",
              "      <th>439</th>\n",
              "      <td>0.202</td>\n",
              "      <td>0.875616</td>\n",
              "      <td>0.482051</td>\n",
              "      <td>0.482051</td>\n",
              "      <td>1.000000</td>\n",
              "      <td>RidgeClassifier</td>\n",
              "      <td>Dataset 10</td>\n",
              "    </tr>\n",
              "    <tr>\n",
              "      <th>440</th>\n",
              "      <td>0.202</td>\n",
              "      <td>0.500000</td>\n",
              "      <td>0.000000</td>\n",
              "      <td>0.202000</td>\n",
              "      <td>0.000000</td>\n",
              "      <td>RidgeClassifier</td>\n",
              "      <td>Dataset 10</td>\n",
              "    </tr>\n",
              "    <tr>\n",
              "      <th>441</th>\n",
              "      <td>0.000</td>\n",
              "      <td>1.000000</td>\n",
              "      <td>1.000000</td>\n",
              "      <td>1.000000</td>\n",
              "      <td>1.000000</td>\n",
              "      <td>RidgeClassifier</td>\n",
              "      <td>Dataset 10</td>\n",
              "    </tr>\n",
              "  </tbody>\n",
              "</table>\n",
              "<p>442 rows × 7 columns</p>\n",
              "</div>\n",
              "    <div class=\"colab-df-buttons\">\n",
              "\n",
              "  <div class=\"colab-df-container\">\n",
              "    <button class=\"colab-df-convert\" onclick=\"convertToInteractive('df-c5bfebdd-036a-440c-b501-a4e96b47a14f')\"\n",
              "            title=\"Convert this dataframe to an interactive table.\"\n",
              "            style=\"display:none;\">\n",
              "\n",
              "  <svg xmlns=\"http://www.w3.org/2000/svg\" height=\"24px\" viewBox=\"0 -960 960 960\">\n",
              "    <path d=\"M120-120v-720h720v720H120Zm60-500h600v-160H180v160Zm220 220h160v-160H400v160Zm0 220h160v-160H400v160ZM180-400h160v-160H180v160Zm440 0h160v-160H620v160ZM180-180h160v-160H180v160Zm440 0h160v-160H620v160Z\"/>\n",
              "  </svg>\n",
              "    </button>\n",
              "\n",
              "  <style>\n",
              "    .colab-df-container {\n",
              "      display:flex;\n",
              "      gap: 12px;\n",
              "    }\n",
              "\n",
              "    .colab-df-convert {\n",
              "      background-color: #E8F0FE;\n",
              "      border: none;\n",
              "      border-radius: 50%;\n",
              "      cursor: pointer;\n",
              "      display: none;\n",
              "      fill: #1967D2;\n",
              "      height: 32px;\n",
              "      padding: 0 0 0 0;\n",
              "      width: 32px;\n",
              "    }\n",
              "\n",
              "    .colab-df-convert:hover {\n",
              "      background-color: #E2EBFA;\n",
              "      box-shadow: 0px 1px 2px rgba(60, 64, 67, 0.3), 0px 1px 3px 1px rgba(60, 64, 67, 0.15);\n",
              "      fill: #174EA6;\n",
              "    }\n",
              "\n",
              "    .colab-df-buttons div {\n",
              "      margin-bottom: 4px;\n",
              "    }\n",
              "\n",
              "    [theme=dark] .colab-df-convert {\n",
              "      background-color: #3B4455;\n",
              "      fill: #D2E3FC;\n",
              "    }\n",
              "\n",
              "    [theme=dark] .colab-df-convert:hover {\n",
              "      background-color: #434B5C;\n",
              "      box-shadow: 0px 1px 3px 1px rgba(0, 0, 0, 0.15);\n",
              "      filter: drop-shadow(0px 1px 2px rgba(0, 0, 0, 0.3));\n",
              "      fill: #FFFFFF;\n",
              "    }\n",
              "  </style>\n",
              "\n",
              "    <script>\n",
              "      const buttonEl =\n",
              "        document.querySelector('#df-c5bfebdd-036a-440c-b501-a4e96b47a14f button.colab-df-convert');\n",
              "      buttonEl.style.display =\n",
              "        google.colab.kernel.accessAllowed ? 'block' : 'none';\n",
              "\n",
              "      async function convertToInteractive(key) {\n",
              "        const element = document.querySelector('#df-c5bfebdd-036a-440c-b501-a4e96b47a14f');\n",
              "        const dataTable =\n",
              "          await google.colab.kernel.invokeFunction('convertToInteractive',\n",
              "                                                    [key], {});\n",
              "        if (!dataTable) return;\n",
              "\n",
              "        const docLinkHtml = 'Like what you see? Visit the ' +\n",
              "          '<a target=\"_blank\" href=https://colab.research.google.com/notebooks/data_table.ipynb>data table notebook</a>'\n",
              "          + ' to learn more about interactive tables.';\n",
              "        element.innerHTML = '';\n",
              "        dataTable['output_type'] = 'display_data';\n",
              "        await google.colab.output.renderOutput(dataTable, element);\n",
              "        const docLink = document.createElement('div');\n",
              "        docLink.innerHTML = docLinkHtml;\n",
              "        element.appendChild(docLink);\n",
              "      }\n",
              "    </script>\n",
              "  </div>\n",
              "\n",
              "\n",
              "<div id=\"df-313f9a6f-cef2-4da9-b511-f49ed90c3065\">\n",
              "  <button class=\"colab-df-quickchart\" onclick=\"quickchart('df-313f9a6f-cef2-4da9-b511-f49ed90c3065')\"\n",
              "            title=\"Suggest charts\"\n",
              "            style=\"display:none;\">\n",
              "\n",
              "<svg xmlns=\"http://www.w3.org/2000/svg\" height=\"24px\"viewBox=\"0 0 24 24\"\n",
              "     width=\"24px\">\n",
              "    <g>\n",
              "        <path d=\"M19 3H5c-1.1 0-2 .9-2 2v14c0 1.1.9 2 2 2h14c1.1 0 2-.9 2-2V5c0-1.1-.9-2-2-2zM9 17H7v-7h2v7zm4 0h-2V7h2v10zm4 0h-2v-4h2v4z\"/>\n",
              "    </g>\n",
              "</svg>\n",
              "  </button>\n",
              "\n",
              "<style>\n",
              "  .colab-df-quickchart {\n",
              "      --bg-color: #E8F0FE;\n",
              "      --fill-color: #1967D2;\n",
              "      --hover-bg-color: #E2EBFA;\n",
              "      --hover-fill-color: #174EA6;\n",
              "      --disabled-fill-color: #AAA;\n",
              "      --disabled-bg-color: #DDD;\n",
              "  }\n",
              "\n",
              "  [theme=dark] .colab-df-quickchart {\n",
              "      --bg-color: #3B4455;\n",
              "      --fill-color: #D2E3FC;\n",
              "      --hover-bg-color: #434B5C;\n",
              "      --hover-fill-color: #FFFFFF;\n",
              "      --disabled-bg-color: #3B4455;\n",
              "      --disabled-fill-color: #666;\n",
              "  }\n",
              "\n",
              "  .colab-df-quickchart {\n",
              "    background-color: var(--bg-color);\n",
              "    border: none;\n",
              "    border-radius: 50%;\n",
              "    cursor: pointer;\n",
              "    display: none;\n",
              "    fill: var(--fill-color);\n",
              "    height: 32px;\n",
              "    padding: 0;\n",
              "    width: 32px;\n",
              "  }\n",
              "\n",
              "  .colab-df-quickchart:hover {\n",
              "    background-color: var(--hover-bg-color);\n",
              "    box-shadow: 0 1px 2px rgba(60, 64, 67, 0.3), 0 1px 3px 1px rgba(60, 64, 67, 0.15);\n",
              "    fill: var(--button-hover-fill-color);\n",
              "  }\n",
              "\n",
              "  .colab-df-quickchart-complete:disabled,\n",
              "  .colab-df-quickchart-complete:disabled:hover {\n",
              "    background-color: var(--disabled-bg-color);\n",
              "    fill: var(--disabled-fill-color);\n",
              "    box-shadow: none;\n",
              "  }\n",
              "\n",
              "  .colab-df-spinner {\n",
              "    border: 2px solid var(--fill-color);\n",
              "    border-color: transparent;\n",
              "    border-bottom-color: var(--fill-color);\n",
              "    animation:\n",
              "      spin 1s steps(1) infinite;\n",
              "  }\n",
              "\n",
              "  @keyframes spin {\n",
              "    0% {\n",
              "      border-color: transparent;\n",
              "      border-bottom-color: var(--fill-color);\n",
              "      border-left-color: var(--fill-color);\n",
              "    }\n",
              "    20% {\n",
              "      border-color: transparent;\n",
              "      border-left-color: var(--fill-color);\n",
              "      border-top-color: var(--fill-color);\n",
              "    }\n",
              "    30% {\n",
              "      border-color: transparent;\n",
              "      border-left-color: var(--fill-color);\n",
              "      border-top-color: var(--fill-color);\n",
              "      border-right-color: var(--fill-color);\n",
              "    }\n",
              "    40% {\n",
              "      border-color: transparent;\n",
              "      border-right-color: var(--fill-color);\n",
              "      border-top-color: var(--fill-color);\n",
              "    }\n",
              "    60% {\n",
              "      border-color: transparent;\n",
              "      border-right-color: var(--fill-color);\n",
              "    }\n",
              "    80% {\n",
              "      border-color: transparent;\n",
              "      border-right-color: var(--fill-color);\n",
              "      border-bottom-color: var(--fill-color);\n",
              "    }\n",
              "    90% {\n",
              "      border-color: transparent;\n",
              "      border-bottom-color: var(--fill-color);\n",
              "    }\n",
              "  }\n",
              "</style>\n",
              "\n",
              "  <script>\n",
              "    async function quickchart(key) {\n",
              "      const quickchartButtonEl =\n",
              "        document.querySelector('#' + key + ' button');\n",
              "      quickchartButtonEl.disabled = true;  // To prevent multiple clicks.\n",
              "      quickchartButtonEl.classList.add('colab-df-spinner');\n",
              "      try {\n",
              "        const charts = await google.colab.kernel.invokeFunction(\n",
              "            'suggestCharts', [key], {});\n",
              "      } catch (error) {\n",
              "        console.error('Error during call to suggestCharts:', error);\n",
              "      }\n",
              "      quickchartButtonEl.classList.remove('colab-df-spinner');\n",
              "      quickchartButtonEl.classList.add('colab-df-quickchart-complete');\n",
              "    }\n",
              "    (() => {\n",
              "      let quickchartButtonEl =\n",
              "        document.querySelector('#df-313f9a6f-cef2-4da9-b511-f49ed90c3065 button');\n",
              "      quickchartButtonEl.style.display =\n",
              "        google.colab.kernel.accessAllowed ? 'block' : 'none';\n",
              "    })();\n",
              "  </script>\n",
              "</div>\n",
              "\n",
              "  <div id=\"id_7cbffcf7-14b0-4573-91a2-57d7282cf33c\">\n",
              "    <style>\n",
              "      .colab-df-generate {\n",
              "        background-color: #E8F0FE;\n",
              "        border: none;\n",
              "        border-radius: 50%;\n",
              "        cursor: pointer;\n",
              "        display: none;\n",
              "        fill: #1967D2;\n",
              "        height: 32px;\n",
              "        padding: 0 0 0 0;\n",
              "        width: 32px;\n",
              "      }\n",
              "\n",
              "      .colab-df-generate:hover {\n",
              "        background-color: #E2EBFA;\n",
              "        box-shadow: 0px 1px 2px rgba(60, 64, 67, 0.3), 0px 1px 3px 1px rgba(60, 64, 67, 0.15);\n",
              "        fill: #174EA6;\n",
              "      }\n",
              "\n",
              "      [theme=dark] .colab-df-generate {\n",
              "        background-color: #3B4455;\n",
              "        fill: #D2E3FC;\n",
              "      }\n",
              "\n",
              "      [theme=dark] .colab-df-generate:hover {\n",
              "        background-color: #434B5C;\n",
              "        box-shadow: 0px 1px 3px 1px rgba(0, 0, 0, 0.15);\n",
              "        filter: drop-shadow(0px 1px 2px rgba(0, 0, 0, 0.3));\n",
              "        fill: #FFFFFF;\n",
              "      }\n",
              "    </style>\n",
              "    <button class=\"colab-df-generate\" onclick=\"generateWithVariable('final_results')\"\n",
              "            title=\"Generate code using this dataframe.\"\n",
              "            style=\"display:none;\">\n",
              "\n",
              "  <svg xmlns=\"http://www.w3.org/2000/svg\" height=\"24px\"viewBox=\"0 0 24 24\"\n",
              "       width=\"24px\">\n",
              "    <path d=\"M7,19H8.4L18.45,9,17,7.55,7,17.6ZM5,21V16.75L18.45,3.32a2,2,0,0,1,2.83,0l1.4,1.43a1.91,1.91,0,0,1,.58,1.4,1.91,1.91,0,0,1-.58,1.4L9.25,21ZM18.45,9,17,7.55Zm-12,3A5.31,5.31,0,0,0,4.9,8.1,5.31,5.31,0,0,0,1,6.5,5.31,5.31,0,0,0,4.9,4.9,5.31,5.31,0,0,0,6.5,1,5.31,5.31,0,0,0,8.1,4.9,5.31,5.31,0,0,0,12,6.5,5.46,5.46,0,0,0,6.5,12Z\"/>\n",
              "  </svg>\n",
              "    </button>\n",
              "    <script>\n",
              "      (() => {\n",
              "      const buttonEl =\n",
              "        document.querySelector('#id_7cbffcf7-14b0-4573-91a2-57d7282cf33c button.colab-df-generate');\n",
              "      buttonEl.style.display =\n",
              "        google.colab.kernel.accessAllowed ? 'block' : 'none';\n",
              "\n",
              "      buttonEl.onclick = () => {\n",
              "        google.colab.notebook.generateWithVariable('final_results');\n",
              "      }\n",
              "      })();\n",
              "    </script>\n",
              "  </div>\n",
              "\n",
              "    </div>\n",
              "  </div>\n"
            ],
            "text/plain": [
              "     Error_Rate       AUC  Precision  Average_Precision    Recall  \\\n",
              "0         0.525  0.481454   0.460317           0.466036  0.610526   \n",
              "1         0.525  0.481454   0.500000           0.516190  0.352381   \n",
              "2         0.495  0.505502   0.495238           0.492779  0.530612   \n",
              "3         0.495  0.505502   0.515789           0.512781  0.480392   \n",
              "4         0.045  0.955138   0.961905           0.941532  0.952830   \n",
              "..          ...       ...        ...                ...       ...   \n",
              "437       0.000  1.000000   1.000000           1.000000  1.000000   \n",
              "438       0.000  1.000000   1.000000           1.000000  1.000000   \n",
              "439       0.202  0.875616   0.482051           0.482051  1.000000   \n",
              "440       0.202  0.500000   0.000000           0.202000  0.000000   \n",
              "441       0.000  1.000000   1.000000           1.000000  1.000000   \n",
              "\n",
              "          Classifier     Dataset  \n",
              "0         GaussianNB   Dataset 1  \n",
              "1         GaussianNB   Dataset 1  \n",
              "2         GaussianNB   Dataset 2  \n",
              "3         GaussianNB   Dataset 2  \n",
              "4         GaussianNB   Dataset 3  \n",
              "..               ...         ...  \n",
              "437  RidgeClassifier  Dataset 10  \n",
              "438  RidgeClassifier  Dataset 10  \n",
              "439  RidgeClassifier  Dataset 10  \n",
              "440  RidgeClassifier  Dataset 10  \n",
              "441  RidgeClassifier  Dataset 10  \n",
              "\n",
              "[442 rows x 7 columns]"
            ]
          },
          "execution_count": 95,
          "metadata": {},
          "output_type": "execute_result"
        }
      ],
      "source": [
        "final_results"
      ]
    },
    {
      "cell_type": "markdown",
      "metadata": {
        "id": "-MBM3gcrZuuJ"
      },
      "source": [
        "# Clinton / Obama Press Releases\n",
        "\n",
        "We often will not have nicely prepared data, so we will work though the proccess of cleaning and structuring in more detail here:\n",
        "\n",
        "While the Clinton and Obama Senatorial Press Releases are not hand-coded, we can imagine that we have been given a stack of such press releases, but lost the metadata associated with which senatorial office issued which. If we label a few of them, how well can our classifier do at recovering the rest?"
      ]
    },
    {
      "cell_type": "code",
      "execution_count": 5,
      "metadata": {
        "colab": {
          "base_uri": "https://localhost:8080/",
          "height": 339
        },
        "id": "AdW1M92KZuuJ",
        "outputId": "9373a184-e5ff-4212-ec25-331ce508e6c2"
      },
      "outputs": [
        {
          "ename": "NameError",
          "evalue": "name 'pandas' is not defined",
          "output_type": "error",
          "traceback": [
            "\u001b[1;31m---------------------------------------------------------------------------\u001b[0m",
            "\u001b[1;31mNameError\u001b[0m                                 Traceback (most recent call last)",
            "Cell \u001b[1;32mIn[5], line 1\u001b[0m\n\u001b[1;32m----> 1\u001b[0m ObamaClintonReleases \u001b[38;5;241m=\u001b[39m \u001b[43mpandas\u001b[49m\u001b[38;5;241m.\u001b[39mread_csv(\u001b[38;5;124m'\u001b[39m\u001b[38;5;124m../data/ObamaClintonReleases.csv\u001b[39m\u001b[38;5;124m'\u001b[39m, index_col\u001b[38;5;241m=\u001b[39m\u001b[38;5;241m0\u001b[39m)\n",
            "\u001b[1;31mNameError\u001b[0m: name 'pandas' is not defined"
          ]
        }
      ],
      "source": [
        "ObamaClintonReleases = pandas.read_csv('../data/ObamaClintonReleases.csv', index_col=0)"
      ]
    },
    {
      "cell_type": "markdown",
      "metadata": {
        "id": "V_TSR1U4ZuuJ"
      },
      "source": [
        "I'm pretty sure that you're all familiar with pandas, but, just to clarify: why do we use pandas here? pandas is a Python library which is widely used for analyzing and wrangling data. In particular, pandas loads data and creates data frame, a Python object that looks familiar to us (since it looks like a excel table) and easy to work with. So, using pandas.read_csv function, we take in the csv file and convert it into a data frame."
      ]
    },
    {
      "cell_type": "code",
      "execution_count": null,
      "metadata": {
        "id": "jJT_WZxNZuuJ"
      },
      "outputs": [],
      "source": [
        "type(ObamaClintonReleases)"
      ]
    },
    {
      "cell_type": "markdown",
      "metadata": {
        "id": "rLB5FBegZuuJ"
      },
      "source": [
        "It's a DataFrame! and it looks like this:"
      ]
    },
    {
      "cell_type": "code",
      "execution_count": null,
      "metadata": {
        "id": "8qI4hF70ZuuJ"
      },
      "outputs": [],
      "source": [
        "ObamaClintonReleases"
      ]
    },
    {
      "cell_type": "markdown",
      "metadata": {
        "id": "DSvvq-ivZuuJ"
      },
      "source": [
        "Neat! Let's turn the 'targetSenator' column into a binary category variable."
      ]
    },
    {
      "cell_type": "code",
      "execution_count": null,
      "metadata": {
        "id": "YaOe4KuiZuuJ"
      },
      "outputs": [],
      "source": [
        "ObamaClintonReleases['category'] = [s == 'Obama' for s in ObamaClintonReleases['targetSenator']]"
      ]
    },
    {
      "cell_type": "markdown",
      "metadata": {
        "id": "w7SnUI-0ZuuJ"
      },
      "source": [
        "Tokenize and normalize"
      ]
    },
    {
      "cell_type": "code",
      "execution_count": null,
      "metadata": {
        "id": "X404DH1pZuuJ"
      },
      "outputs": [],
      "source": [
        "ObamaClintonReleases['tokenized_text'] = ObamaClintonReleases['text'].apply(lambda x: lucem_illud.word_tokenize(x))\n",
        "ObamaClintonReleases['normalized_text'] = ObamaClintonReleases['tokenized_text'].apply(lambda x: lucem_illud.normalizeTokens(x))"
      ]
    },
    {
      "cell_type": "markdown",
      "metadata": {
        "id": "n5WNMDC6ZuuJ"
      },
      "source": [
        "Let's split the data into training data and testing data."
      ]
    },
    {
      "cell_type": "code",
      "execution_count": null,
      "metadata": {
        "id": "QG_EbE3wZuuJ"
      },
      "outputs": [],
      "source": [
        "holdBackFraction = .2\n",
        "train_data_df, test_data_df = sklearn.model_selection.train_test_split(ObamaClintonReleases, test_size=holdBackFraction)"
      ]
    },
    {
      "cell_type": "code",
      "execution_count": null,
      "metadata": {
        "id": "EsCr2xMuZuuJ"
      },
      "outputs": [],
      "source": [
        "print(len(train_data_df))\n",
        "print(len(test_data_df))"
      ]
    },
    {
      "cell_type": "markdown",
      "metadata": {
        "id": "PA2_IYpAZuuJ"
      },
      "source": [
        "## Logistic Regression"
      ]
    },
    {
      "cell_type": "markdown",
      "metadata": {
        "id": "TzSnqskdZuuJ"
      },
      "source": [
        "First, let's try with a logistic regression, which may be familiar to you from statistical methods classes. First, we must turn the training dataset into a tf-idf matrix (`lucem_illud.generateVecs()` will help with this but for now we are doing it the long way):"
      ]
    },
    {
      "cell_type": "code",
      "execution_count": null,
      "metadata": {
        "id": "LUUj8PmcZuuJ"
      },
      "outputs": [],
      "source": [
        "TFVectorizer = sklearn.feature_extraction.text.TfidfVectorizer(max_df=100, min_df=2, stop_words='english', norm='l2')\n",
        "TFVects = TFVectorizer.fit_transform(train_data_df['text'])"
      ]
    },
    {
      "cell_type": "markdown",
      "metadata": {
        "id": "_UJmQZ0TZuuJ"
      },
      "source": [
        "The core function here is TfidfVectorizer, which takes a collection of raw documents and turn them to a tf-idf matrix. Just to recap: tf-idf means term frequency-inverse document frequency, a statistic (or, more precisely, a product of two statistics, term frequency and inverse document frequency) that shows the importance of a term vis-a-vis documents. TF, or, term frequency, counts how many times a term is used in a document; IDF, or, inverse-document-frequency, measures common or rare a term appears across documents.\n",
        "\n",
        "Let's look at three parameters of TfidfVectorizer: max_df = 100, min_df = 2, and norm='l2'. What do those parameters mean?\n",
        "\n",
        "(1) max_df = 100\n",
        "\n",
        "Here, we specified a thredhold of 100, and the terms that have a document frequency higher than 100 would be ignored.\n",
        "\n",
        "(2) min_df = 2\n",
        "\n",
        "We specified a lower bound, 2, and the terms that have a document frequency lower than 2 will be ignored.\n",
        "\n",
        "(3) norm = 'l2'\n",
        "\n",
        "This parameter is about vector normalization. In machine learning, we commonly normalize vectors, i.e., change the length of vectors and turn them into a unit vector, before passing them into algorithms. There are various ways of normalizations, and this parameter specifies how we normalize vectors. Here, we set the norm to l2, in which case, we normalize the vectors such that squares of vector elements sums to 1. Alternatively, we can set it to l1, in which case the sum of absolute values of vector elements, not the square of vector elements, is 1."
      ]
    },
    {
      "cell_type": "markdown",
      "metadata": {
        "id": "sW3-JviGZuuJ"
      },
      "source": [
        "fit_transform() literally fits to data and then transform it. So, fit_transform() is just a combination of two steps--(1) fitting parameters to data; (2) then, using the vocabulary and document frequencies learned by fit(), transforming documents into document-term matrix. So, it's the same as fit followed by transform."
      ]
    },
    {
      "cell_type": "markdown",
      "metadata": {
        "id": "-t746qX0ZuuJ"
      },
      "source": [
        "Note that we can use the CountVectorizer instead, which simply produces a matrix of word counts."
      ]
    },
    {
      "cell_type": "code",
      "execution_count": null,
      "metadata": {
        "id": "hwbwYXb_ZuuJ",
        "scrolled": true
      },
      "outputs": [],
      "source": [
        "TFVects.shape"
      ]
    },
    {
      "cell_type": "markdown",
      "metadata": {
        "id": "wm336tcRZuuJ"
      },
      "source": [
        "We can save this in the dataframe to make things easier"
      ]
    },
    {
      "cell_type": "code",
      "execution_count": null,
      "metadata": {
        "id": "Tri2wctbZuuJ"
      },
      "outputs": [],
      "source": [
        "train_data_df['vect'] = [np.array(v).flatten() for v in TFVects.todense()]"
      ]
    },
    {
      "cell_type": "markdown",
      "metadata": {
        "id": "a3RfRy2EZuuK"
      },
      "source": [
        "Looks simple, but we need to know what todense() does here. todense() returns a dense matrix representation of the matrix. Why do we need this? As you can see above, the TFVects, a document-term matrix, has 11349 columns, and this matrix is sparse, in the sense that it is comprised mostly of zeros. Dense matrices, in contrast, are the matrices that are comprised of mostly non-zeros. Then why do we make sparse matrices into dense ones? Because zero values don't contain important information but take up so much memory."
      ]
    },
    {
      "cell_type": "markdown",
      "metadata": {
        "id": "TK7Fa1NzZuuK"
      },
      "source": [
        "In a regression, we cannot have more variables than cases. So, we need to first do a dimension reduction. First, we will approah this with PCA. You have previously seen this in week 3. Here we are not concerned about visualization, but rather classification and so all principal components are calculated. Watch out: we have to use `stack` not `sum` for combining the vectors. We note that you could also use topic loading and embedding dimensions as featured variables."
      ]
    },
    {
      "cell_type": "code",
      "execution_count": null,
      "metadata": {
        "id": "uGPKX3r5ZuuK"
      },
      "outputs": [],
      "source": [
        "pca = sklearn.decomposition.PCA()\n",
        "reduced_data = pca.fit_transform(np.stack(train_data_df['vect'], axis=0))"
      ]
    },
    {
      "cell_type": "markdown",
      "metadata": {
        "id": "2Cqh2bp3ZuuK"
      },
      "source": [
        "We can store the PCA space vectors in the dataframe too:"
      ]
    },
    {
      "cell_type": "code",
      "execution_count": null,
      "metadata": {
        "id": "emVgDhbPZuuK"
      },
      "outputs": [],
      "source": [
        "train_data_df['pca'] = [r for r in reduced_data]"
      ]
    },
    {
      "cell_type": "markdown",
      "metadata": {
        "id": "w7WZzcOJZuuK"
      },
      "source": [
        "Visualization in 2D:"
      ]
    },
    {
      "cell_type": "code",
      "execution_count": null,
      "metadata": {
        "id": "2_9TpB8RZuuK"
      },
      "outputs": [],
      "source": [
        "fig, ax = plt.subplots(figsize = (10,10))\n",
        "ax.axis('off')\n",
        "pallet = seaborn.color_palette(palette='coolwarm', n_colors = 2)\n",
        "\n",
        "#Plot Obama\n",
        "a = np.stack(train_data_df[train_data_df['category']]['pca'])\n",
        "ax.scatter(a[:,0], a[:, 1], c = pallet[0], label = \"True\")\n",
        "\n",
        "#Plot not Obama\n",
        "a = np.stack(train_data_df[train_data_df['category'].eq(False)]['pca'])\n",
        "ax.scatter(a[:,0], a[:, 1], c = pallet[1], label = \"False\")\n",
        "\n",
        "ax.legend(loc = 'upper right', title = 'Is Obama')\n",
        "plt.title('True Classes, Training Set')\n",
        "plt.show()"
      ]
    },
    {
      "cell_type": "markdown",
      "metadata": {
        "id": "kkjSrO2wZuuK"
      },
      "source": [
        "PCA cannot distinguish Obama very well. Let's perform a screeplot to see how many Principal Components we need."
      ]
    },
    {
      "cell_type": "code",
      "execution_count": null,
      "metadata": {
        "id": "b_zz-uo4ZuuK"
      },
      "outputs": [],
      "source": [
        "n = len(train_data_df)\n",
        "\n",
        "fig, (ax1, ax2, ax3) = plt.subplots(ncols=3, figsize = (16, 5), sharey=True)\n",
        "\n",
        "eigen_vals = np.arange(n) + 1\n",
        "ax1.plot(eigen_vals, pca.explained_variance_ratio_, 'ro-', linewidth=1)\n",
        "ax1.set_title('Scree Plot (Full)')\n",
        "ax1.set_xlabel('Principal Component')\n",
        "ax1.set_ylabel('Proportion of Explained Variance')\n",
        "\n",
        "eigen_vals = np.arange(50) + 1\n",
        "ax2.plot(eigen_vals, pca.explained_variance_ratio_[:50], 'ro-', linewidth=1)\n",
        "ax2.set_title('Scree Plot (First 50 Principal Components)')\n",
        "ax2.set_xlabel('Principal Component')\n",
        "ax2.set_ylabel('Proportion of Explained Variance')\n",
        "\n",
        "\n",
        "eigen_vals = np.arange(20) + 1\n",
        "ax3.plot(eigen_vals, pca.explained_variance_ratio_[:20], 'ro-', linewidth=2)\n",
        "ax3.set_title('Scree Plot (First 50 Principal Components)')\n",
        "ax3.set_xlabel('Principal Component')\n",
        "ax3.set_ylabel('Proportion of Explained Variance')\n",
        "\n",
        "plt.show()"
      ]
    },
    {
      "cell_type": "markdown",
      "metadata": {
        "id": "px3byR-EZuuK"
      },
      "source": [
        "Let's choose the first 10 pricipal components as our covariates."
      ]
    },
    {
      "cell_type": "code",
      "execution_count": null,
      "metadata": {
        "id": "ED0o5KJ5ZuuK"
      },
      "outputs": [],
      "source": [
        "train_data_df['pca_reduced_10'] = train_data_df['pca'].apply(lambda x: x[:10])"
      ]
    },
    {
      "cell_type": "markdown",
      "metadata": {
        "id": "EorEw9brZuuK"
      },
      "source": [
        "Now we fit a logistic regression to our data."
      ]
    },
    {
      "cell_type": "code",
      "execution_count": null,
      "metadata": {
        "id": "Fi49BmEqZuuK"
      },
      "outputs": [],
      "source": [
        "logistic = sklearn.linear_model.LogisticRegression()\n",
        "logistic.fit(np.stack(train_data_df['pca_reduced_10'], axis=0), train_data_df['category'])"
      ]
    },
    {
      "cell_type": "markdown",
      "metadata": {
        "id": "O9CAFZX3ZuuK"
      },
      "source": [
        "Let's see how the logistic regression performs on the training dataset from which we develop the model. Unfortunately, the mean accuracy is only about 64%."
      ]
    },
    {
      "cell_type": "code",
      "execution_count": null,
      "metadata": {
        "id": "BqWkCbFkZuuK"
      },
      "outputs": [],
      "source": [
        "logistic.score(np.stack(train_data_df['pca_reduced_10'], axis=0), train_data_df['category'])"
      ]
    },
    {
      "cell_type": "markdown",
      "metadata": {
        "id": "Ik5B_YdkZuuK"
      },
      "source": [
        "How does it perform on the testing dataset, which we \"held out\" and did not use for model training? We need to repeat all the steps on the testing data, but without retraining:"
      ]
    },
    {
      "cell_type": "code",
      "execution_count": null,
      "metadata": {
        "id": "9OH7q0feZuuK"
      },
      "outputs": [],
      "source": [
        "#Create vectors\n",
        "TFVects_test = TFVectorizer.transform(test_data_df['text'])\n",
        "test_data_df['vect'] = [np.array(v).flatten() for v in TFVects_test.todense()]\n",
        "\n",
        "#PCA\n",
        "reduced_data_test = pca.transform(np.stack(test_data_df['vect'], axis=0))\n",
        "test_data_df['pca'] = [r for r in reduced_data_test]\n",
        "test_data_df['pca_reduced_10'] = test_data_df['pca'].apply(lambda x: x[:10])\n",
        "\n",
        "#Test\n",
        "logistic.score(np.stack(test_data_df['pca_reduced_10'], axis=0), test_data_df['category'])"
      ]
    },
    {
      "cell_type": "markdown",
      "metadata": {
        "id": "IwbBZmwiZuuK"
      },
      "source": [
        "Slightly poorer. How about using more dimensions (40)?"
      ]
    },
    {
      "cell_type": "code",
      "execution_count": null,
      "metadata": {
        "id": "7TkX7ZU9ZuuK"
      },
      "outputs": [],
      "source": [
        "train_data_df['pca_reduced_40'] = train_data_df['pca'].apply(lambda x: x[:40])\n",
        "test_data_df['pca_reduced_40'] = test_data_df['pca'].apply(lambda x: x[:40])\n",
        "\n",
        "logistic.fit(np.stack(train_data_df['pca_reduced_40'], axis=0), train_data_df['category'])\n",
        "\n",
        "print(\"Training:\")\n",
        "print(logistic.score(np.stack(train_data_df['pca_reduced_40'], axis=0), train_data_df['category']))\n",
        "print(\"Testing:\")\n",
        "print(logistic.score(np.stack(test_data_df['pca_reduced_40'], axis=0), test_data_df['category']))"
      ]
    },
    {
      "cell_type": "markdown",
      "metadata": {
        "id": "I6qnXx5kZuuK"
      },
      "source": [
        "Or still more (100)?"
      ]
    },
    {
      "cell_type": "code",
      "execution_count": null,
      "metadata": {
        "id": "70sCv4OOZuuK"
      },
      "outputs": [],
      "source": [
        "train_data_df['pca_reduced_100'] = train_data_df['pca'].apply(lambda x: x[:100])\n",
        "test_data_df['pca_reduced_100'] = test_data_df['pca'].apply(lambda x: x[:100])\n",
        "\n",
        "logistic.fit(np.stack(train_data_df['pca_reduced_100'], axis=0), train_data_df['category'])\n",
        "\n",
        "print(\"Training:\")\n",
        "print(logistic.score(np.stack(train_data_df['pca_reduced_100'], axis=0), train_data_df['category']))\n",
        "print(\"Testing:\")\n",
        "print(logistic.score(np.stack(test_data_df['pca_reduced_100'], axis=0), test_data_df['category']))"
      ]
    },
    {
      "cell_type": "markdown",
      "metadata": {
        "id": "mdy-5z0qZuuK"
      },
      "source": [
        "Or even more (200)!"
      ]
    },
    {
      "cell_type": "code",
      "execution_count": null,
      "metadata": {
        "id": "N6SxLo4aZuuK"
      },
      "outputs": [],
      "source": [
        "train_data_df['pca_reduced_200'] = train_data_df['pca'].apply(lambda x: x[:200])\n",
        "test_data_df['pca_reduced_200'] = test_data_df['pca'].apply(lambda x: x[:200])\n",
        "\n",
        "logistic.fit(np.stack(train_data_df['pca_reduced_200'], axis=0), train_data_df['category'])\n",
        "\n",
        "print(\"Training:\")\n",
        "print(logistic.score(np.stack(train_data_df['pca_reduced_200'], axis=0), train_data_df['category']))\n",
        "print(\"Testing:\")\n",
        "print(logistic.score(np.stack(test_data_df['pca_reduced_200'], axis=0), test_data_df['category']))"
      ]
    },
    {
      "cell_type": "markdown",
      "metadata": {
        "id": "nSHYcVItZuuL"
      },
      "source": [
        "This is becoming ridiculous (400)!"
      ]
    },
    {
      "cell_type": "code",
      "execution_count": null,
      "metadata": {
        "id": "LgtY3tXeZuuL"
      },
      "outputs": [],
      "source": [
        "train_data_df['pca_reduced_400'] = train_data_df['pca'].apply(lambda x: x[:400])\n",
        "test_data_df['pca_reduced_400'] = test_data_df['pca'].apply(lambda x: x[:400])\n",
        "\n",
        "logistic.fit(np.stack(train_data_df['pca_reduced_400'], axis=0), train_data_df['category'])\n",
        "\n",
        "print(\"Training:\")\n",
        "print(logistic.score(np.stack(train_data_df['pca_reduced_400'], axis=0), train_data_df['category']))\n",
        "print(\"Testing:\")\n",
        "print(logistic.score(np.stack(test_data_df['pca_reduced_400'], axis=0), test_data_df['category']))"
      ]
    },
    {
      "cell_type": "markdown",
      "metadata": {
        "id": "przyazJmZuuL"
      },
      "source": [
        "Increasing the number of covariates would overfit our data, and it seems that using a logistic regression, our prediction accuracy is at best about 65%. We can, however, try a logistic regression that uses the TF-IDF scores for each word, but with an L1 regularization or L1-norm loss function, which is also known as least absolute deviations (LAD), least absolute errors (LAE) or L1 penalty. It minimizes the sum of the absolute differences (S) between the target value ($Y_i$) and the estimated values ($f(x_i)$) and prunes all insignificant variables (i.e., word TF-IDF scores):\n",
        "\n",
        "$S=\\sum^n_{i=1}|y_i=f(x_i)|$\n",
        "\n",
        "The result is a model retaining only the most individually significant features."
      ]
    },
    {
      "cell_type": "code",
      "execution_count": null,
      "metadata": {
        "id": "0H9ntY8eZuuL"
      },
      "outputs": [],
      "source": [
        "logistic_l1= sklearn.linear_model.LogisticRegression(penalty='l2')\n",
        "logistic_l1.fit(np.stack(train_data_df['vect'], axis=0), train_data_df['category'])\n",
        "print(logistic_l1.score(np.stack(train_data_df['vect'], axis=0), train_data_df['category']))"
      ]
    },
    {
      "cell_type": "markdown",
      "metadata": {
        "id": "xI4nTObxZuuL"
      },
      "source": [
        "Train the model using training data, and then test it on the testing data."
      ]
    },
    {
      "cell_type": "code",
      "execution_count": null,
      "metadata": {
        "id": "Z-u-qUC6ZuuL"
      },
      "outputs": [],
      "source": [
        "print(logistic_l1.score(np.stack(test_data_df['vect'], axis=0), test_data_df['category']))"
      ]
    },
    {
      "cell_type": "markdown",
      "metadata": {
        "id": "zuh5aYFxZuuL"
      },
      "source": [
        "81% accuracy seems like the best we can get by using a logistic regression."
      ]
    },
    {
      "cell_type": "markdown",
      "metadata": {
        "id": "S9sl7mfjZuuL"
      },
      "source": [
        "## <font color=\"red\">*Exercise 3*</font>\n",
        "\n",
        "<font color=\"red\">In the cells immediately following, perform logistic regression classification using training, testing and uncoded (i.e., data you didn't code by hand but want to use your model on) data from texts and hand-classifications associated with your final project (e.g., these could be crowd-sourced codes gathered through Amazon Mechanical Turk in Exercise 1). Visualize the confusion matrix for training and testing sets. Calculate precision, recall, the F-measure, and AUC, then perform an ROC visualization. How do these classifiers perform? Exrapolate codes from these models to all uncoded data.\n"
      ]
    },
    {
      "cell_type": "code",
      "execution_count": null,
      "metadata": {
        "id": "6yscazcuN-KO"
      },
      "outputs": [],
      "source": []
    },
    {
      "cell_type": "markdown",
      "metadata": {
        "collapsed": true,
        "id": "fDawkkpCZuuL"
      },
      "source": [
        "# Decision Trees"
      ]
    },
    {
      "cell_type": "markdown",
      "metadata": {
        "id": "8Y5HR_4YZuuL"
      },
      "source": [
        "Decision trees can be used to predict both categorical/class labels (i.e., classification) and continuous labels (i.e., regression)."
      ]
    },
    {
      "cell_type": "code",
      "execution_count": null,
      "metadata": {
        "id": "6b2uBI_kZuuL"
      },
      "outputs": [],
      "source": [
        "blobs_df = lucem_illud.multiBlobs(noise=.2, centers=[(0,0), (0,5), (5,0), (-5,0), (0,-5)])\n",
        "df_exampleTree_train, df_exampleTree_test = sklearn.model_selection.train_test_split(blobs_df, test_size=.2)\n",
        "lucem_illud.plotter(df_exampleTree_train)"
      ]
    },
    {
      "cell_type": "markdown",
      "metadata": {
        "id": "wokvRlDEZuuL"
      },
      "source": [
        "Now we import our Decision Tree classifier from sklearn.tree (familiar syntax) and fit it using the fit method."
      ]
    },
    {
      "cell_type": "code",
      "execution_count": null,
      "metadata": {
        "id": "ekxgNeFDZuuL"
      },
      "outputs": [],
      "source": [
        "clf_tree = sklearn.tree.DecisionTreeClassifier(max_depth=4,random_state=0)\n",
        "clf_tree.fit(np.stack(df_exampleTree_train['vect'], axis =0), df_exampleTree_train['category'])"
      ]
    },
    {
      "cell_type": "markdown",
      "metadata": {
        "id": "IWsVPnvoZuuL"
      },
      "source": [
        "To see what's going on visually with the classification:"
      ]
    },
    {
      "cell_type": "code",
      "execution_count": null,
      "metadata": {
        "id": "MfpLBDa2ZuuL"
      },
      "outputs": [],
      "source": [
        "lucem_illud.plotregions(clf_tree, df_exampleTree_train)"
      ]
    },
    {
      "cell_type": "code",
      "execution_count": null,
      "metadata": {
        "id": "yUB89jeoZuuL"
      },
      "outputs": [],
      "source": [
        "lucem_illud.evaluateClassifier(clf_tree, df_exampleTree_test)"
      ]
    },
    {
      "cell_type": "markdown",
      "metadata": {
        "id": "idCqH8tFZuuL"
      },
      "source": [
        "Lets look at accuracy:"
      ]
    },
    {
      "cell_type": "code",
      "execution_count": null,
      "metadata": {
        "id": "tmGt3XJTZuuL"
      },
      "outputs": [],
      "source": [
        "sklearn.metrics.accuracy_score(df_exampleTree_test['category'],clf_tree.predict(np.stack(df_exampleTree_test['vect'], axis = 0)))"
      ]
    },
    {
      "cell_type": "markdown",
      "metadata": {
        "id": "KMJJsHyUZuuL"
      },
      "source": [
        "What happens if we trim the tree?"
      ]
    },
    {
      "cell_type": "code",
      "execution_count": null,
      "metadata": {
        "id": "HgivrbXbZuuL"
      },
      "outputs": [],
      "source": [
        "depthvec = []\n",
        "scorevec = []\n",
        "for i in range(1,20):\n",
        "    tree2 = sklearn.tree.DecisionTreeClassifier(max_depth=i,random_state=0)\n",
        "    tree2.fit(np.stack(df_exampleTree_train['vect'], axis =0), df_exampleTree_train['category'])\n",
        "    score = sklearn.metrics.accuracy_score(df_exampleTree_test['category'], tree2.predict(np.stack(df_exampleTree_test['vect'], axis = 0)))\n",
        "    depthvec.append(i)\n",
        "    scorevec.append(score)\n",
        "plt.scatter(depthvec,scorevec)\n",
        "plt.show()"
      ]
    },
    {
      "cell_type": "markdown",
      "metadata": {
        "id": "3UKvileVZuuL"
      },
      "source": [
        "We can select different layers of the decision tree or \"prune\" it. At approximately four layers down in the decision tree, the shape is somewhat odd, suggesting that our model is overfitting beyond those four layers."
      ]
    },
    {
      "cell_type": "markdown",
      "metadata": {
        "id": "0MrQqPgeZuuL"
      },
      "source": [
        "Combining multiple overfitting estimators turns out to be a key idea in machine learning. This is called **bagging** and is a type of **ensemble** method. The idea is to make many randomized estimators--each can overfit, as decision trees are wont to do--but then to combine them, ultimately producing a better classification. A **random forest** is produced by bagging decision trees."
      ]
    },
    {
      "cell_type": "code",
      "execution_count": null,
      "metadata": {
        "id": "wBLk22dOZuuL"
      },
      "outputs": [],
      "source": [
        "tree = sklearn.tree.DecisionTreeClassifier(max_depth=10) #Create an instance of our decision tree classifier.\n",
        "\n",
        "bag = sklearn.ensemble.BaggingClassifier(tree, n_estimators=100, max_samples=0.8, random_state=1) #Each tree uses up to 80% of the data"
      ]
    },
    {
      "cell_type": "code",
      "execution_count": null,
      "metadata": {
        "id": "f0-pRXATZuuL"
      },
      "outputs": [],
      "source": [
        "bag.fit(np.stack(df_exampleTree_train['vect'], axis =0), df_exampleTree_train['category']) #Fit the bagged classifier"
      ]
    },
    {
      "cell_type": "code",
      "execution_count": null,
      "metadata": {
        "id": "5ISLxivuZuuL"
      },
      "outputs": [],
      "source": [
        "lucem_illud.plotregions(bag, df_exampleTree_test)"
      ]
    },
    {
      "cell_type": "code",
      "execution_count": null,
      "metadata": {
        "id": "npVS3k3xZuuL"
      },
      "outputs": [],
      "source": [
        "lucem_illud.evaluateClassifier(bag, df_exampleTree_test)"
      ]
    },
    {
      "cell_type": "code",
      "execution_count": null,
      "metadata": {
        "id": "E-DIW5JrZuuM"
      },
      "outputs": [],
      "source": [
        "lucem_illud.plotConfusionMatrix(bag, df_exampleTree_test)"
      ]
    },
    {
      "cell_type": "markdown",
      "metadata": {
        "id": "1gGgLMdNZuuM"
      },
      "source": [
        "## <font color=\"red\">*Exercise 4*</font>\n",
        "\n",
        "<font color=\"red\">In the cells immediately following, perform decision tree and random forest classification (binary, multinomial or continuous) using training, testing and extrapolation (uncoded) data from texts and hand-classifications associated with your final project. As with ***Exercise 2***, these could be crowd-sourced codes gathered through Amazon Mechanical Turk last week. Visualize the classification of data points. Calculate relevant metrics (e.g., precision, recall, the F-measure, and AUC). Now build an ensemble classifier by bagging trees into a random forest. Visualize the result. How do these classifiers perform? What does ensemble learning do?"
      ]
    },
    {
      "cell_type": "markdown",
      "metadata": {
        "collapsed": true,
        "id": "uSciC7szZuuM"
      },
      "source": [
        "# K-Nearest Neighbors"
      ]
    },
    {
      "cell_type": "markdown",
      "metadata": {
        "id": "FjWZSXDLZuuM"
      },
      "source": [
        "The K-Nearest neighbors classifier takes a simpler premise than those before: Find the closest labeled datapoint in set and \"borrow\" its label.\n",
        "\n",
        "Let's use newsgroup data."
      ]
    },
    {
      "cell_type": "code",
      "execution_count": null,
      "metadata": {
        "id": "xCs4b_nEZuuM"
      },
      "outputs": [],
      "source": [
        "newsgroups = sklearn.datasets.fetch_20newsgroups(data_home = '../data') #Free data to play with: documents from a newsgroup corpus. # replace path if on Colab\n",
        "newsgroups.target_names #Possible categories, i.e., the newsgroups\n",
        "\n",
        "target_categories = ['talk.religion.misc', 'soc.religion.christian', 'sci.space', 'comp.graphics'] #Can change these of course\n",
        "\n",
        "newsgroupsDF = pandas.DataFrame(columns = ['text', 'category', 'source_file'])\n",
        "for category in target_categories:\n",
        "    print(\"Loading data for: {}\".format(category))\n",
        "    ng = sklearn.datasets.fetch_20newsgroups(categories = [category], remove=['headers', 'footers', 'quotes'], data_home = '../data')\n",
        "    newsgroupsDF = newsgroupsDF.append(pandas.DataFrame({'text' : ng.data, 'category' : [category] * len(ng.data), 'source_file' : ng.filenames}), ignore_index=True)\n",
        "\n",
        "newsgroupsDF['tokenized_text'] = newsgroupsDF['text'].apply(lambda x: lucem_illud.word_tokenize(x))\n",
        "newsgroupsDF['normalized_text'] = newsgroupsDF['tokenized_text'].apply(lambda x: lucem_illud.normalizeTokens(x))"
      ]
    },
    {
      "cell_type": "code",
      "execution_count": null,
      "metadata": {
        "id": "I5T6mJkYZuuM"
      },
      "outputs": [],
      "source": [
        "newsgroupsDF[:5]"
      ]
    },
    {
      "cell_type": "markdown",
      "metadata": {
        "id": "hhxmeJ4rZuuM"
      },
      "source": [
        "Make a testing and training set:"
      ]
    },
    {
      "cell_type": "code",
      "execution_count": null,
      "metadata": {
        "id": "L83IA4QXZuuM"
      },
      "outputs": [],
      "source": [
        "holdBackFraction = .2\n",
        "train_ng_df, test_ng_df = sklearn.model_selection.train_test_split(newsgroupsDF, test_size=holdBackFraction)"
      ]
    },
    {
      "cell_type": "markdown",
      "metadata": {
        "id": "5nqMKaGSZuuM"
      },
      "source": [
        "Let's initialize our k-nearest neighbors classifier:"
      ]
    },
    {
      "cell_type": "code",
      "execution_count": null,
      "metadata": {
        "id": "ZemHAcJoZuuM"
      },
      "outputs": [],
      "source": [
        "n_neighbors = 15\n",
        "weights=\"uniform\"\n",
        "clf_knearest = sklearn.neighbors.KNeighborsClassifier(n_neighbors, weights=weights)"
      ]
    },
    {
      "cell_type": "markdown",
      "metadata": {
        "id": "XhyYVROZZuuM"
      },
      "source": [
        "Let's try to classify using the TF-IDF vectors:"
      ]
    },
    {
      "cell_type": "code",
      "execution_count": null,
      "metadata": {
        "id": "_IjmW0MCZuuM"
      },
      "outputs": [],
      "source": [
        "TFVectorizer_ng = sklearn.feature_extraction.text.TfidfVectorizer(max_df=100, min_df=2, stop_words='english', norm='l2')\n",
        "TFVects_ng = TFVectorizer_ng.fit_transform(train_ng_df['text'])\n",
        "train_ng_df['vect'] = [np.array(v).flatten() for v in TFVects_ng.todense()]"
      ]
    },
    {
      "cell_type": "code",
      "execution_count": null,
      "metadata": {
        "id": "0D59j46cZuuM"
      },
      "outputs": [],
      "source": [
        "clf_knearest.fit(np.stack(train_ng_df['vect'], axis = 0), train_ng_df['category'])"
      ]
    },
    {
      "cell_type": "code",
      "execution_count": null,
      "metadata": {
        "id": "3nkY38S2ZuuM"
      },
      "outputs": [],
      "source": [
        "lucem_illud.evaluateClassifier(clf_knearest, train_ng_df)"
      ]
    },
    {
      "cell_type": "markdown",
      "metadata": {
        "id": "neFu0_vqZuuM"
      },
      "source": [
        "And lets look at the testing data"
      ]
    },
    {
      "cell_type": "code",
      "execution_count": null,
      "metadata": {
        "id": "So4HWZEXZuuM"
      },
      "outputs": [],
      "source": [
        "#Create vectors\n",
        "TFVects_test = TFVectorizer_ng.transform(test_ng_df['text'])\n",
        "test_ng_df['vect'] = [np.array(v).flatten() for v in TFVects_test.todense()]\n",
        "\n",
        "#Add to df\n",
        "test_ng_df['nb_predict'] = clf_knearest.predict(np.stack(test_ng_df['vect'], axis=0))\n",
        "\n",
        "#Test\n",
        "print(\"Testing score:\")\n",
        "print(clf_knearest.score(np.stack(test_ng_df['vect'], axis=0), test_ng_df['category']))"
      ]
    },
    {
      "cell_type": "markdown",
      "metadata": {
        "id": "M2MFYiraZuuM"
      },
      "source": [
        "Let's produce another confusion matrix:"
      ]
    },
    {
      "cell_type": "code",
      "execution_count": null,
      "metadata": {
        "id": "vZXhgFEcZuuM"
      },
      "outputs": [],
      "source": [
        "lucem_illud.plotConfusionMatrix(clf_knearest, test_ng_df)"
      ]
    },
    {
      "cell_type": "markdown",
      "metadata": {
        "id": "V7NulxIIZuuM"
      },
      "source": [
        "You can produce the PCA space visual if you want, altough it can take a very long time, so we'll leave it optionally commented out:"
      ]
    },
    {
      "cell_type": "code",
      "execution_count": null,
      "metadata": {
        "id": "seOrCdBOZuuM"
      },
      "outputs": [],
      "source": [
        "#lucem_illud.plotregions(clf_knearest, test_ng_df)"
      ]
    },
    {
      "cell_type": "markdown",
      "metadata": {
        "id": "YWMNMUOuZuuM"
      },
      "source": [
        "## <font color=\"red\">*Exercise 5*</font>\n",
        "\n",
        "<font color=\"red\">In the cells immediately following, perform and visualize k-nearest neighbor classification using training, testing and extrapolation (uncoded) data from texts and hand-classifications associated with your final project. Visualize the classification of data points and calculate relevant metrics (e.g., precision, recall, the F-measure, and AUC). Articulate how the *k*-nearest neighbor approach relates to *k*-means clustering explored in ***week 3***?"
      ]
    },
    {
      "cell_type": "markdown",
      "metadata": {
        "collapsed": true,
        "id": "jj4O8oXyZuuM"
      },
      "source": [
        "# SVMs\n",
        "\n",
        "Now we will examine Support Vector Machines, an approach that creates the partition that preserves the \"maximum margin\" between classes.\n",
        "\n",
        "We will use a few sub forums from reddit--which tend to share text rather than memes--namely `talesfromtechsupport`, `badroommates`, `weeabootales` and `relationships`. The top 100 text posts from each have been saved to `data/reddit.csv`."
      ]
    },
    {
      "cell_type": "code",
      "execution_count": null,
      "metadata": {
        "id": "N4b9MWcRZuuM"
      },
      "outputs": [],
      "source": [
        "redditDf = pandas.read_csv('../data/reddit.csv', index_col = 0) # replace path if on Colab\n",
        "\n",
        "#Drop a couple missing values\n",
        "\n",
        "redditDf = redditDf.dropna()\n",
        "\n",
        "#Set category\n",
        "\n",
        "redditDf['category'] = redditDf['subreddit']\n",
        "\n",
        "#tokenize and normalize\n",
        "redditDf['tokenized_text'] = redditDf['text'].apply(lambda x: lucem_illud.word_tokenize(x))\n",
        "redditDf['normalized_text'] = redditDf['tokenized_text'].apply(lambda x: lucem_illud.normalizeTokens(x))"
      ]
    },
    {
      "cell_type": "markdown",
      "metadata": {
        "id": "7a5h41X7ZuuM"
      },
      "source": [
        "We will tf.idf the data to make our vectors:"
      ]
    },
    {
      "cell_type": "code",
      "execution_count": null,
      "metadata": {
        "id": "T6rSpRrgZuuM"
      },
      "outputs": [],
      "source": [
        "redditTFVectorizer = sklearn.feature_extraction.text.TfidfVectorizer(max_df=0.5, min_df=3, stop_words='english', norm='l2')\n",
        "redditTFVects = redditTFVectorizer.fit_transform([' '.join(l) for l in redditDf['normalized_text']])\n",
        "redditDf['vect'] = [np.array(v).flatten() for v in redditTFVects.todense()]"
      ]
    },
    {
      "cell_type": "markdown",
      "metadata": {
        "id": "9oByx_elZuuN"
      },
      "source": [
        "Initilize the model and make a train test split:"
      ]
    },
    {
      "cell_type": "code",
      "execution_count": null,
      "metadata": {
        "id": "jw6khCLsZuuN"
      },
      "outputs": [],
      "source": [
        "holdBackFraction = .2\n",
        "train_redditDf, test_redditDf = sklearn.model_selection.train_test_split(redditDf, test_size=holdBackFraction)"
      ]
    },
    {
      "cell_type": "code",
      "execution_count": null,
      "metadata": {
        "id": "SCyxtbWJZuuN"
      },
      "outputs": [],
      "source": [
        "clf_svm = sklearn.svm.SVC(kernel='linear', probability = False)\n",
        "#probability = True is slower but  lets you call predict_proba()\n",
        "clf_svm.fit(np.stack(train_redditDf['vect'], axis=0), train_redditDf['category'])"
      ]
    },
    {
      "cell_type": "markdown",
      "metadata": {
        "id": "B0ZhySQpZuuN"
      },
      "source": [
        "...and consider the results:"
      ]
    },
    {
      "cell_type": "code",
      "execution_count": null,
      "metadata": {
        "id": "IBUmUn-oZuuN"
      },
      "outputs": [],
      "source": [
        "lucem_illud.evaluateClassifier(clf_svm, test_redditDf)"
      ]
    },
    {
      "cell_type": "code",
      "execution_count": null,
      "metadata": {
        "id": "K6L56BgVZuuN"
      },
      "outputs": [],
      "source": [
        "lucem_illud.plotConfusionMatrix(clf_svm, test_redditDf)"
      ]
    },
    {
      "cell_type": "code",
      "execution_count": null,
      "metadata": {
        "id": "KxYEKsktZuuO"
      },
      "outputs": [],
      "source": [
        "lucem_illud.plotregions(clf_svm, test_redditDf)"
      ]
    },
    {
      "cell_type": "markdown",
      "metadata": {
        "id": "xqn54YQSZuuO"
      },
      "source": [
        "# Neural Nets\n",
        "\n",
        "We include an example of a simple neural network, the Multi-layer Perceptron (MLP) that learns a function $f(\\cdot): R^m \\rightarrow R^o$ by training on a dataset, where $m$ is the number of dimensions for input and $o$ is the number of dimensions for output. Given a set of features $X = {x_1, x_2, ..., x_m}$ and a target $y$, it can learn a non-linear function approximator for either classification or regression. It is different from logistic regression, in that between the input and the output layer, there can be one or more non-linear layers, called hidden layers. The following figure shows a one hidden layer MLP with scalar output. The leftmost layer, known as the input layer, consists of a set of \"neurons\" $\\{x_i | x_1, x_2, ..., x_m\\}$ representing the input features (e.g., weighted words). Each neuron in the hidden layer transforms the values from the previous layer with a weighted linear summation $z = w_1x_1 + w_2x_2 + ... + w_mx_m$, followed by a non-linear activation function $f(\\cdot):R \\rightarrow R$ - like the logistic or hyperbolic tan function. The output layer receives the values from the last hidden layer and transforms them into output values."
      ]
    },
    {
      "cell_type": "markdown",
      "metadata": {
        "id": "IbkObvzVuTVL"
      },
      "source": [
        "<img src=\"https://github.com/UChicago-Computational-Content-Analysis/Homework-Notebooks-2024-Winter/blob/main/data/MLP.jpg?raw=true\" alt=\"https://github.com/UChicago-Computational-Content-Analysis/Homework-Notebooks-2024-Winter/blob/main/data/MLP.jpg?raw=true\" style=\"width:500px\">"
      ]
    },
    {
      "cell_type": "code",
      "execution_count": null,
      "metadata": {
        "id": "ymFM2pRxZuuO"
      },
      "outputs": [],
      "source": [
        "clf_nn = sklearn.neural_network.MLPClassifier()\n",
        "clf_nn.fit(np.stack(train_redditDf['vect'], axis=0), train_redditDf['category'])"
      ]
    },
    {
      "cell_type": "code",
      "execution_count": null,
      "metadata": {
        "id": "-zC2Pr15ZuuO"
      },
      "outputs": [],
      "source": [
        "lucem_illud.evaluateClassifier(clf_nn, test_redditDf)"
      ]
    },
    {
      "cell_type": "code",
      "execution_count": null,
      "metadata": {
        "id": "dAx-lApjZuuO"
      },
      "outputs": [],
      "source": [
        "lucem_illud.plotConfusionMatrix(clf_nn, test_redditDf)"
      ]
    },
    {
      "cell_type": "code",
      "execution_count": null,
      "metadata": {
        "id": "PM-6sUboZuuO"
      },
      "outputs": [],
      "source": [
        "lucem_illud.plotregions(clf_nn, test_redditDf)"
      ]
    },
    {
      "cell_type": "markdown",
      "metadata": {
        "id": "wQLUquCvZuuO"
      },
      "source": [
        "It performs very well."
      ]
    },
    {
      "cell_type": "markdown",
      "metadata": {
        "id": "T9q4R8_JZuuO"
      },
      "source": [
        "## <font color=\"red\">*Exercise 6*</font>\n",
        "\n",
        "<font color=\"red\">In the cells immediately following, perform a neural network classification and calculate relevant metrics (e.g., precision, recall, the F-measure, and AUC). How does this classify relevant to *k*-nearest neighbor, logistic and decision-tree approaches?"
      ]
    },
    {
      "cell_type": "markdown",
      "metadata": {
        "id": "4cJ-SkJpAdhp"
      },
      "source": [
        "## Classification with BERT Pipelines\n",
        "Now, instead of classifying based on \"old\" NLP methods, we will now use the popular Transformers package default 'pipelines'. This package has methods for a wide range of common NLP tasks using contextual word embeddings. Note that for this homework, we are not building new contextual models ourselves, merely using existing models in Transformers. We will spend Weeks 7 and 8 learning more about Transformers, so do not worry about fully understanding them this week.\n",
        "\n",
        "[Transformers Documentation](https://huggingface.co/transformers/)\n",
        "\n",
        "[Transformers GitHub](https://github.com/huggingface/transformers)\n",
        "\n",
        "The following sections of code are taken from the [Summary of Tasks](https://huggingface.co/transformers/task_summary.html) page in the Transformers documentation."
      ]
    },
    {
      "cell_type": "markdown",
      "metadata": {
        "id": "WqTAhBf3-ZMi"
      },
      "source": [
        "### Sequence Classification (e.g., sentiment)\n",
        "Sequence classification is the task of classifying sequences according to a given number of classes. An example of\n",
        "sequence classification is the GLUE dataset. If you would like to fine-tune a\n",
        "model on a GLUE sequence classification task, you may leverage the [pytorch version run_glue.py](https://github.com/huggingface/transformers/blob/f40b87de0ca234df61f76928956c4a2118c0b548/examples/pytorch/text-classification/run_glue.py) and\n",
        "[pytorch-lightning version run_glue.py](https://github.com/huggingface/transformers/blob/f40b87de0ca234df61f76928956c4a2118c0b548/examples/legacy/pytorch-lightning/run_glue.py)(legacy) or\n",
        "[tensorflow version run_glue.py](https://github.com/huggingface/transformers/blob/f40b87de0ca234df61f76928956c4a2118c0b548/examples/tensorflow/text-classification/run_glue.py) scripts.\n",
        "\n",
        "Here is an example of using pipelines to do sentiment analysis: identifying if a sentence is positive or negative. It\n",
        "leverages a fine-tuned model on sst2, which is a GLUE task.\n",
        "\n",
        "This returns a label (\"POSITIVE\" or \"NEGATIVE\") alongside a score, as follows:"
      ]
    },
    {
      "cell_type": "code",
      "execution_count": null,
      "metadata": {
        "id": "h5eXH5lA-ZMi"
      },
      "outputs": [],
      "source": [
        "from transformers import pipeline\n",
        "nlp = pipeline(\"sentiment-analysis\")\n",
        "result = nlp(\"I hate you\")[0]\n",
        "print(f\"label: {result['label']}, with score: {round(result['score'], 4)}\")\n",
        "result = nlp(\"I love you\")[0]\n",
        "print(f\"label: {result['label']}, with score: {round(result['score'], 4)}\")"
      ]
    },
    {
      "cell_type": "markdown",
      "metadata": {
        "id": "6dYX9haN-ZMj"
      },
      "source": [
        "Here is an example of doing a sequence classification using a model to determine if two sequences are paraphrases of\n",
        "each other. The process is the following:\n",
        "\n",
        "1. Instantiate a tokenizer and a model from the checkpoint name. The model is identified as a BERT model and loads it\n",
        "   with the weights stored in the checkpoint.\n",
        "2. Build a sequence from the two sentences, with the correct model-specific separators token type ids and attention\n",
        "   masks (`PreTrainedTokenizer.encode` and `PreTrainedTokenizer.__call__` take\n",
        "   care of this).\n",
        "3. Pass this sequence through the model so that it is classified in one of the two available classes: 0 (not a\n",
        "   paraphrase) and 1 (is a paraphrase).\n",
        "4. Compute the softmax of the result to get probabilities over the classes.\n",
        "5. Print the results."
      ]
    },
    {
      "cell_type": "code",
      "execution_count": null,
      "metadata": {
        "id": "LmUMMNsM-ZMk"
      },
      "outputs": [],
      "source": [
        "from transformers import AutoTokenizer, AutoModelForSequenceClassification\n",
        "import torch\n",
        "tokenizer = AutoTokenizer.from_pretrained(\"bert-base-cased-finetuned-mrpc\")\n",
        "model = AutoModelForSequenceClassification.from_pretrained(\"bert-base-cased-finetuned-mrpc\")\n",
        "classes = [\"not paraphrase\", \"is paraphrase\"]\n",
        "sequence_0 = \"The company HuggingFace is based in New York City\"\n",
        "sequence_1 = \"Apples are especially bad for your health\"\n",
        "sequence_2 = \"HuggingFace's headquarters are situated in Manhattan\"\n",
        "paraphrase = tokenizer(sequence_0, sequence_2, return_tensors=\"pt\")\n",
        "not_paraphrase = tokenizer(sequence_0, sequence_1, return_tensors=\"pt\")\n",
        "paraphrase_classification_logits = model(**paraphrase).logits\n",
        "not_paraphrase_classification_logits = model(**not_paraphrase).logits\n",
        "paraphrase_results = torch.softmax(paraphrase_classification_logits, dim=1).tolist()[0]\n",
        "not_paraphrase_results = torch.softmax(not_paraphrase_classification_logits, dim=1).tolist()[0]\n",
        "# Should be paraphrase\n",
        "for i in range(len(classes)):\n",
        "    print(f\"{classes[i]}: {int(round(paraphrase_results[i] * 100))}%\")\n",
        "# Should not be paraphrase\n",
        "for i in range(len(classes)):\n",
        "    print(f\"{classes[i]}: {int(round(not_paraphrase_results[i] * 100))}%\")"
      ]
    },
    {
      "cell_type": "markdown",
      "metadata": {
        "id": "H2oChnp1-ZMm"
      },
      "source": [
        "### Extractive Question Answering"
      ]
    },
    {
      "cell_type": "markdown",
      "metadata": {
        "id": "12uRPuEq-ZMm"
      },
      "source": [
        "Extractive Question Answering is the task of extracting an answer from a text given a question. An example of a\n",
        "question answering dataset is the SQuAD dataset, which is entirely based on that task. If you would like to fine-tune a\n",
        "model on a SQuAD task, you may leverage the [run_squad.py](https://github.com/huggingface/transformers/blob/f40b87de0ca234df61f76928956c4a2118c0b548/examples/legacy/question-answering/run_squad.py) (legacy) script.\n",
        "\n",
        "\n",
        "Here is an example of using pipelines to do question answering: extracting an answer from a text given a question. It\n",
        "leverages a fine-tuned model on SQuAD."
      ]
    },
    {
      "cell_type": "code",
      "execution_count": null,
      "metadata": {
        "id": "Ast1vLPT-ZMm"
      },
      "outputs": [],
      "source": [
        "from transformers import pipeline\n",
        "nlp = pipeline(\"question-answering\")\n",
        "context = r\"\"\"\n",
        "Extractive Question Answering is the task of extracting an answer from a text given a question. An example of a\n",
        "question answering dataset is the SQuAD dataset, which is entirely based on that task. If you would like to fine-tune\n",
        "a model on a SQuAD task, you may leverage the examples/legacy/question-answering/run_squad.py\n",
        "\"\"\""
      ]
    },
    {
      "cell_type": "markdown",
      "metadata": {
        "id": "r5fq8iB0-ZMn"
      },
      "source": [
        "This returns an answer extracted from the text, a confidence score, alongside \"start\" and \"end\" values, which are the\n",
        "positions of the extracted answer in the text."
      ]
    },
    {
      "cell_type": "code",
      "execution_count": null,
      "metadata": {
        "id": "gMSCEtkU-ZMn"
      },
      "outputs": [],
      "source": [
        "result = nlp(question=\"What is extractive question answering?\", context=context)\n",
        "print(f\"Answer: '{result['answer']}', score: {round(result['score'], 4)}, start: {result['start']}, end: {result['end']}\")\n",
        "result = nlp(question=\"What is a good example of a question answering dataset?\", context=context)\n",
        "print(f\"Answer: '{result['answer']}', score: {round(result['score'], 4)}, start: {result['start']}, end: {result['end']}\")"
      ]
    },
    {
      "cell_type": "markdown",
      "metadata": {
        "id": "4t3RxO8D-ZMn"
      },
      "source": [
        "Here is an example of question answering using a model and a tokenizer. The process is the following:\n",
        "\n",
        "1. Instantiate a tokenizer and a model from the checkpoint name. The model is identified as a BERT model and loads it\n",
        "   with the weights stored in the checkpoint.\n",
        "2. Define a text and a few questions.\n",
        "3. Iterate over the questions and build a sequence from the text and the current question, with the correct\n",
        "   model-specific separators token type ids and attention masks.\n",
        "4. Pass this sequence through the model. This outputs a range of scores across the entire sequence of tokens (question and\n",
        "   text), for both the start and end positions.\n",
        "5. Compute the softmax of the result to get probabilities over the tokens.\n",
        "6. Fetch the tokens from the identified start and stop values, convert those tokens to a string.\n",
        "7. Print the results."
      ]
    },
    {
      "cell_type": "code",
      "execution_count": null,
      "metadata": {
        "id": "tbvf9egg-ZMo"
      },
      "outputs": [],
      "source": [
        "from transformers import AutoTokenizer, AutoModelForQuestionAnswering\n",
        "import torch\n",
        "tokenizer = AutoTokenizer.from_pretrained(\"bert-large-uncased-whole-word-masking-finetuned-squad\")\n",
        "model = AutoModelForQuestionAnswering.from_pretrained(\"bert-large-uncased-whole-word-masking-finetuned-squad\")\n",
        "text = r\"\"\"\n",
        "🤗 Transformers (formerly known as pytorch-transformers and pytorch-pretrained-bert) provides general-purpose\n",
        "architectures (BERT, GPT-2, RoBERTa, XLM, DistilBert, XLNet…) for Natural Language Understanding (NLU) and Natural\n",
        "Language Generation (NLG) with over 32+ pretrained models in 100+ languages and deep interoperability between\n",
        "TensorFlow 2.0 and PyTorch.\n",
        "\"\"\"\n",
        "questions = [\n",
        "    \"How many pretrained models are available in 🤗 Transformers?\",\n",
        "    \"What does 🤗 Transformers provide?\",\n",
        "    \"🤗 Transformers provides interoperability between which frameworks?\",\n",
        "]\n",
        "for question in questions:\n",
        "    inputs = tokenizer(question, text, add_special_tokens=True, return_tensors=\"pt\")\n",
        "    input_ids = inputs[\"input_ids\"].tolist()[0]\n",
        "\n",
        "    text_tokens = tokenizer.convert_ids_to_tokens(input_ids)\n",
        "    outputs = model(**inputs)\n",
        "    answer_start_scores = outputs.start_logits\n",
        "    answer_end_scores = outputs.end_logits\n",
        "\n",
        "    answer_start = torch.argmax(\n",
        "        answer_start_scores\n",
        "    )  # Get the most likely beginning of answer with the argmax of the score\n",
        "    answer_end = torch.argmax(answer_end_scores) + 1  # Get the most likely end of answer with the argmax of the score\n",
        "\n",
        "    answer = tokenizer.convert_tokens_to_string(tokenizer.convert_ids_to_tokens(input_ids[answer_start:answer_end]))\n",
        "\n",
        "    print(f\"Question: {question}\")\n",
        "    print(f\"Answer: {answer}\")"
      ]
    },
    {
      "cell_type": "markdown",
      "metadata": {
        "id": "_MmzCmfgZuuP"
      },
      "source": [
        "## <font color=\"red\">*Exercise 7*</font>\n",
        "\n",
        "<font color=\"red\">In the cells immediately following, use the pipeline functions or the word or sentence vector functions (e.g., similarity) to explore the social game underlying the production and meaning of texts associated with your final project. How does BERT help you gain insight regarding your research question that is similar and different from prior methods?"
      ]
    }
  ],
  "metadata": {
    "colab": {
      "machine_shape": "hm",
      "provenance": []
    },
    "kernelspec": {
      "display_name": "Python 3",
      "name": "python3"
    },
    "language_info": {
      "codemirror_mode": {
        "name": "ipython",
        "version": 3
      },
      "file_extension": ".py",
      "mimetype": "text/x-python",
      "name": "python",
      "nbconvert_exporter": "python",
      "pygments_lexer": "ipython3",
      "version": "3.12.0"
    }
  },
  "nbformat": 4,
  "nbformat_minor": 0
}
